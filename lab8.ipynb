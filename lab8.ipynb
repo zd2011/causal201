{
  "cells": [
    {
      "cell_type": "markdown",
      "metadata": {
        "id": "view-in-github",
        "colab_type": "text"
      },
      "source": [
        "<a href=\"https://colab.research.google.com/github/zd2011/causal201/blob/main/lab8.ipynb\" target=\"_parent\"><img src=\"https://colab.research.google.com/assets/colab-badge.svg\" alt=\"Open In Colab\"/></a>"
      ]
    },
    {
      "cell_type": "markdown",
      "metadata": {
        "id": "InHq_1lhX5TI"
      },
      "source": [
        "# Week 8 - Recitation - S-learner and T-learner\n",
        "\n",
        "author: Judith Abécassis and Élise Dumas with some inspiration from Miguel Hernan (Causal Inference : What if?)\n",
        "\n",
        "In today's recitation, we will implement the S-learner and T-learner on an observational dataset, to assess the effect of smoking cessation on weight gain. We will use data from cigarette smokers aged 25-74 years who, as part of the NHEFS (National Health and Nutrition Examination Survey Data I Epidemiologic Follow-up Study), had a medical baseline visit and a follow-up visit about 10 years later. Individuals were classified as treated if they reported having quit smoking before the follow-up visit, and as untreated otherwise. The weight gain is computed as the weight at the follow-up visit minus the weight at the baseline visit."
      ]
    },
    {
      "cell_type": "code",
      "execution_count": null,
      "metadata": {
        "id": "t36JeHydXxen"
      },
      "outputs": [],
      "source": [
        "import pandas as pd\n",
        "import numpy as np\n",
        "import seaborn as sns\n",
        "import matplotlib.pyplot as plt\n",
        "from sklearn.linear_model import LinearRegression\n",
        "import scipy.stats as sps\n",
        "import warnings\n",
        "\n",
        "warnings.filterwarnings(action='once')\n",
        "rg = np.random.default_rng(2907)\n",
        "\n",
        "sns.set_context('poster')"
      ]
    },
    {
      "cell_type": "markdown",
      "metadata": {
        "id": "cKNOcByn_RMf"
      },
      "source": [
        "## Exercise 1: dataset preparation"
      ]
    },
    {
      "cell_type": "code",
      "execution_count": null,
      "metadata": {
        "colab": {
          "base_uri": "https://localhost:8080/",
          "height": 206
        },
        "id": "cNEz8-hnX7dP",
        "outputId": "ceb3f075-7a4c-43b5-b906-e43c5be7f321"
      },
      "outputs": [
        {
          "data": {
            "text/html": [
              "<div>\n",
              "<style scoped>\n",
              "    .dataframe tbody tr th:only-of-type {\n",
              "        vertical-align: middle;\n",
              "    }\n",
              "\n",
              "    .dataframe tbody tr th {\n",
              "        vertical-align: top;\n",
              "    }\n",
              "\n",
              "    .dataframe thead th {\n",
              "        text-align: right;\n",
              "    }\n",
              "</style>\n",
              "<table border=\"1\" class=\"dataframe\">\n",
              "  <thead>\n",
              "    <tr style=\"text-align: right;\">\n",
              "      <th></th>\n",
              "      <th>active</th>\n",
              "      <th>age</th>\n",
              "      <th>alcoholfreq</th>\n",
              "      <th>cholesterol</th>\n",
              "      <th>income</th>\n",
              "      <th>marital</th>\n",
              "      <th>pregnancies</th>\n",
              "      <th>sex</th>\n",
              "      <th>smokeyrs</th>\n",
              "      <th>wt71</th>\n",
              "      <th>wt82_71</th>\n",
              "      <th>qsmk</th>\n",
              "    </tr>\n",
              "  </thead>\n",
              "  <tbody>\n",
              "    <tr>\n",
              "      <th>count</th>\n",
              "      <td>667.000000</td>\n",
              "      <td>667.000000</td>\n",
              "      <td>667.000000</td>\n",
              "      <td>667.000000</td>\n",
              "      <td>667.000000</td>\n",
              "      <td>667.000000</td>\n",
              "      <td>667.000000</td>\n",
              "      <td>667.0</td>\n",
              "      <td>667.000000</td>\n",
              "      <td>667.000000</td>\n",
              "      <td>667.000000</td>\n",
              "      <td>667.000000</td>\n",
              "    </tr>\n",
              "    <tr>\n",
              "      <th>mean</th>\n",
              "      <td>0.692654</td>\n",
              "      <td>43.163418</td>\n",
              "      <td>2.226387</td>\n",
              "      <td>222.391304</td>\n",
              "      <td>17.754123</td>\n",
              "      <td>2.587706</td>\n",
              "      <td>3.686657</td>\n",
              "      <td>1.0</td>\n",
              "      <td>22.377811</td>\n",
              "      <td>64.952024</td>\n",
              "      <td>2.491789</td>\n",
              "      <td>0.232384</td>\n",
              "    </tr>\n",
              "    <tr>\n",
              "      <th>std</th>\n",
              "      <td>0.643743</td>\n",
              "      <td>11.614891</td>\n",
              "      <td>1.201110</td>\n",
              "      <td>47.565742</td>\n",
              "      <td>2.688446</td>\n",
              "      <td>1.195348</td>\n",
              "      <td>2.205477</td>\n",
              "      <td>0.0</td>\n",
              "      <td>10.705643</td>\n",
              "      <td>14.454446</td>\n",
              "      <td>8.111797</td>\n",
              "      <td>0.422669</td>\n",
              "    </tr>\n",
              "    <tr>\n",
              "      <th>min</th>\n",
              "      <td>0.000000</td>\n",
              "      <td>25.000000</td>\n",
              "      <td>0.000000</td>\n",
              "      <td>105.000000</td>\n",
              "      <td>11.000000</td>\n",
              "      <td>2.000000</td>\n",
              "      <td>1.000000</td>\n",
              "      <td>1.0</td>\n",
              "      <td>1.000000</td>\n",
              "      <td>39.580000</td>\n",
              "      <td>-30.050074</td>\n",
              "      <td>0.000000</td>\n",
              "    </tr>\n",
              "    <tr>\n",
              "      <th>25%</th>\n",
              "      <td>0.000000</td>\n",
              "      <td>34.000000</td>\n",
              "      <td>2.000000</td>\n",
              "      <td>188.500000</td>\n",
              "      <td>16.000000</td>\n",
              "      <td>2.000000</td>\n",
              "      <td>2.000000</td>\n",
              "      <td>1.0</td>\n",
              "      <td>14.000000</td>\n",
              "      <td>55.340000</td>\n",
              "      <td>-1.867266</td>\n",
              "      <td>0.000000</td>\n",
              "    </tr>\n",
              "    <tr>\n",
              "      <th>50%</th>\n",
              "      <td>1.000000</td>\n",
              "      <td>43.000000</td>\n",
              "      <td>2.000000</td>\n",
              "      <td>219.000000</td>\n",
              "      <td>18.000000</td>\n",
              "      <td>2.000000</td>\n",
              "      <td>3.000000</td>\n",
              "      <td>1.0</td>\n",
              "      <td>22.000000</td>\n",
              "      <td>61.920000</td>\n",
              "      <td>2.613123</td>\n",
              "      <td>0.000000</td>\n",
              "    </tr>\n",
              "    <tr>\n",
              "      <th>75%</th>\n",
              "      <td>1.000000</td>\n",
              "      <td>52.000000</td>\n",
              "      <td>3.000000</td>\n",
              "      <td>253.000000</td>\n",
              "      <td>19.000000</td>\n",
              "      <td>2.000000</td>\n",
              "      <td>5.000000</td>\n",
              "      <td>1.0</td>\n",
              "      <td>30.000000</td>\n",
              "      <td>71.670000</td>\n",
              "      <td>6.689339</td>\n",
              "      <td>0.000000</td>\n",
              "    </tr>\n",
              "    <tr>\n",
              "      <th>max</th>\n",
              "      <td>2.000000</td>\n",
              "      <td>74.000000</td>\n",
              "      <td>4.000000</td>\n",
              "      <td>377.000000</td>\n",
              "      <td>22.000000</td>\n",
              "      <td>8.000000</td>\n",
              "      <td>15.000000</td>\n",
              "      <td>1.0</td>\n",
              "      <td>64.000000</td>\n",
              "      <td>151.730000</td>\n",
              "      <td>37.650512</td>\n",
              "      <td>1.000000</td>\n",
              "    </tr>\n",
              "  </tbody>\n",
              "</table>\n",
              "</div>"
            ],
            "text/plain": [
              "           active         age  alcoholfreq  cholesterol      income  \\\n",
              "count  667.000000  667.000000   667.000000   667.000000  667.000000   \n",
              "mean     0.692654   43.163418     2.226387   222.391304   17.754123   \n",
              "std      0.643743   11.614891     1.201110    47.565742    2.688446   \n",
              "min      0.000000   25.000000     0.000000   105.000000   11.000000   \n",
              "25%      0.000000   34.000000     2.000000   188.500000   16.000000   \n",
              "50%      1.000000   43.000000     2.000000   219.000000   18.000000   \n",
              "75%      1.000000   52.000000     3.000000   253.000000   19.000000   \n",
              "max      2.000000   74.000000     4.000000   377.000000   22.000000   \n",
              "\n",
              "          marital  pregnancies    sex    smokeyrs        wt71     wt82_71  \\\n",
              "count  667.000000   667.000000  667.0  667.000000  667.000000  667.000000   \n",
              "mean     2.587706     3.686657    1.0   22.377811   64.952024    2.491789   \n",
              "std      1.195348     2.205477    0.0   10.705643   14.454446    8.111797   \n",
              "min      2.000000     1.000000    1.0    1.000000   39.580000  -30.050074   \n",
              "25%      2.000000     2.000000    1.0   14.000000   55.340000   -1.867266   \n",
              "50%      2.000000     3.000000    1.0   22.000000   61.920000    2.613123   \n",
              "75%      2.000000     5.000000    1.0   30.000000   71.670000    6.689339   \n",
              "max      8.000000    15.000000    1.0   64.000000  151.730000   37.650512   \n",
              "\n",
              "             qsmk  \n",
              "count  667.000000  \n",
              "mean     0.232384  \n",
              "std      0.422669  \n",
              "min      0.000000  \n",
              "25%      0.000000  \n",
              "50%      0.000000  \n",
              "75%      0.000000  \n",
              "max      1.000000  "
            ]
          },
          "execution_count": 207,
          "metadata": {},
          "output_type": "execute_result"
        }
      ],
      "source": [
        "#Load dataset\n",
        "resources = pd.read_csv(\"nhefs_short.csv\")\n",
        "resources.describe()"
      ]
    },
    {
      "cell_type": "markdown",
      "metadata": {
        "id": "qyrD2d-Z_RMg"
      },
      "source": [
        " Here is the list of available variables : \n",
        " \n",
        " `active`          How active are you on a usual day 0:very active, 1:moderately active, 2:inactive\n",
        " \n",
        " `age`               Age at baseline\n",
        " \n",
        " `alcoholfreq`       How often do you drink 0: Almost every day, 1: 2-3 times/week, 2: 1-4 times/month, 3: < 12 times/year, 4: No alcohol last year, 5: Unknown\n",
        " \n",
        " `cholesterol`        Serum cholesterol (MG/100ML) at baseline visit\n",
        "                      \n",
        " `income`             Total family income at baseline visit 11:<1000, 12: 1000-1999, 13: 2000-2999, 14: 3000-3999, 15: 4000-4999, 16: 5000-5999, 17: 6000-6999, 18: 7000-9999, 19: 10000-14999, 20: 15000-19999, 21: 20000-24999, 22: 25000+\n",
        " \n",
        " `marital`           MARITAL STATUS IN 1971  1: Under 17, 2: Married, 3: Widowed, 4: Never married, 5: Divorced, 6: Separated, 8: Unknown\n",
        " \n",
        " `sex`           0: MALE 1: FEMALE\n",
        " \n",
        " `smokeyrs`        years of smoking\n",
        " \n",
        "`wt71`       weight at baseline visit (in kg)\n",
        "\n",
        "`wt82_71`     difference in weight\n",
        "\n",
        "`qsmk`    quit smoking between two visits 1:YES, 0:NO"
      ]
    },
    {
      "cell_type": "markdown",
      "metadata": {
        "id": "SUztyWjY_RMg"
      },
      "source": [
        "### 1. What is the treatment? The outcome? The covariates?"
      ]
    },
    {
      "cell_type": "markdown",
      "metadata": {
        "id": "_8apPM2A_RMh"
      },
      "source": [
        "**Answer**\n",
        "\n",
        "Treatment is somking cessation (qsmk); outcome is difference in weight (wt82_71); covariates are all the other variables (level of activity, frequency of alcohol consumption, cholesterol level, family income, marital status, sex, years of smoking, and weight at baseline)"
      ]
    },
    {
      "cell_type": "markdown",
      "metadata": {
        "id": "Gw_B_NzS_RMh"
      },
      "source": [
        "### 2. Would you say that SUTVA holds? Strong ignorability? Conditional ignorability? Positivity"
      ]
    },
    {
      "cell_type": "markdown",
      "metadata": {
        "id": "U3hpFbl3_RMh"
      },
      "source": [
        "**Answer**\n",
        "\n",
        "SUTVA : it is reasonable to think that the \"no interaction\" part holds (except if units are family related; in which case if a member of your family decides to quit smoking and eats much more, you'll probably eat much more as well and may gain weight). The consistency part (only one version of treatment) is harder to assume since people may have quit anytime during the 10 years between the two medical visits (so that some people may have quit for ten years whereas other only for two months).\n",
        "\n",
        "Strong ignorability : no, it is not reasonable to think that strong ignorability holds. The experiement is not randomized and several confounding variables may exist. Socio-economic status is a possible example : richer people are more prone to quit smoking and also less prone to gain weight. \n",
        "\n",
        "Conditional ignorability : we may argue that the principal confounders are available in the dataset (age, sex, weight at basline, income, etc..), so that conditional ignorability (with respect to all the coviarates) may hold. We can still think of several missing confounders. For instance, the number of pregnancies within the ten years, since pregnant women are more prone to quit smoking, but also to gain weight.\n",
        "\n",
        "Positivity : We could not think of a reason why positivity does not hold : everyone has a non-null probability of quit smoking and of not quit smoking. Could you think of something? "
      ]
    },
    {
      "cell_type": "markdown",
      "metadata": {
        "id": "ckmRciLL_RMi"
      },
      "source": [
        "### 3.  Data preprocessing.  Remove rows with unknown alcoholfreq and unknown marital status. One-hot encode categorical variables"
      ]
    },
    {
      "cell_type": "code",
      "execution_count": null,
      "metadata": {
        "id": "ysIjIAlj_RMi"
      },
      "outputs": [],
      "source": [
        "#Filter rows to discard unknown alcoloh consumption and marital status\n",
        "resources = resources[(resources.alcoholfreq != 5) & (resources.marital != 8)]\n",
        "\n",
        "#One-hot encode categorical variables.\n",
        "#You may use the pandas function pd.get_dummies\n",
        "categ_var = [\"active\",\"alcoholfreq\",\"income\",\"marital\",\"sex\",]\n",
        "df_preprocessed  = pd.concat([\n",
        "    resources.drop(columns = categ_var), # dataset without the categorical features\n",
        "    pd.get_dummies(resources[categ_var], columns=categ_var, drop_first=False) # categorical features one-hot encoded \n",
        "], axis=1)"
      ]
    },
    {
      "cell_type": "markdown",
      "metadata": {
        "id": "7exbWTbK_RMi"
      },
      "source": [
        "## Exercise 2: compute difference in means"
      ]
    },
    {
      "cell_type": "code",
      "execution_count": null,
      "metadata": {
        "id": "mLSK4IIF_RMj",
        "outputId": "b86c8de6-fa57-4041-de21-522b9ba9ebad"
      },
      "outputs": [
        {
          "name": "stdout",
          "output_type": "stream",
          "text": [
            "The difference in means is 1.71.\n"
          ]
        }
      ],
      "source": [
        "diff_mean = np.mean(df_preprocessed.wt82_71[resources.qsmk == 1])-np.mean(df_preprocessed.wt82_71[resources.qsmk == 0])\n",
        "print(f\"The difference in means is {diff_mean.round(2)}.\")"
      ]
    },
    {
      "cell_type": "markdown",
      "metadata": {
        "id": "aFxgFD_H_RMj"
      },
      "source": [
        "What can you conclude?"
      ]
    },
    {
      "cell_type": "markdown",
      "metadata": {
        "id": "Go15iXJs_RMj"
      },
      "source": [
        "**Answer**\n",
        "\n",
        "Quitting smoking is associated with an average weight gain of 1.71 kilograms. But the identifiability assumptions do not hold (especially ignorability) : this is not a causal effect."
      ]
    },
    {
      "cell_type": "markdown",
      "metadata": {
        "id": "AxVIJnYZ_RMj"
      },
      "source": [
        "## Exercise 3: S-learner"
      ]
    },
    {
      "cell_type": "markdown",
      "metadata": {
        "id": "hk74o9VV_RMk"
      },
      "source": [
        "In this exercice, we will implement S-learner (equivalently called g-formula) to estimate ATE and use bootstrap to derive an 95% confidence interval around our estimate."
      ]
    },
    {
      "cell_type": "markdown",
      "metadata": {
        "id": "Du5PyydfX-lp"
      },
      "source": [
        "#### 1. Implement S-learner"
      ]
    },
    {
      "cell_type": "code",
      "execution_count": null,
      "metadata": {
        "id": "UbyQUBfz_RMk"
      },
      "outputs": [],
      "source": [
        "#Fit a model for the outcome\n",
        "explanatory_col = np.setdiff1d(df_preprocessed.columns, [\"wt82_71\",\"qsmk\"]) #List of covariates.\n",
        "#Fit a linear regression on covariates + treatment to infer outcome\n",
        "reg = LinearRegression().fit(df_preprocessed[list(explanatory_col)+ [\"qsmk\"]], df_preprocessed[\"wt82_71\"])"
      ]
    },
    {
      "cell_type": "code",
      "execution_count": null,
      "metadata": {
        "id": "_covrONEX82U"
      },
      "outputs": [],
      "source": [
        "#Create two artifical columns : one with all zeros and the other one with only ones in the dataset df_preprocessed\n",
        "df_preprocessed = df_preprocessed.assign(all_treated = 1, all_control = 0)"
      ]
    },
    {
      "cell_type": "code",
      "execution_count": null,
      "metadata": {
        "scrolled": true,
        "id": "2XA82SiV_RMk",
        "outputId": "0a532cef-7366-4287-fdc8-80c8fab4fcc9"
      },
      "outputs": [
        {
          "name": "stderr",
          "output_type": "stream",
          "text": [
            "/usr/local/lib/python3.9/site-packages/sklearn/base.py:493: FutureWarning: The feature names should match those that were passed during fit. Starting version 1.2, an error will be raised.\n",
            "Feature names unseen at fit time:\n",
            "- all_control\n",
            "Feature names seen at fit time, yet now missing:\n",
            "- qsmk\n",
            "\n",
            "  warnings.warn(message, FutureWarning)\n",
            "/usr/local/lib/python3.9/site-packages/sklearn/base.py:493: FutureWarning: The feature names should match those that were passed during fit. Starting version 1.2, an error will be raised.\n",
            "Feature names unseen at fit time:\n",
            "- all_treated\n",
            "Feature names seen at fit time, yet now missing:\n",
            "- qsmk\n",
            "\n",
            "  warnings.warn(message, FutureWarning)\n"
          ]
        },
        {
          "data": {
            "text/html": [
              "<div>\n",
              "<style scoped>\n",
              "    .dataframe tbody tr th:only-of-type {\n",
              "        vertical-align: middle;\n",
              "    }\n",
              "\n",
              "    .dataframe tbody tr th {\n",
              "        vertical-align: top;\n",
              "    }\n",
              "\n",
              "    .dataframe thead th {\n",
              "        text-align: right;\n",
              "    }\n",
              "</style>\n",
              "<table border=\"1\" class=\"dataframe\">\n",
              "  <thead>\n",
              "    <tr style=\"text-align: right;\">\n",
              "      <th></th>\n",
              "      <th>age</th>\n",
              "      <th>cholesterol</th>\n",
              "      <th>pregnancies</th>\n",
              "      <th>smokeyrs</th>\n",
              "      <th>wt71</th>\n",
              "      <th>wt82_71</th>\n",
              "      <th>qsmk</th>\n",
              "      <th>active_0</th>\n",
              "      <th>active_1</th>\n",
              "      <th>active_2</th>\n",
              "      <th>...</th>\n",
              "      <th>marital_2</th>\n",
              "      <th>marital_3</th>\n",
              "      <th>marital_4</th>\n",
              "      <th>marital_5</th>\n",
              "      <th>marital_6</th>\n",
              "      <th>sex_1</th>\n",
              "      <th>all_treated</th>\n",
              "      <th>all_control</th>\n",
              "      <th>y0</th>\n",
              "      <th>y1</th>\n",
              "    </tr>\n",
              "  </thead>\n",
              "  <tbody>\n",
              "    <tr>\n",
              "      <th>0</th>\n",
              "      <td>56</td>\n",
              "      <td>157</td>\n",
              "      <td>2</td>\n",
              "      <td>26</td>\n",
              "      <td>56.81</td>\n",
              "      <td>9.414486</td>\n",
              "      <td>0</td>\n",
              "      <td>1</td>\n",
              "      <td>0</td>\n",
              "      <td>0</td>\n",
              "      <td>...</td>\n",
              "      <td>0</td>\n",
              "      <td>1</td>\n",
              "      <td>0</td>\n",
              "      <td>0</td>\n",
              "      <td>0</td>\n",
              "      <td>1</td>\n",
              "      <td>1</td>\n",
              "      <td>0</td>\n",
              "      <td>5.578221</td>\n",
              "      <td>8.232636</td>\n",
              "    </tr>\n",
              "    <tr>\n",
              "      <th>1</th>\n",
              "      <td>43</td>\n",
              "      <td>212</td>\n",
              "      <td>1</td>\n",
              "      <td>21</td>\n",
              "      <td>99.00</td>\n",
              "      <td>4.419060</td>\n",
              "      <td>0</td>\n",
              "      <td>0</td>\n",
              "      <td>1</td>\n",
              "      <td>0</td>\n",
              "      <td>...</td>\n",
              "      <td>0</td>\n",
              "      <td>0</td>\n",
              "      <td>1</td>\n",
              "      <td>0</td>\n",
              "      <td>0</td>\n",
              "      <td>1</td>\n",
              "      <td>1</td>\n",
              "      <td>0</td>\n",
              "      <td>0.318670</td>\n",
              "      <td>2.973085</td>\n",
              "    </tr>\n",
              "    <tr>\n",
              "      <th>2</th>\n",
              "      <td>56</td>\n",
              "      <td>205</td>\n",
              "      <td>1</td>\n",
              "      <td>39</td>\n",
              "      <td>63.05</td>\n",
              "      <td>-4.082992</td>\n",
              "      <td>0</td>\n",
              "      <td>1</td>\n",
              "      <td>0</td>\n",
              "      <td>0</td>\n",
              "      <td>...</td>\n",
              "      <td>1</td>\n",
              "      <td>0</td>\n",
              "      <td>0</td>\n",
              "      <td>0</td>\n",
              "      <td>0</td>\n",
              "      <td>1</td>\n",
              "      <td>1</td>\n",
              "      <td>0</td>\n",
              "      <td>-0.508843</td>\n",
              "      <td>2.145572</td>\n",
              "    </tr>\n",
              "    <tr>\n",
              "      <th>3</th>\n",
              "      <td>29</td>\n",
              "      <td>166</td>\n",
              "      <td>2</td>\n",
              "      <td>9</td>\n",
              "      <td>58.74</td>\n",
              "      <td>0.227008</td>\n",
              "      <td>0</td>\n",
              "      <td>1</td>\n",
              "      <td>0</td>\n",
              "      <td>0</td>\n",
              "      <td>...</td>\n",
              "      <td>1</td>\n",
              "      <td>0</td>\n",
              "      <td>0</td>\n",
              "      <td>0</td>\n",
              "      <td>0</td>\n",
              "      <td>1</td>\n",
              "      <td>1</td>\n",
              "      <td>0</td>\n",
              "      <td>4.174878</td>\n",
              "      <td>6.829293</td>\n",
              "    </tr>\n",
              "    <tr>\n",
              "      <th>4</th>\n",
              "      <td>54</td>\n",
              "      <td>268</td>\n",
              "      <td>2</td>\n",
              "      <td>19</td>\n",
              "      <td>61.58</td>\n",
              "      <td>0.562155</td>\n",
              "      <td>0</td>\n",
              "      <td>0</td>\n",
              "      <td>1</td>\n",
              "      <td>0</td>\n",
              "      <td>...</td>\n",
              "      <td>0</td>\n",
              "      <td>1</td>\n",
              "      <td>0</td>\n",
              "      <td>0</td>\n",
              "      <td>0</td>\n",
              "      <td>1</td>\n",
              "      <td>1</td>\n",
              "      <td>0</td>\n",
              "      <td>1.134094</td>\n",
              "      <td>3.788510</td>\n",
              "    </tr>\n",
              "  </tbody>\n",
              "</table>\n",
              "<p>5 rows × 37 columns</p>\n",
              "</div>"
            ],
            "text/plain": [
              "   age  cholesterol  pregnancies  smokeyrs   wt71   wt82_71  qsmk  active_0  \\\n",
              "0   56          157            2        26  56.81  9.414486     0         1   \n",
              "1   43          212            1        21  99.00  4.419060     0         0   \n",
              "2   56          205            1        39  63.05 -4.082992     0         1   \n",
              "3   29          166            2         9  58.74  0.227008     0         1   \n",
              "4   54          268            2        19  61.58  0.562155     0         0   \n",
              "\n",
              "   active_1  active_2  ...  marital_2  marital_3  marital_4  marital_5  \\\n",
              "0         0         0  ...          0          1          0          0   \n",
              "1         1         0  ...          0          0          1          0   \n",
              "2         0         0  ...          1          0          0          0   \n",
              "3         0         0  ...          1          0          0          0   \n",
              "4         1         0  ...          0          1          0          0   \n",
              "\n",
              "   marital_6  sex_1  all_treated  all_control        y0        y1  \n",
              "0          0      1            1            0  5.578221  8.232636  \n",
              "1          0      1            1            0  0.318670  2.973085  \n",
              "2          0      1            1            0 -0.508843  2.145572  \n",
              "3          0      1            1            0  4.174878  6.829293  \n",
              "4          0      1            1            0  1.134094  3.788510  \n",
              "\n",
              "[5 rows x 37 columns]"
            ]
          },
          "execution_count": 219,
          "metadata": {},
          "output_type": "execute_result"
        }
      ],
      "source": [
        "#Infer the two potential outcomes for each unit using your outcome model\n",
        "df_preprocessed = df_preprocessed.assign(\n",
        "    y0 = reg.predict(df_preprocessed[list(explanatory_col)+ [\"all_control\"]]),\n",
        "    y1 = reg.predict(df_preprocessed[list(explanatory_col)+ [\"all_treated\"]])\n",
        ")\n",
        "#check that everything is fine\n",
        "df_preprocessed.head()"
      ]
    },
    {
      "cell_type": "code",
      "execution_count": null,
      "metadata": {
        "id": "NS7SCX32_RMl",
        "outputId": "9a2f2d10-0733-4fa8-f1a9-e1dc44c1d0d7"
      },
      "outputs": [
        {
          "name": "stdout",
          "output_type": "stream",
          "text": [
            "An estimate of ATE computed by S-learner is 2.65\n"
          ]
        }
      ],
      "source": [
        "#Compute an estimate of ATE using S-learner method\n",
        "ate_s_learner = np.mean(df_preprocessed.y1 - df_preprocessed.y0)\n",
        "print(f\"An estimate of ATE computed by S-learner is {ate_s_learner.round(2)}\")"
      ]
    },
    {
      "cell_type": "markdown",
      "metadata": {
        "id": "FEz-iX9P_RMl"
      },
      "source": [
        "#### 2. Use bootstrap to compute a 95% confidence interval around your estimate of ATE"
      ]
    },
    {
      "cell_type": "code",
      "execution_count": null,
      "metadata": {
        "id": "ZSVr1vph_RMl"
      },
      "outputs": [],
      "source": [
        "%%capture --no-display #This line is to remove warnings\n",
        "\n",
        "N_boot=1000 #Number of boostrap repetitions\n",
        "ate_s_learner_boot = np.empty(N_boot) #Numpy array to store boostrapped ATE estimations \n",
        "n = df_preprocessed.shape[0] #Number of rows in dataframe\n",
        "\n",
        "for i in range(N_boot):\n",
        "    \n",
        "    #Simultate boostrapped dataset\n",
        "    idx_boot = rg.choice(n, n, replace=True)\n",
        "    sim_boot = df_preprocessed.loc[df_preprocessed.index[idx_boot]]\n",
        "    \n",
        "    #Compute ATE on boostraped dataset\n",
        "    # Fit linear model\n",
        "    reg = LinearRegression().fit(sim_boot[list(explanatory_col)+ [\"qsmk\"]],sim_boot[\"wt82_71\"])\n",
        "    #Create dummy variables\n",
        "    sim_boot = sim_boot.assign(all_treated = 1, all_control = 0)\n",
        "    #Apply the model to infer potential outcomes\n",
        "    sim_boot = sim_boot.assign(\n",
        "        y0 = reg.predict(sim_boot[list(explanatory_col)+ [\"all_control\"]]),\n",
        "        y1 = reg.predict(sim_boot[list(explanatory_col)+ [\"all_treated\"]])\n",
        "    )\n",
        "    #Estimate ATE and add it to the array\n",
        "    ate_s_learner_boot[i] = np.mean(sim_boot.y1 - sim_boot.y0)"
      ]
    },
    {
      "cell_type": "code",
      "execution_count": null,
      "metadata": {
        "id": "oM7ziUWz_RMm",
        "outputId": "2986fe2c-5999-466d-f668-7ff5a3151279"
      },
      "outputs": [
        {
          "name": "stdout",
          "output_type": "stream",
          "text": [
            "[1.1210870996224929, 4.1877434132997]\n"
          ]
        }
      ],
      "source": [
        "#Compute a 95% confidence interval around your ATE estimate\n",
        "print([ate_s_learner - sps.norm.ppf(0.975) * np.std(ate_s_learner_boot),\n",
        "       ate_s_learner + sps.norm.ppf(0.975) * np.std(ate_s_learner_boot)])"
      ]
    },
    {
      "cell_type": "markdown",
      "metadata": {
        "id": "7DP8Zp6p_RMm"
      },
      "source": [
        "#### 3. What do you conclude?"
      ]
    },
    {
      "cell_type": "markdown",
      "metadata": {
        "id": "KdKaOfg__RMm"
      },
      "source": [
        "**Answer**\n",
        "\n",
        "Quitting smoking significantly increase weight. When comparing our ATE estimate (2.65) wiht the difference in means, we see that the presence of confounding bias tended to underestimate the true causal effect. "
      ]
    },
    {
      "cell_type": "markdown",
      "metadata": {
        "id": "XdHuqa8o_RMm"
      },
      "source": [
        "## Exercise 4 : T-learner"
      ]
    },
    {
      "cell_type": "markdown",
      "metadata": {
        "id": "kMezfKM8_RMm"
      },
      "source": [
        "In this exercice, we will implement T-learner to estimate ATE and use bootstrap to derive an 95% confidence interval around our estimate."
      ]
    },
    {
      "cell_type": "markdown",
      "metadata": {
        "id": "wSM0ouMO_RMm"
      },
      "source": [
        "#### 1. Implement T-learner"
      ]
    },
    {
      "cell_type": "code",
      "execution_count": null,
      "metadata": {
        "id": "-zqk4YdO_RMn"
      },
      "outputs": [],
      "source": [
        "#Fit two models : one for the potential outcome under treatment and one for the potential outcome under control.\n",
        "reg0 = LinearRegression().fit(df_preprocessed[df_preprocessed.qsmk==0][list(explanatory_col)],\n",
        "                              df_preprocessed[df_preprocessed.qsmk==0][\"wt82_71\"])\n",
        "reg1 = LinearRegression().fit(df_preprocessed[df_preprocessed.qsmk==1][list(explanatory_col)],\n",
        "                              df_preprocessed[df_preprocessed.qsmk==1][\"wt82_71\"])"
      ]
    },
    {
      "cell_type": "code",
      "execution_count": null,
      "metadata": {
        "id": "Aqad9GJu_RMn"
      },
      "outputs": [],
      "source": [
        "#Fit the models to estimate the potential outcome for all units\n",
        "df_preprocessed = df_preprocessed.assign(\n",
        "    y0_t = reg0.predict(df_preprocessed[list(explanatory_col)]),\n",
        "    y1_t = reg1.predict(df_preprocessed[list(explanatory_col)])\n",
        ")"
      ]
    },
    {
      "cell_type": "code",
      "execution_count": null,
      "metadata": {
        "id": "CGfBd3ap_RMn",
        "outputId": "b7c4c577-615e-4dbb-e31e-798d05bc36e2"
      },
      "outputs": [
        {
          "name": "stdout",
          "output_type": "stream",
          "text": [
            "An estimate of ATE computed by T-learner is 2.67\n"
          ]
        }
      ],
      "source": [
        "#Compute ATE T-learner \n",
        "ate_t_learner = np.mean(df_preprocessed.y1_t - df_preprocessed.y0_t)\n",
        "print(f\"An estimate of ATE computed by T-learner is {ate_t_learner.round(2)}\")"
      ]
    },
    {
      "cell_type": "markdown",
      "metadata": {
        "id": "r9N6EXd6_RMn"
      },
      "source": [
        "#### 2. Use bootstrap to compute a 95% confidence interval around your estimate of ATE"
      ]
    },
    {
      "cell_type": "code",
      "execution_count": null,
      "metadata": {
        "id": "7QdJVv_U_RMn",
        "outputId": "d46229ab-bef4-4d1a-d3b5-6d1bd3a3091e"
      },
      "outputs": [
        {
          "name": "stderr",
          "output_type": "stream",
          "text": [
            "UsageError: unrecognized arguments: line is to remove warnings\n"
          ]
        }
      ],
      "source": [
        "%%capture --no-display #This line is to remove warnings\n",
        "\n",
        "N_boot=1000 #Number of boostrap repetitions\n",
        "ate_t_learner_boot = np.empty(N_boot) #Numpy array to store boostrapped ATE estimations \n",
        "n = df_preprocessed.shape[0] #Number of rows in dataframe\n",
        "\n",
        "for i in range(N_boot):\n",
        "    \n",
        "    #Simultate boostrapped dataset\n",
        "    idx_boot = rg.choice(n, n, replace=True)\n",
        "    sim_boot = df_preprocessed.loc[df_preprocessed.index[idx_boot]]\n",
        "    \n",
        "    #Compute ATE on boostraped dataset by T-learner\n",
        "    #Fit two models\n",
        "    reg0 = LinearRegression().fit(sim_boot[sim_boot.qsmk==0][list(explanatory_col)],\n",
        "                                  sim_boot[sim_boot.qsmk==0][\"wt82_71\"])\n",
        "    reg1 = LinearRegression().fit(sim_boot[sim_boot.qsmk==1][list(explanatory_col)],\n",
        "                                  sim_boot[sim_boot.qsmk==1][\"wt82_71\"])\n",
        "    #Apply the two models to infer potential outcome for all untis\n",
        "    sim_boot = sim_boot.assign(\n",
        "        y0_t = reg0.predict(sim_boot[list(explanatory_col)]),\n",
        "        y1_t = reg1.predict(sim_boot[list(explanatory_col)])\n",
        "    )\n",
        "    \n",
        "    #Estimate ATE and add it the the array\n",
        "    ate_t_learner_boot[i] = np.mean(sim_boot.y1_t - sim_boot.y0_t)"
      ]
    },
    {
      "cell_type": "code",
      "execution_count": null,
      "metadata": {
        "id": "so0sopbZ_RMo",
        "outputId": "0be67364-4887-43c9-ff0a-cb7a78f71c24"
      },
      "outputs": [
        {
          "name": "stdout",
          "output_type": "stream",
          "text": [
            "[0.9071610580149696, 4.42367199487407]\n"
          ]
        }
      ],
      "source": [
        "#Compute a 95% confidence interval around your ATE estimate\n",
        "print([ate_t_learner - sps.norm.ppf(0.975) * np.std(ate_t_learner_boot),\n",
        "       ate_t_learner + sps.norm.ppf(0.975) * np.std(ate_t_learner_boot)])"
      ]
    },
    {
      "cell_type": "markdown",
      "metadata": {
        "id": "USCvSCZm_RMo"
      },
      "source": [
        "#### 3. What do you conclude?"
      ]
    },
    {
      "cell_type": "markdown",
      "metadata": {
        "id": "yscEnezk_RMo"
      },
      "source": [
        "**Answer**\n",
        "\n",
        "We get pretty much the estimate than for S-learner (2.67 *versus* 2.65), so that we also conclude that quitting smoking significantly increase weight. The confidence interval is wider than for S-learner, which may be explained by the fact that the model is more complex (it has more degrees of freedom)."
      ]
    }
  ],
  "metadata": {
    "colab": {
      "provenance": [],
      "include_colab_link": true
    },
    "kernelspec": {
      "display_name": "Python 3 (ipykernel)",
      "language": "python",
      "name": "python3"
    },
    "language_info": {
      "codemirror_mode": {
        "name": "ipython",
        "version": 3
      },
      "file_extension": ".py",
      "mimetype": "text/x-python",
      "name": "python",
      "nbconvert_exporter": "python",
      "pygments_lexer": "ipython3",
      "version": "3.9.13"
    }
  },
  "nbformat": 4,
  "nbformat_minor": 0
}