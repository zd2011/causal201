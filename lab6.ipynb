{
  "nbformat": 4,
  "nbformat_minor": 0,
  "metadata": {
    "colab": {
      "provenance": [],
      "include_colab_link": true
    },
    "kernelspec": {
      "name": "python3",
      "display_name": "Python 3"
    },
    "language_info": {
      "name": "python"
    }
  },
  "cells": [
    {
      "cell_type": "markdown",
      "metadata": {
        "id": "view-in-github",
        "colab_type": "text"
      },
      "source": [
        "<a href=\"https://colab.research.google.com/github/zd2011/causal201/blob/main/lab6.ipynb\" target=\"_parent\"><img src=\"https://colab.research.google.com/assets/colab-badge.svg\" alt=\"Open In Colab\"/></a>"
      ]
    },
    {
      "cell_type": "markdown",
      "source": [
        "# Week 6 - Recitation - Matching and weighting\n",
        "\n",
        "author: Judith Abécassis and Élise Dumas\n",
        "with some inspiration from [Causal Inference for The Brave and True](https://matheusfacure.github.io/python-causality-handbook/landing-page.html)\n",
        "\n",
        "In today's recitation, we will implement the KNN-matching estimator with bias correction for one neighbor, to better understand how it works (exercise 1), and then compare matching and weighting on real data from the NSW job training program\n",
        "\n",
        "## Exercise 1: implement matching\n",
        "### question 1: to have a dataset to test things on, let's re-use the simulation of the lecture example"
      ],
      "metadata": {
        "id": "InHq_1lhX5TI"
      }
    },
    {
      "cell_type": "code",
      "source": [
        "pip install causalinference"
      ],
      "metadata": {
        "colab": {
          "base_uri": "https://localhost:8080/"
        },
        "id": "rd0kmndoYHl-",
        "outputId": "d8d801f4-5306-4c8a-e1b3-b8a9fe5c8353"
      },
      "execution_count": null,
      "outputs": [
        {
          "output_type": "stream",
          "name": "stdout",
          "text": [
            "Looking in indexes: https://pypi.org/simple, https://us-python.pkg.dev/colab-wheels/public/simple/\n",
            "Collecting causalinference\n",
            "  Downloading CausalInference-0.1.3-py3-none-any.whl (51 kB)\n",
            "\u001b[K     |████████████████████████████████| 51 kB 6.9 MB/s \n",
            "\u001b[?25hInstalling collected packages: causalinference\n",
            "Successfully installed causalinference-0.1.3\n"
          ]
        }
      ]
    },
    {
      "cell_type": "code",
      "execution_count": null,
      "metadata": {
        "id": "t36JeHydXxen"
      },
      "outputs": [],
      "source": [
        "import pandas as pd\n",
        "import numpy as np\n",
        "import seaborn as sns\n",
        "import matplotlib.pyplot as plt\n",
        "from sklearn.preprocessing import StandardScaler\n",
        "from sklearn.linear_model import LogisticRegression, LinearRegression\n",
        "import scipy.stats as sps\n",
        "from sklearn.neighbors import KNeighborsRegressor\n",
        "from causalinference import CausalModel\n",
        "from sklearn.pipeline import make_pipeline\n",
        "\n",
        "\n",
        "sns.set_context('poster')"
      ]
    },
    {
      "cell_type": "code",
      "source": [
        "# Our sample size is\n",
        "n = 3000\n",
        "\n",
        "rg = np.random.default_rng(2907)\n",
        "### 4 variables - Z - that are normal (0,1)\n",
        "data_sim = pd.DataFrame(rg.normal(size=(n, 4)),\n",
        "                        columns=['z{}'.format(i) for i in range(1, 5)])\n",
        "\n",
        "### Outcome is a function of these + error\n",
        "data_sim = data_sim.assign(Y=210 + 27.4*data_sim.z1 + 13.7*data_sim.z2 +\n",
        "                           13.7*data_sim.z3 + 13.7*data_sim.z4 + rg.normal(size=n))\n",
        "\n",
        "### True Propensity score is also a function of these\n",
        "data_sim = data_sim.assign(omega= -1.5 -data_sim.z1 + .5*data_sim.z2 - .25*data_sim.z3 - .1*data_sim.z4)\n",
        "\n",
        "# Convert to a probability\n",
        "data_sim = data_sim.assign(pi=1/(1 + np.exp(-data_sim.omega)))\n",
        "\n",
        "### Generate treatment based on the propensity scores\n",
        "data_sim = data_sim.assign(T=rg.binomial(1, data_sim.pi, size=n))\n",
        "data_sim.head()"
      ],
      "metadata": {
        "colab": {
          "base_uri": "https://localhost:8080/",
          "height": 206
        },
        "id": "cNEz8-hnX7dP",
        "outputId": "ceb3f075-7a4c-43b5-b906-e43c5be7f321"
      },
      "execution_count": null,
      "outputs": [
        {
          "output_type": "execute_result",
          "data": {
            "text/plain": [
              "         z1        z2        z3        z4           Y     omega        pi  T\n",
              "0  1.098930  0.445812 -0.202055  1.942798  269.621397 -2.519790  0.074482  0\n",
              "1 -0.509752 -0.751995  0.293914  0.549660  196.330663 -1.494690  0.183219  0\n",
              "2  0.772191  0.507017  0.544381  1.549491  267.409865 -2.309727  0.090321  0\n",
              "3  0.603948  0.464787 -1.325442  0.926284  228.611780 -1.632822  0.163444  0\n",
              "4 -0.271929 -1.497915 -0.436955 -0.695071  167.065733 -1.798282  0.142060  0"
            ],
            "text/html": [
              "\n",
              "  <div id=\"df-31d901b0-5b83-4f57-9326-971dfa7155a3\">\n",
              "    <div class=\"colab-df-container\">\n",
              "      <div>\n",
              "<style scoped>\n",
              "    .dataframe tbody tr th:only-of-type {\n",
              "        vertical-align: middle;\n",
              "    }\n",
              "\n",
              "    .dataframe tbody tr th {\n",
              "        vertical-align: top;\n",
              "    }\n",
              "\n",
              "    .dataframe thead th {\n",
              "        text-align: right;\n",
              "    }\n",
              "</style>\n",
              "<table border=\"1\" class=\"dataframe\">\n",
              "  <thead>\n",
              "    <tr style=\"text-align: right;\">\n",
              "      <th></th>\n",
              "      <th>z1</th>\n",
              "      <th>z2</th>\n",
              "      <th>z3</th>\n",
              "      <th>z4</th>\n",
              "      <th>Y</th>\n",
              "      <th>omega</th>\n",
              "      <th>pi</th>\n",
              "      <th>T</th>\n",
              "    </tr>\n",
              "  </thead>\n",
              "  <tbody>\n",
              "    <tr>\n",
              "      <th>0</th>\n",
              "      <td>1.098930</td>\n",
              "      <td>0.445812</td>\n",
              "      <td>-0.202055</td>\n",
              "      <td>1.942798</td>\n",
              "      <td>269.621397</td>\n",
              "      <td>-2.519790</td>\n",
              "      <td>0.074482</td>\n",
              "      <td>0</td>\n",
              "    </tr>\n",
              "    <tr>\n",
              "      <th>1</th>\n",
              "      <td>-0.509752</td>\n",
              "      <td>-0.751995</td>\n",
              "      <td>0.293914</td>\n",
              "      <td>0.549660</td>\n",
              "      <td>196.330663</td>\n",
              "      <td>-1.494690</td>\n",
              "      <td>0.183219</td>\n",
              "      <td>0</td>\n",
              "    </tr>\n",
              "    <tr>\n",
              "      <th>2</th>\n",
              "      <td>0.772191</td>\n",
              "      <td>0.507017</td>\n",
              "      <td>0.544381</td>\n",
              "      <td>1.549491</td>\n",
              "      <td>267.409865</td>\n",
              "      <td>-2.309727</td>\n",
              "      <td>0.090321</td>\n",
              "      <td>0</td>\n",
              "    </tr>\n",
              "    <tr>\n",
              "      <th>3</th>\n",
              "      <td>0.603948</td>\n",
              "      <td>0.464787</td>\n",
              "      <td>-1.325442</td>\n",
              "      <td>0.926284</td>\n",
              "      <td>228.611780</td>\n",
              "      <td>-1.632822</td>\n",
              "      <td>0.163444</td>\n",
              "      <td>0</td>\n",
              "    </tr>\n",
              "    <tr>\n",
              "      <th>4</th>\n",
              "      <td>-0.271929</td>\n",
              "      <td>-1.497915</td>\n",
              "      <td>-0.436955</td>\n",
              "      <td>-0.695071</td>\n",
              "      <td>167.065733</td>\n",
              "      <td>-1.798282</td>\n",
              "      <td>0.142060</td>\n",
              "      <td>0</td>\n",
              "    </tr>\n",
              "  </tbody>\n",
              "</table>\n",
              "</div>\n",
              "      <button class=\"colab-df-convert\" onclick=\"convertToInteractive('df-31d901b0-5b83-4f57-9326-971dfa7155a3')\"\n",
              "              title=\"Convert this dataframe to an interactive table.\"\n",
              "              style=\"display:none;\">\n",
              "        \n",
              "  <svg xmlns=\"http://www.w3.org/2000/svg\" height=\"24px\"viewBox=\"0 0 24 24\"\n",
              "       width=\"24px\">\n",
              "    <path d=\"M0 0h24v24H0V0z\" fill=\"none\"/>\n",
              "    <path d=\"M18.56 5.44l.94 2.06.94-2.06 2.06-.94-2.06-.94-.94-2.06-.94 2.06-2.06.94zm-11 1L8.5 8.5l.94-2.06 2.06-.94-2.06-.94L8.5 2.5l-.94 2.06-2.06.94zm10 10l.94 2.06.94-2.06 2.06-.94-2.06-.94-.94-2.06-.94 2.06-2.06.94z\"/><path d=\"M17.41 7.96l-1.37-1.37c-.4-.4-.92-.59-1.43-.59-.52 0-1.04.2-1.43.59L10.3 9.45l-7.72 7.72c-.78.78-.78 2.05 0 2.83L4 21.41c.39.39.9.59 1.41.59.51 0 1.02-.2 1.41-.59l7.78-7.78 2.81-2.81c.8-.78.8-2.07 0-2.86zM5.41 20L4 18.59l7.72-7.72 1.47 1.35L5.41 20z\"/>\n",
              "  </svg>\n",
              "      </button>\n",
              "      \n",
              "  <style>\n",
              "    .colab-df-container {\n",
              "      display:flex;\n",
              "      flex-wrap:wrap;\n",
              "      gap: 12px;\n",
              "    }\n",
              "\n",
              "    .colab-df-convert {\n",
              "      background-color: #E8F0FE;\n",
              "      border: none;\n",
              "      border-radius: 50%;\n",
              "      cursor: pointer;\n",
              "      display: none;\n",
              "      fill: #1967D2;\n",
              "      height: 32px;\n",
              "      padding: 0 0 0 0;\n",
              "      width: 32px;\n",
              "    }\n",
              "\n",
              "    .colab-df-convert:hover {\n",
              "      background-color: #E2EBFA;\n",
              "      box-shadow: 0px 1px 2px rgba(60, 64, 67, 0.3), 0px 1px 3px 1px rgba(60, 64, 67, 0.15);\n",
              "      fill: #174EA6;\n",
              "    }\n",
              "\n",
              "    [theme=dark] .colab-df-convert {\n",
              "      background-color: #3B4455;\n",
              "      fill: #D2E3FC;\n",
              "    }\n",
              "\n",
              "    [theme=dark] .colab-df-convert:hover {\n",
              "      background-color: #434B5C;\n",
              "      box-shadow: 0px 1px 3px 1px rgba(0, 0, 0, 0.15);\n",
              "      filter: drop-shadow(0px 1px 2px rgba(0, 0, 0, 0.3));\n",
              "      fill: #FFFFFF;\n",
              "    }\n",
              "  </style>\n",
              "\n",
              "      <script>\n",
              "        const buttonEl =\n",
              "          document.querySelector('#df-31d901b0-5b83-4f57-9326-971dfa7155a3 button.colab-df-convert');\n",
              "        buttonEl.style.display =\n",
              "          google.colab.kernel.accessAllowed ? 'block' : 'none';\n",
              "\n",
              "        async function convertToInteractive(key) {\n",
              "          const element = document.querySelector('#df-31d901b0-5b83-4f57-9326-971dfa7155a3');\n",
              "          const dataTable =\n",
              "            await google.colab.kernel.invokeFunction('convertToInteractive',\n",
              "                                                     [key], {});\n",
              "          if (!dataTable) return;\n",
              "\n",
              "          const docLinkHtml = 'Like what you see? Visit the ' +\n",
              "            '<a target=\"_blank\" href=https://colab.research.google.com/notebooks/data_table.ipynb>data table notebook</a>'\n",
              "            + ' to learn more about interactive tables.';\n",
              "          element.innerHTML = '';\n",
              "          dataTable['output_type'] = 'display_data';\n",
              "          await google.colab.output.renderOutput(dataTable, element);\n",
              "          const docLink = document.createElement('div');\n",
              "          docLink.innerHTML = docLinkHtml;\n",
              "          element.appendChild(docLink);\n",
              "        }\n",
              "      </script>\n",
              "    </div>\n",
              "  </div>\n",
              "  "
            ]
          },
          "metadata": {},
          "execution_count": 28
        }
      ]
    },
    {
      "cell_type": "markdown",
      "source": [
        "### Question 2\n",
        "#### question 2.1: implement KNN matching with k=1 (complete the following function draft.)\n",
        "\n",
        "We will use the `KNeighborsRegressor` implementation from scikit-learn. Check the documentation to use it properly.\n",
        "\n",
        "We are also going to use the neat trick that \n",
        "$$\n",
        "  \\widehat{ATE} = \\frac{1}{n} \\sum_{i=1}^n (2T_i -1) (Y_i - Y_{jm}(i))\n",
        "$$\n",
        "\n",
        "where $Y_{jm}(i)$ is the matched unit outcome from the other sample group."
      ],
      "metadata": {
        "id": "Du5PyydfX-lp"
      }
    },
    {
      "cell_type": "code",
      "source": [
        "def matching(df, treatment, covariates, outcome):\n",
        "    \"\"\"\n",
        "    implementation of the knn matching\n",
        "    df: dataframe with the data\n",
        "    treatment: str\n",
        "               name of the variable for the treatment\n",
        "    covariates: list\n",
        "                list of covariate names\n",
        "    outcome: str\n",
        "             name of the outcome variable\n",
        "    \"\"\"\n",
        "    # create two dataframes corresponding to the treated and untreated units\n",
        "    treated = df.query(\"{}==1\".format(treatment))\n",
        "    untreated = df.query(\"{}==0\".format(treatment))\n",
        "\n",
        "    # create and fit two KNeighborsRegressor, one for the untreated and one for the treated units\n",
        "    mt0 = KNeighborsRegressor(n_neighbors=1).fit(untreated[covariates], untreated[outcome])\n",
        "    mt1 = KNeighborsRegressor(n_neighbors=1).fit(treated[covariates], treated[outcome])\n",
        "\n",
        "    predicted = pd.concat([\n",
        "        # find matches for the treated looking at the untreated knn model\n",
        "        treated.assign(match=mt0.predict(treated[covariates])),\n",
        "\n",
        "        # find matches for the untreated looking at the treated knn model\n",
        "        untreated.assign(match=mt1.predict(untreated[covariates]))\n",
        "    ])\n",
        "    ate_matching = np.mean((2*predicted[treatment] - 1)*(predicted[outcome] - predicted[\"match\"]))\n",
        "    return ate_matching"
      ],
      "metadata": {
        "id": "_covrONEX82U"
      },
      "execution_count": null,
      "outputs": []
    },
    {
      "cell_type": "markdown",
      "source": [
        "#### question 2.2: test your function\n",
        "Apply the matching function to your simulated dataset, and compare to a reference implementation from the `causalinference` package.\n",
        "\n",
        "We will check manually that our estimate finds in the confidence interval returned by the reference implementation.\n"
      ],
      "metadata": {
        "id": "YpO6_Ww5YBq4"
      }
    },
    {
      "cell_type": "code",
      "source": [
        "matching(data_sim, 'T', ['z{}'.format(i) for i in range(1, 5)], 'Y')"
      ],
      "metadata": {
        "colab": {
          "base_uri": "https://localhost:8080/"
        },
        "id": "lYRS1e5hYAA5",
        "outputId": "12e485cc-d429-4f71-e8ae-ca0e212a0002"
      },
      "execution_count": null,
      "outputs": [
        {
          "output_type": "execute_result",
          "data": {
            "text/plain": [
              "-2.0490204959371585"
            ]
          },
          "metadata": {},
          "execution_count": 4
        }
      ]
    },
    {
      "cell_type": "code",
      "source": [
        "cm = CausalModel(\n",
        "    Y=data_sim.Y.values,\n",
        "    D=data_sim['T'].values ,\n",
        "    X=data_sim[['z{}'.format(i) for i in range(1, 5)]].values)\n",
        "cm.est_via_matching(weights='maha')\n",
        "print(cm.estimates)"
      ],
      "metadata": {
        "colab": {
          "base_uri": "https://localhost:8080/"
        },
        "id": "LiKEprpNYC-c",
        "outputId": "9b5a3946-8d33-406a-e450-bda12c6124ec"
      },
      "execution_count": null,
      "outputs": [
        {
          "output_type": "stream",
          "name": "stdout",
          "text": [
            "\n",
            "Treatment Effect Estimates: Matching\n",
            "\n",
            "                     Est.       S.e.          z      P>|z|      [95% Conf. int.]\n",
            "--------------------------------------------------------------------------------\n",
            "           ATE     -1.741      0.513     -3.392      0.001     -2.747     -0.735\n",
            "           ATC     -1.951      0.558     -3.497      0.000     -3.045     -0.857\n",
            "           ATT     -0.981      0.653     -1.503      0.133     -2.260      0.298\n",
            "\n"
          ]
        }
      ]
    },
    {
      "cell_type": "markdown",
      "source": [
        "### Question 3\n",
        "#### question 3.1: implement KNN matching with k=1 with bias correction (complete the following function draft.)\n",
        "\n",
        "We will use the `KNeighborsRegressor` implementation from scikit-learn. Check the documentation to use it properly."
      ],
      "metadata": {
        "id": "KDLCyDClZH4J"
      }
    },
    {
      "cell_type": "code",
      "source": [
        "def matching_bias(df, treatment, covariates, outcome, bias_corr=True):\n",
        "    \"\"\"\n",
        "    implementation of the knn matching, with bias correction\n",
        "    df: dataframe with the data\n",
        "    treatment: str\n",
        "               name of the variable for the treatment\n",
        "    covariates: list\n",
        "                list of covariate names\n",
        "    outcome: str\n",
        "             name of the outcome variable\n",
        "    \"\"\"\n",
        "    # create two dataframes corresponding to the treated and untreated units\n",
        "    treated = df.query(\"{}==1\".format(treatment))\n",
        "    untreated = df.query(\"{}==0\".format(treatment))\n",
        "\n",
        "    # create and fit two KNeighborsRegressor, one for the untreated and one for the treated units\n",
        "    mt0 = KNeighborsRegressor(n_neighbors=1).fit(untreated[covariates], untreated[outcome])\n",
        "    mt1 = KNeighborsRegressor(n_neighbors=1).fit(treated[covariates], treated[outcome])\n",
        "\n",
        "    predicted = pd.concat([\n",
        "        # find matches for the treated looking at the untreated knn model\n",
        "        treated.assign(match=mt0.predict(treated[covariates])),\n",
        "\n",
        "        # find matches for the untreated looking at the treated knn model\n",
        "        untreated.assign(match=mt1.predict(untreated[covariates]))\n",
        "    ])\n",
        "    \n",
        "    ate_matching = np.mean((2*predicted[treatment] - 1)*(predicted[outcome] - predicted[\"match\"]))\n",
        "    \n",
        "    if bias_corr:\n",
        "        # fit the linear regression model to estimate mu_0(x) on the untreated\n",
        "        ols = LinearRegression().fit(untreated[covariates], untreated[outcome])\n",
        "\n",
        "        # find the units that match to the treated\n",
        "        treated_match_index = mt0.kneighbors(treated[covariates], n_neighbors=1)[1].ravel()\n",
        "\n",
        "        # find the units that match to the untreatd\n",
        "        untreated_match_index = mt1.kneighbors(untreated[covariates], n_neighbors=1)[1].ravel()\n",
        "\n",
        "        predicted = pd.concat([\n",
        "            (treated\n",
        "             # find the Y match on the other group\n",
        "             .assign(match=mt0.predict(treated[covariates])) \n",
        "\n",
        "             # build the bias correction term\n",
        "             .assign(bias_correct=ols.predict(treated[covariates]) - ols.predict(untreated.iloc[treated_match_index][covariates]))),\n",
        "            (untreated\n",
        "             .assign(match=mt1.predict(untreated[covariates]))\n",
        "             .assign(bias_correct=ols.predict(untreated[covariates]) - ols.predict(treated.iloc[untreated_match_index][covariates])))\n",
        "        ])\n",
        "        ate_matching = np.mean((2*predicted[treatment] - 1)*((predicted[outcome] - predicted[\"match\"])-predicted[\"bias_correct\"]))\n",
        "    return ate_matching"
      ],
      "metadata": {
        "id": "n5XF9RPJYELh"
      },
      "execution_count": null,
      "outputs": []
    },
    {
      "cell_type": "markdown",
      "source": [
        "#### question 2.2: test your function\n",
        "Apply the matching function to your simulated dataset, and compare to a reference implementation from the `causalinference` package.\n",
        "\n",
        "We will check manually that our estimate finds in the confidence interval returned by the reference implementation.\n"
      ],
      "metadata": {
        "id": "o7hgSLvPcWEL"
      }
    },
    {
      "cell_type": "code",
      "source": [
        "matching_bias(data_sim, 'T', ['z{}'.format(i) for i in range(1, 5)], 'Y')"
      ],
      "metadata": {
        "colab": {
          "base_uri": "https://localhost:8080/"
        },
        "id": "5uyPRDV1YPw_",
        "outputId": "e6ca6aa2-cf28-4d6a-9cca-b4f37e3c469e"
      },
      "execution_count": null,
      "outputs": [
        {
          "output_type": "execute_result",
          "data": {
            "text/plain": [
              "-0.014636223750432914"
            ]
          },
          "metadata": {},
          "execution_count": 20
        }
      ]
    },
    {
      "cell_type": "code",
      "source": [
        "cm = CausalModel(\n",
        "    Y=data_sim.Y.values,\n",
        "    D=data_sim['T'].values ,\n",
        "    X=data_sim[['z{}'.format(i) for i in range(1, 5)]].values)\n",
        "cm.est_via_matching(weights='maha', bias_adj=True)\n",
        "print(cm.estimates)"
      ],
      "metadata": {
        "colab": {
          "base_uri": "https://localhost:8080/"
        },
        "id": "utadWceeYgIi",
        "outputId": "240050d6-5f45-4dc7-f884-c775dfc2793d"
      },
      "execution_count": null,
      "outputs": [
        {
          "output_type": "stream",
          "name": "stdout",
          "text": [
            "\n",
            "Treatment Effect Estimates: Matching\n",
            "\n",
            "                     Est.       S.e.          z      P>|z|      [95% Conf. int.]\n",
            "--------------------------------------------------------------------------------\n",
            "           ATE     -0.012      0.086     -0.145      0.885     -0.181      0.156\n",
            "           ATC     -0.025      0.096     -0.266      0.790     -0.213      0.162\n",
            "           ATT      0.035      0.092      0.376      0.707     -0.145      0.214\n",
            "\n"
          ]
        }
      ]
    },
    {
      "cell_type": "markdown",
      "source": [
        "### Bonus question (to do at home, if you are done, just move to the next exercise): extend the implementations to handle more than one match"
      ],
      "metadata": {
        "id": "9wbrjfSgcE8K"
      }
    },
    {
      "cell_type": "markdown",
      "source": [
        "## Exercise 2: compare matching and weighting\n",
        "\n",
        "### question 1: implement weighting, and apply it to our simulated dataset (with bootstrap confidence interval)\n",
        "We first consider simulated dataset to ensure our implementation is correct!! (even with one check, there may be issues, but we are safer then!!)"
      ],
      "metadata": {
        "id": "NIl7aLHycXjo"
      }
    },
    {
      "cell_type": "code",
      "source": [
        "covariates = ['z{}'.format(i) for i in range(1, 5)]\n",
        "\n",
        "clf = LogisticRegression(random_state=10, solver='lbfgs').\\\n",
        "            fit(data_sim[covariates], data_sim['T'])\n",
        "\n",
        "data_sim = data_sim.assign(e=clf.predict_proba(data_sim[covariates])[:, 1])\n",
        "sns.displot(data_sim, x='e', hue='T', kind='hist')"
      ],
      "metadata": {
        "colab": {
          "base_uri": "https://localhost:8080/",
          "height": 357
        },
        "id": "_ZTNu6_oatTl",
        "outputId": "33506b5d-17f5-4ce6-ddfd-8ac0be446c1b"
      },
      "execution_count": null,
      "outputs": [
        {
          "output_type": "execute_result",
          "data": {
            "text/plain": [
              "<seaborn.axisgrid.FacetGrid at 0x7f3557b0df10>"
            ]
          },
          "metadata": {},
          "execution_count": 29
        },
        {
          "output_type": "display_data",
          "data": {
            "text/plain": [
              "<Figure size 453.325x360 with 1 Axes>"
            ],
            "image/png": "[encoded data removed]"
          },
          "metadata": {
            "needs_background": "light"
          }
        }
      ]
    },
    {
      "cell_type": "code",
      "source": [
        "data_sim = data_sim.assign(wt=np.nan)\n",
        "data_sim.loc[data_sim['T']==0, 'wt'] = 1 / (1-data_sim.loc[data_sim['T']==0, 'e'])\n",
        "data_sim.loc[data_sim['T']==1, 'wt'] = 1 / (data_sim.loc[data_sim['T']==1, 'e'])\n",
        "\n",
        "ate_ipw = np.mean(data_sim.wt * data_sim.Y * data_sim['T'] -\n",
        "                    data_sim.wt * data_sim.Y * (1-data_sim['T']))\n",
        "print(ate_ipw)"
      ],
      "metadata": {
        "colab": {
          "base_uri": "https://localhost:8080/"
        },
        "id": "aaAB9NxAdZjW",
        "outputId": "7cbd75d7-cebe-4dc7-df5c-f6cc9bdc8700"
      },
      "execution_count": null,
      "outputs": [
        {
          "output_type": "stream",
          "name": "stdout",
          "text": [
            "9.477570711806395\n"
          ]
        }
      ]
    },
    {
      "cell_type": "code",
      "source": [
        "N_boot=1000\n",
        "ate_ipw_boot = np.empty(N_boot)\n",
        "for i in range(N_boot):\n",
        "    idx_boot = rg.choice(n, n, replace=True)\n",
        "    sim_boot = data_sim.loc[idx_boot]\n",
        "    # Fit the propensity score model on the bootstrapped data\n",
        "    clf = LogisticRegression(random_state=10).\\\n",
        "            fit(sim_boot[covariates], sim_boot['T'])\n",
        "    sim_boot = sim_boot.assign(e=clf.predict_proba(sim_boot[covariates])[:, 1])\n",
        "    sim_boot = sim_boot.assign(wt=np.nan)\n",
        "    sim_boot.loc[sim_boot['T']==0, 'wt'] = 1 / (1-sim_boot.loc[sim_boot['T']==0, 'e'])\n",
        "    sim_boot.loc[sim_boot['T']==1, 'wt'] = 1 / (sim_boot.loc[sim_boot['T']==1, 'e'])\n",
        "\n",
        "    point_wtd = np.mean(sim_boot.wt * sim_boot.Y * sim_boot['T'] -\n",
        "                        sim_boot.wt * sim_boot.Y * (1-sim_boot['T']))\n",
        "    ate_ipw_boot[i] = point_wtd"
      ],
      "metadata": {
        "id": "yS8x6hWddwdd"
      },
      "execution_count": null,
      "outputs": []
    },
    {
      "cell_type": "code",
      "source": [
        "print([ate_ipw - sps.norm.ppf(0.975) * np.std(ate_ipw_boot),\n",
        "       ate_ipw + sps.norm.ppf(0.975) * np.std(ate_ipw_boot)])"
      ],
      "metadata": {
        "colab": {
          "base_uri": "https://localhost:8080/"
        },
        "id": "hZ6RJ-IBd7Rd",
        "outputId": "413eb825-31b9-4940-e84f-e24255514b8a"
      },
      "execution_count": null,
      "outputs": [
        {
          "output_type": "stream",
          "name": "stdout",
          "text": [
            "[-5.37554269281709, 24.33068411642988]\n"
          ]
        }
      ]
    },
    {
      "cell_type": "markdown",
      "source": [
        "The result is surprising, however the IPW estimator can have a high variance due to propensity scores too close to 1 or 0.\n",
        "\n",
        "### question 2: Let's compare matching and IPW on a the real dataset we just saw during the lecture"
      ],
      "metadata": {
        "id": "L1NmWCmzfaTW"
      }
    },
    {
      "cell_type": "code",
      "source": [
        "# let's get the data\n",
        "nsw_data = pd.read_stata(\"https://raw.github.com/scunning1975/mixtape/master/nsw_mixtape.dta\")\n"
      ],
      "metadata": {
        "id": "1P8fkna2d84N"
      },
      "execution_count": null,
      "outputs": []
    },
    {
      "cell_type": "code",
      "source": [
        "# basic ATE\n",
        "mean1 = nsw_data[nsw_data.treat==1].re78.mean()\n",
        "mean0 = nsw_data[nsw_data.treat==0].re78.mean()\n",
        "ate = mean1 - mean0\n",
        "print(\"The experimental ATE estimate is {:.2f}\".format(ate))"
      ],
      "metadata": {
        "colab": {
          "base_uri": "https://localhost:8080/"
        },
        "id": "ujR6d890g1kn",
        "outputId": "6a3b5d80-0301-4431-b8a9-956f71d195a9"
      },
      "execution_count": null,
      "outputs": [
        {
          "output_type": "stream",
          "name": "stdout",
          "text": [
            "The experimental ATE estimate is 1794.34\n"
          ]
        }
      ]
    },
    {
      "cell_type": "code",
      "source": [
        "covariates = ['age', 'educ', 'black', 'hisp', 'marr', 'nodegree', 're74', 're75']\n",
        "sc_covariates = ['sc_{}'.format(cov) for cov in covariates]\n",
        "\n",
        "clf = make_pipeline(StandardScaler(), LogisticRegression(random_state=10, solver='lbfgs'))\n",
        "clf.fit(nsw_data[covariates], nsw_data.treat)\n",
        "            \n",
        "\n",
        "nsw_data = nsw_data.assign(e=clf.predict_proba(nsw_data[covariates])[:, 1])\n",
        "sns.displot(nsw_data, x='e', hue='treat', kind='hist')"
      ],
      "metadata": {
        "colab": {
          "base_uri": "https://localhost:8080/",
          "height": 357
        },
        "id": "_eJcVQMgg7LU",
        "outputId": "62417139-2da5-4d40-aa2c-7852cf589d58"
      },
      "execution_count": null,
      "outputs": [
        {
          "output_type": "execute_result",
          "data": {
            "text/plain": [
              "<seaborn.axisgrid.FacetGrid at 0x7f3556f4bc50>"
            ]
          },
          "metadata": {},
          "execution_count": 43
        },
        {
          "output_type": "display_data",
          "data": {
            "text/plain": [
              "<Figure size 474.45x360 with 1 Axes>"
            ],
            "image/png": "[encoded data removed]"
          },
          "metadata": {
            "needs_background": "light"
          }
        }
      ]
    },
    {
      "cell_type": "code",
      "source": [
        "nsw_data = nsw_data.assign(wt=np.nan)\n",
        "nsw_data.loc[nsw_data.treat==0, 'wt'] = 1 / (1-nsw_data.loc[nsw_data.treat==0, 'e'])\n",
        "nsw_data.loc[nsw_data.treat==1, 'wt'] = 1 / (nsw_data.loc[nsw_data.treat==1, 'e'])\n",
        "\n",
        "ate_ipw = np.mean(nsw_data.wt * nsw_data.re78 * nsw_data.treat -\n",
        "                    nsw_data.wt * nsw_data.re78 * (1-nsw_data.treat))\n",
        "print(ate_ipw)"
      ],
      "metadata": {
        "colab": {
          "base_uri": "https://localhost:8080/"
        },
        "id": "6z1L4SPug94C",
        "outputId": "76b094b3-33ca-49c0-a2c1-44a81b7403c4"
      },
      "execution_count": null,
      "outputs": [
        {
          "output_type": "stream",
          "name": "stdout",
          "text": [
            "1610.5248404488543\n"
          ]
        }
      ]
    },
    {
      "cell_type": "code",
      "source": [
        "# let's bootstrap\n",
        "N = nsw_data.shape[0]\n",
        "N_boot=1000\n",
        "ate_ipw_boot = np.empty(N_boot)\n",
        "for i in range(N_boot):\n",
        "    idx_boot = rg.choice(N, N, replace=True)\n",
        "    nsw_boot = nsw_data.loc[idx_boot]\n",
        "    # Fit the propensity score model on the bootstrapped data\n",
        "    clf = make_pipeline(StandardScaler(), LogisticRegression(random_state=10, solver='lbfgs')).\\\n",
        "            fit(nsw_boot[covariates], nsw_boot['treat'])\n",
        "    nsw_boot = nsw_boot.assign(e=clf.predict_proba(nsw_boot[covariates])[:, 1])\n",
        "    nsw_boot = nsw_boot.assign(wt=np.nan)\n",
        "    nsw_boot.loc[nsw_boot['treat']==0, 'wt'] = 1 / (1-nsw_boot.loc[nsw_boot['treat']==0, 'e'])\n",
        "    nsw_boot.loc[nsw_boot['treat']==1, 'wt'] = 1 / (nsw_boot.loc[nsw_boot['treat']==1, 'e'])\n",
        "\n",
        "    point_wtd = np.mean(nsw_boot.wt * nsw_boot.re78 * nsw_boot['treat'] -\n",
        "                        nsw_boot.wt * nsw_boot.re78 * (1-nsw_boot['treat']))\n",
        "    ate_ipw_boot[i] = point_wtd"
      ],
      "metadata": {
        "id": "eFDGdgIChBo2"
      },
      "execution_count": null,
      "outputs": []
    },
    {
      "cell_type": "code",
      "source": [
        "print([ate_ipw - sps.norm.ppf(0.975) * np.std(ate_ipw_boot),\n",
        "       ate_ipw + sps.norm.ppf(0.975) * np.std(ate_ipw_boot)])"
      ],
      "metadata": {
        "colab": {
          "base_uri": "https://localhost:8080/"
        },
        "id": "K9xwP6L5haqe",
        "outputId": "866f80c9-fe40-4ca8-86a1-8835cad526ea"
      },
      "execution_count": null,
      "outputs": [
        {
          "output_type": "stream",
          "name": "stdout",
          "text": [
            "[216.6687338188176, 3004.380947078891]\n"
          ]
        }
      ]
    },
    {
      "cell_type": "code",
      "source": [
        "cm = CausalModel(\n",
        "    Y=nsw_data.re78.values,\n",
        "    D=nsw_data['treat'].values ,\n",
        "    X=nsw_data[covariates].values)\n",
        "cm.est_via_matching(weights='maha', bias_adj=True)\n",
        "print(cm.estimates)"
      ],
      "metadata": {
        "colab": {
          "base_uri": "https://localhost:8080/"
        },
        "id": "X8vmjdb_jomF",
        "outputId": "3b088ee4-5718-49b1-9fb4-9d9bf5695d38"
      },
      "execution_count": null,
      "outputs": [
        {
          "output_type": "stream",
          "name": "stdout",
          "text": [
            "\n",
            "Treatment Effect Estimates: Matching\n",
            "\n",
            "                     Est.       S.e.          z      P>|z|      [95% Conf. int.]\n",
            "--------------------------------------------------------------------------------\n",
            "           ATE   1864.464    976.203      1.910      0.056    -48.894   3777.823\n",
            "           ATC   1589.776   1129.696      1.407      0.159   -624.427   3803.979\n",
            "           ATT   2250.513   1063.731      2.116      0.034    165.599   4335.426\n",
            "\n"
          ]
        },
        {
          "output_type": "stream",
          "name": "stderr",
          "text": [
            "/usr/local/lib/python3.7/dist-packages/causalinference/estimators/matching.py:100: FutureWarning: `rcond` parameter will change to the default of machine precision times ``max(M, N)`` where M and N are the input matrix dimensions.\n",
            "To use the future default and silence this warning we advise to pass `rcond=None`, to keep using the old, explicitly pass `rcond=-1`.\n",
            "  return np.linalg.lstsq(X, Y)[0][1:]  # don't need intercept coef\n"
          ]
        }
      ]
    },
    {
      "cell_type": "code",
      "source": [],
      "metadata": {
        "id": "Rjo9ydchj1VQ"
      },
      "execution_count": null,
      "outputs": []
    },
    {
      "cell_type": "code",
      "source": [],
      "metadata": {
        "id": "KF7ygi9HmJLo"
      },
      "execution_count": null,
      "outputs": []
    }
  ]
}