{
  "nbformat": 4,
  "nbformat_minor": 0,
  "metadata": {
    "colab": {
      "provenance": [],
      "include_colab_link": true
    },
    "kernelspec": {
      "name": "python3",
      "display_name": "Python 3"
    },
    "language_info": {
      "name": "python"
    }
  },
  "cells": [
    {
      "cell_type": "markdown",
      "metadata": {
        "id": "view-in-github",
        "colab_type": "text"
      },
      "source": [
        "<a href=\"https://colab.research.google.com/github/zd2011/causal201/blob/main/lab3.ipynb\" target=\"_parent\"><img src=\"https://colab.research.google.com/assets/colab-badge.svg\" alt=\"Open In Colab\"/></a>"
      ]
    },
    {
      "cell_type": "markdown",
      "source": [
        "# DS UA 9201 - Recitation 3\n",
        "author: Judith Abécassis (judith.abecassis@nyu.edu) & Elise Dumas (elise.dumas@nyu.edu)\n",
        "With many thanks to [Marco Morucci](https://marcomorucci.com/bio/) and [Causal Inference for Statistics, Social, and Biomedical Sciences by Imbens and Rubin](https://www.cambridge.org/core/books/causal-inference-for-statistics-social-and-biomedical-sciences/71126BE90C58F1A431FE9B2DD07938AB) for inspiration."
      ],
      "metadata": {
        "id": "NqnDlgGDs26v"
      }
    },
    {
      "cell_type": "code",
      "execution_count": null,
      "metadata": {
        "id": "7w18wDYdslJ2"
      },
      "outputs": [],
      "source": [
        "#Load useful libraries\n",
        "import pandas as pd\n",
        "import numpy as np\n",
        "import scipy.stats as sps\n",
        "import matplotlib.pyplot as plt\n",
        "from statsmodels.stats.weightstats import CompareMeans, ztest \n",
        "import seaborn as sns\n",
        "sns.set_context('poster')"
      ]
    },
    {
      "cell_type": "markdown",
      "source": [
        "## Problem 1: Simulating ignorability\n",
        "We can use a simulation to get a sense of what ignorability implies about our treatment assignment process and to visualize \"selection-into-treatment bias\". Consider a sample of 1,000 units where the treatment effect is constant (2) and otherwise individual potential outcomes have normal distributions ($Y_i(1)$ is centered on $2$, $Y_i(0)$ is centered on $0$, both with a standard deviation of $3$)"
      ],
      "metadata": {
        "id": "JesyH5-Ktkb0"
      }
    },
    {
      "cell_type": "code",
      "source": [
        "# Initialize a generator with a fixed seed (function np.random.default_rng)\n",
        "rg = np.random.default_rng(1007)\n",
        "\n",
        "# Imagine we had a constant individual-level treatment effect\n",
        "true_effect = 2\n",
        "\n",
        "# Our hypothetical population contains 1,000 units - imagine we could observe both Y(1) and Y(0)\n",
        "N = 1000 # Population size\n",
        "# generate Y_0 ~ N(0, sigma^2=9) with function rg.normal\n",
        "Y_0 = rg.normal(scale=3, size=[N, 1])\n",
        "\n",
        "# create a dataframe with the Y_0 columns\n",
        "dataset = pd.DataFrame(data=Y_0, columns=['Y_0'])\n",
        "# add a column for Y_1\n",
        "dataset = dataset.assign(Y_1 = dataset.Y_0 + true_effect) # Treatment effect is additive\n",
        "\n",
        "# Let's examine the \"table of science\"\n",
        "dataset.head()"
      ],
      "metadata": {
        "colab": {
          "base_uri": "https://localhost:8080/",
          "height": 206
        },
        "id": "wvOupgJ1td5z",
        "outputId": "4971163a-90bd-4265-f8f0-7f496b111963"
      },
      "execution_count": null,
      "outputs": [
        {
          "output_type": "execute_result",
          "data": {
            "text/plain": [
              "        Y_0       Y_1\n",
              "0 -3.224510 -1.224510\n",
              "1 -3.817916 -1.817916\n",
              "2  0.383751  2.383751\n",
              "3  2.430449  4.430449\n",
              "4  1.596727  3.596727"
            ],
            "text/html": [
              "\n",
              "  <div id=\"df-30fc4de6-8ff7-46c8-8399-5deb4b14ad57\">\n",
              "    <div class=\"colab-df-container\">\n",
              "      <div>\n",
              "<style scoped>\n",
              "    .dataframe tbody tr th:only-of-type {\n",
              "        vertical-align: middle;\n",
              "    }\n",
              "\n",
              "    .dataframe tbody tr th {\n",
              "        vertical-align: top;\n",
              "    }\n",
              "\n",
              "    .dataframe thead th {\n",
              "        text-align: right;\n",
              "    }\n",
              "</style>\n",
              "<table border=\"1\" class=\"dataframe\">\n",
              "  <thead>\n",
              "    <tr style=\"text-align: right;\">\n",
              "      <th></th>\n",
              "      <th>Y_0</th>\n",
              "      <th>Y_1</th>\n",
              "    </tr>\n",
              "  </thead>\n",
              "  <tbody>\n",
              "    <tr>\n",
              "      <th>0</th>\n",
              "      <td>-3.224510</td>\n",
              "      <td>-1.224510</td>\n",
              "    </tr>\n",
              "    <tr>\n",
              "      <th>1</th>\n",
              "      <td>-3.817916</td>\n",
              "      <td>-1.817916</td>\n",
              "    </tr>\n",
              "    <tr>\n",
              "      <th>2</th>\n",
              "      <td>0.383751</td>\n",
              "      <td>2.383751</td>\n",
              "    </tr>\n",
              "    <tr>\n",
              "      <th>3</th>\n",
              "      <td>2.430449</td>\n",
              "      <td>4.430449</td>\n",
              "    </tr>\n",
              "    <tr>\n",
              "      <th>4</th>\n",
              "      <td>1.596727</td>\n",
              "      <td>3.596727</td>\n",
              "    </tr>\n",
              "  </tbody>\n",
              "</table>\n",
              "</div>\n",
              "      <button class=\"colab-df-convert\" onclick=\"convertToInteractive('df-30fc4de6-8ff7-46c8-8399-5deb4b14ad57')\"\n",
              "              title=\"Convert this dataframe to an interactive table.\"\n",
              "              style=\"display:none;\">\n",
              "        \n",
              "  <svg xmlns=\"http://www.w3.org/2000/svg\" height=\"24px\"viewBox=\"0 0 24 24\"\n",
              "       width=\"24px\">\n",
              "    <path d=\"M0 0h24v24H0V0z\" fill=\"none\"/>\n",
              "    <path d=\"M18.56 5.44l.94 2.06.94-2.06 2.06-.94-2.06-.94-.94-2.06-.94 2.06-2.06.94zm-11 1L8.5 8.5l.94-2.06 2.06-.94-2.06-.94L8.5 2.5l-.94 2.06-2.06.94zm10 10l.94 2.06.94-2.06 2.06-.94-2.06-.94-.94-2.06-.94 2.06-2.06.94z\"/><path d=\"M17.41 7.96l-1.37-1.37c-.4-.4-.92-.59-1.43-.59-.52 0-1.04.2-1.43.59L10.3 9.45l-7.72 7.72c-.78.78-.78 2.05 0 2.83L4 21.41c.39.39.9.59 1.41.59.51 0 1.02-.2 1.41-.59l7.78-7.78 2.81-2.81c.8-.78.8-2.07 0-2.86zM5.41 20L4 18.59l7.72-7.72 1.47 1.35L5.41 20z\"/>\n",
              "  </svg>\n",
              "      </button>\n",
              "      \n",
              "  <style>\n",
              "    .colab-df-container {\n",
              "      display:flex;\n",
              "      flex-wrap:wrap;\n",
              "      gap: 12px;\n",
              "    }\n",
              "\n",
              "    .colab-df-convert {\n",
              "      background-color: #E8F0FE;\n",
              "      border: none;\n",
              "      border-radius: 50%;\n",
              "      cursor: pointer;\n",
              "      display: none;\n",
              "      fill: #1967D2;\n",
              "      height: 32px;\n",
              "      padding: 0 0 0 0;\n",
              "      width: 32px;\n",
              "    }\n",
              "\n",
              "    .colab-df-convert:hover {\n",
              "      background-color: #E2EBFA;\n",
              "      box-shadow: 0px 1px 2px rgba(60, 64, 67, 0.3), 0px 1px 3px 1px rgba(60, 64, 67, 0.15);\n",
              "      fill: #174EA6;\n",
              "    }\n",
              "\n",
              "    [theme=dark] .colab-df-convert {\n",
              "      background-color: #3B4455;\n",
              "      fill: #D2E3FC;\n",
              "    }\n",
              "\n",
              "    [theme=dark] .colab-df-convert:hover {\n",
              "      background-color: #434B5C;\n",
              "      box-shadow: 0px 1px 3px 1px rgba(0, 0, 0, 0.15);\n",
              "      filter: drop-shadow(0px 1px 2px rgba(0, 0, 0, 0.3));\n",
              "      fill: #FFFFFF;\n",
              "    }\n",
              "  </style>\n",
              "\n",
              "      <script>\n",
              "        const buttonEl =\n",
              "          document.querySelector('#df-30fc4de6-8ff7-46c8-8399-5deb4b14ad57 button.colab-df-convert');\n",
              "        buttonEl.style.display =\n",
              "          google.colab.kernel.accessAllowed ? 'block' : 'none';\n",
              "\n",
              "        async function convertToInteractive(key) {\n",
              "          const element = document.querySelector('#df-30fc4de6-8ff7-46c8-8399-5deb4b14ad57');\n",
              "          const dataTable =\n",
              "            await google.colab.kernel.invokeFunction('convertToInteractive',\n",
              "                                                     [key], {});\n",
              "          if (!dataTable) return;\n",
              "\n",
              "          const docLinkHtml = 'Like what you see? Visit the ' +\n",
              "            '<a target=\"_blank\" href=https://colab.research.google.com/notebooks/data_table.ipynb>data table notebook</a>'\n",
              "            + ' to learn more about interactive tables.';\n",
              "          element.innerHTML = '';\n",
              "          dataTable['output_type'] = 'display_data';\n",
              "          await google.colab.output.renderOutput(dataTable, element);\n",
              "          const docLink = document.createElement('div');\n",
              "          docLink.innerHTML = docLinkHtml;\n",
              "          element.appendChild(docLink);\n",
              "        }\n",
              "      </script>\n",
              "    </div>\n",
              "  </div>\n",
              "  "
            ]
          },
          "metadata": {},
          "execution_count": 3
        }
      ]
    },
    {
      "cell_type": "markdown",
      "source": [
        "Of course in reality, we don't get to observe both $Y_i(0)$ and $Y_i(1)$. We instead have a treatment $T_i$ assigned to each unit which lets us observe an outcome $Y_i$. Let's imagine what that would look like \n"
      ],
      "metadata": {
        "id": "jwmKYcj_wM27"
      }
    },
    {
      "cell_type": "code",
      "source": [
        "# Random assignment of treatment\n",
        "\n",
        "# Randomized treatment (.5 probability of treatment) with function rg.binomial\n",
        "dataset = dataset.assign(T = rg.binomial(1, 0.5, size=(N, 1))) # Not *exactly* half, but independent\n",
        "\n",
        "# Treatment is a \"light switch\" - affects what we observe.\n",
        "# add column Y_obs to the dataset\n",
        "dataset = dataset.assign(Y_obs = dataset.Y_1 * dataset['T'] + dataset.Y_0 * (1 - dataset['T']))\n",
        "\n",
        "# Let's see the data now\n",
        "dataset.head()\n"
      ],
      "metadata": {
        "colab": {
          "base_uri": "https://localhost:8080/",
          "height": 206
        },
        "id": "OMoVUW3awH77",
        "outputId": "6755187d-8248-4fc0-ab12-883684b43611"
      },
      "execution_count": null,
      "outputs": [
        {
          "output_type": "execute_result",
          "data": {
            "text/plain": [
              "        Y_0       Y_1  T     Y_obs\n",
              "0 -3.224510 -1.224510  1 -1.224510\n",
              "1 -3.817916 -1.817916  1 -1.817916\n",
              "2  0.383751  2.383751  0  0.383751\n",
              "3  2.430449  4.430449  0  2.430449\n",
              "4  1.596727  3.596727  0  1.596727"
            ],
            "text/html": [
              "\n",
              "  <div id=\"df-64bb1e15-5116-4c29-a366-82e91e04f0a4\">\n",
              "    <div class=\"colab-df-container\">\n",
              "      <div>\n",
              "<style scoped>\n",
              "    .dataframe tbody tr th:only-of-type {\n",
              "        vertical-align: middle;\n",
              "    }\n",
              "\n",
              "    .dataframe tbody tr th {\n",
              "        vertical-align: top;\n",
              "    }\n",
              "\n",
              "    .dataframe thead th {\n",
              "        text-align: right;\n",
              "    }\n",
              "</style>\n",
              "<table border=\"1\" class=\"dataframe\">\n",
              "  <thead>\n",
              "    <tr style=\"text-align: right;\">\n",
              "      <th></th>\n",
              "      <th>Y_0</th>\n",
              "      <th>Y_1</th>\n",
              "      <th>T</th>\n",
              "      <th>Y_obs</th>\n",
              "    </tr>\n",
              "  </thead>\n",
              "  <tbody>\n",
              "    <tr>\n",
              "      <th>0</th>\n",
              "      <td>-3.224510</td>\n",
              "      <td>-1.224510</td>\n",
              "      <td>1</td>\n",
              "      <td>-1.224510</td>\n",
              "    </tr>\n",
              "    <tr>\n",
              "      <th>1</th>\n",
              "      <td>-3.817916</td>\n",
              "      <td>-1.817916</td>\n",
              "      <td>1</td>\n",
              "      <td>-1.817916</td>\n",
              "    </tr>\n",
              "    <tr>\n",
              "      <th>2</th>\n",
              "      <td>0.383751</td>\n",
              "      <td>2.383751</td>\n",
              "      <td>0</td>\n",
              "      <td>0.383751</td>\n",
              "    </tr>\n",
              "    <tr>\n",
              "      <th>3</th>\n",
              "      <td>2.430449</td>\n",
              "      <td>4.430449</td>\n",
              "      <td>0</td>\n",
              "      <td>2.430449</td>\n",
              "    </tr>\n",
              "    <tr>\n",
              "      <th>4</th>\n",
              "      <td>1.596727</td>\n",
              "      <td>3.596727</td>\n",
              "      <td>0</td>\n",
              "      <td>1.596727</td>\n",
              "    </tr>\n",
              "  </tbody>\n",
              "</table>\n",
              "</div>\n",
              "      <button class=\"colab-df-convert\" onclick=\"convertToInteractive('df-64bb1e15-5116-4c29-a366-82e91e04f0a4')\"\n",
              "              title=\"Convert this dataframe to an interactive table.\"\n",
              "              style=\"display:none;\">\n",
              "        \n",
              "  <svg xmlns=\"http://www.w3.org/2000/svg\" height=\"24px\"viewBox=\"0 0 24 24\"\n",
              "       width=\"24px\">\n",
              "    <path d=\"M0 0h24v24H0V0z\" fill=\"none\"/>\n",
              "    <path d=\"M18.56 5.44l.94 2.06.94-2.06 2.06-.94-2.06-.94-.94-2.06-.94 2.06-2.06.94zm-11 1L8.5 8.5l.94-2.06 2.06-.94-2.06-.94L8.5 2.5l-.94 2.06-2.06.94zm10 10l.94 2.06.94-2.06 2.06-.94-2.06-.94-.94-2.06-.94 2.06-2.06.94z\"/><path d=\"M17.41 7.96l-1.37-1.37c-.4-.4-.92-.59-1.43-.59-.52 0-1.04.2-1.43.59L10.3 9.45l-7.72 7.72c-.78.78-.78 2.05 0 2.83L4 21.41c.39.39.9.59 1.41.59.51 0 1.02-.2 1.41-.59l7.78-7.78 2.81-2.81c.8-.78.8-2.07 0-2.86zM5.41 20L4 18.59l7.72-7.72 1.47 1.35L5.41 20z\"/>\n",
              "  </svg>\n",
              "      </button>\n",
              "      \n",
              "  <style>\n",
              "    .colab-df-container {\n",
              "      display:flex;\n",
              "      flex-wrap:wrap;\n",
              "      gap: 12px;\n",
              "    }\n",
              "\n",
              "    .colab-df-convert {\n",
              "      background-color: #E8F0FE;\n",
              "      border: none;\n",
              "      border-radius: 50%;\n",
              "      cursor: pointer;\n",
              "      display: none;\n",
              "      fill: #1967D2;\n",
              "      height: 32px;\n",
              "      padding: 0 0 0 0;\n",
              "      width: 32px;\n",
              "    }\n",
              "\n",
              "    .colab-df-convert:hover {\n",
              "      background-color: #E2EBFA;\n",
              "      box-shadow: 0px 1px 2px rgba(60, 64, 67, 0.3), 0px 1px 3px 1px rgba(60, 64, 67, 0.15);\n",
              "      fill: #174EA6;\n",
              "    }\n",
              "\n",
              "    [theme=dark] .colab-df-convert {\n",
              "      background-color: #3B4455;\n",
              "      fill: #D2E3FC;\n",
              "    }\n",
              "\n",
              "    [theme=dark] .colab-df-convert:hover {\n",
              "      background-color: #434B5C;\n",
              "      box-shadow: 0px 1px 3px 1px rgba(0, 0, 0, 0.15);\n",
              "      filter: drop-shadow(0px 1px 2px rgba(0, 0, 0, 0.3));\n",
              "      fill: #FFFFFF;\n",
              "    }\n",
              "  </style>\n",
              "\n",
              "      <script>\n",
              "        const buttonEl =\n",
              "          document.querySelector('#df-64bb1e15-5116-4c29-a366-82e91e04f0a4 button.colab-df-convert');\n",
              "        buttonEl.style.display =\n",
              "          google.colab.kernel.accessAllowed ? 'block' : 'none';\n",
              "\n",
              "        async function convertToInteractive(key) {\n",
              "          const element = document.querySelector('#df-64bb1e15-5116-4c29-a366-82e91e04f0a4');\n",
              "          const dataTable =\n",
              "            await google.colab.kernel.invokeFunction('convertToInteractive',\n",
              "                                                     [key], {});\n",
              "          if (!dataTable) return;\n",
              "\n",
              "          const docLinkHtml = 'Like what you see? Visit the ' +\n",
              "            '<a target=\"_blank\" href=https://colab.research.google.com/notebooks/data_table.ipynb>data table notebook</a>'\n",
              "            + ' to learn more about interactive tables.';\n",
              "          element.innerHTML = '';\n",
              "          dataTable['output_type'] = 'display_data';\n",
              "          await google.colab.output.renderOutput(dataTable, element);\n",
              "          const docLink = document.createElement('div');\n",
              "          docLink.innerHTML = docLinkHtml;\n",
              "          element.appendChild(docLink);\n",
              "        }\n",
              "      </script>\n",
              "    </div>\n",
              "  </div>\n",
              "  "
            ]
          },
          "metadata": {},
          "execution_count": 4
        }
      ]
    },
    {
      "cell_type": "markdown",
      "source": [
        "Let's compare the distribution of $Y(1)$ and of $Y|T=1$"
      ],
      "metadata": {
        "id": "VhOFrJORzByA"
      }
    },
    {
      "cell_type": "code",
      "source": [
        "# Under random assignment, the true distribution of Y1 and the distribution of Y|D=1\n",
        "# should be similar\n",
        "\n",
        "# You can use the function hist from matplotlib (tune the transparency parameter alpha for a nicer plot), or try with seaborn\n",
        "# Potential outcomes\n",
        "\n",
        "fig, ax = plt.subplots(figsize=(10,6))\n",
        "h1 = sns.distplot(dataset.Y_1, kde=True, bins='auto',\n",
        "         label=r\"Distribution of $Y(1)$\", ax=ax) \n",
        "\n",
        "# Observed data\n",
        "h2 = sns.distplot(dataset[dataset['T']==1].Y_obs, kde=True, bins='auto',\n",
        "         label=r\"Distribution of $Y|T=1$\", ax=ax)\n",
        "ll = ax.legend(bbox_to_anchor=(1,1))\n"
      ],
      "metadata": {
        "colab": {
          "base_uri": "https://localhost:8080/",
          "height": 513
        },
        "id": "eQYOKN5Sxw9O",
        "outputId": "7f5771cc-3f5c-4327-f0f6-9253ed5e7ab1"
      },
      "execution_count": null,
      "outputs": [
        {
          "output_type": "stream",
          "name": "stderr",
          "text": [
            "/usr/local/lib/python3.7/dist-packages/seaborn/distributions.py:2619: FutureWarning: `distplot` is a deprecated function and will be removed in a future version. Please adapt your code to use either `displot` (a figure-level function with similar flexibility) or `histplot` (an axes-level function for histograms).\n",
            "  warnings.warn(msg, FutureWarning)\n",
            "/usr/local/lib/python3.7/dist-packages/seaborn/distributions.py:2619: FutureWarning: `distplot` is a deprecated function and will be removed in a future version. Please adapt your code to use either `displot` (a figure-level function with similar flexibility) or `histplot` (an axes-level function for histograms).\n",
            "  warnings.warn(msg, FutureWarning)\n"
          ]
        },
        {
          "output_type": "display_data",
          "data": {
            "text/plain": [
              "<Figure size 720x432 with 1 Axes>"
            ],
            "image/png": "[encoded data removed]"
          },
          "metadata": {
            "needs_background": "light"
          }
        }
      ]
    },
    {
      "cell_type": "markdown",
      "source": [
        "And under repeated randomizations, the expected difference-in-means should equal the true effect. Our single observed estimate is a draw from this distribution.\n",
        "\n",
        "Create a loop with a large number of repetitions ($N_{\\mbox{iter}}\\geq 2000$) by generating new treatment assignments and their associated $Y_{\\mbox{obs}}$ to visualize the distribution of the ATE estimates.\n"
      ],
      "metadata": {
        "id": "_bYBNtgj146M"
      }
    },
    {
      "cell_type": "code",
      "source": [
        "simDataset = dataset.copy() # make a placeholder of dataset to use in the simulation\n",
        "nIter = 2000 # number of iterations to run\n",
        "est_effect = np.nan * np.ones(nIter) # placeholder\n",
        "\n",
        "for i in range(nIter):\n",
        "  # randomly assign treatment again\n",
        "  simDataset = simDataset.assign(T = rg.binomial(1, 0.5, size=(N, 1)))\n",
        "  # observed outcome\n",
        "  simDataset = simDataset.assign(Y_obs = simDataset.Y_1 * simDataset['T'] + simDataset.Y_0 * (1 - simDataset['T']))\n",
        "  \n",
        "  # difference-in-means\n",
        "  est_effect[i] = simDataset[simDataset['T'] == 1].Y_obs.mean() -\\\n",
        "                      simDataset[simDataset['T'] == 0].Y_obs.mean()\n",
        "  \n",
        "\n",
        "# What's the average of treatment effect estimates in repeated samples\n",
        "print(np.mean(est_effect))\n",
        "\n"
      ],
      "metadata": {
        "colab": {
          "base_uri": "https://localhost:8080/"
        },
        "id": "MpFtJ91KyoT3",
        "outputId": "8dbd5cfe-bed4-4beb-d350-7dfbcfe8750b"
      },
      "execution_count": null,
      "outputs": [
        {
          "output_type": "stream",
          "name": "stdout",
          "text": [
            "1.9881277337071546\n"
          ]
        }
      ]
    },
    {
      "cell_type": "code",
      "source": [
        "# What does that distribution look like?\n",
        "fig, ax = plt.subplots(figsize=(10,6))\n",
        "sns.distplot(est_effect, kde=True, bins='auto', ax=ax)\n",
        "plt.axvline(x=true_effect, color='red')"
      ],
      "metadata": {
        "colab": {
          "base_uri": "https://localhost:8080/",
          "height": 467
        },
        "id": "K6gXm9SO3cHP",
        "outputId": "3e996beb-eb06-4e1d-9e48-a45510f691ef"
      },
      "execution_count": null,
      "outputs": [
        {
          "output_type": "stream",
          "name": "stderr",
          "text": [
            "/usr/local/lib/python3.7/dist-packages/seaborn/distributions.py:2619: FutureWarning: `distplot` is a deprecated function and will be removed in a future version. Please adapt your code to use either `displot` (a figure-level function with similar flexibility) or `histplot` (an axes-level function for histograms).\n",
            "  warnings.warn(msg, FutureWarning)\n"
          ]
        },
        {
          "output_type": "execute_result",
          "data": {
            "text/plain": [
              "<matplotlib.lines.Line2D at 0x7fa34455dc50>"
            ]
          },
          "metadata": {},
          "execution_count": 7
        },
        {
          "output_type": "display_data",
          "data": {
            "text/plain": [
              "<Figure size 720x432 with 1 Axes>"
            ],
            "image/png": "[encoded data removed]"
          },
          "metadata": {
            "needs_background": "light"
          }
        }
      ]
    },
    {
      "cell_type": "markdown",
      "source": [
        "What happens if treatment is not randomly assigned -- suppose that units with high $Y(1)$ are more likely to get treated.\n"
      ],
      "metadata": {
        "id": "kto4PoNzaAOD"
      }
    },
    {
      "cell_type": "code",
      "source": [
        "newDataset = dataset.copy() # placeholder to not override dataset\n",
        "\n",
        "# Probability of treatment depends on $Y(1)$\n",
        "newDataset = newDataset.assign(T = [rg.binomial(1, p, 1) for p in sps.norm.cdf(newDataset.Y_1.values)])\n",
        "# norm.cdf is the normal CDF - high positive values = high probabilities\n",
        "\n",
        "# Under non-random assignment, the true distribution of Y1 and the distribution of Y|T=1\n",
        "# should be different\n",
        "# let's make a plot\n",
        "fig, ax = plt.subplots(figsize=(10,6))\n",
        "h1 = sns.distplot(newDataset.Y_1, kde=True, bins='auto',\n",
        "         label=r\"Distribution of $Y(1)$\", ax=ax) \n",
        "\n",
        "# Observed data\n",
        "h2 = sns.distplot(newDataset[newDataset['T']==1].Y_obs, kde=True, bins='auto',\n",
        "         label=r\"Distribution of $Y|T=1$\", ax=ax)\n",
        "ll = ax.legend(bbox_to_anchor=(1,1))"
      ],
      "metadata": {
        "colab": {
          "base_uri": "https://localhost:8080/",
          "height": 513
        },
        "id": "Ywo4dgXv2H3f",
        "outputId": "ff949fb5-ad0d-4b0c-8d64-de24d47de4df"
      },
      "execution_count": null,
      "outputs": [
        {
          "output_type": "stream",
          "name": "stderr",
          "text": [
            "/usr/local/lib/python3.7/dist-packages/seaborn/distributions.py:2619: FutureWarning: `distplot` is a deprecated function and will be removed in a future version. Please adapt your code to use either `displot` (a figure-level function with similar flexibility) or `histplot` (an axes-level function for histograms).\n",
            "  warnings.warn(msg, FutureWarning)\n",
            "/usr/local/lib/python3.7/dist-packages/seaborn/distributions.py:2619: FutureWarning: `distplot` is a deprecated function and will be removed in a future version. Please adapt your code to use either `displot` (a figure-level function with similar flexibility) or `histplot` (an axes-level function for histograms).\n",
            "  warnings.warn(msg, FutureWarning)\n"
          ]
        },
        {
          "output_type": "display_data",
          "data": {
            "text/plain": [
              "<Figure size 720x432 with 1 Axes>"
            ],
            "image/png": "[encoded data removed]"
          },
          "metadata": {
            "needs_background": "light"
          }
        }
      ]
    },
    {
      "cell_type": "markdown",
      "source": [
        "Let's now redo the same experience to visualize the distribution of our ATE estimates."
      ],
      "metadata": {
        "id": "sjub1z7cBsMx"
      }
    },
    {
      "cell_type": "code",
      "source": [
        "newSimDataset = newDataset.copy() # make a placeholder of dataset to use in the simulation\n",
        "nIter = 10000 # number of iterations to run\n",
        "est_effect_bias = np.nan * np.ones(nIter) # placeholder\n",
        "\n",
        "for i in range(nIter):\n",
        "  # randomly assign treatment again\n",
        "  newSimDataset = newSimDataset.assign(T = [rg.binomial(1, p, 1) for p in sps.norm.cdf(newSimDataset.Y_1.values)])\n",
        "  # observed outcome\n",
        "  newSimDataset = newSimDataset.assign(Y_obs = newSimDataset.Y_1 * newSimDataset['T'] + newSimDataset.Y_0 * (1 - newSimDataset['T']))\n",
        "  \n",
        "  # difference-in-means\n",
        "  est_effect_bias[i] = newSimDataset[newSimDataset['T'] == 1].Y_obs.mean() -\\\n",
        "                      newSimDataset[newSimDataset['T'] == 0].Y_obs.mean()\n",
        "  \n",
        "\n",
        "# What's the average of treatment effect estimates in repeated samples\n",
        "print(np.mean(est_effect_bias))\n",
        "\n"
      ],
      "metadata": {
        "colab": {
          "base_uri": "https://localhost:8080/"
        },
        "id": "KGgpakOxbJqF",
        "outputId": "f88f9f27-8a8a-47c6-d395-1fa0961453e3"
      },
      "execution_count": null,
      "outputs": [
        {
          "output_type": "stream",
          "name": "stdout",
          "text": [
            "6.696774759871498\n"
          ]
        }
      ]
    },
    {
      "cell_type": "code",
      "source": [
        "# What does that distribution look like?\n",
        "fig, ax = plt.subplots(figsize=(10,6))\n",
        "sns.distplot(est_effect_bias, kde=True, bins='auto', ax=ax)\n",
        "plt.axvline(x=true_effect, color='red')"
      ],
      "metadata": {
        "colab": {
          "base_uri": "https://localhost:8080/",
          "height": 474
        },
        "id": "lml2fS4vbgbX",
        "outputId": "dfb4a6a5-0c5e-4bc5-e85e-720c727c35a0"
      },
      "execution_count": null,
      "outputs": [
        {
          "output_type": "stream",
          "name": "stderr",
          "text": [
            "/usr/local/lib/python3.7/dist-packages/seaborn/distributions.py:2619: FutureWarning: `distplot` is a deprecated function and will be removed in a future version. Please adapt your code to use either `displot` (a figure-level function with similar flexibility) or `histplot` (an axes-level function for histograms).\n",
            "  warnings.warn(msg, FutureWarning)\n"
          ]
        },
        {
          "output_type": "execute_result",
          "data": {
            "text/plain": [
              "<matplotlib.lines.Line2D at 0x7fa32922c490>"
            ]
          },
          "metadata": {},
          "execution_count": 10
        },
        {
          "output_type": "display_data",
          "data": {
            "text/plain": [
              "<Figure size 720x432 with 1 Axes>"
            ],
            "image/png": "[encoded data removed]"
          },
          "metadata": {
            "needs_background": "light"
          }
        }
      ]
    },
    {
      "cell_type": "markdown",
      "source": [
        "What do you conclude?"
      ],
      "metadata": {
        "id": "BYMcu1ZIB8hO"
      }
    },
    {
      "cell_type": "markdown",
      "source": [
        "## Problem 2: Fisher exact p-values\n",
        "\n",
        "We are now going to compute the Fisher exact p-values for the ATE on simulated data.\n",
        "1) simulate data where the population distribution for $Y_i(0)$ is normal with mean zero and unit variance, $\\mathcal{N}(0, 1)$. The treatment effect is $\\tau$ for all units, so that $Y_i(1)=Y_i(0)+\\tau \\sim\\mathcal{N}(\\tau,1)$. In each replication, we draw a random sample of size $N = 2000$ with $N_c = 1000$ assigned to the control group and $N_t = 1000$ assigned to the treatment group. We calculate p-values for the sharp null hypothesis that $Y_i(1) = Y_i(0)$ for all units. \n",
        "\n",
        "Create a dataframe with the columns corresponding to the potential outcome, the treatment, and the observed outcome."
      ],
      "metadata": {
        "id": "f2ee-hXac3PN"
      }
    },
    {
      "cell_type": "code",
      "source": [
        "N_t = N_c = 100\n",
        "N = N_t + N_c\n",
        "\n",
        "tau = 0.5\n",
        "\n",
        "Y_0= rg.normal(scale=3, size=[N, 1])\n",
        "dataset = pd.DataFrame(data=Y_0, columns=['Y_0'])\n",
        "dataset = dataset.assign(Y_1 = dataset.Y_0 + tau)\n",
        "\n",
        "pre_T = np.zeros(N)\n",
        "treated = rg.choice(N, N_t, replace=False)\n",
        "pre_T[treated] = 1\n",
        "dataset = dataset.assign(T=pre_T)\n",
        "dataset = dataset.assign(Y_obs = dataset.Y_1 * dataset['T'] + dataset.Y_0 * (1 - dataset['T']))\n",
        "\n",
        "dataset.head()"
      ],
      "metadata": {
        "colab": {
          "base_uri": "https://localhost:8080/",
          "height": 206
        },
        "id": "6Co8UnCbbpjH",
        "outputId": "a8999f17-5321-4d0f-cefe-090fee0383e7"
      },
      "execution_count": null,
      "outputs": [
        {
          "output_type": "execute_result",
          "data": {
            "text/plain": [
              "        Y_0       Y_1    T     Y_obs\n",
              "0  0.069627  0.569627  0.0  0.069627\n",
              "1 -3.733656 -3.233656  1.0 -3.233656\n",
              "2  0.397768  0.897768  0.0  0.397768\n",
              "3 -2.300114 -1.800114  0.0 -2.300114\n",
              "4 -0.759814 -0.259814  1.0 -0.259814"
            ],
            "text/html": [
              "\n",
              "  <div id=\"df-ac18952c-b782-4c33-97b3-b3d26e8d89cc\">\n",
              "    <div class=\"colab-df-container\">\n",
              "      <div>\n",
              "<style scoped>\n",
              "    .dataframe tbody tr th:only-of-type {\n",
              "        vertical-align: middle;\n",
              "    }\n",
              "\n",
              "    .dataframe tbody tr th {\n",
              "        vertical-align: top;\n",
              "    }\n",
              "\n",
              "    .dataframe thead th {\n",
              "        text-align: right;\n",
              "    }\n",
              "</style>\n",
              "<table border=\"1\" class=\"dataframe\">\n",
              "  <thead>\n",
              "    <tr style=\"text-align: right;\">\n",
              "      <th></th>\n",
              "      <th>Y_0</th>\n",
              "      <th>Y_1</th>\n",
              "      <th>T</th>\n",
              "      <th>Y_obs</th>\n",
              "    </tr>\n",
              "  </thead>\n",
              "  <tbody>\n",
              "    <tr>\n",
              "      <th>0</th>\n",
              "      <td>0.069627</td>\n",
              "      <td>0.569627</td>\n",
              "      <td>0.0</td>\n",
              "      <td>0.069627</td>\n",
              "    </tr>\n",
              "    <tr>\n",
              "      <th>1</th>\n",
              "      <td>-3.733656</td>\n",
              "      <td>-3.233656</td>\n",
              "      <td>1.0</td>\n",
              "      <td>-3.233656</td>\n",
              "    </tr>\n",
              "    <tr>\n",
              "      <th>2</th>\n",
              "      <td>0.397768</td>\n",
              "      <td>0.897768</td>\n",
              "      <td>0.0</td>\n",
              "      <td>0.397768</td>\n",
              "    </tr>\n",
              "    <tr>\n",
              "      <th>3</th>\n",
              "      <td>-2.300114</td>\n",
              "      <td>-1.800114</td>\n",
              "      <td>0.0</td>\n",
              "      <td>-2.300114</td>\n",
              "    </tr>\n",
              "    <tr>\n",
              "      <th>4</th>\n",
              "      <td>-0.759814</td>\n",
              "      <td>-0.259814</td>\n",
              "      <td>1.0</td>\n",
              "      <td>-0.259814</td>\n",
              "    </tr>\n",
              "  </tbody>\n",
              "</table>\n",
              "</div>\n",
              "      <button class=\"colab-df-convert\" onclick=\"convertToInteractive('df-ac18952c-b782-4c33-97b3-b3d26e8d89cc')\"\n",
              "              title=\"Convert this dataframe to an interactive table.\"\n",
              "              style=\"display:none;\">\n",
              "        \n",
              "  <svg xmlns=\"http://www.w3.org/2000/svg\" height=\"24px\"viewBox=\"0 0 24 24\"\n",
              "       width=\"24px\">\n",
              "    <path d=\"M0 0h24v24H0V0z\" fill=\"none\"/>\n",
              "    <path d=\"M18.56 5.44l.94 2.06.94-2.06 2.06-.94-2.06-.94-.94-2.06-.94 2.06-2.06.94zm-11 1L8.5 8.5l.94-2.06 2.06-.94-2.06-.94L8.5 2.5l-.94 2.06-2.06.94zm10 10l.94 2.06.94-2.06 2.06-.94-2.06-.94-.94-2.06-.94 2.06-2.06.94z\"/><path d=\"M17.41 7.96l-1.37-1.37c-.4-.4-.92-.59-1.43-.59-.52 0-1.04.2-1.43.59L10.3 9.45l-7.72 7.72c-.78.78-.78 2.05 0 2.83L4 21.41c.39.39.9.59 1.41.59.51 0 1.02-.2 1.41-.59l7.78-7.78 2.81-2.81c.8-.78.8-2.07 0-2.86zM5.41 20L4 18.59l7.72-7.72 1.47 1.35L5.41 20z\"/>\n",
              "  </svg>\n",
              "      </button>\n",
              "      \n",
              "  <style>\n",
              "    .colab-df-container {\n",
              "      display:flex;\n",
              "      flex-wrap:wrap;\n",
              "      gap: 12px;\n",
              "    }\n",
              "\n",
              "    .colab-df-convert {\n",
              "      background-color: #E8F0FE;\n",
              "      border: none;\n",
              "      border-radius: 50%;\n",
              "      cursor: pointer;\n",
              "      display: none;\n",
              "      fill: #1967D2;\n",
              "      height: 32px;\n",
              "      padding: 0 0 0 0;\n",
              "      width: 32px;\n",
              "    }\n",
              "\n",
              "    .colab-df-convert:hover {\n",
              "      background-color: #E2EBFA;\n",
              "      box-shadow: 0px 1px 2px rgba(60, 64, 67, 0.3), 0px 1px 3px 1px rgba(60, 64, 67, 0.15);\n",
              "      fill: #174EA6;\n",
              "    }\n",
              "\n",
              "    [theme=dark] .colab-df-convert {\n",
              "      background-color: #3B4455;\n",
              "      fill: #D2E3FC;\n",
              "    }\n",
              "\n",
              "    [theme=dark] .colab-df-convert:hover {\n",
              "      background-color: #434B5C;\n",
              "      box-shadow: 0px 1px 3px 1px rgba(0, 0, 0, 0.15);\n",
              "      filter: drop-shadow(0px 1px 2px rgba(0, 0, 0, 0.3));\n",
              "      fill: #FFFFFF;\n",
              "    }\n",
              "  </style>\n",
              "\n",
              "      <script>\n",
              "        const buttonEl =\n",
              "          document.querySelector('#df-ac18952c-b782-4c33-97b3-b3d26e8d89cc button.colab-df-convert');\n",
              "        buttonEl.style.display =\n",
              "          google.colab.kernel.accessAllowed ? 'block' : 'none';\n",
              "\n",
              "        async function convertToInteractive(key) {\n",
              "          const element = document.querySelector('#df-ac18952c-b782-4c33-97b3-b3d26e8d89cc');\n",
              "          const dataTable =\n",
              "            await google.colab.kernel.invokeFunction('convertToInteractive',\n",
              "                                                     [key], {});\n",
              "          if (!dataTable) return;\n",
              "\n",
              "          const docLinkHtml = 'Like what you see? Visit the ' +\n",
              "            '<a target=\"_blank\" href=https://colab.research.google.com/notebooks/data_table.ipynb>data table notebook</a>'\n",
              "            + ' to learn more about interactive tables.';\n",
              "          element.innerHTML = '';\n",
              "          dataTable['output_type'] = 'display_data';\n",
              "          await google.colab.output.renderOutput(dataTable, element);\n",
              "          const docLink = document.createElement('div');\n",
              "          docLink.innerHTML = docLinkHtml;\n",
              "          element.appendChild(docLink);\n",
              "        }\n",
              "      </script>\n",
              "    </div>\n",
              "  </div>\n",
              "  "
            ]
          },
          "metadata": {},
          "execution_count": 11
        }
      ]
    },
    {
      "cell_type": "markdown",
      "source": [
        "2) Compute the observed test statistic, the absolute value of the difference in average outcomes by treatment status:\n",
        "\n",
        "$T^{\\mbox{dif}} = \\left| \\bar{Y}_t^{\\mbox{obs}} - \\bar{Y}_c^{\\mbox{obs}}\\right| = \\left| \\frac{\\sum_{i:T_i=1} Y_i^{\\mbox{obs}}}{N_t} - \\frac{\\sum_{i:T_i=0} Y_i^{\\mbox{obs}}}{N_c}\\right|$."
      ],
      "metadata": {
        "id": "eL3CUB0YyWu-"
      }
    },
    {
      "cell_type": "code",
      "source": [
        "T_dif = np.abs(dataset[dataset['T']==1].Y_obs.mean() - dataset[dataset['T']==0].Y_obs.mean())\n",
        "print(T_dif)"
      ],
      "metadata": {
        "colab": {
          "base_uri": "https://localhost:8080/"
        },
        "id": "Wu_zMYr-ycj-",
        "outputId": "bf4fd652-f440-4d12-8f6c-b9919e0ff78d"
      },
      "execution_count": null,
      "outputs": [
        {
          "output_type": "stream",
          "name": "stdout",
          "text": [
            "0.6235190337734072\n"
          ]
        }
      ]
    },
    {
      "cell_type": "markdown",
      "source": [
        "3) Execute a high number of permutations of the treatment assignment to compute the distribution of the $T^{\\mbox{dif}}$ statistic under the sharp null assumption of no difference between the two potential outcomes."
      ],
      "metadata": {
        "id": "rZYdfQpdziMb"
      }
    },
    {
      "cell_type": "code",
      "source": [
        "Niter= 2000\n",
        "null_diff = np.zeros(Niter)\n",
        "for i in range(Niter):\n",
        "  # permute the treatment variable with the function permutation from numpy.random\n",
        "  dataset = dataset.assign(T_permute=rg.permutation(dataset['T']))\n",
        "  null_diff[i] = np.abs(dataset[dataset['T_permute']==1].Y_obs.mean() - dataset[dataset['T_permute']==0].Y_obs.mean())"
      ],
      "metadata": {
        "id": "AgyZIhRFxIpx"
      },
      "execution_count": null,
      "outputs": []
    },
    {
      "cell_type": "markdown",
      "source": [
        "4) Represent the obtained ATE null distribution, as well as the true and observed ATEs"
      ],
      "metadata": {
        "id": "KWlATRxczhnm"
      }
    },
    {
      "cell_type": "code",
      "source": [
        "fig, ax = plt.subplots(figsize=(10,6))\n",
        "sns.distplot(null_diff, kde=True, bins='auto', ax=ax)\n",
        "plt.axvline(x=tau, color='red')\n",
        "plt.axvline(x=T_dif, color='blue')"
      ],
      "metadata": {
        "colab": {
          "base_uri": "https://localhost:8080/",
          "height": 467
        },
        "id": "KnonO8RWzZrS",
        "outputId": "b67813f3-aec1-43fa-84b5-10b85d0560c9"
      },
      "execution_count": null,
      "outputs": [
        {
          "output_type": "stream",
          "name": "stderr",
          "text": [
            "/usr/local/lib/python3.7/dist-packages/seaborn/distributions.py:2619: FutureWarning: `distplot` is a deprecated function and will be removed in a future version. Please adapt your code to use either `displot` (a figure-level function with similar flexibility) or `histplot` (an axes-level function for histograms).\n",
            "  warnings.warn(msg, FutureWarning)\n"
          ]
        },
        {
          "output_type": "execute_result",
          "data": {
            "text/plain": [
              "<matplotlib.lines.Line2D at 0x7fa328ffeb90>"
            ]
          },
          "metadata": {},
          "execution_count": 15
        },
        {
          "output_type": "display_data",
          "data": {
            "text/plain": [
              "<Figure size 720x432 with 1 Axes>"
            ],
            "image/png": "[encoded data removed]"
          },
          "metadata": {
            "needs_background": "light"
          }
        }
      ]
    },
    {
      "cell_type": "markdown",
      "source": [
        "5) Compute the associated p-value, following the formula\n",
        "\n",
        "$$\\mbox{p-val}_{2tailed} = \\frac{1}{N_{\\mbox{iter}}}\\sum_{sim=1}^{N_{\\mbox{iter}}} \\mathbb{1}(|t_{sim}| > |t_{obs}|).$$"
      ],
      "metadata": {
        "id": "S69-wTKM0Erm"
      }
    },
    {
      "cell_type": "code",
      "source": [
        "np.mean(np.abs(null_diff)>abs(T_dif))"
      ],
      "metadata": {
        "colab": {
          "base_uri": "https://localhost:8080/"
        },
        "id": "KK-bauGfz1Be",
        "outputId": "4127d0a4-90cb-4d38-fe64-0c5d0cd742d3"
      },
      "execution_count": null,
      "outputs": [
        {
          "output_type": "execute_result",
          "data": {
            "text/plain": [
              "0.138"
            ]
          },
          "metadata": {},
          "execution_count": 17
        }
      ]
    },
    {
      "cell_type": "markdown",
      "source": [
        "6) Compare with the asymptotical p-value obtained with a Z-test."
      ],
      "metadata": {
        "id": "SZ2nGChy0Zje"
      }
    },
    {
      "cell_type": "code",
      "source": [
        "ztest(dataset[dataset['T']==1].Y_obs, dataset[dataset['T']==0].Y_obs)"
      ],
      "metadata": {
        "colab": {
          "base_uri": "https://localhost:8080/"
        },
        "id": "eNjiiSv30YNw",
        "outputId": "86ceef0b-5f59-49c4-8e7c-77056a26064e"
      },
      "execution_count": null,
      "outputs": [
        {
          "output_type": "execute_result",
          "data": {
            "text/plain": [
              "(1.460531062946379, 0.1441441768422838)"
            ]
          },
          "metadata": {},
          "execution_count": 18
        }
      ]
    },
    {
      "cell_type": "markdown",
      "source": [],
      "metadata": {
        "id": "fO3mYqd22d0n"
      }
    },
    {
      "cell_type": "code",
      "source": [],
      "metadata": {
        "id": "8aR4E7Uw1WPe"
      },
      "execution_count": null,
      "outputs": []
    },
    {
      "cell_type": "markdown",
      "source": [
        "\n",
        "\n"
      ],
      "metadata": {
        "id": "QONY9mzA3VTf"
      }
    },
    {
      "cell_type": "code",
      "source": [],
      "metadata": {
        "id": "1TUpmIma3fYK"
      },
      "execution_count": null,
      "outputs": []
    }
  ]
}