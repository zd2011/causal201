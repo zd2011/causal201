{
  "nbformat": 4,
  "nbformat_minor": 0,
  "metadata": {
    "colab": {
      "provenance": [],
      "toc_visible": true,
      "include_colab_link": true
    },
    "kernelspec": {
      "name": "python3",
      "display_name": "Python 3"
    },
    "language_info": {
      "name": "python"
    }
  },
  "cells": [
    {
      "cell_type": "markdown",
      "metadata": {
        "id": "view-in-github",
        "colab_type": "text"
      },
      "source": [
        "<a href=\"https://colab.research.google.com/github/zd2011/causal201/blob/main/lab1.ipynb\" target=\"_parent\"><img src=\"https://colab.research.google.com/assets/colab-badge.svg\" alt=\"Open In Colab\"/></a>"
      ]
    },
    {
      "cell_type": "markdown",
      "source": [
        "# DS UA 9201 - Recitation 1\n",
        "author: Judith Abécassis (judith.abecassis@nyu.edu)\n",
        "With many thanks to [Chloé-Agathe Azencott](http://cazencott.info/) (Mines ParisTech), [Marco Morucci](https://marcomorucci.com/bio/)(NYU), [Alexandre Gramfort](https://alexandre.gramfort.net/), the [scikit learn MOOC](https://inria.github.io/scikit-learn-mooc/index.html#), and the [pandas tutorials]() for inspiration\n",
        "\n",
        "\n"
      ],
      "metadata": {
        "id": "VNYFNfU6h3fv"
      }
    },
    {
      "cell_type": "markdown",
      "source": [
        "## Intro to Jupyter notebooks\n",
        "\n",
        "This section is designed to introduce you to the Python programming language and the structure of Jupyter notebooks, which combine snippets of Python code that can be dynamically executed while generating a pretty-looking HTML or PDF document. \n",
        "\n",
        "Markdown is a very simple syntax for describing the structure of a document. Text that is simply written directly into the document will be treated as paragraphs. Adding a space between two lines starts a new paragraph You can make text *italicized*, **bold** or look `like code` and even include [links](https://www.markdownguide.org/cheat-sheet/).\n",
        "\n",
        "### This is a sub-heading\n",
        "\n",
        "#### This is a sub-sub-heading\n",
        "\n",
        "Lists can be unordered\n",
        "\n",
        "* this\n",
        "* is \n",
        "  + an unordered list\n",
        "  \n",
        "Or ordered\n",
        "\n",
        "1. Starting with numbers\n",
        "2. Will format as an\n",
        "3. Ordered list\n",
        "\n",
        "Most importantly, if you want to include math notation, you can do so in-line with a single dollar sign $\\sum_{i=1}^N X_i$ or displayed as a separate equation using two dollar signs.\n",
        "\n",
        "$$\n",
        "\\mathbb{E} \\left[ \\frac{1}{N} \\sum_{i=1}^N X_i \\right] = \\mu\n",
        "$$\n",
        "\n",
        "Math environments use the LaTeX notation for special characters (greek letters, superscripts, sums, etc...). There are a *lot* of possible commands and features out there - you'll remember the ones you use often and can look up the rarer ones. See [here](https://oeis.org/wiki/List_of_LaTeX_mathematical_symbols) for a list of mathematical symbols and [here](https://en.wikibooks.org/wiki/LaTeX/Mathematics) for a general overview of math operations in LaTeX. Or also this [cheat sheet](http://users.dickinson.edu/~richesod/latex/latexcheatsheet.pdf).\n",
        "\n",
        "\n",
        "Of couse the most important in Jupyter notebooks in the code. You can creat code cells, and then have several running options (execute all the codes, or just a few cells). A quicknote: Jupyter notebooks are not limited to the Python programming language, Jupyter actually stands for Julia, Python and R. R is also widely used by the causal inference and statistics community.\n",
        "\n",
        "Here are some Jupyter tips\n",
        "- You run a cell by clicking it and hitting Shift+Enter (or the play button in the toolbar).\n",
        "- If you want to create a new empty cell below the one you're running, hit Alt+Enter.\n",
        "- A Python cell behaves like an interactive python shell! This means that\n",
        "* hitting Tab will autocomplete the keyword you have started typing\n",
        "* typing a question mark after a function name will load the interactive help for this function.\n",
        "- Jupyter has special Python commands (shortcuts, if you wish) called magics. For instance, `%bash` will allow you to run bash code, `%paste` will allow you to paste a block of code while retaining its formating, and `%matplotlib inline` will import the visualization library matplotlib, and display its plots inline, that is to say, below the cell. Here's a [full list](http://ipython.readthedocs.io/en/stable/interactive/magics.html)\n",
        "- Learn more about the interactive python shell [here]( http://ipython.readthedocs.io/en/stable/interactive/tutorial.html)\n",
        "\n",
        "Find more info on Jupyter on their [website](https://jupyter.org/)"
      ],
      "metadata": {
        "id": "_dlei8oVFg4N"
      }
    },
    {
      "cell_type": "code",
      "source": [],
      "metadata": {
        "id": "taKRZxO1KFFT"
      },
      "execution_count": null,
      "outputs": []
    },
    {
      "cell_type": "markdown",
      "source": [
        "## A few practical points"
      ],
      "metadata": {
        "id": "i33P4kzeGkeg"
      }
    },
    {
      "cell_type": "markdown",
      "source": [
        "### Installing Python\n",
        "The easiest way to install and manage your Python installation is to use the conda [miniforge](https://github.com/conda-forge/miniforge) package manager, and virtual environments.\n",
        "\n",
        "You will need to download and install [Python](https://www.python.org/downloads/) (we will use the version `3.7.13`) and the most relevant packages (`scipy`, `numpy`, `matplotlib`, `scikit-learn`, `JupyterLab`, `Pandas`, `Seaborn`)"
      ],
      "metadata": {
        "id": "qw_L1BUoGoVB"
      }
    },
    {
      "cell_type": "markdown",
      "source": [
        "### Running Python code"
      ],
      "metadata": {
        "id": "kKI71eOoKHKd"
      }
    },
    {
      "cell_type": "markdown",
      "source": [
        "\n",
        "Python code can be run either from an interactive python shell, such as the one you get when typing\n",
        "```\n",
        "$ python\n",
        "```\n",
        "in a terminal, or\n",
        "```\n",
        "$ ipython\n",
        "```\n",
        "which is a much more advanced interactive python shell, with nice functionalities (autocompletion, inline help, etc.)\n",
        "\n",
        "You can also run Python code from within a Jupyter notebook, as below"
      ],
      "metadata": {
        "id": "gG3Gms8Wn5AV"
      }
    },
    {
      "cell_type": "code",
      "source": [
        "print(\"Welcome to the Causal Inference course Fall 2022!\")"
      ],
      "metadata": {
        "id": "AYcRYVPlGIJS",
        "colab": {
          "base_uri": "https://localhost:8080/"
        },
        "outputId": "5a8c88a7-4da4-4ae6-c8e7-0be1a5a9cda8"
      },
      "execution_count": null,
      "outputs": [
        {
          "output_type": "stream",
          "name": "stdout",
          "text": [
            "Welcome to the Causal Inference course Fall 2022!\n"
          ]
        }
      ]
    },
    {
      "cell_type": "markdown",
      "source": [
        "You can also save Python code to a Python file, ending in \".py\", and run all lines in this file (save those that start with '#' and are comments) by running\n",
        "\n",
        "```\n",
        "$ python my_script.py\n",
        "```\n",
        "in the terminal.\n",
        "\n",
        "In a Jupyter notebook, you can preface any command with \"!\" to run it from the terminal.\n",
        "\n",
        "Therefore to run a Python code file:\n",
        "```\n",
        "! python my_script.py\n",
        "```\n",
        "or any other bash command\n",
        "```\n",
        "!pwd\n",
        "```"
      ],
      "metadata": {
        "id": "HPPxuq_IMNR8"
      }
    },
    {
      "cell_type": "markdown",
      "source": [
        "## Intro to programming with Python\n",
        "We have tried to make this notebook quite thorough to point to important Python particularities. If you are comfortable with programming with Python, you can go through quickly, and jump to the \"problem\" sections.\n",
        "\n",
        "Of course this is far from exhaustive, so you should take the habit to refer to the official documentation, or specific tutorials for the point you are interested in. We have outlined a few ressources we particularly like and use at the end."
      ],
      "metadata": {
        "id": "-TOT3bSxobR7"
      }
    },
    {
      "cell_type": "markdown",
      "source": [
        "### Basic expressions, variables, types\n",
        "Python can be used as a calculator"
      ],
      "metadata": {
        "id": "hgWynjrDOOiL"
      }
    },
    {
      "cell_type": "code",
      "source": [
        "# Addition\n",
        "2 + 2"
      ],
      "metadata": {
        "id": "o4qDHJL4h3PH",
        "colab": {
          "base_uri": "https://localhost:8080/"
        },
        "outputId": "6f7b2ee4-1686-4589-eec6-0b37f592cb9a"
      },
      "execution_count": null,
      "outputs": [
        {
          "output_type": "execute_result",
          "data": {
            "text/plain": [
              "4"
            ]
          },
          "metadata": {},
          "execution_count": 2
        }
      ]
    },
    {
      "cell_type": "code",
      "execution_count": null,
      "metadata": {
        "id": "OVLHo__HghaJ",
        "colab": {
          "base_uri": "https://localhost:8080/"
        },
        "outputId": "0ae6d3b7-4389-425a-b385-45a3feaac251"
      },
      "outputs": [
        {
          "output_type": "execute_result",
          "data": {
            "text/plain": [
              "5"
            ]
          },
          "metadata": {},
          "execution_count": 3
        }
      ],
      "source": [
        "# Substraction\n",
        "8 - 3"
      ]
    },
    {
      "cell_type": "code",
      "source": [
        "# Multiplication\n",
        "10 * 4"
      ],
      "metadata": {
        "id": "Unr8_DW5htfy",
        "colab": {
          "base_uri": "https://localhost:8080/"
        },
        "outputId": "adecaf95-ed2e-4a35-e075-6879334fa740"
      },
      "execution_count": null,
      "outputs": [
        {
          "output_type": "execute_result",
          "data": {
            "text/plain": [
              "40"
            ]
          },
          "metadata": {},
          "execution_count": 4
        }
      ]
    },
    {
      "cell_type": "code",
      "source": [
        "# Division\n",
        "8 / 3"
      ],
      "metadata": {
        "id": "Xr-yFY7_Om4o",
        "colab": {
          "base_uri": "https://localhost:8080/"
        },
        "outputId": "77400eb4-c62f-4f24-8d83-6eb023a038a9"
      },
      "execution_count": null,
      "outputs": [
        {
          "output_type": "execute_result",
          "data": {
            "text/plain": [
              "2.6666666666666665"
            ]
          },
          "metadata": {},
          "execution_count": 5
        }
      ]
    },
    {
      "cell_type": "code",
      "source": [
        "# Integer division\n",
        "8 // 3"
      ],
      "metadata": {
        "id": "H4QLUeOROqfe",
        "colab": {
          "base_uri": "https://localhost:8080/"
        },
        "outputId": "bbd9eae3-ba6e-4908-d419-9bf3efab9fb1"
      },
      "execution_count": null,
      "outputs": [
        {
          "output_type": "execute_result",
          "data": {
            "text/plain": [
              "2"
            ]
          },
          "metadata": {},
          "execution_count": 6
        }
      ]
    },
    {
      "cell_type": "code",
      "source": [
        "# Modulo\n",
        "8 % 3"
      ],
      "metadata": {
        "id": "opT0gTceOui2",
        "colab": {
          "base_uri": "https://localhost:8080/"
        },
        "outputId": "d9d3bb24-cebf-4593-f73b-24e01e0bbdd2"
      },
      "execution_count": null,
      "outputs": [
        {
          "output_type": "execute_result",
          "data": {
            "text/plain": [
              "2"
            ]
          },
          "metadata": {},
          "execution_count": 7
        }
      ]
    },
    {
      "cell_type": "code",
      "source": [
        "# Raising numbers to a power\n",
        "2 ** 3"
      ],
      "metadata": {
        "id": "GiNmGo3jP9dk",
        "colab": {
          "base_uri": "https://localhost:8080/"
        },
        "outputId": "159dc51e-3a52-4621-d4fe-6c79f593c32e"
      },
      "execution_count": null,
      "outputs": [
        {
          "output_type": "execute_result",
          "data": {
            "text/plain": [
              "8"
            ]
          },
          "metadata": {},
          "execution_count": 8
        }
      ]
    },
    {
      "cell_type": "markdown",
      "source": [
        "Whenever an expression (a simple one like `2+2` or a more complex one like a function call) returns some output, if it’s not assigned to variable in the environment, it is typically output into the console. You can store the output of any expression using the `=` assignment operator. In Python, variables have types"
      ],
      "metadata": {
        "id": "-nwgkRExPOde"
      }
    },
    {
      "cell_type": "code",
      "source": [
        "a = 2\n",
        "print(a)\n",
        "print(type(a))"
      ],
      "metadata": {
        "id": "1WJxz9grO6ac",
        "colab": {
          "base_uri": "https://localhost:8080/"
        },
        "outputId": "4d0e0a22-9f52-4378-fe49-76bea062df46"
      },
      "execution_count": null,
      "outputs": [
        {
          "output_type": "stream",
          "name": "stdout",
          "text": [
            "2\n",
            "<class 'int'>\n"
          ]
        }
      ]
    },
    {
      "cell_type": "code",
      "source": [
        "b = 2.1\n",
        "print(b)\n",
        "print(type(b))"
      ],
      "metadata": {
        "id": "C35yHaCuPB4M",
        "colab": {
          "base_uri": "https://localhost:8080/"
        },
        "outputId": "3391cb1a-c4df-4b91-8e28-030bfac47e8d"
      },
      "execution_count": null,
      "outputs": [
        {
          "output_type": "stream",
          "name": "stdout",
          "text": [
            "2.1\n",
            "<class 'float'>\n"
          ]
        }
      ]
    },
    {
      "cell_type": "code",
      "source": [
        "c = a < b\n",
        "print(c)\n",
        "print(type(c))"
      ],
      "metadata": {
        "id": "ivi_0q1LPjpK",
        "colab": {
          "base_uri": "https://localhost:8080/"
        },
        "outputId": "0361a868-7e17-43b8-ede6-a86a7667cc3b"
      },
      "execution_count": null,
      "outputs": [
        {
          "output_type": "stream",
          "name": "stdout",
          "text": [
            "True\n",
            "<class 'bool'>\n"
          ]
        }
      ]
    },
    {
      "cell_type": "code",
      "source": [
        "d = 'hello world'\n",
        "print(d)\n",
        "print(type(d))"
      ],
      "metadata": {
        "id": "Y6n_bcWDPqsi",
        "colab": {
          "base_uri": "https://localhost:8080/"
        },
        "outputId": "d32e3276-23c1-4b31-d419-e8d60d7fc7d6"
      },
      "execution_count": null,
      "outputs": [
        {
          "output_type": "stream",
          "name": "stdout",
          "text": [
            "hello world\n",
            "<class 'str'>\n"
          ]
        }
      ]
    },
    {
      "cell_type": "code",
      "source": [
        "# Modify a variable in place\n",
        "a = 1\n",
        "a += 2\n",
        "print(a)"
      ],
      "metadata": {
        "id": "zEA7DScfPuaa",
        "colab": {
          "base_uri": "https://localhost:8080/"
        },
        "outputId": "65f06eaa-f244-4ef3-8f7e-4b6df4d5350e"
      },
      "execution_count": null,
      "outputs": [
        {
          "output_type": "stream",
          "name": "stdout",
          "text": [
            "3\n"
          ]
        }
      ]
    },
    {
      "cell_type": "code",
      "source": [
        "# Multiplying numbers\n",
        "e = a*b\n",
        "print(e)\n",
        "print(type(e))"
      ],
      "metadata": {
        "id": "GcCtyJoVP2DJ",
        "colab": {
          "base_uri": "https://localhost:8080/"
        },
        "outputId": "2635d955-e087-4c40-869c-489e28bb0004"
      },
      "execution_count": null,
      "outputs": [
        {
          "output_type": "stream",
          "name": "stdout",
          "text": [
            "6.300000000000001\n",
            "<class 'float'>\n"
          ]
        }
      ]
    },
    {
      "cell_type": "code",
      "source": [
        "1 # change the type\n",
        "print(type(a))\n",
        "print(type(float(a)))"
      ],
      "metadata": {
        "id": "VS7Kk78KP5nO",
        "colab": {
          "base_uri": "https://localhost:8080/"
        },
        "outputId": "f4d13d19-e545-4dd8-a2be-007c771a1b27"
      },
      "execution_count": null,
      "outputs": [
        {
          "output_type": "stream",
          "name": "stdout",
          "text": [
            "<class 'int'>\n",
            "<class 'float'>\n"
          ]
        }
      ]
    },
    {
      "cell_type": "markdown",
      "source": [
        "#### Booleans"
      ],
      "metadata": {
        "id": "tTjUceSJh8Gc"
      }
    },
    {
      "cell_type": "code",
      "source": [
        "# Boolean operators\n",
        "print(True and False)\n",
        "print(True or False)\n",
        "print(not False)"
      ],
      "metadata": {
        "id": "Jf4BBdMKhj2c",
        "colab": {
          "base_uri": "https://localhost:8080/"
        },
        "outputId": "a4a60cea-9607-4ecc-dc5c-da88c403cd1d"
      },
      "execution_count": null,
      "outputs": [
        {
          "output_type": "stream",
          "name": "stdout",
          "text": [
            "False\n",
            "True\n",
            "True\n"
          ]
        }
      ]
    },
    {
      "cell_type": "code",
      "source": [
        "# Strictly less than\n",
        "print(2 < 1)"
      ],
      "metadata": {
        "id": "55iKeu5mhj-L",
        "colab": {
          "base_uri": "https://localhost:8080/"
        },
        "outputId": "b8c02ce6-5ee2-4992-9841-424c74bed541"
      },
      "execution_count": null,
      "outputs": [
        {
          "output_type": "stream",
          "name": "stdout",
          "text": [
            "False\n"
          ]
        }
      ]
    },
    {
      "cell_type": "code",
      "source": [
        "# Strictly greater than\n",
        "print(2 > 1)\n",
        "print(2 > 2)"
      ],
      "metadata": {
        "id": "64XmBxkhhkCx",
        "colab": {
          "base_uri": "https://localhost:8080/"
        },
        "outputId": "8b2ae807-6b7c-4ab9-fbaa-fa7de81ae3b2"
      },
      "execution_count": null,
      "outputs": [
        {
          "output_type": "stream",
          "name": "stdout",
          "text": [
            "True\n",
            "False\n"
          ]
        }
      ]
    },
    {
      "cell_type": "code",
      "source": [
        "# Greater than or equal to\n",
        "print(2 >= 2)"
      ],
      "metadata": {
        "id": "olQq4VRIhkGk",
        "colab": {
          "base_uri": "https://localhost:8080/"
        },
        "outputId": "5f65e218-4cca-4784-a467-40d0975c4ac5"
      },
      "execution_count": null,
      "outputs": [
        {
          "output_type": "stream",
          "name": "stdout",
          "text": [
            "True\n"
          ]
        }
      ]
    },
    {
      "cell_type": "code",
      "source": [
        "# Not equal to\n",
        "print(2 != 3)"
      ],
      "metadata": {
        "id": "eXyafiYKhkKf",
        "colab": {
          "base_uri": "https://localhost:8080/"
        },
        "outputId": "8be91cd6-a0ac-4df1-a11d-6e2c0726ef3e"
      },
      "execution_count": null,
      "outputs": [
        {
          "output_type": "stream",
          "name": "stdout",
          "text": [
            "True\n"
          ]
        }
      ]
    },
    {
      "cell_type": "code",
      "source": [
        "# Equal to\n",
        "print(2 == 3)"
      ],
      "metadata": {
        "id": "MVR8DrgTh17D",
        "colab": {
          "base_uri": "https://localhost:8080/"
        },
        "outputId": "9d56ae11-6aff-4c2d-bfd7-a284c683703e"
      },
      "execution_count": null,
      "outputs": [
        {
          "output_type": "stream",
          "name": "stdout",
          "text": [
            "False\n"
          ]
        }
      ]
    },
    {
      "cell_type": "markdown",
      "source": [
        "#### Strings"
      ],
      "metadata": {
        "id": "EASou_09iAAs"
      }
    },
    {
      "cell_type": "code",
      "source": [
        "s = 'Hello causal inference!'\n",
        "print(s)\n",
        "s = \"Hello causal inference!\"\n",
        "print(s)\n",
        "s = 'Hello \"causal inference\"!'\n",
        "print(s)\n",
        "print(type(s))"
      ],
      "metadata": {
        "id": "OtKCIxGQiCBE",
        "colab": {
          "base_uri": "https://localhost:8080/"
        },
        "outputId": "3e6094ae-c9a2-4e1c-cec1-3d7f096962c8"
      },
      "execution_count": null,
      "outputs": [
        {
          "output_type": "stream",
          "name": "stdout",
          "text": [
            "Hello causal inference!\n",
            "Hello causal inference!\n",
            "Hello \"causal inference\"!\n",
            "<class 'str'>\n"
          ]
        }
      ]
    },
    {
      "cell_type": "markdown",
      "source": [
        "You can extract a substring from a string using the following syntax:\n",
        "````\n",
        "s[start:stop]\n",
        "````\n",
        "- `start` is the first index, included\n",
        "-`stop` is the last index, excluded\n",
        "- **indices start at 0 in Python**"
      ],
      "metadata": {
        "id": "yljZTkRyiSwa"
      }
    },
    {
      "cell_type": "code",
      "source": [
        "# First index\n",
        "print(s[0:1])\n",
        "# Equivalently\n",
        "print(s[0])"
      ],
      "metadata": {
        "id": "IlWpBHbgiCDf",
        "colab": {
          "base_uri": "https://localhost:8080/"
        },
        "outputId": "21ff2ca1-ce88-4ae1-d4e9-91bff1f082ce"
      },
      "execution_count": null,
      "outputs": [
        {
          "output_type": "stream",
          "name": "stdout",
          "text": [
            "H\n",
            "H\n"
          ]
        }
      ]
    },
    {
      "cell_type": "code",
      "source": [
        "# Last index\n",
        "print(s[24:25])\n",
        "# Equivalently\n",
        "print(s[24])\n",
        "# Or again\n",
        "print(s[-1])\n",
        "# Or again\n",
        "print(s[-1:25])"
      ],
      "metadata": {
        "id": "dac1dLWtiCGA",
        "colab": {
          "base_uri": "https://localhost:8080/"
        },
        "outputId": "1f67e36f-4d8f-4e40-9c50-bfcf73c9b31d"
      },
      "execution_count": null,
      "outputs": [
        {
          "output_type": "stream",
          "name": "stdout",
          "text": [
            "!\n",
            "!\n",
            "!\n",
            "!\n"
          ]
        }
      ]
    },
    {
      "cell_type": "code",
      "source": [
        "start, stop = 1, 5\n",
        "ss = s[start:stop]\n",
        "\n",
        "print((stop-start))\n",
        "print(len(ss))"
      ],
      "metadata": {
        "id": "XkOslVP0iCIw",
        "colab": {
          "base_uri": "https://localhost:8080/"
        },
        "outputId": "471b699d-8adc-4848-d8e0-4e5720de6af2"
      },
      "execution_count": null,
      "outputs": [
        {
          "output_type": "stream",
          "name": "stdout",
          "text": [
            "4\n",
            "4\n"
          ]
        }
      ]
    },
    {
      "cell_type": "code",
      "source": [
        "# If you don't use start, it will be implied that it is 0\n",
        "print(s[:7])\n",
        "\n",
        "# If you don't use stop, it will be implied that it is the end\n",
        "print(s[7:])"
      ],
      "metadata": {
        "id": "0PJzNLzTjR1K",
        "colab": {
          "base_uri": "https://localhost:8080/"
        },
        "outputId": "bc900f48-156b-4c4e-deeb-00cfff7485b2"
      },
      "execution_count": null,
      "outputs": [
        {
          "output_type": "stream",
          "name": "stdout",
          "text": [
            "Hello \"\n",
            "causal inference\"!\n"
          ]
        }
      ]
    },
    {
      "cell_type": "markdown",
      "source": [
        "A technique called **slicing** allows you to define a step with the following syntax:\n",
        "```\n",
        "s[start:stop:step]\n",
        "```"
      ],
      "metadata": {
        "id": "3qQ1tQyYku0i"
      }
    },
    {
      "cell_type": "code",
      "source": [
        "s[0::2]"
      ],
      "metadata": {
        "id": "Ub02N2ryjR70",
        "colab": {
          "base_uri": "https://localhost:8080/"
        },
        "outputId": "cfd5dded-a7a3-4597-cd3a-e29fa92d2d4e"
      },
      "execution_count": null,
      "outputs": [
        {
          "output_type": "execute_result",
          "data": {
            "text/plain": [
              "'Hlo\"aslifrne!'"
            ],
            "application/vnd.google.colaboratory.intrinsic+json": {
              "type": "string"
            }
          },
          "metadata": {},
          "execution_count": 27
        }
      ]
    },
    {
      "cell_type": "markdown",
      "source": [
        "#### Formatting strings"
      ],
      "metadata": {
        "id": "xnieIYm1k8if"
      }
    },
    {
      "cell_type": "code",
      "source": [
        "print(\"string1\", \"string2\") # add spaces between strings\n"
      ],
      "metadata": {
        "id": "pkE6qvE3jSAp",
        "colab": {
          "base_uri": "https://localhost:8080/"
        },
        "outputId": "d4c0dd1d-5edf-4daa-97c9-d40e8bea7366"
      },
      "execution_count": null,
      "outputs": [
        {
          "output_type": "stream",
          "name": "stdout",
          "text": [
            "string1 string2\n"
          ]
        }
      ]
    },
    {
      "cell_type": "code",
      "source": [
        "print(\"string1\" + \"string2\") # concatenation without spaces\n"
      ],
      "metadata": {
        "id": "aKoTHW0yk_I7",
        "colab": {
          "base_uri": "https://localhost:8080/"
        },
        "outputId": "410c7e9b-6480-4bb2-c98f-3af955d8f141"
      },
      "execution_count": null,
      "outputs": [
        {
          "output_type": "stream",
          "name": "stdout",
          "text": [
            "string1string2\n"
          ]
        }
      ]
    },
    {
      "cell_type": "code",
      "source": [
        "print(\"string1\" * 2)\n"
      ],
      "metadata": {
        "id": "lmMz4Hi0k_Ll",
        "colab": {
          "base_uri": "https://localhost:8080/"
        },
        "outputId": "59e0b952-e387-46ab-dd93-c734bb248bba"
      },
      "execution_count": null,
      "outputs": [
        {
          "output_type": "stream",
          "name": "stdout",
          "text": [
            "string1string1\n"
          ]
        }
      ]
    },
    {
      "cell_type": "code",
      "source": [
        "print(\"string1\", 1, False) # converts all variables to strings\n"
      ],
      "metadata": {
        "id": "yr2g_ZhAk_Oy",
        "colab": {
          "base_uri": "https://localhost:8080/"
        },
        "outputId": "afe9b7f9-78d0-48f8-b379-ffcbbccd5663"
      },
      "execution_count": null,
      "outputs": [
        {
          "output_type": "stream",
          "name": "stdout",
          "text": [
            "string1 1 False\n"
          ]
        }
      ]
    },
    {
      "cell_type": "code",
      "source": [
        "a = 1.00002\n",
        "print(\"value = \", a)\n",
        "print(\"value = \" + str(a))\n",
        "print(\"\")\n",
        "\n",
        "print(\"value = %s\" % a)     # %s = string\n",
        "print(\"value = %e\" % a)     # %e = engineering notation\n",
        "print(\"value = %.2e\" % a)   # engineering notation with 2 significant digits\n",
        "print(\"value = %.2f\" % a)   # float with 2 significant digits\n",
        "print(\"value = %.15f\" % a)  # float with 15 significant digits \n",
        "print(\"value = %3d\" % a)    # integer (3 digits)"
      ],
      "metadata": {
        "id": "aD_IITY9k_Q-",
        "colab": {
          "base_uri": "https://localhost:8080/"
        },
        "outputId": "07db8dde-c631-48e3-d694-2f14b1562cdb"
      },
      "execution_count": null,
      "outputs": [
        {
          "output_type": "stream",
          "name": "stdout",
          "text": [
            "value =  1.00002\n",
            "value = 1.00002\n",
            "\n",
            "value = 1.00002\n",
            "value = 1.000020e+00\n",
            "value = 1.00e+00\n",
            "value = 1.00\n",
            "value = 1.000020000000000\n",
            "value =   1\n"
          ]
        }
      ]
    },
    {
      "cell_type": "code",
      "source": [
        "print(\"value1 = %.2f and value2 = %d\" % (2.150001, 7))\n"
      ],
      "metadata": {
        "id": "BjYYblo6k_Ua",
        "colab": {
          "base_uri": "https://localhost:8080/"
        },
        "outputId": "059c7ae7-d75b-4509-fe29-ebfcd4f8e381"
      },
      "execution_count": null,
      "outputs": [
        {
          "output_type": "stream",
          "name": "stdout",
          "text": [
            "value1 = 2.15 and value2 = 7\n"
          ]
        }
      ]
    },
    {
      "cell_type": "code",
      "source": [
        "import math\n",
        "s = \"%s is approximately equal to %.2e\"\n",
        "\n",
        "print(s % (\"pi\", math.pi))\n",
        "print(s % (\"e\", math.exp(1.)))"
      ],
      "metadata": {
        "id": "mnrP5TVzltHw",
        "colab": {
          "base_uri": "https://localhost:8080/"
        },
        "outputId": "15c9ceaf-a0f5-460d-cc91-629848abbb0c"
      },
      "execution_count": null,
      "outputs": [
        {
          "output_type": "stream",
          "name": "stdout",
          "text": [
            "pi is approximately equal to 3.14e+00\n",
            "e is approximately equal to 2.72e+00\n"
          ]
        }
      ]
    },
    {
      "cell_type": "markdown",
      "source": [
        "### Lists\n",
        "Lists are very similar to strings, except that elements, instead of being characters, can be of any type.\n",
        "\n"
      ],
      "metadata": {
        "id": "YIS-x8tBmS-L"
      }
    },
    {
      "cell_type": "code",
      "source": [
        "my_list = [1, 2, 3, 4, 'five']\n",
        "print(my_list)\n",
        "print(type(my_list))"
      ],
      "metadata": {
        "id": "6VMm3i8cmegV",
        "colab": {
          "base_uri": "https://localhost:8080/"
        },
        "outputId": "9a88a2fb-30c8-421d-db30-565915ac35cc"
      },
      "execution_count": null,
      "outputs": [
        {
          "output_type": "stream",
          "name": "stdout",
          "text": [
            "[1, 2, 3, 4, 'five']\n",
            "<class 'list'>\n"
          ]
        }
      ]
    },
    {
      "cell_type": "markdown",
      "source": [
        "Slicing works exactly the same as with strings.\n",
        "\n"
      ],
      "metadata": {
        "id": "6UoUro93mjb2"
      }
    },
    {
      "cell_type": "code",
      "source": [
        "print(my_list[0], my_list[-1])\n",
        "print(my_list[-1:0:-1])"
      ],
      "metadata": {
        "id": "hyQjO-SFmiJO",
        "colab": {
          "base_uri": "https://localhost:8080/"
        },
        "outputId": "dd1517b3-54d8-475a-beda-e6f478f04ac0"
      },
      "execution_count": null,
      "outputs": [
        {
          "output_type": "stream",
          "name": "stdout",
          "text": [
            "1 five\n",
            "['five', 4, 3, 2]\n"
          ]
        }
      ]
    },
    {
      "cell_type": "code",
      "source": [
        "print(type(my_list[0]))\n",
        "print(type(my_list[-1]))"
      ],
      "metadata": {
        "id": "S8c8X3emmoi9",
        "colab": {
          "base_uri": "https://localhost:8080/"
        },
        "outputId": "29652e59-aad9-4543-9103-82648be2324a"
      },
      "execution_count": null,
      "outputs": [
        {
          "output_type": "stream",
          "name": "stdout",
          "text": [
            "<class 'int'>\n",
            "<class 'str'>\n"
          ]
        }
      ]
    },
    {
      "cell_type": "markdown",
      "source": [
        "A list can contain another list:\n",
        "\n"
      ],
      "metadata": {
        "id": "H0tGE7HqmuMx"
      }
    },
    {
      "cell_type": "code",
      "source": [
        "my_list = [[1, 2, 3], [4, 5, 6]]\n",
        "print(my_list)"
      ],
      "metadata": {
        "id": "1ugq2xYrms9Q",
        "colab": {
          "base_uri": "https://localhost:8080/"
        },
        "outputId": "4aded59e-1b0e-4a5b-a113-2f11ff27a138"
      },
      "execution_count": null,
      "outputs": [
        {
          "output_type": "stream",
          "name": "stdout",
          "text": [
            "[[1, 2, 3], [4, 5, 6]]\n"
          ]
        }
      ]
    },
    {
      "cell_type": "markdown",
      "source": [
        "`range` can be used to generate a list of integers:\n",
        "\n"
      ],
      "metadata": {
        "id": "7Eicsbgjm0Ww"
      }
    },
    {
      "cell_type": "code",
      "source": [
        "start = 10\n",
        "stop = 20\n",
        "step = 2\n",
        "print(list(range(start, stop, step)))"
      ],
      "metadata": {
        "id": "ezp7P_4pm4EF",
        "colab": {
          "base_uri": "https://localhost:8080/"
        },
        "outputId": "25d26ddb-d837-4c74-8b4c-eec33a195057"
      },
      "execution_count": null,
      "outputs": [
        {
          "output_type": "stream",
          "name": "stdout",
          "text": [
            "[10, 12, 14, 16, 18]\n"
          ]
        }
      ]
    },
    {
      "cell_type": "code",
      "source": [
        "# Iterate backwards\n",
        "print(list(range(20, 10, -2)))"
      ],
      "metadata": {
        "id": "nAP04a7hnDqJ",
        "colab": {
          "base_uri": "https://localhost:8080/"
        },
        "outputId": "f1c15927-82e0-495b-e8b1-714db34302f2"
      },
      "execution_count": null,
      "outputs": [
        {
          "output_type": "stream",
          "name": "stdout",
          "text": [
            "[20, 18, 16, 14, 12]\n"
          ]
        }
      ]
    },
    {
      "cell_type": "code",
      "source": [
        "# Implicit start (=0) and step (=1)\n",
        "print(list(range(7)))"
      ],
      "metadata": {
        "id": "B1po7C8HnKgD",
        "colab": {
          "base_uri": "https://localhost:8080/"
        },
        "outputId": "e42bbfd5-4be1-498a-8204-b95af56c8ea0"
      },
      "execution_count": null,
      "outputs": [
        {
          "output_type": "stream",
          "name": "stdout",
          "text": [
            "[0, 1, 2, 3, 4, 5, 6]\n"
          ]
        }
      ]
    },
    {
      "cell_type": "code",
      "source": [
        "# Sort a list in place\n",
        "my_list = list(range(20, 10, -2))\n",
        "my_list.sort()\n",
        "print(my_list)"
      ],
      "metadata": {
        "id": "S82k3wr2nQMv",
        "colab": {
          "base_uri": "https://localhost:8080/"
        },
        "outputId": "2b3cd126-b561-493c-911f-229e2aba4ca2"
      },
      "execution_count": null,
      "outputs": [
        {
          "output_type": "stream",
          "name": "stdout",
          "text": [
            "[12, 14, 16, 18, 20]\n"
          ]
        }
      ]
    },
    {
      "cell_type": "code",
      "source": [
        "# Create an empty list\n",
        "l = []"
      ],
      "metadata": {
        "id": "L4zeFzGVosSP"
      },
      "execution_count": null,
      "outputs": []
    },
    {
      "cell_type": "code",
      "source": [
        "# Add items with 'append'\n",
        "l.append(\"A\")\n",
        "print(l)"
      ],
      "metadata": {
        "id": "4emYmTHCosW-",
        "colab": {
          "base_uri": "https://localhost:8080/"
        },
        "outputId": "9c520ad2-31fc-44c3-ffd0-51797e711f17"
      },
      "execution_count": null,
      "outputs": [
        {
          "output_type": "stream",
          "name": "stdout",
          "text": [
            "['A']\n"
          ]
        }
      ]
    },
    {
      "cell_type": "code",
      "source": [
        "# Concatenate lists\n",
        "m = ['A', 'B', 'C']\n",
        "print(l+m)"
      ],
      "metadata": {
        "id": "PQvHlQGWosZ_",
        "colab": {
          "base_uri": "https://localhost:8080/"
        },
        "outputId": "3cb1da16-eff4-480d-f813-0b576febae9a"
      },
      "execution_count": null,
      "outputs": [
        {
          "output_type": "stream",
          "name": "stdout",
          "text": [
            "['A', 'A', 'B', 'C']\n"
          ]
        }
      ]
    },
    {
      "cell_type": "code",
      "source": [
        "print(l)\n",
        "l.extend(m)\n",
        "print(l)"
      ],
      "metadata": {
        "id": "mO8BZGOEoscm",
        "colab": {
          "base_uri": "https://localhost:8080/"
        },
        "outputId": "c2e3feb3-eff0-4c7c-be33-6b9309dd2995"
      },
      "execution_count": null,
      "outputs": [
        {
          "output_type": "stream",
          "name": "stdout",
          "text": [
            "['A']\n",
            "['A', 'A', 'B', 'C']\n"
          ]
        }
      ]
    },
    {
      "cell_type": "code",
      "source": [
        "print(l * 2)\n"
      ],
      "metadata": {
        "id": "g8sms7exosgp",
        "colab": {
          "base_uri": "https://localhost:8080/"
        },
        "outputId": "5c5aa865-f849-4325-d763-a3b34159f7c0"
      },
      "execution_count": null,
      "outputs": [
        {
          "output_type": "stream",
          "name": "stdout",
          "text": [
            "['A', 'A', 'B', 'C', 'A', 'A', 'B', 'C']\n"
          ]
        }
      ]
    },
    {
      "cell_type": "code",
      "source": [
        "# Modify an item\n",
        "l[0] = 'D'\n",
        "print(l)"
      ],
      "metadata": {
        "id": "bfxxaQCgo7ZR",
        "colab": {
          "base_uri": "https://localhost:8080/"
        },
        "outputId": "26b56e46-cca0-4d01-d0ed-a1aa2d6a8192"
      },
      "execution_count": null,
      "outputs": [
        {
          "output_type": "stream",
          "name": "stdout",
          "text": [
            "['D', 'A', 'B', 'C']\n"
          ]
        }
      ]
    },
    {
      "cell_type": "code",
      "source": [
        "# Modify a slice\n",
        "l[:2] = ['E', 'E', 'E']\n",
        "print(l)"
      ],
      "metadata": {
        "id": "gb2cf5D8o7gW",
        "colab": {
          "base_uri": "https://localhost:8080/"
        },
        "outputId": "3907ad26-0ac9-4dcd-d0a3-e06bdb975ebe"
      },
      "execution_count": null,
      "outputs": [
        {
          "output_type": "stream",
          "name": "stdout",
          "text": [
            "['E', 'E', 'E', 'B', 'C']\n"
          ]
        }
      ]
    },
    {
      "cell_type": "code",
      "source": [
        "# lists are mutable\n",
        "print('original l:', l)\n",
        "l_equal = l\n",
        "l_copy = l.copy()\n",
        "l[0] = 'X'\n",
        "print('l:', l)\n",
        "print('l_equal:', l_equal)\n",
        "print('l_copy:', l_copy)"
      ],
      "metadata": {
        "id": "QfU_SnBGo7jv",
        "colab": {
          "base_uri": "https://localhost:8080/"
        },
        "outputId": "380f3faa-a9a1-4b26-9cd2-308cffbd62a8"
      },
      "execution_count": null,
      "outputs": [
        {
          "output_type": "stream",
          "name": "stdout",
          "text": [
            "original l: ['E', 'E', 'E', 'B', 'C']\n",
            "l: ['X', 'E', 'E', 'B', 'C']\n",
            "l_equal: ['X', 'E', 'E', 'B', 'C']\n",
            "l_copy: ['E', 'E', 'E', 'B', 'C']\n"
          ]
        }
      ]
    },
    {
      "cell_type": "code",
      "source": [
        "l.copy()"
      ],
      "metadata": {
        "id": "h5W8rCDyo7vM",
        "colab": {
          "base_uri": "https://localhost:8080/"
        },
        "outputId": "adf59115-0dc2-455b-d990-79791e0f7add"
      },
      "execution_count": null,
      "outputs": [
        {
          "output_type": "execute_result",
          "data": {
            "text/plain": [
              "['X', 'E', 'E', 'B', 'C']"
            ]
          },
          "metadata": {},
          "execution_count": 51
        }
      ]
    },
    {
      "cell_type": "code",
      "source": [
        "# Insert an item to a specific position\n",
        "l.insert(0, \"F\")\n",
        "print(l)\n",
        "l.insert(4, 'G')\n",
        "print(l)"
      ],
      "metadata": {
        "id": "QPlnnqtyqGAo",
        "colab": {
          "base_uri": "https://localhost:8080/"
        },
        "outputId": "beaf1b48-21ea-4951-8b87-fa615f1145fe"
      },
      "execution_count": null,
      "outputs": [
        {
          "output_type": "stream",
          "name": "stdout",
          "text": [
            "['F', 'X', 'E', 'E', 'B', 'C']\n",
            "['F', 'X', 'E', 'E', 'G', 'B', 'C']\n"
          ]
        }
      ]
    },
    {
      "cell_type": "code",
      "source": [
        "# Remove the first occurence of an item \n",
        "l.remove('E')\n",
        "print(l)"
      ],
      "metadata": {
        "id": "ICDkV55YqGDo",
        "colab": {
          "base_uri": "https://localhost:8080/"
        },
        "outputId": "cf4449fc-c12b-4253-e112-c79b9df065ec"
      },
      "execution_count": null,
      "outputs": [
        {
          "output_type": "stream",
          "name": "stdout",
          "text": [
            "['F', 'X', 'E', 'G', 'B', 'C']\n"
          ]
        }
      ]
    },
    {
      "cell_type": "code",
      "source": [
        "# Remove an item at a specific position\n",
        "del l[1]\n",
        "print(l)"
      ],
      "metadata": {
        "id": "EfApwbNKqGGf",
        "colab": {
          "base_uri": "https://localhost:8080/"
        },
        "outputId": "5745315a-1176-43f4-fd04-1130e54045c2"
      },
      "execution_count": null,
      "outputs": [
        {
          "output_type": "stream",
          "name": "stdout",
          "text": [
            "['F', 'E', 'G', 'B', 'C']\n"
          ]
        }
      ]
    },
    {
      "cell_type": "code",
      "source": [
        "# Remove the last item of a list\n",
        "l.pop()\n",
        "print(l)"
      ],
      "metadata": {
        "id": "02KXJjJ5qGJI",
        "colab": {
          "base_uri": "https://localhost:8080/"
        },
        "outputId": "9aa1e0b0-8df2-49f1-f9d0-d3065fa8743e"
      },
      "execution_count": null,
      "outputs": [
        {
          "output_type": "stream",
          "name": "stdout",
          "text": [
            "['F', 'E', 'G', 'B']\n"
          ]
        }
      ]
    },
    {
      "cell_type": "code",
      "source": [
        "# Does an item belong to a list?\n",
        "print('F' in l)\n",
        "print('A' in l)\n",
        "print(l.index('F'))\n",
        "print(l.index('A'))"
      ],
      "metadata": {
        "id": "ac53JLihqWmF",
        "colab": {
          "base_uri": "https://localhost:8080/",
          "height": 294
        },
        "outputId": "a2d5ec92-129e-4475-98aa-c2ed24db5db6"
      },
      "execution_count": null,
      "outputs": [
        {
          "output_type": "stream",
          "name": "stdout",
          "text": [
            "True\n",
            "False\n",
            "0\n"
          ]
        },
        {
          "output_type": "error",
          "ename": "ValueError",
          "evalue": "ignored",
          "traceback": [
            "\u001b[0;31m---------------------------------------------------------------------------\u001b[0m",
            "\u001b[0;31mValueError\u001b[0m                                Traceback (most recent call last)",
            "\u001b[0;32m<ipython-input-56-fed7e28d51ff>\u001b[0m in \u001b[0;36m<module>\u001b[0;34m\u001b[0m\n\u001b[1;32m      3\u001b[0m \u001b[0mprint\u001b[0m\u001b[0;34m(\u001b[0m\u001b[0;34m'A'\u001b[0m \u001b[0;32min\u001b[0m \u001b[0ml\u001b[0m\u001b[0;34m)\u001b[0m\u001b[0;34m\u001b[0m\u001b[0;34m\u001b[0m\u001b[0m\n\u001b[1;32m      4\u001b[0m \u001b[0mprint\u001b[0m\u001b[0;34m(\u001b[0m\u001b[0ml\u001b[0m\u001b[0;34m.\u001b[0m\u001b[0mindex\u001b[0m\u001b[0;34m(\u001b[0m\u001b[0;34m'F'\u001b[0m\u001b[0;34m)\u001b[0m\u001b[0;34m)\u001b[0m\u001b[0;34m\u001b[0m\u001b[0;34m\u001b[0m\u001b[0m\n\u001b[0;32m----> 5\u001b[0;31m \u001b[0mprint\u001b[0m\u001b[0;34m(\u001b[0m\u001b[0ml\u001b[0m\u001b[0;34m.\u001b[0m\u001b[0mindex\u001b[0m\u001b[0;34m(\u001b[0m\u001b[0;34m'A'\u001b[0m\u001b[0;34m)\u001b[0m\u001b[0;34m)\u001b[0m\u001b[0;34m\u001b[0m\u001b[0;34m\u001b[0m\u001b[0m\n\u001b[0m",
            "\u001b[0;31mValueError\u001b[0m: 'A' is not in list"
          ]
        }
      ]
    },
    {
      "cell_type": "markdown",
      "source": [
        "### Dictionaries\n",
        "Dictionaries are used to store key, value pairs of matched items.\n",
        "\n"
      ],
      "metadata": {
        "id": "qcWaE8S4hMHb"
      }
    },
    {
      "cell_type": "code",
      "source": [
        "d = {\"parameter1\" : 1.0, \n",
        "     \"parameter2\": 2.0}\n",
        "print(d)\n",
        "print(type(d))"
      ],
      "metadata": {
        "id": "PyixIZE9hilt",
        "colab": {
          "base_uri": "https://localhost:8080/"
        },
        "outputId": "5e2d1e69-1ed7-44b9-ea75-87eafc8d3de6"
      },
      "execution_count": null,
      "outputs": [
        {
          "output_type": "stream",
          "name": "stdout",
          "text": [
            "{'parameter1': 1.0, 'parameter2': 2.0}\n",
            "<class 'dict'>\n"
          ]
        }
      ]
    },
    {
      "cell_type": "code",
      "source": [
        "d = dict(parameter1=1.0, \n",
        "         parameter2=1.0)\n",
        "print(d)\n",
        "print(type(d))"
      ],
      "metadata": {
        "id": "cLb30WDohioA",
        "colab": {
          "base_uri": "https://localhost:8080/"
        },
        "outputId": "f276af90-9b1a-431d-ca87-84e7f754b1ea"
      },
      "execution_count": null,
      "outputs": [
        {
          "output_type": "stream",
          "name": "stdout",
          "text": [
            "{'parameter1': 1.0, 'parameter2': 1.0}\n",
            "<class 'dict'>\n"
          ]
        }
      ]
    },
    {
      "cell_type": "code",
      "source": [
        "# Add a key-value pair\n",
        "d['parameter3'] = 3.0\n",
        "print(d)"
      ],
      "metadata": {
        "id": "QehyqHqLhiqg",
        "colab": {
          "base_uri": "https://localhost:8080/"
        },
        "outputId": "5277c2f3-83b5-49a0-abf4-04186f84f117"
      },
      "execution_count": null,
      "outputs": [
        {
          "output_type": "stream",
          "name": "stdout",
          "text": [
            "{'parameter1': 1.0, 'parameter2': 1.0, 'parameter3': 3.0}\n"
          ]
        }
      ]
    },
    {
      "cell_type": "code",
      "source": [
        "# Remove a key-value pair\n",
        "del d['parameter2']\n",
        "print(d)"
      ],
      "metadata": {
        "id": "M7bcj4Z6hitW",
        "colab": {
          "base_uri": "https://localhost:8080/"
        },
        "outputId": "aeea240f-3265-4d90-d47a-ea26d91f45c9"
      },
      "execution_count": null,
      "outputs": [
        {
          "output_type": "stream",
          "name": "stdout",
          "text": [
            "{'parameter1': 1.0, 'parameter3': 3.0}\n"
          ]
        }
      ]
    },
    {
      "cell_type": "code",
      "source": [
        "# Does a key belong to a dictionary?\n",
        "print('parameter1' in d)\n",
        "print('banana' in d)\n",
        "\n",
        "print(d['parameter1'])\n",
        "print(d['banana'])"
      ],
      "metadata": {
        "id": "jl-d31yShiv-",
        "colab": {
          "base_uri": "https://localhost:8080/",
          "height": 294
        },
        "outputId": "0dc7ed09-5c30-49f6-c6ff-479b99fef7ad"
      },
      "execution_count": null,
      "outputs": [
        {
          "output_type": "stream",
          "name": "stdout",
          "text": [
            "True\n",
            "False\n",
            "1.0\n"
          ]
        },
        {
          "output_type": "error",
          "ename": "KeyError",
          "evalue": "ignored",
          "traceback": [
            "\u001b[0;31m---------------------------------------------------------------------------\u001b[0m",
            "\u001b[0;31mKeyError\u001b[0m                                  Traceback (most recent call last)",
            "\u001b[0;32m<ipython-input-61-f5f0fa1658b7>\u001b[0m in \u001b[0;36m<module>\u001b[0;34m\u001b[0m\n\u001b[1;32m      4\u001b[0m \u001b[0;34m\u001b[0m\u001b[0m\n\u001b[1;32m      5\u001b[0m \u001b[0mprint\u001b[0m\u001b[0;34m(\u001b[0m\u001b[0md\u001b[0m\u001b[0;34m[\u001b[0m\u001b[0;34m'parameter1'\u001b[0m\u001b[0;34m]\u001b[0m\u001b[0;34m)\u001b[0m\u001b[0;34m\u001b[0m\u001b[0;34m\u001b[0m\u001b[0m\n\u001b[0;32m----> 6\u001b[0;31m \u001b[0mprint\u001b[0m\u001b[0;34m(\u001b[0m\u001b[0md\u001b[0m\u001b[0;34m[\u001b[0m\u001b[0;34m'banana'\u001b[0m\u001b[0;34m]\u001b[0m\u001b[0;34m)\u001b[0m\u001b[0;34m\u001b[0m\u001b[0;34m\u001b[0m\u001b[0m\n\u001b[0m",
            "\u001b[0;31mKeyError\u001b[0m: 'banana'"
          ]
        }
      ]
    },
    {
      "cell_type": "markdown",
      "source": [
        "### Functions, Python Standard Library and modules\n",
        "Python's functions are organized by modules. The Python Standard Library contains the modules that are distributed with Python (i.e. that you can use without installing anything additional) and covers lots of functionalities.\n",
        "\n",
        "The full reference of the Python Standard Library is available at https://docs.python.org/3/library/\n",
        "\n",
        "Before using a module you must import it:"
      ],
      "metadata": {
        "id": "gEKb_OjxQUyh"
      }
    },
    {
      "cell_type": "code",
      "source": [
        "import math\n"
      ],
      "metadata": {
        "id": "H2xyY8idQM7u"
      },
      "execution_count": null,
      "outputs": []
    },
    {
      "cell_type": "code",
      "source": [
        "print(math.cos(2 * math.pi))\n"
      ],
      "metadata": {
        "id": "u-GHYGqeRUc7",
        "colab": {
          "base_uri": "https://localhost:8080/"
        },
        "outputId": "fd081140-5358-4629-cdd4-1b8cb2d3b569"
      },
      "execution_count": null,
      "outputs": [
        {
          "output_type": "stream",
          "name": "stdout",
          "text": [
            "1.0\n"
          ]
        }
      ]
    },
    {
      "cell_type": "markdown",
      "source": [
        "You can also only import the methods you need:\n",
        "\n"
      ],
      "metadata": {
        "id": "aEakX1yKRZKz"
      }
    },
    {
      "cell_type": "code",
      "source": [
        "from math import cos, pi\n",
        "print(cos(2 * pi))\n"
      ],
      "metadata": {
        "id": "i5Na6SXORWHo",
        "colab": {
          "base_uri": "https://localhost:8080/"
        },
        "outputId": "1f95d7e7-43d1-41b6-ed49-47716a2c16c5"
      },
      "execution_count": null,
      "outputs": [
        {
          "output_type": "stream",
          "name": "stdout",
          "text": [
            "1.0\n"
          ]
        }
      ]
    },
    {
      "cell_type": "markdown",
      "source": [
        "If you'd rather keep track of which module your functions come from, but find the module name a bit long, you can use a nickname for your module when importing it.\n",
        "\n"
      ],
      "metadata": {
        "id": "z1W5OpUaRewm"
      }
    },
    {
      "cell_type": "code",
      "source": [
        "import math as m\n",
        "print(m.cos(2 * m.pi))\n"
      ],
      "metadata": {
        "id": "O4vFqArsRchp",
        "colab": {
          "base_uri": "https://localhost:8080/"
        },
        "outputId": "74d81f24-2760-47e0-b0c0-85cbf0d55c31"
      },
      "execution_count": null,
      "outputs": [
        {
          "output_type": "stream",
          "name": "stdout",
          "text": [
            "1.0\n"
          ]
        }
      ]
    },
    {
      "cell_type": "markdown",
      "source": [
        "To know what functions are available in a module you have imported:\n",
        "\n"
      ],
      "metadata": {
        "id": "0B1diDlXRlDs"
      }
    },
    {
      "cell_type": "code",
      "source": [
        "import math\n",
        "print(dir(math))"
      ],
      "metadata": {
        "id": "Cl54erWrRh4A",
        "colab": {
          "base_uri": "https://localhost:8080/"
        },
        "outputId": "4029940e-a0ac-4388-8fa7-ccb7ac272267"
      },
      "execution_count": null,
      "outputs": [
        {
          "output_type": "stream",
          "name": "stdout",
          "text": [
            "['__doc__', '__loader__', '__name__', '__package__', '__spec__', 'acos', 'acosh', 'asin', 'asinh', 'atan', 'atan2', 'atanh', 'ceil', 'copysign', 'cos', 'cosh', 'degrees', 'e', 'erf', 'erfc', 'exp', 'expm1', 'fabs', 'factorial', 'floor', 'fmod', 'frexp', 'fsum', 'gamma', 'gcd', 'hypot', 'inf', 'isclose', 'isfinite', 'isinf', 'isnan', 'ldexp', 'lgamma', 'log', 'log10', 'log1p', 'log2', 'modf', 'nan', 'pi', 'pow', 'radians', 'remainder', 'sin', 'sinh', 'sqrt', 'tan', 'tanh', 'tau', 'trunc']\n"
          ]
        }
      ]
    },
    {
      "cell_type": "markdown",
      "source": [
        "To get help on a specific function:\n",
        "\n"
      ],
      "metadata": {
        "id": "jqiuwp6ARp3A"
      }
    },
    {
      "cell_type": "code",
      "source": [
        "help(math.log)\n"
      ],
      "metadata": {
        "id": "CMTRCmgcRnV_",
        "colab": {
          "base_uri": "https://localhost:8080/"
        },
        "outputId": "c2d03816-d85d-4ef1-e8ec-30993236def9"
      },
      "execution_count": null,
      "outputs": [
        {
          "output_type": "stream",
          "name": "stdout",
          "text": [
            "Help on built-in function log in module math:\n",
            "\n",
            "log(...)\n",
            "    log(x, [base=math.e])\n",
            "    Return the logarithm of x to the given base.\n",
            "    \n",
            "    If the base not specified, returns the natural logarithm (base e) of x.\n",
            "\n"
          ]
        }
      ]
    },
    {
      "cell_type": "markdown",
      "source": [
        "Or, in ipython or a Jupyter notebook:\n",
        "\n"
      ],
      "metadata": {
        "id": "qowU-TYhRuDt"
      }
    },
    {
      "cell_type": "code",
      "source": [
        "math.log?\n"
      ],
      "metadata": {
        "id": "27ie7x5LRsRz"
      },
      "execution_count": null,
      "outputs": []
    },
    {
      "cell_type": "code",
      "source": [
        "# factorial function\n",
        "math.factorial(5)"
      ],
      "metadata": {
        "id": "BWg9-fYUSGIY",
        "colab": {
          "base_uri": "https://localhost:8080/"
        },
        "outputId": "11ac827c-10ea-459d-8fdb-c269291814c8"
      },
      "execution_count": null,
      "outputs": [
        {
          "output_type": "execute_result",
          "data": {
            "text/plain": [
              "120"
            ]
          },
          "metadata": {},
          "execution_count": 69
        }
      ]
    },
    {
      "cell_type": "markdown",
      "source": [
        "### Problem 1\n",
        "We can define our own functions.\n",
        "Write a function that computes the [binomial coefficient](https://en.wikipedia.org/wiki/Binomial_coefficient) of two integers, and then a function that computes the probability mass function of the [binomial distribution](https://en.wikipedia.org/wiki/Binomial_distribution)."
      ],
      "metadata": {
        "id": "iJfD3iKeeXKg"
      }
    },
    {
      "cell_type": "code",
      "source": [
        "def binomial_coefficient(a, b):\n",
        "  \"\"\"\n",
        "  this is a docstring. It helps documenting your code.\n",
        "  This functions takes as input a and b, two integers\n",
        "  and returns the binomial coefficient a choose b\n",
        "  \"\"\"\n",
        "  result = math.factorial(a) / (math.factorial(b) * math.factorial(a - b))\n",
        "  return result"
      ],
      "metadata": {
        "id": "gsFtK8jEc4yt"
      },
      "execution_count": null,
      "outputs": []
    },
    {
      "cell_type": "code",
      "source": [
        "def binomial_distribution_probability(n, p, k):\n",
        "  \"\"\"\n",
        "  this function returns the probability of getting exactly k successes\n",
        "  in n independent Bernoulli trials with parameter p.\n",
        "  It is the probability mass function of a binomial distribution of parameters (n, p).\n",
        "  \"\"\"\n",
        "  return binomial_coefficient(n, k) * p**k * (1-p)**(n-k)"
      ],
      "metadata": {
        "id": "c33DqK1WdAKH"
      },
      "execution_count": null,
      "outputs": []
    },
    {
      "cell_type": "code",
      "source": [
        "# Very important to test it works\n",
        "# we compare the results with expected value\n",
        "print(binomial_coefficient(10, 10)==1)\n",
        "print(binomial_coefficient(10, 1)==10)\n",
        "print(binomial_coefficient(10, 2)==10*9/2)\n",
        "\n",
        "# reference value taken from the wikipedia page example\n",
        "print(binomial_distribution_probability(6, 0.3, 4)==0.059535)\n",
        "# careful with float comparison\n",
        "print(round(binomial_distribution_probability(6, 0.3, 4), 6)==0.059535)"
      ],
      "metadata": {
        "id": "oqjGpMLrdJje",
        "colab": {
          "base_uri": "https://localhost:8080/"
        },
        "outputId": "7dd9a8dc-9648-4b72-a8cb-88ebf9a5e091"
      },
      "execution_count": null,
      "outputs": [
        {
          "output_type": "stream",
          "name": "stdout",
          "text": [
            "True\n",
            "True\n",
            "True\n",
            "False\n",
            "True\n"
          ]
        }
      ]
    },
    {
      "cell_type": "code",
      "source": [],
      "metadata": {
        "id": "K8sYFo73kzIh"
      },
      "execution_count": null,
      "outputs": []
    },
    {
      "cell_type": "markdown",
      "source": [
        "### Numpy"
      ],
      "metadata": {
        "id": "dLbjNaYllUan"
      }
    },
    {
      "cell_type": "markdown",
      "source": [
        "#### Numpy arrays\n",
        "\n",
        "`numpy` is a python package used in most scientific and numerical computing in Python. It provides performing data structures for manipulating vectors, matrices and tensors of arbitrary dimensions.\n",
        "\n",
        "It is written in C and Fortran, and therefore performs very well on vector/matrix computations."
      ],
      "metadata": {
        "id": "mpSTNWFel7W5"
      }
    },
    {
      "cell_type": "code",
      "source": [
        "# Import the numpy module\n",
        "import numpy as np"
      ],
      "metadata": {
        "id": "zGIWSTptoRqX"
      },
      "execution_count": null,
      "outputs": []
    },
    {
      "cell_type": "markdown",
      "source": [
        "NumPy arrays are a fundamental structure for scientific computing. Numpy arrays are homogeneous (i.e. all objects it contains have the same type) multi-dimensional arrays, which we’ll use among other things to represent vectors and matrices.\n",
        "\n",
        "Let us explore some basic Numpy commands.\n",
        "\n",
        "#### Creating arrays"
      ],
      "metadata": {
        "id": "tZ62r09Al7a-"
      }
    },
    {
      "cell_type": "code",
      "source": [
        "# Create a 1D vector from a list\n",
        "v = np.array([1, 2, 3, 4])\n",
        "print(v)\n",
        "print(type(v))"
      ],
      "metadata": {
        "id": "IXUnGAvnhiyx",
        "colab": {
          "base_uri": "https://localhost:8080/"
        },
        "outputId": "4d6735cb-17fa-4160-863a-32d2852e5ab8"
      },
      "execution_count": null,
      "outputs": [
        {
          "output_type": "stream",
          "name": "stdout",
          "text": [
            "[1 2 3 4]\n",
            "<class 'numpy.ndarray'>\n"
          ]
        }
      ]
    },
    {
      "cell_type": "code",
      "source": [
        "# Create a random array of size 3 x 5\n",
        "X = np.random.random((3, 5))\n",
        "print(X)\n",
        "print(type(X))"
      ],
      "metadata": {
        "id": "84hVU00yhi2v",
        "colab": {
          "base_uri": "https://localhost:8080/"
        },
        "outputId": "62b80459-b798-4afd-8328-a7d6c183af97"
      },
      "execution_count": null,
      "outputs": [
        {
          "output_type": "stream",
          "name": "stdout",
          "text": [
            "[[0.88386313 0.98821017 0.74478371 0.01723137 0.31046973]\n",
            " [0.5014486  0.79123456 0.63055517 0.06009022 0.65628626]\n",
            " [0.91946219 0.99257587 0.18850475 0.47722224 0.51812186]]\n",
            "<class 'numpy.ndarray'>\n"
          ]
        }
      ]
    },
    {
      "cell_type": "code",
      "source": [
        "# Create an array of zeros of size 3 x 5\n",
        "np.zeros((3, 5))"
      ],
      "metadata": {
        "id": "HvIGQ9U-p52s",
        "colab": {
          "base_uri": "https://localhost:8080/"
        },
        "outputId": "d8892054-9301-4529-e629-6d9df6f651ec"
      },
      "execution_count": null,
      "outputs": [
        {
          "output_type": "execute_result",
          "data": {
            "text/plain": [
              "array([[0., 0., 0., 0., 0.],\n",
              "       [0., 0., 0., 0., 0.],\n",
              "       [0., 0., 0., 0., 0.]])"
            ]
          },
          "metadata": {},
          "execution_count": 76
        }
      ]
    },
    {
      "cell_type": "code",
      "source": [
        "# Create an array of ones of size 3 x 5\n",
        "np.ones((3, 5))"
      ],
      "metadata": {
        "id": "aI2_KALHp55d",
        "colab": {
          "base_uri": "https://localhost:8080/"
        },
        "outputId": "b3900add-d237-4b05-be33-2b5977aee0d9"
      },
      "execution_count": null,
      "outputs": [
        {
          "output_type": "execute_result",
          "data": {
            "text/plain": [
              "array([[1., 1., 1., 1., 1.],\n",
              "       [1., 1., 1., 1., 1.],\n",
              "       [1., 1., 1., 1., 1.]])"
            ]
          },
          "metadata": {},
          "execution_count": 77
        }
      ]
    },
    {
      "cell_type": "code",
      "source": [
        "# Create the identity matrix of size 4 x 4\n",
        "np.eye(4)"
      ],
      "metadata": {
        "id": "j7SGVVx-p58i",
        "colab": {
          "base_uri": "https://localhost:8080/"
        },
        "outputId": "36022916-5db5-4636-c958-f741b8a1e8d1"
      },
      "execution_count": null,
      "outputs": [
        {
          "output_type": "execute_result",
          "data": {
            "text/plain": [
              "array([[1., 0., 0., 0.],\n",
              "       [0., 1., 0., 0.],\n",
              "       [0., 0., 1., 0.],\n",
              "       [0., 0., 0., 1.]])"
            ]
          },
          "metadata": {},
          "execution_count": 78
        }
      ]
    },
    {
      "cell_type": "code",
      "source": [
        "# Create a range\n",
        "np.arange(0, 10, 2) # arguments: start, stop, step"
      ],
      "metadata": {
        "id": "4Q7KjQWUp5-Y",
        "colab": {
          "base_uri": "https://localhost:8080/"
        },
        "outputId": "23a8788e-c303-4de1-aa39-2e0e83e91d52"
      },
      "execution_count": null,
      "outputs": [
        {
          "output_type": "execute_result",
          "data": {
            "text/plain": [
              "array([0, 2, 4, 6, 8])"
            ]
          },
          "metadata": {},
          "execution_count": 79
        }
      ]
    },
    {
      "cell_type": "code",
      "source": [
        "# Create n points evenly spreading the [stop, start] interval \n",
        "# with linspace, both start and stop are included\n",
        "np.linspace(0, 10, 3) # start, stop, n"
      ],
      "metadata": {
        "id": "foZ459WAp6A7",
        "colab": {
          "base_uri": "https://localhost:8080/"
        },
        "outputId": "6d7d538d-dfc8-4b73-824c-d4899111d038"
      },
      "execution_count": null,
      "outputs": [
        {
          "output_type": "execute_result",
          "data": {
            "text/plain": [
              "array([ 0.,  5., 10.])"
            ]
          },
          "metadata": {},
          "execution_count": 80
        }
      ]
    },
    {
      "cell_type": "code",
      "source": [
        "# Same in log scale\n",
        "np.logspace(0, 10, 3, base=np.e)"
      ],
      "metadata": {
        "id": "ANZeYbrUp6Da",
        "colab": {
          "base_uri": "https://localhost:8080/"
        },
        "outputId": "6294e8ea-6bcd-4de0-b36f-b03f63a748bc"
      },
      "execution_count": null,
      "outputs": [
        {
          "output_type": "execute_result",
          "data": {
            "text/plain": [
              "array([1.00000000e+00, 1.48413159e+02, 2.20264658e+04])"
            ]
          },
          "metadata": {},
          "execution_count": 81
        }
      ]
    },
    {
      "cell_type": "markdown",
      "source": [
        "#### Information about arrays"
      ],
      "metadata": {
        "id": "oe4XJagXqI74"
      }
    },
    {
      "cell_type": "code",
      "source": [
        "# The dimensions of an array are accessible via shape\n",
        "print(v.shape)\n",
        "print(X.shape)"
      ],
      "metadata": {
        "id": "Qf0AxWUVqMmU",
        "colab": {
          "base_uri": "https://localhost:8080/"
        },
        "outputId": "0de0e4f5-37a0-45a8-e53f-5e7cb4e2fd24"
      },
      "execution_count": null,
      "outputs": [
        {
          "output_type": "stream",
          "name": "stdout",
          "text": [
            "(4,)\n",
            "(3, 5)\n"
          ]
        }
      ]
    },
    {
      "cell_type": "code",
      "source": [
        "# The total number of elements of an array are accessible via size\n",
        "print(v.size)\n",
        "print(X.size)"
      ],
      "metadata": {
        "id": "aMzk06cFqMo8",
        "colab": {
          "base_uri": "https://localhost:8080/"
        },
        "outputId": "8b5d0c92-a0a7-45bd-9ed4-efae912a028a"
      },
      "execution_count": null,
      "outputs": [
        {
          "output_type": "stream",
          "name": "stdout",
          "text": [
            "4\n",
            "15\n"
          ]
        }
      ]
    },
    {
      "cell_type": "code",
      "source": [
        "\n",
        "# The number of dimensions of an array\n",
        "print(v.ndim)\n",
        "print(X.ndim)"
      ],
      "metadata": {
        "id": "U8rDtD0AqMrS",
        "colab": {
          "base_uri": "https://localhost:8080/"
        },
        "outputId": "ae24d746-6db3-4591-a748-be293ec5ce32"
      },
      "execution_count": null,
      "outputs": [
        {
          "output_type": "stream",
          "name": "stdout",
          "text": [
            "1\n",
            "2\n"
          ]
        }
      ]
    },
    {
      "cell_type": "markdown",
      "source": [
        "#### Array types\n",
        "Proceed with caution! All elements of an array have the same type, accessible via dtype\n",
        "\n"
      ],
      "metadata": {
        "id": "NCdDGtx2qYJR"
      }
    },
    {
      "cell_type": "code",
      "source": [
        "print(v.dtype)\n",
        "print(X.dtype)"
      ],
      "metadata": {
        "id": "9aSptSmIqdb_",
        "colab": {
          "base_uri": "https://localhost:8080/"
        },
        "outputId": "706298d7-1404-4aaa-a482-37fb188326cb"
      },
      "execution_count": null,
      "outputs": [
        {
          "output_type": "stream",
          "name": "stdout",
          "text": [
            "int64\n",
            "float64\n"
          ]
        }
      ]
    },
    {
      "cell_type": "code",
      "source": [
        "a = np.array([1, 2, 3])\n",
        "print(a.dtype)\n",
        "\n",
        "a[0] = 3.2\n",
        "print(a.dtype)\n",
        "print(a)"
      ],
      "metadata": {
        "id": "aIVyVODgqdgD",
        "colab": {
          "base_uri": "https://localhost:8080/"
        },
        "outputId": "fba92c8e-c4d0-4daa-f291-347c399bc14e"
      },
      "execution_count": null,
      "outputs": [
        {
          "output_type": "stream",
          "name": "stdout",
          "text": [
            "int64\n",
            "int64\n",
            "[3 2 3]\n"
          ]
        }
      ]
    },
    {
      "cell_type": "markdown",
      "source": [
        "The type of the elements of an array can be explicitely defined with the `dtype` keyword, to be chosen among `int`, `float`, `complex`, `bool`, `int64`, etc.\n",
        "\n"
      ],
      "metadata": {
        "id": "FL13cydKqdxa"
      }
    },
    {
      "cell_type": "code",
      "source": [
        "# A first solution\n",
        "a = np.array([1,2,3], dtype=np.float)\n",
        "print(a.dtype)\n",
        "\n",
        "a[0] = 3.2\n",
        "print(a.dtype)\n",
        "print(a)"
      ],
      "metadata": {
        "id": "EQbYtinfqftz",
        "colab": {
          "base_uri": "https://localhost:8080/"
        },
        "outputId": "da3f13a0-82f8-445f-ac81-faeceac0ca5f"
      },
      "execution_count": null,
      "outputs": [
        {
          "output_type": "stream",
          "name": "stdout",
          "text": [
            "float64\n",
            "float64\n",
            "[3.2 2.  3. ]\n"
          ]
        },
        {
          "output_type": "stream",
          "name": "stderr",
          "text": [
            "/usr/local/lib/python3.7/dist-packages/ipykernel_launcher.py:2: DeprecationWarning: `np.float` is a deprecated alias for the builtin `float`. To silence this warning, use `float` by itself. Doing this will not modify any behavior and is safe. If you specifically wanted the numpy scalar type, use `np.float64` here.\n",
            "Deprecated in NumPy 1.20; for more details and guidance: https://numpy.org/devdocs/release/1.20.0-notes.html#deprecations\n",
            "  \n"
          ]
        }
      ]
    },
    {
      "cell_type": "markdown",
      "source": [
        "The type of the elements of an array can be modified with the `astype` function:\n",
        "\n"
      ],
      "metadata": {
        "id": "_n9FBpUKqf4i"
      }
    },
    {
      "cell_type": "code",
      "source": [
        "# A second solution\n",
        "a = np.array([1,2,3])\n",
        "print(a.dtype)\n",
        "\n",
        "a = a.astype(float)\n",
        "\n",
        "a[0] = 3.2\n",
        "print(a.dtype)\n",
        "print(a)"
      ],
      "metadata": {
        "id": "UrUJ9RNxqgBy",
        "colab": {
          "base_uri": "https://localhost:8080/"
        },
        "outputId": "bfc6f2a2-4d70-4205-e8f4-012b8480902a"
      },
      "execution_count": null,
      "outputs": [
        {
          "output_type": "stream",
          "name": "stdout",
          "text": [
            "int64\n",
            "float64\n",
            "[3.2 2.  3. ]\n"
          ]
        }
      ]
    },
    {
      "cell_type": "markdown",
      "source": [
        "#### Accessing elements, rows, and columns of arrays\n",
        "Remember, in Python indices start at 0."
      ],
      "metadata": {
        "id": "XVyryFkItoU9"
      }
    },
    {
      "cell_type": "code",
      "source": [
        "# Get a single element of a vector\n",
        "v[0]"
      ],
      "metadata": {
        "id": "icVsEywWtoeT",
        "colab": {
          "base_uri": "https://localhost:8080/"
        },
        "outputId": "ee72f188-f9dd-4056-8b19-7409d38216c5"
      },
      "execution_count": null,
      "outputs": [
        {
          "output_type": "execute_result",
          "data": {
            "text/plain": [
              "1"
            ]
          },
          "metadata": {},
          "execution_count": 89
        }
      ]
    },
    {
      "cell_type": "code",
      "source": [
        "# Get a single element of a matrix\n",
        "print(X[0, 1])"
      ],
      "metadata": {
        "id": "aCV4YGBWtoiI",
        "colab": {
          "base_uri": "https://localhost:8080/"
        },
        "outputId": "91fd261a-2d78-4ae6-e3c3-da3b4a2f69b0"
      },
      "execution_count": null,
      "outputs": [
        {
          "output_type": "stream",
          "name": "stdout",
          "text": [
            "0.9882101735945868\n"
          ]
        }
      ]
    },
    {
      "cell_type": "code",
      "source": [
        "# Get a row\n",
        "print(X[0, :])\n",
        "print(X[0])\n",
        "print(\"shape of a row vector:\", X[0].shape)"
      ],
      "metadata": {
        "id": "oRHhNq_jtonB",
        "colab": {
          "base_uri": "https://localhost:8080/"
        },
        "outputId": "d1c1c432-c8b0-49dc-f787-d6c6a7aff4fc"
      },
      "execution_count": null,
      "outputs": [
        {
          "output_type": "stream",
          "name": "stdout",
          "text": [
            "[0.88386313 0.98821017 0.74478371 0.01723137 0.31046973]\n",
            "[0.88386313 0.98821017 0.74478371 0.01723137 0.31046973]\n",
            "shape of a row vector: (5,)\n"
          ]
        }
      ]
    },
    {
      "cell_type": "code",
      "source": [
        "# Get a column\n",
        "print(X[:, 3])"
      ],
      "metadata": {
        "id": "UJlK7Qcdt05m",
        "colab": {
          "base_uri": "https://localhost:8080/"
        },
        "outputId": "077cbe55-b6e0-4543-c5ab-5c81343f2075"
      },
      "execution_count": null,
      "outputs": [
        {
          "output_type": "stream",
          "name": "stdout",
          "text": [
            "[0.01723137 0.06009022 0.47722224]\n"
          ]
        }
      ]
    },
    {
      "cell_type": "markdown",
      "source": [
        "#### Slicing\n",
        "The `[start:stop:step]` syntax applicable to strings and lists also applies to arrays."
      ],
      "metadata": {
        "id": "5B-PZeg_t1Ah"
      }
    },
    {
      "cell_type": "code",
      "source": [
        "# Access a sub-matrix\n",
        "print(X[1:3, :])"
      ],
      "metadata": {
        "id": "_qr5VFS4t9LH",
        "colab": {
          "base_uri": "https://localhost:8080/"
        },
        "outputId": "e198298d-cee3-44c2-93ad-cfe4c5b26691"
      },
      "execution_count": null,
      "outputs": [
        {
          "output_type": "stream",
          "name": "stdout",
          "text": [
            "[[0.5014486  0.79123456 0.63055517 0.06009022 0.65628626]\n",
            " [0.91946219 0.99257587 0.18850475 0.47722224 0.51812186]]\n"
          ]
        }
      ]
    },
    {
      "cell_type": "code",
      "source": [
        "# Modify a slice\n",
        "X[1:3] = np.zeros((2, 5))\n",
        "print(X)"
      ],
      "metadata": {
        "id": "-FIum-BLt9Oo",
        "colab": {
          "base_uri": "https://localhost:8080/"
        },
        "outputId": "94d7e40e-f4bf-4677-efab-0729aa2c4899"
      },
      "execution_count": null,
      "outputs": [
        {
          "output_type": "stream",
          "name": "stdout",
          "text": [
            "[[0.88386313 0.98821017 0.74478371 0.01723137 0.31046973]\n",
            " [0.         0.         0.         0.         0.        ]\n",
            " [0.         0.         0.         0.         0.        ]]\n"
          ]
        }
      ]
    },
    {
      "cell_type": "code",
      "source": [
        "X[::2, ::2]"
      ],
      "metadata": {
        "id": "2Kg8dgU7t9Sw",
        "colab": {
          "base_uri": "https://localhost:8080/"
        },
        "outputId": "ffbe8093-ab64-4078-ab3e-87e84f4334b1"
      },
      "execution_count": null,
      "outputs": [
        {
          "output_type": "execute_result",
          "data": {
            "text/plain": [
              "array([[0.88386313, 0.74478371, 0.31046973],\n",
              "       [0.        , 0.        , 0.        ]])"
            ]
          },
          "metadata": {},
          "execution_count": 95
        }
      ]
    },
    {
      "cell_type": "markdown",
      "source": [
        "#### Fancy indexing\n",
        "It is possible to use lists or arrays to define slices"
      ],
      "metadata": {
        "id": "D0ggapDvuEGt"
      }
    },
    {
      "cell_type": "code",
      "source": [
        "A = np.array([range(5), range(0, 10, 2), range(1, 6), range(5, 15, 2)])\n",
        "print(A)"
      ],
      "metadata": {
        "id": "pEe6BhYGuENU",
        "colab": {
          "base_uri": "https://localhost:8080/"
        },
        "outputId": "a31bef64-f7a2-4dfe-a18f-ecb2e634133d"
      },
      "execution_count": null,
      "outputs": [
        {
          "output_type": "stream",
          "name": "stdout",
          "text": [
            "[[ 0  1  2  3  4]\n",
            " [ 0  2  4  6  8]\n",
            " [ 1  2  3  4  5]\n",
            " [ 5  7  9 11 13]]\n"
          ]
        }
      ]
    },
    {
      "cell_type": "code",
      "source": [
        "row_indices = [0, 1, 3]\n",
        "print(A[row_indices])"
      ],
      "metadata": {
        "id": "hfnqWbS_uEQ4",
        "colab": {
          "base_uri": "https://localhost:8080/"
        },
        "outputId": "a91f4f2a-f1c8-44f8-87e1-ace8c5a25c3d"
      },
      "execution_count": null,
      "outputs": [
        {
          "output_type": "stream",
          "name": "stdout",
          "text": [
            "[[ 0  1  2  3  4]\n",
            " [ 0  2  4  6  8]\n",
            " [ 5  7  9 11 13]]\n"
          ]
        }
      ]
    },
    {
      "cell_type": "code",
      "source": [
        "print(A[[1, 2], [3, 4]])\n"
      ],
      "metadata": {
        "id": "nQASQYmMuEUn",
        "colab": {
          "base_uri": "https://localhost:8080/"
        },
        "outputId": "5330bac2-7872-4cea-a1df-e8130cbe0481"
      },
      "execution_count": null,
      "outputs": [
        {
          "output_type": "stream",
          "name": "stdout",
          "text": [
            "[6 5]\n"
          ]
        }
      ]
    },
    {
      "cell_type": "code",
      "source": [
        "A[np.ix_([1, 2], [3, 4])] = 0\n",
        "print(A)"
      ],
      "metadata": {
        "id": "mlg0sxUouEYo",
        "colab": {
          "base_uri": "https://localhost:8080/"
        },
        "outputId": "4561ba51-0b06-4f26-d238-9abfcc92bdac"
      },
      "execution_count": null,
      "outputs": [
        {
          "output_type": "stream",
          "name": "stdout",
          "text": [
            "[[ 0  1  2  3  4]\n",
            " [ 0  2  4  0  0]\n",
            " [ 1  2  3  0  0]\n",
            " [ 5  7  9 11 13]]\n"
          ]
        }
      ]
    },
    {
      "cell_type": "markdown",
      "source": [
        "#### Masks\n",
        "\n",
        "[Masks](https://numpy.org/doc/stable/reference/maskedarray.generic.html) provide a convenient way to deal with array entries that should not be used in computations, and are used in particular to deal with missing data. Those entries are not removed from the array but simply masked."
      ],
      "metadata": {
        "id": "XEhs9qbCutVk"
      }
    },
    {
      "cell_type": "code",
      "source": [
        "B = np.arange(5)\n",
        "print(B)"
      ],
      "metadata": {
        "id": "Wg9xxj_zwT3F",
        "colab": {
          "base_uri": "https://localhost:8080/"
        },
        "outputId": "ff2b74cb-5ce0-4310-bff2-227111a836ab"
      },
      "execution_count": null,
      "outputs": [
        {
          "output_type": "stream",
          "name": "stdout",
          "text": [
            "[0 1 2 3 4]\n"
          ]
        }
      ]
    },
    {
      "cell_type": "code",
      "source": [
        "row_mask = np.array([True, False, True, False, False])\n",
        "print(B[row_mask])"
      ],
      "metadata": {
        "id": "Fn1NMB-owT57",
        "colab": {
          "base_uri": "https://localhost:8080/"
        },
        "outputId": "f08a8b56-168f-4784-dec5-f2763d7f69b6"
      },
      "execution_count": null,
      "outputs": [
        {
          "output_type": "stream",
          "name": "stdout",
          "text": [
            "[0 2]\n"
          ]
        }
      ]
    },
    {
      "cell_type": "code",
      "source": [
        "# Equivalently\n",
        "row_mask = np.array([1,0,1,0,0], dtype=bool)\n",
        "print(B[row_mask])"
      ],
      "metadata": {
        "id": "iqW7T4IswT8o",
        "colab": {
          "base_uri": "https://localhost:8080/"
        },
        "outputId": "ccd35def-32d6-449f-f9c7-98cc9fc40a8a"
      },
      "execution_count": null,
      "outputs": [
        {
          "output_type": "stream",
          "name": "stdout",
          "text": [
            "[0 2]\n"
          ]
        }
      ]
    },
    {
      "cell_type": "code",
      "source": [
        "print(B<3)"
      ],
      "metadata": {
        "id": "S0UsFlGywT_V",
        "colab": {
          "base_uri": "https://localhost:8080/"
        },
        "outputId": "f7c1b7a3-8af3-4419-9614-d3fd3665d7cc"
      },
      "execution_count": null,
      "outputs": [
        {
          "output_type": "stream",
          "name": "stdout",
          "text": [
            "[ True  True  True False False]\n"
          ]
        }
      ]
    },
    {
      "cell_type": "code",
      "source": [
        "# Convert a binary mask in position indices using *where*\n",
        "positions = np.where(B<3)\n",
        "print(positions)\n",
        "\n",
        "print(B[positions])"
      ],
      "metadata": {
        "id": "X51sLSbhwUB_",
        "colab": {
          "base_uri": "https://localhost:8080/"
        },
        "outputId": "ea1e3be6-9c11-479b-eaf0-6ec31c6d733e"
      },
      "execution_count": null,
      "outputs": [
        {
          "output_type": "stream",
          "name": "stdout",
          "text": [
            "(array([0, 1, 2]),)\n",
            "[0 1 2]\n"
          ]
        }
      ]
    },
    {
      "cell_type": "code",
      "source": [
        "a = np.array([1, 2, 3, 4, 5])\n",
        "print(a < 3)\n",
        "print(B[a < 3])"
      ],
      "metadata": {
        "id": "AhYtSzVewUEg",
        "colab": {
          "base_uri": "https://localhost:8080/"
        },
        "outputId": "f6d927db-e9dc-4e7e-e510-fb7ea4c95c1c"
      },
      "execution_count": null,
      "outputs": [
        {
          "output_type": "stream",
          "name": "stdout",
          "text": [
            "[ True  True False False False]\n",
            "[0 1]\n"
          ]
        }
      ]
    },
    {
      "cell_type": "code",
      "source": [
        "print(A[:, a<3])\n"
      ],
      "metadata": {
        "id": "uvgwbRlYwUHI",
        "colab": {
          "base_uri": "https://localhost:8080/"
        },
        "outputId": "e700b89d-0ace-4eb1-b253-bd47fd718396"
      },
      "execution_count": null,
      "outputs": [
        {
          "output_type": "stream",
          "name": "stdout",
          "text": [
            "[[0 1]\n",
            " [0 2]\n",
            " [1 2]\n",
            " [5 7]]\n"
          ]
        }
      ]
    },
    {
      "cell_type": "markdown",
      "source": [
        "#### Reshaping arrays"
      ],
      "metadata": {
        "id": "OkEmDoobwkvI"
      }
    },
    {
      "cell_type": "code",
      "source": [
        "print(A)"
      ],
      "metadata": {
        "id": "Odlwl2XowoNV",
        "colab": {
          "base_uri": "https://localhost:8080/"
        },
        "outputId": "21c848d1-7a01-440a-d726-dd0f501b1f71"
      },
      "execution_count": null,
      "outputs": [
        {
          "output_type": "stream",
          "name": "stdout",
          "text": [
            "[[ 0  1  2  3  4]\n",
            " [ 0  2  4  0  0]\n",
            " [ 1  2  3  0  0]\n",
            " [ 5  7  9 11 13]]\n"
          ]
        }
      ]
    },
    {
      "cell_type": "code",
      "source": [
        "n, m = A.shape\n"
      ],
      "metadata": {
        "id": "2G2U9H5OwoKL"
      },
      "execution_count": null,
      "outputs": []
    },
    {
      "cell_type": "code",
      "source": [
        "# Reshape A\n",
        "B = A.reshape((1, n*m))\n",
        "print(B)"
      ],
      "metadata": {
        "id": "qIz5cfrKwoHt",
        "colab": {
          "base_uri": "https://localhost:8080/"
        },
        "outputId": "fce8df98-57f7-497a-ea35-4f446435537e"
      },
      "execution_count": null,
      "outputs": [
        {
          "output_type": "stream",
          "name": "stdout",
          "text": [
            "[[ 0  1  2  3  4  0  2  4  0  0  1  2  3  0  0  5  7  9 11 13]]\n"
          ]
        }
      ]
    },
    {
      "cell_type": "code",
      "source": [
        "print(A)\n"
      ],
      "metadata": {
        "id": "9_Zj_TwTwoFb",
        "colab": {
          "base_uri": "https://localhost:8080/"
        },
        "outputId": "0b70834a-e40f-4098-c983-caabf6846be8"
      },
      "execution_count": null,
      "outputs": [
        {
          "output_type": "stream",
          "name": "stdout",
          "text": [
            "[[ 0  1  2  3  4]\n",
            " [ 0  2  4  0  0]\n",
            " [ 1  2  3  0  0]\n",
            " [ 5  7  9 11 13]]\n"
          ]
        }
      ]
    },
    {
      "cell_type": "code",
      "source": [
        "B[0, 0:5] = -1\n",
        "print(B)"
      ],
      "metadata": {
        "id": "FHNEFv9lwoCp",
        "colab": {
          "base_uri": "https://localhost:8080/"
        },
        "outputId": "4bfc3411-89bb-4fb1-8170-d9f5c619b4fa"
      },
      "execution_count": null,
      "outputs": [
        {
          "output_type": "stream",
          "name": "stdout",
          "text": [
            "[[-1 -1 -1 -1 -1  0  2  4  0  0  1  2  3  0  0  5  7  9 11 13]]\n"
          ]
        }
      ]
    },
    {
      "cell_type": "code",
      "source": [
        "print(A)"
      ],
      "metadata": {
        "id": "wgJMRR5wxEPY",
        "colab": {
          "base_uri": "https://localhost:8080/"
        },
        "outputId": "ddd97bcc-3102-410a-e79b-f46dc52f7dd8"
      },
      "execution_count": null,
      "outputs": [
        {
          "output_type": "stream",
          "name": "stdout",
          "text": [
            "[[-1 -1 -1 -1 -1]\n",
            " [ 0  2  4  0  0]\n",
            " [ 1  2  3  0  0]\n",
            " [ 5  7  9 11 13]]\n"
          ]
        }
      ]
    },
    {
      "cell_type": "markdown",
      "source": [
        "The original variable was also modified! B is only a new view of A.\n",
        "\n",
        "To create a new array that's the vector (1D) version of A, we use `flatten`:"
      ],
      "metadata": {
        "id": "Lvw7bFPVxIr8"
      }
    },
    {
      "cell_type": "code",
      "source": [
        "B = A.flatten()\n",
        "print(B)"
      ],
      "metadata": {
        "id": "OZH8DvXYxNBY",
        "colab": {
          "base_uri": "https://localhost:8080/"
        },
        "outputId": "4a8e03b8-cc59-44ed-8c36-c373e85b267c"
      },
      "execution_count": null,
      "outputs": [
        {
          "output_type": "stream",
          "name": "stdout",
          "text": [
            "[-1 -1 -1 -1 -1  0  2  4  0  0  1  2  3  0  0  5  7  9 11 13]\n"
          ]
        }
      ]
    },
    {
      "cell_type": "code",
      "source": [
        "B.shape"
      ],
      "metadata": {
        "id": "gLRDSj4xxM-K",
        "colab": {
          "base_uri": "https://localhost:8080/"
        },
        "outputId": "3a02552e-07d3-43e9-f0f5-ef1320062342"
      },
      "execution_count": null,
      "outputs": [
        {
          "output_type": "execute_result",
          "data": {
            "text/plain": [
              "(20,)"
            ]
          },
          "metadata": {},
          "execution_count": 114
        }
      ]
    },
    {
      "cell_type": "code",
      "source": [
        "B[0:5] = 10\n",
        "print(B)"
      ],
      "metadata": {
        "id": "ixSQalGSxM6j",
        "colab": {
          "base_uri": "https://localhost:8080/"
        },
        "outputId": "4cfea309-0ce7-4858-d0cf-bd2abfb65735"
      },
      "execution_count": null,
      "outputs": [
        {
          "output_type": "stream",
          "name": "stdout",
          "text": [
            "[10 10 10 10 10  0  2  4  0  0  1  2  3  0  0  5  7  9 11 13]\n"
          ]
        }
      ]
    },
    {
      "cell_type": "code",
      "source": [
        "print(A)"
      ],
      "metadata": {
        "id": "_oa6GwuYxM30",
        "colab": {
          "base_uri": "https://localhost:8080/"
        },
        "outputId": "6a92f091-1131-4992-9e4f-1aa28758ee81"
      },
      "execution_count": null,
      "outputs": [
        {
          "output_type": "stream",
          "name": "stdout",
          "text": [
            "[[-1 -1 -1 -1 -1]\n",
            " [ 0  2  4  0  0]\n",
            " [ 1  2  3  0  0]\n",
            " [ 5  7  9 11 13]]\n"
          ]
        }
      ]
    },
    {
      "cell_type": "code",
      "source": [],
      "metadata": {
        "id": "8nKxCGXXxdyJ"
      },
      "execution_count": null,
      "outputs": []
    },
    {
      "cell_type": "markdown",
      "source": [
        "#### Concatenating arrays\n"
      ],
      "metadata": {
        "id": "zkhduBYKxo4l"
      }
    },
    {
      "cell_type": "markdown",
      "source": [
        "##### Repeat and tile"
      ],
      "metadata": {
        "id": "HITwDWl9xs3o"
      }
    },
    {
      "cell_type": "code",
      "source": [
        "a = np.array([[1, 2], [3, 4]])\n",
        "print(a)"
      ],
      "metadata": {
        "id": "IEaNRCgZxugV",
        "colab": {
          "base_uri": "https://localhost:8080/"
        },
        "outputId": "85500570-6291-48e5-9135-4052a753787b"
      },
      "execution_count": null,
      "outputs": [
        {
          "output_type": "stream",
          "name": "stdout",
          "text": [
            "[[1 2]\n",
            " [3 4]]\n"
          ]
        }
      ]
    },
    {
      "cell_type": "code",
      "source": [
        "# repeat each item 3 times\n",
        "print(np.repeat(a, 3))"
      ],
      "metadata": {
        "id": "uo84mn_XxujE",
        "colab": {
          "base_uri": "https://localhost:8080/"
        },
        "outputId": "07e6723d-536f-4b0e-e5f5-125f676b9ecf"
      },
      "execution_count": null,
      "outputs": [
        {
          "output_type": "stream",
          "name": "stdout",
          "text": [
            "[1 1 1 2 2 2 3 3 3 4 4 4]\n"
          ]
        }
      ]
    },
    {
      "cell_type": "code",
      "source": [
        "# The result was 1D!\n",
        "print(np.repeat(a, 3, axis=1))"
      ],
      "metadata": {
        "id": "-w_gbqtyxumB",
        "colab": {
          "base_uri": "https://localhost:8080/"
        },
        "outputId": "7ffdc110-a934-450b-df4f-5d10a7783384"
      },
      "execution_count": null,
      "outputs": [
        {
          "output_type": "stream",
          "name": "stdout",
          "text": [
            "[[1 1 1 2 2 2]\n",
            " [3 3 3 4 4 4]]\n"
          ]
        }
      ]
    },
    {
      "cell_type": "code",
      "source": [
        "# repeat the matrix 3 times\n",
        "print(np.tile(a, 3))"
      ],
      "metadata": {
        "id": "kvqVLB_7xu05",
        "colab": {
          "base_uri": "https://localhost:8080/"
        },
        "outputId": "b0448ee9-0179-4e93-da07-91410a7fb8ad"
      },
      "execution_count": null,
      "outputs": [
        {
          "output_type": "stream",
          "name": "stdout",
          "text": [
            "[[1 2 1 2 1 2]\n",
            " [3 4 3 4 3 4]]\n"
          ]
        }
      ]
    },
    {
      "cell_type": "markdown",
      "source": [
        "##### Concatenate"
      ],
      "metadata": {
        "id": "-kGyuiPHx739"
      }
    },
    {
      "cell_type": "code",
      "source": [
        "b = np.array([[5, 6]])\n",
        "print(b.shape)"
      ],
      "metadata": {
        "id": "4pvmVyQHyD7z",
        "colab": {
          "base_uri": "https://localhost:8080/"
        },
        "outputId": "77bb2d9e-7e8a-4c0f-a13e-ac87d381078d"
      },
      "execution_count": null,
      "outputs": [
        {
          "output_type": "stream",
          "name": "stdout",
          "text": [
            "(1, 2)\n"
          ]
        }
      ]
    },
    {
      "cell_type": "code",
      "source": [
        "print(np.concatenate((a, b), axis=0))\n"
      ],
      "metadata": {
        "id": "ep8hhe8kyD-y",
        "colab": {
          "base_uri": "https://localhost:8080/"
        },
        "outputId": "ee78aad4-ae39-4b2f-d077-b2733847bd4f"
      },
      "execution_count": null,
      "outputs": [
        {
          "output_type": "stream",
          "name": "stdout",
          "text": [
            "[[1 2]\n",
            " [3 4]\n",
            " [5 6]]\n"
          ]
        }
      ]
    },
    {
      "cell_type": "code",
      "source": [
        "print(np.concatenate((a, b.T), axis=1))"
      ],
      "metadata": {
        "id": "zMFTc-h-yECO",
        "colab": {
          "base_uri": "https://localhost:8080/"
        },
        "outputId": "89607fc2-0ee6-447e-f780-716ad8c77472"
      },
      "execution_count": null,
      "outputs": [
        {
          "output_type": "stream",
          "name": "stdout",
          "text": [
            "[[1 2 5]\n",
            " [3 4 6]]\n"
          ]
        }
      ]
    },
    {
      "cell_type": "code",
      "source": [],
      "metadata": {
        "id": "oMNibvvey7zr"
      },
      "execution_count": null,
      "outputs": []
    },
    {
      "cell_type": "markdown",
      "source": [
        "##### Stack arrays"
      ],
      "metadata": {
        "id": "J4XZQgAvy76v"
      }
    },
    {
      "cell_type": "code",
      "source": [
        "np.vstack((a,b))\n"
      ],
      "metadata": {
        "id": "xU1nfwuly8nR",
        "colab": {
          "base_uri": "https://localhost:8080/"
        },
        "outputId": "ef1406f5-40ce-4fb1-a706-fa66157c68a1"
      },
      "execution_count": null,
      "outputs": [
        {
          "output_type": "execute_result",
          "data": {
            "text/plain": [
              "array([[1, 2],\n",
              "       [3, 4],\n",
              "       [5, 6]])"
            ]
          },
          "metadata": {},
          "execution_count": 124
        }
      ]
    },
    {
      "cell_type": "code",
      "source": [
        "np.hstack((a,b.T))\n"
      ],
      "metadata": {
        "id": "24bx0B7Sy8qB",
        "colab": {
          "base_uri": "https://localhost:8080/"
        },
        "outputId": "03b25a38-f2c3-438e-aedf-f4f92a88a388"
      },
      "execution_count": null,
      "outputs": [
        {
          "output_type": "execute_result",
          "data": {
            "text/plain": [
              "array([[1, 2, 5],\n",
              "       [3, 4, 6]])"
            ]
          },
          "metadata": {},
          "execution_count": 125
        }
      ]
    },
    {
      "cell_type": "markdown",
      "source": [
        "#### Array manipulation\n",
        "We use 2-dimensional arrays to represent matrices, and can do basic linear algebra operations on them."
      ],
      "metadata": {
        "id": "2-spTJxAzLUu"
      }
    },
    {
      "cell_type": "code",
      "source": [
        "# transposing a matrix\n",
        "print(X.T)\n"
      ],
      "metadata": {
        "id": "TXzKjJylzO6N",
        "colab": {
          "base_uri": "https://localhost:8080/"
        },
        "outputId": "471057d7-ed66-4c26-fb28-74a7e7f87ce2"
      },
      "execution_count": null,
      "outputs": [
        {
          "output_type": "stream",
          "name": "stdout",
          "text": [
            "[[0.88386313 0.         0.        ]\n",
            " [0.98821017 0.         0.        ]\n",
            " [0.74478371 0.         0.        ]\n",
            " [0.01723137 0.         0.        ]\n",
            " [0.31046973 0.         0.        ]]\n"
          ]
        }
      ]
    },
    {
      "cell_type": "code",
      "source": [
        "# Multiply all entries of X by 2:\n",
        "print(2*X)"
      ],
      "metadata": {
        "id": "zXAO_etMzcpZ",
        "colab": {
          "base_uri": "https://localhost:8080/"
        },
        "outputId": "346de146-cfe8-47f2-ffeb-111780252780"
      },
      "execution_count": null,
      "outputs": [
        {
          "output_type": "stream",
          "name": "stdout",
          "text": [
            "[[1.76772627 1.97642035 1.48956741 0.03446274 0.62093946]\n",
            " [0.         0.         0.         0.         0.        ]\n",
            " [0.         0.         0.         0.         0.        ]]\n"
          ]
        }
      ]
    },
    {
      "cell_type": "markdown",
      "source": [
        "### Problem 2\n",
        "Compute the following matrices:\n",
        "\n",
        "- the one obtained by adding 1 to all entries of X\n",
        "- the one which entries are the logarithm (base 2) of the previous one\n",
        "- the one which entries are the squares of the entries of X"
      ],
      "metadata": {
        "id": "j8cxfXzZzTin"
      }
    },
    {
      "cell_type": "code",
      "source": [
        "print(X)\n",
        "# Add 1 to all entries of X\n",
        "X_1 = X + 1\n",
        "print(X_1)\n",
        "\n",
        "# Compute the array that has as entries the logarithm (base 2) of the entries of X\n",
        "log2X = np.log2(X)\n",
        "print(log2X)\n",
        "\n",
        "# Square all entries of X\n",
        "X_sq = X**2\n",
        "print(X_sq)"
      ],
      "metadata": {
        "id": "wNbZrSClznRQ",
        "colab": {
          "base_uri": "https://localhost:8080/"
        },
        "outputId": "3d6383c0-5ad0-468b-bffb-19319bdb83da"
      },
      "execution_count": null,
      "outputs": [
        {
          "output_type": "stream",
          "name": "stdout",
          "text": [
            "[[0.88386313 0.98821017 0.74478371 0.01723137 0.31046973]\n",
            " [0.         0.         0.         0.         0.        ]\n",
            " [0.         0.         0.         0.         0.        ]]\n",
            "[[1.88386313 1.98821017 1.74478371 1.01723137 1.31046973]\n",
            " [1.         1.         1.         1.         1.        ]\n",
            " [1.         1.         1.         1.         1.        ]]\n",
            "[[-0.17810511 -0.01711019 -0.42510659 -5.85881858 -1.68747547]\n",
            " [       -inf        -inf        -inf        -inf        -inf]\n",
            " [       -inf        -inf        -inf        -inf        -inf]]\n",
            "[[7.81214039e-01 9.76559347e-01 5.54702767e-01 2.96920196e-04\n",
            "  9.63914539e-02]\n",
            " [0.00000000e+00 0.00000000e+00 0.00000000e+00 0.00000000e+00\n",
            "  0.00000000e+00]\n",
            " [0.00000000e+00 0.00000000e+00 0.00000000e+00 0.00000000e+00\n",
            "  0.00000000e+00]]\n"
          ]
        },
        {
          "output_type": "stream",
          "name": "stderr",
          "text": [
            "/usr/local/lib/python3.7/dist-packages/ipykernel_launcher.py:7: RuntimeWarning: divide by zero encountered in log2\n",
            "  import sys\n"
          ]
        }
      ]
    },
    {
      "cell_type": "markdown",
      "source": [
        "#### Matrix manipulation"
      ],
      "metadata": {
        "id": "k55SMeX0zsAr"
      }
    },
    {
      "cell_type": "code",
      "source": [
        "# Element-wise matrix multiplication\n",
        "print(X*X)"
      ],
      "metadata": {
        "id": "mzwbo2OXz5lO",
        "colab": {
          "base_uri": "https://localhost:8080/"
        },
        "outputId": "8db78ca8-816a-41b4-883c-5f67b71668c8"
      },
      "execution_count": null,
      "outputs": [
        {
          "output_type": "stream",
          "name": "stdout",
          "text": [
            "[[7.81214039e-01 9.76559347e-01 5.54702767e-01 2.96920196e-04\n",
            "  9.63914539e-02]\n",
            " [0.00000000e+00 0.00000000e+00 0.00000000e+00 0.00000000e+00\n",
            "  0.00000000e+00]\n",
            " [0.00000000e+00 0.00000000e+00 0.00000000e+00 0.00000000e+00\n",
            "  0.00000000e+00]]\n"
          ]
        }
      ]
    },
    {
      "cell_type": "code",
      "source": [
        "# Matrix multiplication \n",
        "print(np.dot(X, X.T))\n",
        "print(X.dot(X.T))"
      ],
      "metadata": {
        "id": "ABTBQA6nz5pi",
        "colab": {
          "base_uri": "https://localhost:8080/"
        },
        "outputId": "da6845e6-7b23-493b-d184-4544aeca26f8"
      },
      "execution_count": null,
      "outputs": [
        {
          "output_type": "stream",
          "name": "stdout",
          "text": [
            "[[2.40916453 0.         0.        ]\n",
            " [0.         0.         0.        ]\n",
            " [0.         0.         0.        ]]\n",
            "[[2.40916453 0.         0.        ]\n",
            " [0.         0.         0.        ]\n",
            " [0.         0.         0.        ]]\n"
          ]
        }
      ]
    },
    {
      "cell_type": "markdown",
      "source": [
        "### Problem 3\n",
        "\n",
        "- Create a random array B of size 5 x 4\n",
        "- Multiply X by B"
      ],
      "metadata": {
        "id": "6V9W8pI9z53W"
      }
    },
    {
      "cell_type": "code",
      "source": [
        "B = np.random.default_rng(1).random(20).reshape(5, 4)\n",
        "\n",
        "print(X.shape)\n",
        "print(B.shape)\n",
        "print('X =', X)\n",
        "print('B =', B)\n",
        "print('X.B=', X.dot(B))"
      ],
      "metadata": {
        "id": "9jKK8Wvzz6EU",
        "colab": {
          "base_uri": "https://localhost:8080/"
        },
        "outputId": "ca7fe0d8-0c95-4284-d7fd-34ff49e20473"
      },
      "execution_count": null,
      "outputs": [
        {
          "output_type": "stream",
          "name": "stdout",
          "text": [
            "(3, 5)\n",
            "(5, 4)\n",
            "X = [[0.88386313 0.98821017 0.74478371 0.01723137 0.31046973]\n",
            " [0.         0.         0.         0.         0.        ]\n",
            " [0.         0.         0.         0.         0.        ]]\n",
            "B = [[0.51182162 0.9504637  0.14415961 0.94864945]\n",
            " [0.31183145 0.42332645 0.82770259 0.40919914]\n",
            " [0.54959369 0.02755911 0.75351311 0.53814331]\n",
            " [0.32973172 0.7884287  0.30319483 0.45349789]\n",
            " [0.1340417  0.40311299 0.20345524 0.26231334]]\n",
            "X.B= [[1.21716132 1.41768099 1.57495693 1.73290614]\n",
            " [0.         0.         0.         0.        ]\n",
            " [0.         0.         0.         0.        ]]\n"
          ]
        }
      ]
    },
    {
      "cell_type": "markdown",
      "source": [
        "### Problem 4\n",
        "Using Numpy and no loop, compute an approximation of $\\pi$ with Wallis' product: $\\pi = 2 \\prod_{n=1}^\\infty \\frac{4 n^2}{4 n^2 - 1}$"
      ],
      "metadata": {
        "id": "01s70n7iTr7k"
      }
    },
    {
      "cell_type": "code",
      "source": [
        "n = 10000\n",
        "up_to = np.arange(1, n+1)\n",
        "up_to_sq = up_to**2\n",
        "\n",
        "wallis = 2 * np.prod(4 * up_to_sq /(4 * up_to_sq - 1))\n",
        "print('pi appoximation with the Wallis\\' product is: ', wallis)\n",
        "print('actual pi is: ', np.pi)\n",
        "\n",
        "\n"
      ],
      "metadata": {
        "id": "Z2hLVujGUTXf",
        "colab": {
          "base_uri": "https://localhost:8080/"
        },
        "outputId": "90ac9167-95b9-46af-af97-ea8b1ac3ece6"
      },
      "execution_count": null,
      "outputs": [
        {
          "output_type": "stream",
          "name": "stdout",
          "text": [
            "pi appoximation with the Wallis' product is:  3.1415141186819566\n",
            "actual pi is:  3.141592653589793\n"
          ]
        }
      ]
    },
    {
      "cell_type": "markdown",
      "source": [
        "### Working with random numbers\n",
        "The `numpy.random` library's structure has changed recently, make sure to follow the new [guidelines](https://numpy.org/doc/stable/reference/random/index.html#random-quick-start). We will use them in this course, and you can change this webpage if you want more details."
      ],
      "metadata": {
        "id": "2GeSohFJ2UL_"
      }
    },
    {
      "cell_type": "code",
      "source": [
        "from numpy.random import default_rng\n",
        "\n",
        "# initialize random generator\n",
        "rng = default_rng()\n",
        "# draw some random numbers from a normal distribution\n",
        "vals = rng.standard_normal(10)\n",
        "more_vals = rng.standard_normal(10)\n",
        "print(vals)\n",
        "print(more_vals)"
      ],
      "metadata": {
        "id": "eUJWatw82Ww8",
        "colab": {
          "base_uri": "https://localhost:8080/"
        },
        "outputId": "6390f9a1-063e-4e22-f5b9-61d11c144b93"
      },
      "execution_count": null,
      "outputs": [
        {
          "output_type": "stream",
          "name": "stdout",
          "text": [
            "[-0.29686593  0.15806766 -0.03923948 -0.10135256  0.58662077  0.91213331\n",
            "  0.58921039 -2.11413208  1.51537549  0.63501753]\n",
            "[-0.48227984  0.59097357 -1.63575646  0.72320797 -1.62957785 -1.38364041\n",
            " -0.81246091  1.47101023 -0.21018942 -0.40060552]\n"
          ]
        }
      ]
    },
    {
      "cell_type": "code",
      "source": [
        "# you may want to make your code deterministic\n",
        "rng = default_rng(15)\n",
        "vals = rng.standard_normal(10)\n",
        "more_vals = default_rng(15).standard_normal(10)\n",
        "print(vals)\n",
        "print(more_vals)"
      ],
      "metadata": {
        "id": "7tlsBkAe3-lR",
        "colab": {
          "base_uri": "https://localhost:8080/"
        },
        "outputId": "7bf41d41-d3e9-4157-b9a6-a8a1e7d40d20"
      },
      "execution_count": null,
      "outputs": [
        {
          "output_type": "stream",
          "name": "stdout",
          "text": [
            "[-1.43087302 -0.93654772  0.39393836 -0.52408663  0.5256162   0.80732362\n",
            " -1.44353139  1.01706379 -0.59564865  2.09408499]\n",
            "[-1.43087302 -0.93654772  0.39393836 -0.52408663  0.5256162   0.80732362\n",
            " -1.44353139  1.01706379 -0.59564865  2.09408499]\n"
          ]
        }
      ]
    },
    {
      "cell_type": "markdown",
      "source": [
        "#### Observe an empirical distribution"
      ],
      "metadata": {
        "id": "ZioFqyyr5Ftf"
      }
    },
    {
      "cell_type": "code",
      "source": [
        "rng = default_rng(95)\n",
        "# distribution parameters\n",
        "n = 100\n",
        "p = 0.2\n",
        "\n",
        "binomial_values = rng.binomial(n, p, size=50)\n",
        "print(binomial_values)"
      ],
      "metadata": {
        "id": "mqk4NIN64Sst",
        "colab": {
          "base_uri": "https://localhost:8080/"
        },
        "outputId": "31489491-1eb2-4cab-e94b-b9ea46863e1c"
      },
      "execution_count": null,
      "outputs": [
        {
          "output_type": "stream",
          "name": "stdout",
          "text": [
            "[20 26 17 19 19 20 16 23 23 19 17 20 18 23 19 24 20 17 23 22 19 13 15 26\n",
            " 23 23 18 20 20 20 18 18 21 22 19 19 20 20 25 16 27 22 19 24 15 18 16 21\n",
            " 27 22]\n"
          ]
        }
      ]
    },
    {
      "cell_type": "markdown",
      "source": [
        "Let's now look at what we have with a histogram! using the basic plotting library: [matplotlib](https://matplotlib.org/stable/index.html)"
      ],
      "metadata": {
        "id": "H5qZdjy05l_j"
      }
    },
    {
      "cell_type": "code",
      "source": [
        "import matplotlib.pyplot as plt"
      ],
      "metadata": {
        "id": "R7_IEvn35dDS"
      },
      "execution_count": null,
      "outputs": []
    },
    {
      "cell_type": "code",
      "source": [
        "plt.hist(binomial_values, bins=10)"
      ],
      "metadata": {
        "id": "yT9Em3OU-hVl",
        "colab": {
          "base_uri": "https://localhost:8080/",
          "height": 336
        },
        "outputId": "eeaa6b5f-3091-40fb-8869-6e286859b2b3"
      },
      "execution_count": null,
      "outputs": [
        {
          "output_type": "execute_result",
          "data": {
            "text/plain": [
              "(array([ 1.,  2.,  6.,  5.,  8., 11.,  4.,  8.,  1.,  4.]),\n",
              " array([13. , 14.4, 15.8, 17.2, 18.6, 20. , 21.4, 22.8, 24.2, 25.6, 27. ]),\n",
              " <a list of 10 Patch objects>)"
            ]
          },
          "metadata": {},
          "execution_count": 137
        },
        {
          "output_type": "display_data",
          "data": {
            "text/plain": [
              "<Figure size 432x288 with 1 Axes>"
            ],
            "image/png": "[encoded data removed]"
          },
          "metadata": {
            "needs_background": "light"
          }
        }
      ]
    },
    {
      "cell_type": "code",
      "source": [
        "# we can compare it with a normal distriution,\n",
        "# which can be found in the scipy package for that\n",
        "from scipy.stats import norm\n",
        "\n",
        "th_mean = n * p\n",
        "th_variance = n * p * (1 - p)\n",
        "th_std = np.sqrt(th_variance)\n",
        "xx = np.linspace(norm.ppf(0.01),\n",
        "                norm.ppf(0.99), 100)\n",
        "\n",
        "fig, ax = plt.subplots(1, 1)\n",
        "ax.plot(xx, norm.pdf(xx),\n",
        "       'r-', lw=5, alpha=0.6, label='norm pdf')\n",
        "ax.hist((binomial_values - th_mean)/th_std, bins=10, density=True, alpha=0.2,\n",
        "        label='standardized binomial draws')"
      ],
      "metadata": {
        "id": "6SNTlVgG-jAe",
        "colab": {
          "base_uri": "https://localhost:8080/",
          "height": 354
        },
        "outputId": "9685b419-6726-4a6a-bd48-49164e45a338"
      },
      "execution_count": null,
      "outputs": [
        {
          "output_type": "execute_result",
          "data": {
            "text/plain": [
              "(array([0.05714286, 0.11428571, 0.34285714, 0.28571429, 0.45714286,\n",
              "        0.62857143, 0.22857143, 0.45714286, 0.05714286, 0.22857143]),\n",
              " array([-1.75, -1.4 , -1.05, -0.7 , -0.35,  0.  ,  0.35,  0.7 ,  1.05,\n",
              "         1.4 ,  1.75]),\n",
              " <a list of 10 Patch objects>)"
            ]
          },
          "metadata": {},
          "execution_count": 138
        },
        {
          "output_type": "display_data",
          "data": {
            "text/plain": [
              "<Figure size 432x288 with 1 Axes>"
            ],
            "image/png": "[encoded data removed]"
          },
          "metadata": {
            "needs_background": "light"
          }
        }
      ]
    },
    {
      "cell_type": "code",
      "source": [
        "# let's now make a nicer plot\n",
        "fig, ax = plt.subplots(1, 1)\n",
        "ax.plot(xx, norm.pdf(xx),\n",
        "       'r-', lw=5, alpha=0.6, label='norm pdf')\n",
        "ax.hist((binomial_values - th_mean)/th_std, bins=10, density=True, alpha=0.2,\n",
        "        label='standardized binomial draws')\n",
        "ax.set_title('Comparison between empitical draws and theoretical pdf')\n",
        "ax.set_xlabel('X')\n",
        "ax.set_ylabel('density')\n",
        "\n",
        "ax.legend(loc=2, bbox_to_anchor=(1.05, 0.9))"
      ],
      "metadata": {
        "id": "k7yAULu5_E8-",
        "colab": {
          "base_uri": "https://localhost:8080/",
          "height": 313
        },
        "outputId": "52178e2b-5ef6-463c-acc2-45b6833b1c2c"
      },
      "execution_count": null,
      "outputs": [
        {
          "output_type": "execute_result",
          "data": {
            "text/plain": [
              "<matplotlib.legend.Legend at 0x7f8520b97610>"
            ]
          },
          "metadata": {},
          "execution_count": 139
        },
        {
          "output_type": "display_data",
          "data": {
            "text/plain": [
              "<Figure size 432x288 with 1 Axes>"
            ],
            "image/png": "[encoded data removed]"
          },
          "metadata": {
            "needs_background": "light"
          }
        }
      ]
    },
    {
      "cell_type": "code",
      "source": [],
      "metadata": {
        "id": "XiLi8HnY_o6x"
      },
      "execution_count": null,
      "outputs": []
    },
    {
      "cell_type": "markdown",
      "source": [
        "### Problem 5\n",
        "Matplotlib is really nice and flexible, but the [Seaborn library](https://seaborn.pydata.org/index.html) make very good-looking plots. Can you reproduce the following plot with seaborn, and make it as nice as you can?"
      ],
      "metadata": {
        "id": "BHhfcMH1Ish5"
      }
    },
    {
      "cell_type": "code",
      "source": [
        "import seaborn as sns\n",
        "\n",
        "sns.set_context('notebook', font_scale=1.3)\n",
        "g = sns.displot((binomial_values - th_mean)/th_std, stat='density', label='binomial draws')\n",
        "sns.kdeplot((binomial_values - th_mean)/th_std, ax=g.axes[0, 0], label='empirical density')\n",
        "g.axes[0, 0].plot(xx, norm.pdf(xx),\n",
        "       'r-', lw=5, alpha=0.6, label='normal theoretical density')\n",
        "leg = g.axes[0, 0].legend(loc=\"upper right\", bbox_to_anchor=(1.5, 1))\n",
        "tit = g.axes[0, 0].set_title('Comparison between empitical draws\\nand theoretical pdf')\n",
        "xlab = g.axes[0, 0].set_xlabel('X')"
      ],
      "metadata": {
        "id": "ZPfAwAE8JE8F",
        "colab": {
          "base_uri": "https://localhost:8080/",
          "height": 412
        },
        "outputId": "b2c5377f-7312-43c5-e939-2657a4ea8f83"
      },
      "execution_count": null,
      "outputs": [
        {
          "output_type": "display_data",
          "data": {
            "text/plain": [
              "<Figure size 360x360 with 1 Axes>"
            ],
            "image/png": "[encoded data removed]"
          },
          "metadata": {
            "needs_background": "light"
          }
        }
      ]
    },
    {
      "cell_type": "code",
      "source": [],
      "metadata": {
        "id": "qUs5gI8AJPvZ"
      },
      "execution_count": null,
      "outputs": []
    },
    {
      "cell_type": "markdown",
      "source": [
        "### Data analysis with Python\n",
        "We have seen a lot about scientific programming, but there is a heavy component of this course dedicated to **data** so a brief word on that.\n",
        "\n",
        "The main library to read and manipulate data is [Pandas](https://pandas.pydata.org/)"
      ],
      "metadata": {
        "id": "-MzbVsBQLxp1"
      }
    },
    {
      "cell_type": "code",
      "source": [
        "import pandas as pd"
      ],
      "metadata": {
        "id": "UKTptXXVM0WQ"
      },
      "execution_count": null,
      "outputs": []
    },
    {
      "cell_type": "markdown",
      "source": [
        "I want to analyze the Titanic passenger data, available as a CSV file."
      ],
      "metadata": {
        "id": "-utkO4AROJC6"
      }
    },
    {
      "cell_type": "code",
      "source": [
        "titanic = pd.read_csv(\"https://raw.githubusercontent.com/pandas-dev/pandas/main/doc/data/titanic.csv\")"
      ],
      "metadata": {
        "id": "I34Z2li_M2mI"
      },
      "execution_count": null,
      "outputs": []
    },
    {
      "cell_type": "markdown",
      "source": [
        "pandas provides the `read_csv` function to read data stored as a csv file into a pandas `DataFrame`. pandas supports many different file formats or data sources out of the box (csv, excel, sql, json, parquet, …), each of them with the prefix `read_*`.\n",
        "\n",
        "Make sure to always have a check on the data after reading in the data. When displaying a `DataFrame`, the first and last 5 rows will be shown by default:"
      ],
      "metadata": {
        "id": "y5-0-5RPON2t"
      }
    },
    {
      "cell_type": "code",
      "source": [
        "titanic"
      ],
      "metadata": {
        "id": "t9NsNunBM_DN",
        "colab": {
          "base_uri": "https://localhost:8080/",
          "height": 991
        },
        "outputId": "2e3e5f26-d810-435e-8525-5165976001c8"
      },
      "execution_count": null,
      "outputs": [
        {
          "output_type": "execute_result",
          "data": {
            "text/plain": [
              "     PassengerId  Survived  Pclass  \\\n",
              "0              1         0       3   \n",
              "1              2         1       1   \n",
              "2              3         1       3   \n",
              "3              4         1       1   \n",
              "4              5         0       3   \n",
              "..           ...       ...     ...   \n",
              "886          887         0       2   \n",
              "887          888         1       1   \n",
              "888          889         0       3   \n",
              "889          890         1       1   \n",
              "890          891         0       3   \n",
              "\n",
              "                                                  Name     Sex   Age  SibSp  \\\n",
              "0                              Braund, Mr. Owen Harris    male  22.0      1   \n",
              "1    Cumings, Mrs. John Bradley (Florence Briggs Th...  female  38.0      1   \n",
              "2                               Heikkinen, Miss. Laina  female  26.0      0   \n",
              "3         Futrelle, Mrs. Jacques Heath (Lily May Peel)  female  35.0      1   \n",
              "4                             Allen, Mr. William Henry    male  35.0      0   \n",
              "..                                                 ...     ...   ...    ...   \n",
              "886                              Montvila, Rev. Juozas    male  27.0      0   \n",
              "887                       Graham, Miss. Margaret Edith  female  19.0      0   \n",
              "888           Johnston, Miss. Catherine Helen \"Carrie\"  female   NaN      1   \n",
              "889                              Behr, Mr. Karl Howell    male  26.0      0   \n",
              "890                                Dooley, Mr. Patrick    male  32.0      0   \n",
              "\n",
              "     Parch            Ticket     Fare Cabin Embarked  \n",
              "0        0         A/5 21171   7.2500   NaN        S  \n",
              "1        0          PC 17599  71.2833   C85        C  \n",
              "2        0  STON/O2. 3101282   7.9250   NaN        S  \n",
              "3        0            113803  53.1000  C123        S  \n",
              "4        0            373450   8.0500   NaN        S  \n",
              "..     ...               ...      ...   ...      ...  \n",
              "886      0            211536  13.0000   NaN        S  \n",
              "887      0            112053  30.0000   B42        S  \n",
              "888      2        W./C. 6607  23.4500   NaN        S  \n",
              "889      0            111369  30.0000  C148        C  \n",
              "890      0            370376   7.7500   NaN        Q  \n",
              "\n",
              "[891 rows x 12 columns]"
            ],
            "text/html": [
              "\n",
              "  <div id=\"df-6b86b44c-fa1c-45e8-b313-d43f653ce94c\">\n",
              "    <div class=\"colab-df-container\">\n",
              "      <div>\n",
              "<style scoped>\n",
              "    .dataframe tbody tr th:only-of-type {\n",
              "        vertical-align: middle;\n",
              "    }\n",
              "\n",
              "    .dataframe tbody tr th {\n",
              "        vertical-align: top;\n",
              "    }\n",
              "\n",
              "    .dataframe thead th {\n",
              "        text-align: right;\n",
              "    }\n",
              "</style>\n",
              "<table border=\"1\" class=\"dataframe\">\n",
              "  <thead>\n",
              "    <tr style=\"text-align: right;\">\n",
              "      <th></th>\n",
              "      <th>PassengerId</th>\n",
              "      <th>Survived</th>\n",
              "      <th>Pclass</th>\n",
              "      <th>Name</th>\n",
              "      <th>Sex</th>\n",
              "      <th>Age</th>\n",
              "      <th>SibSp</th>\n",
              "      <th>Parch</th>\n",
              "      <th>Ticket</th>\n",
              "      <th>Fare</th>\n",
              "      <th>Cabin</th>\n",
              "      <th>Embarked</th>\n",
              "    </tr>\n",
              "  </thead>\n",
              "  <tbody>\n",
              "    <tr>\n",
              "      <th>0</th>\n",
              "      <td>1</td>\n",
              "      <td>0</td>\n",
              "      <td>3</td>\n",
              "      <td>Braund, Mr. Owen Harris</td>\n",
              "      <td>male</td>\n",
              "      <td>22.0</td>\n",
              "      <td>1</td>\n",
              "      <td>0</td>\n",
              "      <td>A/5 21171</td>\n",
              "      <td>7.2500</td>\n",
              "      <td>NaN</td>\n",
              "      <td>S</td>\n",
              "    </tr>\n",
              "    <tr>\n",
              "      <th>1</th>\n",
              "      <td>2</td>\n",
              "      <td>1</td>\n",
              "      <td>1</td>\n",
              "      <td>Cumings, Mrs. John Bradley (Florence Briggs Th...</td>\n",
              "      <td>female</td>\n",
              "      <td>38.0</td>\n",
              "      <td>1</td>\n",
              "      <td>0</td>\n",
              "      <td>PC 17599</td>\n",
              "      <td>71.2833</td>\n",
              "      <td>C85</td>\n",
              "      <td>C</td>\n",
              "    </tr>\n",
              "    <tr>\n",
              "      <th>2</th>\n",
              "      <td>3</td>\n",
              "      <td>1</td>\n",
              "      <td>3</td>\n",
              "      <td>Heikkinen, Miss. Laina</td>\n",
              "      <td>female</td>\n",
              "      <td>26.0</td>\n",
              "      <td>0</td>\n",
              "      <td>0</td>\n",
              "      <td>STON/O2. 3101282</td>\n",
              "      <td>7.9250</td>\n",
              "      <td>NaN</td>\n",
              "      <td>S</td>\n",
              "    </tr>\n",
              "    <tr>\n",
              "      <th>3</th>\n",
              "      <td>4</td>\n",
              "      <td>1</td>\n",
              "      <td>1</td>\n",
              "      <td>Futrelle, Mrs. Jacques Heath (Lily May Peel)</td>\n",
              "      <td>female</td>\n",
              "      <td>35.0</td>\n",
              "      <td>1</td>\n",
              "      <td>0</td>\n",
              "      <td>113803</td>\n",
              "      <td>53.1000</td>\n",
              "      <td>C123</td>\n",
              "      <td>S</td>\n",
              "    </tr>\n",
              "    <tr>\n",
              "      <th>4</th>\n",
              "      <td>5</td>\n",
              "      <td>0</td>\n",
              "      <td>3</td>\n",
              "      <td>Allen, Mr. William Henry</td>\n",
              "      <td>male</td>\n",
              "      <td>35.0</td>\n",
              "      <td>0</td>\n",
              "      <td>0</td>\n",
              "      <td>373450</td>\n",
              "      <td>8.0500</td>\n",
              "      <td>NaN</td>\n",
              "      <td>S</td>\n",
              "    </tr>\n",
              "    <tr>\n",
              "      <th>...</th>\n",
              "      <td>...</td>\n",
              "      <td>...</td>\n",
              "      <td>...</td>\n",
              "      <td>...</td>\n",
              "      <td>...</td>\n",
              "      <td>...</td>\n",
              "      <td>...</td>\n",
              "      <td>...</td>\n",
              "      <td>...</td>\n",
              "      <td>...</td>\n",
              "      <td>...</td>\n",
              "      <td>...</td>\n",
              "    </tr>\n",
              "    <tr>\n",
              "      <th>886</th>\n",
              "      <td>887</td>\n",
              "      <td>0</td>\n",
              "      <td>2</td>\n",
              "      <td>Montvila, Rev. Juozas</td>\n",
              "      <td>male</td>\n",
              "      <td>27.0</td>\n",
              "      <td>0</td>\n",
              "      <td>0</td>\n",
              "      <td>211536</td>\n",
              "      <td>13.0000</td>\n",
              "      <td>NaN</td>\n",
              "      <td>S</td>\n",
              "    </tr>\n",
              "    <tr>\n",
              "      <th>887</th>\n",
              "      <td>888</td>\n",
              "      <td>1</td>\n",
              "      <td>1</td>\n",
              "      <td>Graham, Miss. Margaret Edith</td>\n",
              "      <td>female</td>\n",
              "      <td>19.0</td>\n",
              "      <td>0</td>\n",
              "      <td>0</td>\n",
              "      <td>112053</td>\n",
              "      <td>30.0000</td>\n",
              "      <td>B42</td>\n",
              "      <td>S</td>\n",
              "    </tr>\n",
              "    <tr>\n",
              "      <th>888</th>\n",
              "      <td>889</td>\n",
              "      <td>0</td>\n",
              "      <td>3</td>\n",
              "      <td>Johnston, Miss. Catherine Helen \"Carrie\"</td>\n",
              "      <td>female</td>\n",
              "      <td>NaN</td>\n",
              "      <td>1</td>\n",
              "      <td>2</td>\n",
              "      <td>W./C. 6607</td>\n",
              "      <td>23.4500</td>\n",
              "      <td>NaN</td>\n",
              "      <td>S</td>\n",
              "    </tr>\n",
              "    <tr>\n",
              "      <th>889</th>\n",
              "      <td>890</td>\n",
              "      <td>1</td>\n",
              "      <td>1</td>\n",
              "      <td>Behr, Mr. Karl Howell</td>\n",
              "      <td>male</td>\n",
              "      <td>26.0</td>\n",
              "      <td>0</td>\n",
              "      <td>0</td>\n",
              "      <td>111369</td>\n",
              "      <td>30.0000</td>\n",
              "      <td>C148</td>\n",
              "      <td>C</td>\n",
              "    </tr>\n",
              "    <tr>\n",
              "      <th>890</th>\n",
              "      <td>891</td>\n",
              "      <td>0</td>\n",
              "      <td>3</td>\n",
              "      <td>Dooley, Mr. Patrick</td>\n",
              "      <td>male</td>\n",
              "      <td>32.0</td>\n",
              "      <td>0</td>\n",
              "      <td>0</td>\n",
              "      <td>370376</td>\n",
              "      <td>7.7500</td>\n",
              "      <td>NaN</td>\n",
              "      <td>Q</td>\n",
              "    </tr>\n",
              "  </tbody>\n",
              "</table>\n",
              "<p>891 rows × 12 columns</p>\n",
              "</div>\n",
              "      <button class=\"colab-df-convert\" onclick=\"convertToInteractive('df-6b86b44c-fa1c-45e8-b313-d43f653ce94c')\"\n",
              "              title=\"Convert this dataframe to an interactive table.\"\n",
              "              style=\"display:none;\">\n",
              "        \n",
              "  <svg xmlns=\"http://www.w3.org/2000/svg\" height=\"24px\"viewBox=\"0 0 24 24\"\n",
              "       width=\"24px\">\n",
              "    <path d=\"M0 0h24v24H0V0z\" fill=\"none\"/>\n",
              "    <path d=\"M18.56 5.44l.94 2.06.94-2.06 2.06-.94-2.06-.94-.94-2.06-.94 2.06-2.06.94zm-11 1L8.5 8.5l.94-2.06 2.06-.94-2.06-.94L8.5 2.5l-.94 2.06-2.06.94zm10 10l.94 2.06.94-2.06 2.06-.94-2.06-.94-.94-2.06-.94 2.06-2.06.94z\"/><path d=\"M17.41 7.96l-1.37-1.37c-.4-.4-.92-.59-1.43-.59-.52 0-1.04.2-1.43.59L10.3 9.45l-7.72 7.72c-.78.78-.78 2.05 0 2.83L4 21.41c.39.39.9.59 1.41.59.51 0 1.02-.2 1.41-.59l7.78-7.78 2.81-2.81c.8-.78.8-2.07 0-2.86zM5.41 20L4 18.59l7.72-7.72 1.47 1.35L5.41 20z\"/>\n",
              "  </svg>\n",
              "      </button>\n",
              "      \n",
              "  <style>\n",
              "    .colab-df-container {\n",
              "      display:flex;\n",
              "      flex-wrap:wrap;\n",
              "      gap: 12px;\n",
              "    }\n",
              "\n",
              "    .colab-df-convert {\n",
              "      background-color: #E8F0FE;\n",
              "      border: none;\n",
              "      border-radius: 50%;\n",
              "      cursor: pointer;\n",
              "      display: none;\n",
              "      fill: #1967D2;\n",
              "      height: 32px;\n",
              "      padding: 0 0 0 0;\n",
              "      width: 32px;\n",
              "    }\n",
              "\n",
              "    .colab-df-convert:hover {\n",
              "      background-color: #E2EBFA;\n",
              "      box-shadow: 0px 1px 2px rgba(60, 64, 67, 0.3), 0px 1px 3px 1px rgba(60, 64, 67, 0.15);\n",
              "      fill: #174EA6;\n",
              "    }\n",
              "\n",
              "    [theme=dark] .colab-df-convert {\n",
              "      background-color: #3B4455;\n",
              "      fill: #D2E3FC;\n",
              "    }\n",
              "\n",
              "    [theme=dark] .colab-df-convert:hover {\n",
              "      background-color: #434B5C;\n",
              "      box-shadow: 0px 1px 3px 1px rgba(0, 0, 0, 0.15);\n",
              "      filter: drop-shadow(0px 1px 2px rgba(0, 0, 0, 0.3));\n",
              "      fill: #FFFFFF;\n",
              "    }\n",
              "  </style>\n",
              "\n",
              "      <script>\n",
              "        const buttonEl =\n",
              "          document.querySelector('#df-6b86b44c-fa1c-45e8-b313-d43f653ce94c button.colab-df-convert');\n",
              "        buttonEl.style.display =\n",
              "          google.colab.kernel.accessAllowed ? 'block' : 'none';\n",
              "\n",
              "        async function convertToInteractive(key) {\n",
              "          const element = document.querySelector('#df-6b86b44c-fa1c-45e8-b313-d43f653ce94c');\n",
              "          const dataTable =\n",
              "            await google.colab.kernel.invokeFunction('convertToInteractive',\n",
              "                                                     [key], {});\n",
              "          if (!dataTable) return;\n",
              "\n",
              "          const docLinkHtml = 'Like what you see? Visit the ' +\n",
              "            '<a target=\"_blank\" href=https://colab.research.google.com/notebooks/data_table.ipynb>data table notebook</a>'\n",
              "            + ' to learn more about interactive tables.';\n",
              "          element.innerHTML = '';\n",
              "          dataTable['output_type'] = 'display_data';\n",
              "          await google.colab.output.renderOutput(dataTable, element);\n",
              "          const docLink = document.createElement('div');\n",
              "          docLink.innerHTML = docLinkHtml;\n",
              "          element.appendChild(docLink);\n",
              "        }\n",
              "      </script>\n",
              "    </div>\n",
              "  </div>\n",
              "  "
            ]
          },
          "metadata": {},
          "execution_count": 143
        }
      ]
    },
    {
      "cell_type": "markdown",
      "source": [
        "We want to see the first 8 rows of a pandas DataFrame."
      ],
      "metadata": {
        "id": "EazQqiqnOkkR"
      }
    },
    {
      "cell_type": "code",
      "source": [
        "titanic.head(8)\n"
      ],
      "metadata": {
        "id": "lACxj_D3Nds_",
        "colab": {
          "base_uri": "https://localhost:8080/",
          "height": 746
        },
        "outputId": "4c2b3fd3-980d-495c-cea9-7291dbe76293"
      },
      "execution_count": null,
      "outputs": [
        {
          "output_type": "execute_result",
          "data": {
            "text/plain": [
              "   PassengerId  Survived  Pclass  \\\n",
              "0            1         0       3   \n",
              "1            2         1       1   \n",
              "2            3         1       3   \n",
              "3            4         1       1   \n",
              "4            5         0       3   \n",
              "5            6         0       3   \n",
              "6            7         0       1   \n",
              "7            8         0       3   \n",
              "\n",
              "                                                Name     Sex   Age  SibSp  \\\n",
              "0                            Braund, Mr. Owen Harris    male  22.0      1   \n",
              "1  Cumings, Mrs. John Bradley (Florence Briggs Th...  female  38.0      1   \n",
              "2                             Heikkinen, Miss. Laina  female  26.0      0   \n",
              "3       Futrelle, Mrs. Jacques Heath (Lily May Peel)  female  35.0      1   \n",
              "4                           Allen, Mr. William Henry    male  35.0      0   \n",
              "5                                   Moran, Mr. James    male   NaN      0   \n",
              "6                            McCarthy, Mr. Timothy J    male  54.0      0   \n",
              "7                     Palsson, Master. Gosta Leonard    male   2.0      3   \n",
              "\n",
              "   Parch            Ticket     Fare Cabin Embarked  \n",
              "0      0         A/5 21171   7.2500   NaN        S  \n",
              "1      0          PC 17599  71.2833   C85        C  \n",
              "2      0  STON/O2. 3101282   7.9250   NaN        S  \n",
              "3      0            113803  53.1000  C123        S  \n",
              "4      0            373450   8.0500   NaN        S  \n",
              "5      0            330877   8.4583   NaN        Q  \n",
              "6      0             17463  51.8625   E46        S  \n",
              "7      1            349909  21.0750   NaN        S  "
            ],
            "text/html": [
              "\n",
              "  <div id=\"df-ada935fa-e219-4898-932c-f20a119fd60f\">\n",
              "    <div class=\"colab-df-container\">\n",
              "      <div>\n",
              "<style scoped>\n",
              "    .dataframe tbody tr th:only-of-type {\n",
              "        vertical-align: middle;\n",
              "    }\n",
              "\n",
              "    .dataframe tbody tr th {\n",
              "        vertical-align: top;\n",
              "    }\n",
              "\n",
              "    .dataframe thead th {\n",
              "        text-align: right;\n",
              "    }\n",
              "</style>\n",
              "<table border=\"1\" class=\"dataframe\">\n",
              "  <thead>\n",
              "    <tr style=\"text-align: right;\">\n",
              "      <th></th>\n",
              "      <th>PassengerId</th>\n",
              "      <th>Survived</th>\n",
              "      <th>Pclass</th>\n",
              "      <th>Name</th>\n",
              "      <th>Sex</th>\n",
              "      <th>Age</th>\n",
              "      <th>SibSp</th>\n",
              "      <th>Parch</th>\n",
              "      <th>Ticket</th>\n",
              "      <th>Fare</th>\n",
              "      <th>Cabin</th>\n",
              "      <th>Embarked</th>\n",
              "    </tr>\n",
              "  </thead>\n",
              "  <tbody>\n",
              "    <tr>\n",
              "      <th>0</th>\n",
              "      <td>1</td>\n",
              "      <td>0</td>\n",
              "      <td>3</td>\n",
              "      <td>Braund, Mr. Owen Harris</td>\n",
              "      <td>male</td>\n",
              "      <td>22.0</td>\n",
              "      <td>1</td>\n",
              "      <td>0</td>\n",
              "      <td>A/5 21171</td>\n",
              "      <td>7.2500</td>\n",
              "      <td>NaN</td>\n",
              "      <td>S</td>\n",
              "    </tr>\n",
              "    <tr>\n",
              "      <th>1</th>\n",
              "      <td>2</td>\n",
              "      <td>1</td>\n",
              "      <td>1</td>\n",
              "      <td>Cumings, Mrs. John Bradley (Florence Briggs Th...</td>\n",
              "      <td>female</td>\n",
              "      <td>38.0</td>\n",
              "      <td>1</td>\n",
              "      <td>0</td>\n",
              "      <td>PC 17599</td>\n",
              "      <td>71.2833</td>\n",
              "      <td>C85</td>\n",
              "      <td>C</td>\n",
              "    </tr>\n",
              "    <tr>\n",
              "      <th>2</th>\n",
              "      <td>3</td>\n",
              "      <td>1</td>\n",
              "      <td>3</td>\n",
              "      <td>Heikkinen, Miss. Laina</td>\n",
              "      <td>female</td>\n",
              "      <td>26.0</td>\n",
              "      <td>0</td>\n",
              "      <td>0</td>\n",
              "      <td>STON/O2. 3101282</td>\n",
              "      <td>7.9250</td>\n",
              "      <td>NaN</td>\n",
              "      <td>S</td>\n",
              "    </tr>\n",
              "    <tr>\n",
              "      <th>3</th>\n",
              "      <td>4</td>\n",
              "      <td>1</td>\n",
              "      <td>1</td>\n",
              "      <td>Futrelle, Mrs. Jacques Heath (Lily May Peel)</td>\n",
              "      <td>female</td>\n",
              "      <td>35.0</td>\n",
              "      <td>1</td>\n",
              "      <td>0</td>\n",
              "      <td>113803</td>\n",
              "      <td>53.1000</td>\n",
              "      <td>C123</td>\n",
              "      <td>S</td>\n",
              "    </tr>\n",
              "    <tr>\n",
              "      <th>4</th>\n",
              "      <td>5</td>\n",
              "      <td>0</td>\n",
              "      <td>3</td>\n",
              "      <td>Allen, Mr. William Henry</td>\n",
              "      <td>male</td>\n",
              "      <td>35.0</td>\n",
              "      <td>0</td>\n",
              "      <td>0</td>\n",
              "      <td>373450</td>\n",
              "      <td>8.0500</td>\n",
              "      <td>NaN</td>\n",
              "      <td>S</td>\n",
              "    </tr>\n",
              "    <tr>\n",
              "      <th>5</th>\n",
              "      <td>6</td>\n",
              "      <td>0</td>\n",
              "      <td>3</td>\n",
              "      <td>Moran, Mr. James</td>\n",
              "      <td>male</td>\n",
              "      <td>NaN</td>\n",
              "      <td>0</td>\n",
              "      <td>0</td>\n",
              "      <td>330877</td>\n",
              "      <td>8.4583</td>\n",
              "      <td>NaN</td>\n",
              "      <td>Q</td>\n",
              "    </tr>\n",
              "    <tr>\n",
              "      <th>6</th>\n",
              "      <td>7</td>\n",
              "      <td>0</td>\n",
              "      <td>1</td>\n",
              "      <td>McCarthy, Mr. Timothy J</td>\n",
              "      <td>male</td>\n",
              "      <td>54.0</td>\n",
              "      <td>0</td>\n",
              "      <td>0</td>\n",
              "      <td>17463</td>\n",
              "      <td>51.8625</td>\n",
              "      <td>E46</td>\n",
              "      <td>S</td>\n",
              "    </tr>\n",
              "    <tr>\n",
              "      <th>7</th>\n",
              "      <td>8</td>\n",
              "      <td>0</td>\n",
              "      <td>3</td>\n",
              "      <td>Palsson, Master. Gosta Leonard</td>\n",
              "      <td>male</td>\n",
              "      <td>2.0</td>\n",
              "      <td>3</td>\n",
              "      <td>1</td>\n",
              "      <td>349909</td>\n",
              "      <td>21.0750</td>\n",
              "      <td>NaN</td>\n",
              "      <td>S</td>\n",
              "    </tr>\n",
              "  </tbody>\n",
              "</table>\n",
              "</div>\n",
              "      <button class=\"colab-df-convert\" onclick=\"convertToInteractive('df-ada935fa-e219-4898-932c-f20a119fd60f')\"\n",
              "              title=\"Convert this dataframe to an interactive table.\"\n",
              "              style=\"display:none;\">\n",
              "        \n",
              "  <svg xmlns=\"http://www.w3.org/2000/svg\" height=\"24px\"viewBox=\"0 0 24 24\"\n",
              "       width=\"24px\">\n",
              "    <path d=\"M0 0h24v24H0V0z\" fill=\"none\"/>\n",
              "    <path d=\"M18.56 5.44l.94 2.06.94-2.06 2.06-.94-2.06-.94-.94-2.06-.94 2.06-2.06.94zm-11 1L8.5 8.5l.94-2.06 2.06-.94-2.06-.94L8.5 2.5l-.94 2.06-2.06.94zm10 10l.94 2.06.94-2.06 2.06-.94-2.06-.94-.94-2.06-.94 2.06-2.06.94z\"/><path d=\"M17.41 7.96l-1.37-1.37c-.4-.4-.92-.59-1.43-.59-.52 0-1.04.2-1.43.59L10.3 9.45l-7.72 7.72c-.78.78-.78 2.05 0 2.83L4 21.41c.39.39.9.59 1.41.59.51 0 1.02-.2 1.41-.59l7.78-7.78 2.81-2.81c.8-.78.8-2.07 0-2.86zM5.41 20L4 18.59l7.72-7.72 1.47 1.35L5.41 20z\"/>\n",
              "  </svg>\n",
              "      </button>\n",
              "      \n",
              "  <style>\n",
              "    .colab-df-container {\n",
              "      display:flex;\n",
              "      flex-wrap:wrap;\n",
              "      gap: 12px;\n",
              "    }\n",
              "\n",
              "    .colab-df-convert {\n",
              "      background-color: #E8F0FE;\n",
              "      border: none;\n",
              "      border-radius: 50%;\n",
              "      cursor: pointer;\n",
              "      display: none;\n",
              "      fill: #1967D2;\n",
              "      height: 32px;\n",
              "      padding: 0 0 0 0;\n",
              "      width: 32px;\n",
              "    }\n",
              "\n",
              "    .colab-df-convert:hover {\n",
              "      background-color: #E2EBFA;\n",
              "      box-shadow: 0px 1px 2px rgba(60, 64, 67, 0.3), 0px 1px 3px 1px rgba(60, 64, 67, 0.15);\n",
              "      fill: #174EA6;\n",
              "    }\n",
              "\n",
              "    [theme=dark] .colab-df-convert {\n",
              "      background-color: #3B4455;\n",
              "      fill: #D2E3FC;\n",
              "    }\n",
              "\n",
              "    [theme=dark] .colab-df-convert:hover {\n",
              "      background-color: #434B5C;\n",
              "      box-shadow: 0px 1px 3px 1px rgba(0, 0, 0, 0.15);\n",
              "      filter: drop-shadow(0px 1px 2px rgba(0, 0, 0, 0.3));\n",
              "      fill: #FFFFFF;\n",
              "    }\n",
              "  </style>\n",
              "\n",
              "      <script>\n",
              "        const buttonEl =\n",
              "          document.querySelector('#df-ada935fa-e219-4898-932c-f20a119fd60f button.colab-df-convert');\n",
              "        buttonEl.style.display =\n",
              "          google.colab.kernel.accessAllowed ? 'block' : 'none';\n",
              "\n",
              "        async function convertToInteractive(key) {\n",
              "          const element = document.querySelector('#df-ada935fa-e219-4898-932c-f20a119fd60f');\n",
              "          const dataTable =\n",
              "            await google.colab.kernel.invokeFunction('convertToInteractive',\n",
              "                                                     [key], {});\n",
              "          if (!dataTable) return;\n",
              "\n",
              "          const docLinkHtml = 'Like what you see? Visit the ' +\n",
              "            '<a target=\"_blank\" href=https://colab.research.google.com/notebooks/data_table.ipynb>data table notebook</a>'\n",
              "            + ' to learn more about interactive tables.';\n",
              "          element.innerHTML = '';\n",
              "          dataTable['output_type'] = 'display_data';\n",
              "          await google.colab.output.renderOutput(dataTable, element);\n",
              "          const docLink = document.createElement('div');\n",
              "          docLink.innerHTML = docLinkHtml;\n",
              "          element.appendChild(docLink);\n",
              "        }\n",
              "      </script>\n",
              "    </div>\n",
              "  </div>\n",
              "  "
            ]
          },
          "metadata": {},
          "execution_count": 144
        }
      ]
    },
    {
      "cell_type": "markdown",
      "source": [
        "To see the first N rows of a DataFrame, use the `~DataFrame.head` method with the required number of rows (in this case 8) as argument.\n",
        "\n",
        "Note\n",
        "\n",
        "Interested in the last N rows instead? pandas also provides a `~DataFrame.tail` method. For example, titanic.tail(10) will return the last 10 rows of the DataFrame.\n",
        "\n",
        "A check on how pandas interpreted each of the column data types can be done by requesting the pandas `dtypes` attribute:"
      ],
      "metadata": {
        "id": "ZUkrHAS8PLGn"
      }
    },
    {
      "cell_type": "code",
      "source": [
        "titanic.dtypes"
      ],
      "metadata": {
        "id": "ztSOcX6uNm4w",
        "colab": {
          "base_uri": "https://localhost:8080/"
        },
        "outputId": "16623972-ce55-4c1b-f2aa-7901d0532882"
      },
      "execution_count": null,
      "outputs": [
        {
          "output_type": "execute_result",
          "data": {
            "text/plain": [
              "PassengerId      int64\n",
              "Survived         int64\n",
              "Pclass           int64\n",
              "Name            object\n",
              "Sex             object\n",
              "Age            float64\n",
              "SibSp            int64\n",
              "Parch            int64\n",
              "Ticket          object\n",
              "Fare           float64\n",
              "Cabin           object\n",
              "Embarked        object\n",
              "dtype: object"
            ]
          },
          "metadata": {},
          "execution_count": 145
        }
      ]
    },
    {
      "cell_type": "markdown",
      "source": [
        "For each of the columns, the used data type is enlisted. The data types in this `DataFrame` are integers (`int64`), floats (`float64`) and strings (`object`).\n",
        "\n",
        "Note\n",
        "\n",
        "When asking for the `dtypes`, no brackets are used! `dtypes` is an attribute of a `DataFrame` and `Series`. Attributes of `DataFrame` or `Series` do not need brackets. Attributes represent a characteristic of a `DataFrame/Series`, whereas a method (which requires brackets) do something with the DataFrame/Series\n",
        "\n",
        "We are interested in a technical summary of a `DataFrame`"
      ],
      "metadata": {
        "id": "VQ5wIhc9PzQA"
      }
    },
    {
      "cell_type": "code",
      "source": [
        "titanic.info()"
      ],
      "metadata": {
        "id": "Whx3H_f1PnWh",
        "colab": {
          "base_uri": "https://localhost:8080/"
        },
        "outputId": "062ff149-97c8-4d34-bcae-bf8e09dc986c"
      },
      "execution_count": null,
      "outputs": [
        {
          "output_type": "stream",
          "name": "stdout",
          "text": [
            "<class 'pandas.core.frame.DataFrame'>\n",
            "RangeIndex: 891 entries, 0 to 890\n",
            "Data columns (total 12 columns):\n",
            " #   Column       Non-Null Count  Dtype  \n",
            "---  ------       --------------  -----  \n",
            " 0   PassengerId  891 non-null    int64  \n",
            " 1   Survived     891 non-null    int64  \n",
            " 2   Pclass       891 non-null    int64  \n",
            " 3   Name         891 non-null    object \n",
            " 4   Sex          891 non-null    object \n",
            " 5   Age          714 non-null    float64\n",
            " 6   SibSp        891 non-null    int64  \n",
            " 7   Parch        891 non-null    int64  \n",
            " 8   Ticket       891 non-null    object \n",
            " 9   Fare         891 non-null    float64\n",
            " 10  Cabin        204 non-null    object \n",
            " 11  Embarked     889 non-null    object \n",
            "dtypes: float64(2), int64(5), object(5)\n",
            "memory usage: 83.7+ KB\n"
          ]
        }
      ]
    },
    {
      "cell_type": "markdown",
      "source": [
        "The method :meth:`~DataFrame.info` provides technical information about a DataFrame, so let’s explain the output in more detail:\n",
        "\n",
        "It is indeed a :class:`DataFrame`.\n",
        "There are 891 entries, i.e. 891 rows.\n",
        "Each row has a row label (aka the index) with values ranging from 0 to 890.\n",
        "The table has 12 columns. Most columns have a value for each of the rows (all 891 values are non-null). Some columns do have missing values and less than 891 non-null values.\n",
        "The columns Name, Sex, Cabin and Embarked consists of textual data (strings, aka object). The other columns are numerical data with some of them whole numbers (aka integer) and others are real numbers (aka float).\n",
        "The kind of data (characters, integers,…) in the different columns are summarized by listing the dtypes.\n",
        "The approximate amount of RAM used to hold the DataFrame is provided as well.\n",
        "\n",
        "For a statistical summary of a DataFrame"
      ],
      "metadata": {
        "id": "-7d4-mW3QUpG"
      }
    },
    {
      "cell_type": "code",
      "source": [
        "titanic.describe(include='all')"
      ],
      "metadata": {
        "id": "IPrxnT59QPuO",
        "colab": {
          "base_uri": "https://localhost:8080/",
          "height": 510
        },
        "outputId": "c45669af-6ae1-46ce-dc33-d548127ef32d"
      },
      "execution_count": null,
      "outputs": [
        {
          "output_type": "execute_result",
          "data": {
            "text/plain": [
              "        PassengerId    Survived      Pclass                     Name   Sex  \\\n",
              "count    891.000000  891.000000  891.000000                      891   891   \n",
              "unique          NaN         NaN         NaN                      891     2   \n",
              "top             NaN         NaN         NaN  Braund, Mr. Owen Harris  male   \n",
              "freq            NaN         NaN         NaN                        1   577   \n",
              "mean     446.000000    0.383838    2.308642                      NaN   NaN   \n",
              "std      257.353842    0.486592    0.836071                      NaN   NaN   \n",
              "min        1.000000    0.000000    1.000000                      NaN   NaN   \n",
              "25%      223.500000    0.000000    2.000000                      NaN   NaN   \n",
              "50%      446.000000    0.000000    3.000000                      NaN   NaN   \n",
              "75%      668.500000    1.000000    3.000000                      NaN   NaN   \n",
              "max      891.000000    1.000000    3.000000                      NaN   NaN   \n",
              "\n",
              "               Age       SibSp       Parch  Ticket        Fare    Cabin  \\\n",
              "count   714.000000  891.000000  891.000000     891  891.000000      204   \n",
              "unique         NaN         NaN         NaN     681         NaN      147   \n",
              "top            NaN         NaN         NaN  347082         NaN  B96 B98   \n",
              "freq           NaN         NaN         NaN       7         NaN        4   \n",
              "mean     29.699118    0.523008    0.381594     NaN   32.204208      NaN   \n",
              "std      14.526497    1.102743    0.806057     NaN   49.693429      NaN   \n",
              "min       0.420000    0.000000    0.000000     NaN    0.000000      NaN   \n",
              "25%      20.125000    0.000000    0.000000     NaN    7.910400      NaN   \n",
              "50%      28.000000    0.000000    0.000000     NaN   14.454200      NaN   \n",
              "75%      38.000000    1.000000    0.000000     NaN   31.000000      NaN   \n",
              "max      80.000000    8.000000    6.000000     NaN  512.329200      NaN   \n",
              "\n",
              "       Embarked  \n",
              "count       889  \n",
              "unique        3  \n",
              "top           S  \n",
              "freq        644  \n",
              "mean        NaN  \n",
              "std         NaN  \n",
              "min         NaN  \n",
              "25%         NaN  \n",
              "50%         NaN  \n",
              "75%         NaN  \n",
              "max         NaN  "
            ],
            "text/html": [
              "\n",
              "  <div id=\"df-6a0b22c8-a3bd-4fff-b292-e0933a3f9c6e\">\n",
              "    <div class=\"colab-df-container\">\n",
              "      <div>\n",
              "<style scoped>\n",
              "    .dataframe tbody tr th:only-of-type {\n",
              "        vertical-align: middle;\n",
              "    }\n",
              "\n",
              "    .dataframe tbody tr th {\n",
              "        vertical-align: top;\n",
              "    }\n",
              "\n",
              "    .dataframe thead th {\n",
              "        text-align: right;\n",
              "    }\n",
              "</style>\n",
              "<table border=\"1\" class=\"dataframe\">\n",
              "  <thead>\n",
              "    <tr style=\"text-align: right;\">\n",
              "      <th></th>\n",
              "      <th>PassengerId</th>\n",
              "      <th>Survived</th>\n",
              "      <th>Pclass</th>\n",
              "      <th>Name</th>\n",
              "      <th>Sex</th>\n",
              "      <th>Age</th>\n",
              "      <th>SibSp</th>\n",
              "      <th>Parch</th>\n",
              "      <th>Ticket</th>\n",
              "      <th>Fare</th>\n",
              "      <th>Cabin</th>\n",
              "      <th>Embarked</th>\n",
              "    </tr>\n",
              "  </thead>\n",
              "  <tbody>\n",
              "    <tr>\n",
              "      <th>count</th>\n",
              "      <td>891.000000</td>\n",
              "      <td>891.000000</td>\n",
              "      <td>891.000000</td>\n",
              "      <td>891</td>\n",
              "      <td>891</td>\n",
              "      <td>714.000000</td>\n",
              "      <td>891.000000</td>\n",
              "      <td>891.000000</td>\n",
              "      <td>891</td>\n",
              "      <td>891.000000</td>\n",
              "      <td>204</td>\n",
              "      <td>889</td>\n",
              "    </tr>\n",
              "    <tr>\n",
              "      <th>unique</th>\n",
              "      <td>NaN</td>\n",
              "      <td>NaN</td>\n",
              "      <td>NaN</td>\n",
              "      <td>891</td>\n",
              "      <td>2</td>\n",
              "      <td>NaN</td>\n",
              "      <td>NaN</td>\n",
              "      <td>NaN</td>\n",
              "      <td>681</td>\n",
              "      <td>NaN</td>\n",
              "      <td>147</td>\n",
              "      <td>3</td>\n",
              "    </tr>\n",
              "    <tr>\n",
              "      <th>top</th>\n",
              "      <td>NaN</td>\n",
              "      <td>NaN</td>\n",
              "      <td>NaN</td>\n",
              "      <td>Braund, Mr. Owen Harris</td>\n",
              "      <td>male</td>\n",
              "      <td>NaN</td>\n",
              "      <td>NaN</td>\n",
              "      <td>NaN</td>\n",
              "      <td>347082</td>\n",
              "      <td>NaN</td>\n",
              "      <td>B96 B98</td>\n",
              "      <td>S</td>\n",
              "    </tr>\n",
              "    <tr>\n",
              "      <th>freq</th>\n",
              "      <td>NaN</td>\n",
              "      <td>NaN</td>\n",
              "      <td>NaN</td>\n",
              "      <td>1</td>\n",
              "      <td>577</td>\n",
              "      <td>NaN</td>\n",
              "      <td>NaN</td>\n",
              "      <td>NaN</td>\n",
              "      <td>7</td>\n",
              "      <td>NaN</td>\n",
              "      <td>4</td>\n",
              "      <td>644</td>\n",
              "    </tr>\n",
              "    <tr>\n",
              "      <th>mean</th>\n",
              "      <td>446.000000</td>\n",
              "      <td>0.383838</td>\n",
              "      <td>2.308642</td>\n",
              "      <td>NaN</td>\n",
              "      <td>NaN</td>\n",
              "      <td>29.699118</td>\n",
              "      <td>0.523008</td>\n",
              "      <td>0.381594</td>\n",
              "      <td>NaN</td>\n",
              "      <td>32.204208</td>\n",
              "      <td>NaN</td>\n",
              "      <td>NaN</td>\n",
              "    </tr>\n",
              "    <tr>\n",
              "      <th>std</th>\n",
              "      <td>257.353842</td>\n",
              "      <td>0.486592</td>\n",
              "      <td>0.836071</td>\n",
              "      <td>NaN</td>\n",
              "      <td>NaN</td>\n",
              "      <td>14.526497</td>\n",
              "      <td>1.102743</td>\n",
              "      <td>0.806057</td>\n",
              "      <td>NaN</td>\n",
              "      <td>49.693429</td>\n",
              "      <td>NaN</td>\n",
              "      <td>NaN</td>\n",
              "    </tr>\n",
              "    <tr>\n",
              "      <th>min</th>\n",
              "      <td>1.000000</td>\n",
              "      <td>0.000000</td>\n",
              "      <td>1.000000</td>\n",
              "      <td>NaN</td>\n",
              "      <td>NaN</td>\n",
              "      <td>0.420000</td>\n",
              "      <td>0.000000</td>\n",
              "      <td>0.000000</td>\n",
              "      <td>NaN</td>\n",
              "      <td>0.000000</td>\n",
              "      <td>NaN</td>\n",
              "      <td>NaN</td>\n",
              "    </tr>\n",
              "    <tr>\n",
              "      <th>25%</th>\n",
              "      <td>223.500000</td>\n",
              "      <td>0.000000</td>\n",
              "      <td>2.000000</td>\n",
              "      <td>NaN</td>\n",
              "      <td>NaN</td>\n",
              "      <td>20.125000</td>\n",
              "      <td>0.000000</td>\n",
              "      <td>0.000000</td>\n",
              "      <td>NaN</td>\n",
              "      <td>7.910400</td>\n",
              "      <td>NaN</td>\n",
              "      <td>NaN</td>\n",
              "    </tr>\n",
              "    <tr>\n",
              "      <th>50%</th>\n",
              "      <td>446.000000</td>\n",
              "      <td>0.000000</td>\n",
              "      <td>3.000000</td>\n",
              "      <td>NaN</td>\n",
              "      <td>NaN</td>\n",
              "      <td>28.000000</td>\n",
              "      <td>0.000000</td>\n",
              "      <td>0.000000</td>\n",
              "      <td>NaN</td>\n",
              "      <td>14.454200</td>\n",
              "      <td>NaN</td>\n",
              "      <td>NaN</td>\n",
              "    </tr>\n",
              "    <tr>\n",
              "      <th>75%</th>\n",
              "      <td>668.500000</td>\n",
              "      <td>1.000000</td>\n",
              "      <td>3.000000</td>\n",
              "      <td>NaN</td>\n",
              "      <td>NaN</td>\n",
              "      <td>38.000000</td>\n",
              "      <td>1.000000</td>\n",
              "      <td>0.000000</td>\n",
              "      <td>NaN</td>\n",
              "      <td>31.000000</td>\n",
              "      <td>NaN</td>\n",
              "      <td>NaN</td>\n",
              "    </tr>\n",
              "    <tr>\n",
              "      <th>max</th>\n",
              "      <td>891.000000</td>\n",
              "      <td>1.000000</td>\n",
              "      <td>3.000000</td>\n",
              "      <td>NaN</td>\n",
              "      <td>NaN</td>\n",
              "      <td>80.000000</td>\n",
              "      <td>8.000000</td>\n",
              "      <td>6.000000</td>\n",
              "      <td>NaN</td>\n",
              "      <td>512.329200</td>\n",
              "      <td>NaN</td>\n",
              "      <td>NaN</td>\n",
              "    </tr>\n",
              "  </tbody>\n",
              "</table>\n",
              "</div>\n",
              "      <button class=\"colab-df-convert\" onclick=\"convertToInteractive('df-6a0b22c8-a3bd-4fff-b292-e0933a3f9c6e')\"\n",
              "              title=\"Convert this dataframe to an interactive table.\"\n",
              "              style=\"display:none;\">\n",
              "        \n",
              "  <svg xmlns=\"http://www.w3.org/2000/svg\" height=\"24px\"viewBox=\"0 0 24 24\"\n",
              "       width=\"24px\">\n",
              "    <path d=\"M0 0h24v24H0V0z\" fill=\"none\"/>\n",
              "    <path d=\"M18.56 5.44l.94 2.06.94-2.06 2.06-.94-2.06-.94-.94-2.06-.94 2.06-2.06.94zm-11 1L8.5 8.5l.94-2.06 2.06-.94-2.06-.94L8.5 2.5l-.94 2.06-2.06.94zm10 10l.94 2.06.94-2.06 2.06-.94-2.06-.94-.94-2.06-.94 2.06-2.06.94z\"/><path d=\"M17.41 7.96l-1.37-1.37c-.4-.4-.92-.59-1.43-.59-.52 0-1.04.2-1.43.59L10.3 9.45l-7.72 7.72c-.78.78-.78 2.05 0 2.83L4 21.41c.39.39.9.59 1.41.59.51 0 1.02-.2 1.41-.59l7.78-7.78 2.81-2.81c.8-.78.8-2.07 0-2.86zM5.41 20L4 18.59l7.72-7.72 1.47 1.35L5.41 20z\"/>\n",
              "  </svg>\n",
              "      </button>\n",
              "      \n",
              "  <style>\n",
              "    .colab-df-container {\n",
              "      display:flex;\n",
              "      flex-wrap:wrap;\n",
              "      gap: 12px;\n",
              "    }\n",
              "\n",
              "    .colab-df-convert {\n",
              "      background-color: #E8F0FE;\n",
              "      border: none;\n",
              "      border-radius: 50%;\n",
              "      cursor: pointer;\n",
              "      display: none;\n",
              "      fill: #1967D2;\n",
              "      height: 32px;\n",
              "      padding: 0 0 0 0;\n",
              "      width: 32px;\n",
              "    }\n",
              "\n",
              "    .colab-df-convert:hover {\n",
              "      background-color: #E2EBFA;\n",
              "      box-shadow: 0px 1px 2px rgba(60, 64, 67, 0.3), 0px 1px 3px 1px rgba(60, 64, 67, 0.15);\n",
              "      fill: #174EA6;\n",
              "    }\n",
              "\n",
              "    [theme=dark] .colab-df-convert {\n",
              "      background-color: #3B4455;\n",
              "      fill: #D2E3FC;\n",
              "    }\n",
              "\n",
              "    [theme=dark] .colab-df-convert:hover {\n",
              "      background-color: #434B5C;\n",
              "      box-shadow: 0px 1px 3px 1px rgba(0, 0, 0, 0.15);\n",
              "      filter: drop-shadow(0px 1px 2px rgba(0, 0, 0, 0.3));\n",
              "      fill: #FFFFFF;\n",
              "    }\n",
              "  </style>\n",
              "\n",
              "      <script>\n",
              "        const buttonEl =\n",
              "          document.querySelector('#df-6a0b22c8-a3bd-4fff-b292-e0933a3f9c6e button.colab-df-convert');\n",
              "        buttonEl.style.display =\n",
              "          google.colab.kernel.accessAllowed ? 'block' : 'none';\n",
              "\n",
              "        async function convertToInteractive(key) {\n",
              "          const element = document.querySelector('#df-6a0b22c8-a3bd-4fff-b292-e0933a3f9c6e');\n",
              "          const dataTable =\n",
              "            await google.colab.kernel.invokeFunction('convertToInteractive',\n",
              "                                                     [key], {});\n",
              "          if (!dataTable) return;\n",
              "\n",
              "          const docLinkHtml = 'Like what you see? Visit the ' +\n",
              "            '<a target=\"_blank\" href=https://colab.research.google.com/notebooks/data_table.ipynb>data table notebook</a>'\n",
              "            + ' to learn more about interactive tables.';\n",
              "          element.innerHTML = '';\n",
              "          dataTable['output_type'] = 'display_data';\n",
              "          await google.colab.output.renderOutput(dataTable, element);\n",
              "          const docLink = document.createElement('div');\n",
              "          docLink.innerHTML = docLinkHtml;\n",
              "          element.appendChild(docLink);\n",
              "        }\n",
              "      </script>\n",
              "    </div>\n",
              "  </div>\n",
              "  "
            ]
          },
          "metadata": {},
          "execution_count": 147
        }
      ]
    },
    {
      "cell_type": "markdown",
      "source": [
        "### Problem 6\n",
        "Make a univariate histogram for each numerical variables of the titanic dataset, and compare them with a normal distribution empirically with a graphical representation."
      ],
      "metadata": {
        "id": "NhFHpvUtQjRP"
      }
    },
    {
      "cell_type": "code",
      "source": [
        "\n",
        "for variable_name in ['Survived', 'Pclass', 'Age', 'SibSp', 'Parch', 'Fare']:\n",
        "  var_values = titanic[variable_name].values\n",
        "  m, s = titanic[variable_name].mean(), titanic[variable_name].std()\n",
        "  g = sns.displot(var_values, stat='density', label='{} values'.format(variable_name), alpha=0.3)\n",
        "  sns.kdeplot(var_values, ax=g.axes[0, 0], label='empirical density')\n",
        "  xmin, xmax = g.axes[0, 0].get_xlim()\n",
        "  x = np.linspace(xmin, xmax, 100)\n",
        "  g.axes[0, 0].plot(x, norm.pdf(x, m, s),\n",
        "        'r-', lw=5, alpha=0.6, label='normal theoretical density')\n",
        "  leg = g.axes[0, 0].legend(loc=\"upper right\", bbox_to_anchor=(1.5, 1))\n",
        "  tit = g.axes[0, 0].set_title('Comparison between variable {}\\nand theoretical pdf'.format(variable_name))\n",
        "  xlab = g.axes[0, 0].set_xlabel(variable_name)"
      ],
      "metadata": {
        "id": "t2H_VusoQcC7",
        "colab": {
          "base_uri": "https://localhost:8080/",
          "height": 1000
        },
        "outputId": "0203dfee-a3b9-495c-b40e-ad534885a627"
      },
      "execution_count": null,
      "outputs": [
        {
          "output_type": "display_data",
          "data": {
            "text/plain": [
              "<Figure size 360x360 with 1 Axes>"
            ],
            "image/png": "[encoded data removed]"
          },
          "metadata": {
            "needs_background": "light"
          }
        },
        {
          "output_type": "display_data",
          "data": {
            "text/plain": [
              "<Figure size 360x360 with 1 Axes>"
            ],
            "image/png": "[encoded data removed]"
          },
          "metadata": {
            "needs_background": "light"
          }
        },
        {
          "output_type": "display_data",
          "data": {
            "text/plain": [
              "<Figure size 360x360 with 1 Axes>"
            ],
            "image/png": "[encoded data removed]"
          },
          "metadata": {
            "needs_background": "light"
          }
        },
        {
          "output_type": "display_data",
          "data": {
            "text/plain": [
              "<Figure size 360x360 with 1 Axes>"
            ],
            "image/png": "[encoded data removed]"
          },
          "metadata": {
            "needs_background": "light"
          }
        },
        {
          "output_type": "display_data",
          "data": {
            "text/plain": [
              "<Figure size 360x360 with 1 Axes>"
            ],
            "image/png": "[encoded data removed]"
          },
          "metadata": {
            "needs_background": "light"
          }
        },
        {
          "output_type": "display_data",
          "data": {
            "text/plain": [
              "<Figure size 360x360 with 1 Axes>"
            ],
            "image/png": "[encoded data removed]"
          },
          "metadata": {
            "needs_background": "light"
          }
        }
      ]
    },
    {
      "cell_type": "code",
      "source": [],
      "metadata": {
        "id": "988KNWOmZEMx"
      },
      "execution_count": null,
      "outputs": []
    }
  ]
}