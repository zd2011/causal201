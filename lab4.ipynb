{
 "cells": [
  {
   "cell_type": "markdown",
   "metadata": {},
   "source": [
    "# DS UA 9201 - Recitation 4\n",
    "author: Judith Abécassis (judith.abecassis@nyu.edu) & Elise Dumas (elise.dumas@nyu.edu)\n",
    "\n",
    "Themes\n",
    "- multiple testing simulation\n",
    "- simpson's paradox (one one dataset)\n",
    "- compute cate, stratification, variance... (on another dataset)"
   ]
  },
  {
   "cell_type": "code",
   "execution_count": 1,
   "metadata": {
    "ExecuteTime": {
     "end_time": "2022-10-01T07:48:34.254369Z",
     "start_time": "2022-10-01T07:48:31.913121Z"
    }
   },
   "outputs": [
    {
     "name": "stderr",
     "output_type": "stream",
     "text": [
      "\n",
      "Bad key \"text.kerning_factor\" on line 4 in\n",
      "/Users/JudithAbecassis/miniconda3/lib/python3.7/site-packages/matplotlib/mpl-data/stylelib/_classic_test_patch.mplstyle.\n",
      "You probably need to get an updated matplotlibrc file from\n",
      "https://github.com/matplotlib/matplotlib/blob/v3.1.3/matplotlibrc.template\n",
      "or from the matplotlib source distribution\n"
     ]
    }
   ],
   "source": [
    "#Load useful libraries\n",
    "import pandas as pd\n",
    "import numpy as np\n",
    "import scipy.stats as sps\n",
    "import matplotlib.pyplot as plt\n",
    "from statsmodels.stats.weightstats import CompareMeans, ztest \n",
    "import seaborn as sns\n",
    "sns.set_context('poster')"
   ]
  },
  {
   "cell_type": "markdown",
   "metadata": {
    "ExecuteTime": {
     "end_time": "2022-09-25T20:23:24.099878Z",
     "start_time": "2022-09-25T20:23:24.094274Z"
    }
   },
   "source": [
    "## Problem 1: treatment effect heterogeneity, Analyzing an experiment on banking and savings\n",
    "\n",
    "In \"Savings Constraints and Microenterprise Development: Evidence from a Field Experiment in Kenya\", Dupas and Robinson [studied](https://www.poverty-action.org/study/savings-accounts-rural-micro-entrepreneurs-kenya) evaluated the effect of offering access to free formal savings accounts on savings among a sample of Kenyan market vendors and bicycle-taxi drivers. Working in collaboration with a local community-owned \"village bank\" in Bumala Town, the researchers randomly selected 115 market vendors and bicycle-taxi drivers to be offered the option of opening a no-cost savings account subsidized by the researchers. 135 individuals acting as the control group were not prevented from opening an account, but were not given any assistance in opening an account.\n",
    "\n",
    "We'll start by reading in the dataset\n"
   ]
  },
  {
   "cell_type": "code",
   "execution_count": 2,
   "metadata": {
    "ExecuteTime": {
     "end_time": "2022-10-01T07:48:34.418096Z",
     "start_time": "2022-10-01T07:48:34.256080Z"
    }
   },
   "outputs": [
    {
     "data": {
      "text/html": [
       "<div>\n",
       "<style scoped>\n",
       "    .dataframe tbody tr th:only-of-type {\n",
       "        vertical-align: middle;\n",
       "    }\n",
       "\n",
       "    .dataframe tbody tr th {\n",
       "        vertical-align: top;\n",
       "    }\n",
       "\n",
       "    .dataframe thead th {\n",
       "        text-align: right;\n",
       "    }\n",
       "</style>\n",
       "<table border=\"1\" class=\"dataframe\">\n",
       "  <thead>\n",
       "    <tr style=\"text-align: right;\">\n",
       "      <th></th>\n",
       "      <th>id</th>\n",
       "      <th>wave1</th>\n",
       "      <th>wave2</th>\n",
       "      <th>wave3</th>\n",
       "      <th>treatment</th>\n",
       "      <th>not_traced_account_opening</th>\n",
       "      <th>inlogs</th>\n",
       "      <th>filled_log</th>\n",
       "      <th>bg_gender</th>\n",
       "      <th>bg_boda</th>\n",
       "      <th>...</th>\n",
       "      <th>tot_flow_out</th>\n",
       "      <th>tot_flow_spouse</th>\n",
       "      <th>bank_savings</th>\n",
       "      <th>rosca_contrib</th>\n",
       "      <th>animal_savings</th>\n",
       "      <th>total_hours</th>\n",
       "      <th>investment</th>\n",
       "      <th>investment_t5</th>\n",
       "      <th>revenues</th>\n",
       "      <th>revenues_t5</th>\n",
       "    </tr>\n",
       "  </thead>\n",
       "  <tbody>\n",
       "    <tr>\n",
       "      <th>1</th>\n",
       "      <td>364</td>\n",
       "      <td>1.0</td>\n",
       "      <td>0.0</td>\n",
       "      <td>0.0</td>\n",
       "      <td>0.0</td>\n",
       "      <td>NaN</td>\n",
       "      <td>1.0</td>\n",
       "      <td>1.000000</td>\n",
       "      <td>0</td>\n",
       "      <td>0.0</td>\n",
       "      <td>...</td>\n",
       "      <td>0.000000</td>\n",
       "      <td>-27.647058</td>\n",
       "      <td>23.529411</td>\n",
       "      <td>32.941177</td>\n",
       "      <td>0.000000</td>\n",
       "      <td>5.818627</td>\n",
       "      <td>398.529419</td>\n",
       "      <td>398.529419</td>\n",
       "      <td>365.722229</td>\n",
       "      <td>365.722229</td>\n",
       "    </tr>\n",
       "    <tr>\n",
       "      <th>3</th>\n",
       "      <td>366</td>\n",
       "      <td>1.0</td>\n",
       "      <td>0.0</td>\n",
       "      <td>0.0</td>\n",
       "      <td>0.0</td>\n",
       "      <td>NaN</td>\n",
       "      <td>1.0</td>\n",
       "      <td>1.000000</td>\n",
       "      <td>0</td>\n",
       "      <td>0.0</td>\n",
       "      <td>...</td>\n",
       "      <td>0.000000</td>\n",
       "      <td>NaN</td>\n",
       "      <td>0.000000</td>\n",
       "      <td>37.000000</td>\n",
       "      <td>1.166667</td>\n",
       "      <td>2.822222</td>\n",
       "      <td>1561.500000</td>\n",
       "      <td>146.734695</td>\n",
       "      <td>2625.666748</td>\n",
       "      <td>23.636364</td>\n",
       "    </tr>\n",
       "    <tr>\n",
       "      <th>4</th>\n",
       "      <td>367</td>\n",
       "      <td>1.0</td>\n",
       "      <td>0.0</td>\n",
       "      <td>0.0</td>\n",
       "      <td>0.0</td>\n",
       "      <td>NaN</td>\n",
       "      <td>1.0</td>\n",
       "      <td>0.925926</td>\n",
       "      <td>0</td>\n",
       "      <td>0.0</td>\n",
       "      <td>...</td>\n",
       "      <td>-22.400000</td>\n",
       "      <td>-15.600000</td>\n",
       "      <td>-0.800000</td>\n",
       "      <td>35.200001</td>\n",
       "      <td>17.400000</td>\n",
       "      <td>8.020833</td>\n",
       "      <td>156.600006</td>\n",
       "      <td>156.600006</td>\n",
       "      <td>90.000000</td>\n",
       "      <td>90.000000</td>\n",
       "    </tr>\n",
       "    <tr>\n",
       "      <th>5</th>\n",
       "      <td>368</td>\n",
       "      <td>1.0</td>\n",
       "      <td>0.0</td>\n",
       "      <td>0.0</td>\n",
       "      <td>0.0</td>\n",
       "      <td>NaN</td>\n",
       "      <td>1.0</td>\n",
       "      <td>0.988889</td>\n",
       "      <td>0</td>\n",
       "      <td>0.0</td>\n",
       "      <td>...</td>\n",
       "      <td>61.818180</td>\n",
       "      <td>-6.818182</td>\n",
       "      <td>2.272727</td>\n",
       "      <td>22.954546</td>\n",
       "      <td>0.000000</td>\n",
       "      <td>8.213825</td>\n",
       "      <td>277.897736</td>\n",
       "      <td>235.114944</td>\n",
       "      <td>236.685394</td>\n",
       "      <td>236.685394</td>\n",
       "    </tr>\n",
       "    <tr>\n",
       "      <th>6</th>\n",
       "      <td>369</td>\n",
       "      <td>1.0</td>\n",
       "      <td>0.0</td>\n",
       "      <td>0.0</td>\n",
       "      <td>0.0</td>\n",
       "      <td>NaN</td>\n",
       "      <td>1.0</td>\n",
       "      <td>0.977273</td>\n",
       "      <td>1</td>\n",
       "      <td>1.0</td>\n",
       "      <td>...</td>\n",
       "      <td>4.139535</td>\n",
       "      <td>7.674418</td>\n",
       "      <td>0.000000</td>\n",
       "      <td>0.000000</td>\n",
       "      <td>0.000000</td>\n",
       "      <td>5.139801</td>\n",
       "      <td>10.333333</td>\n",
       "      <td>10.333333</td>\n",
       "      <td>57.388062</td>\n",
       "      <td>57.388062</td>\n",
       "    </tr>\n",
       "  </tbody>\n",
       "</table>\n",
       "<p>5 rows × 65 columns</p>\n",
       "</div>"
      ],
      "text/plain": [
       "    id  wave1  wave2  wave3  treatment  not_traced_account_opening  inlogs  \\\n",
       "1  364    1.0    0.0    0.0        0.0                         NaN     1.0   \n",
       "3  366    1.0    0.0    0.0        0.0                         NaN     1.0   \n",
       "4  367    1.0    0.0    0.0        0.0                         NaN     1.0   \n",
       "5  368    1.0    0.0    0.0        0.0                         NaN     1.0   \n",
       "6  369    1.0    0.0    0.0        0.0                         NaN     1.0   \n",
       "\n",
       "   filled_log  bg_gender  bg_boda  ...  tot_flow_out  tot_flow_spouse  \\\n",
       "1    1.000000          0      0.0  ...      0.000000       -27.647058   \n",
       "3    1.000000          0      0.0  ...      0.000000              NaN   \n",
       "4    0.925926          0      0.0  ...    -22.400000       -15.600000   \n",
       "5    0.988889          0      0.0  ...     61.818180        -6.818182   \n",
       "6    0.977273          1      1.0  ...      4.139535         7.674418   \n",
       "\n",
       "   bank_savings  rosca_contrib  animal_savings  total_hours   investment  \\\n",
       "1     23.529411      32.941177        0.000000     5.818627   398.529419   \n",
       "3      0.000000      37.000000        1.166667     2.822222  1561.500000   \n",
       "4     -0.800000      35.200001       17.400000     8.020833   156.600006   \n",
       "5      2.272727      22.954546        0.000000     8.213825   277.897736   \n",
       "6      0.000000       0.000000        0.000000     5.139801    10.333333   \n",
       "\n",
       "   investment_t5     revenues  revenues_t5  \n",
       "1     398.529419   365.722229   365.722229  \n",
       "3     146.734695  2625.666748    23.636364  \n",
       "4     156.600006    90.000000    90.000000  \n",
       "5     235.114944   236.685394   236.685394  \n",
       "6      10.333333    57.388062    57.388062  \n",
       "\n",
       "[5 rows x 65 columns]"
      ]
     },
     "execution_count": 2,
     "metadata": {},
     "output_type": "execute_result"
    }
   ],
   "source": [
    "savings = pd.read_stata('dataset_savingsAEJ.dta')\n",
    "savings = savings.dropna(subset=['bank_savings'])\n",
    "savings.head()"
   ]
  },
  {
   "cell_type": "markdown",
   "metadata": {},
   "source": [
    "Some relevant variables are:\n",
    "\n",
    "- `treatment` -- whether the participant received the option of opening an account (1) or not (0)\n",
    "- `bg_gender` -- gender of the participant: 0 = female, 1 = male\n",
    "- `bg_educ` -- number of years of education completed \n",
    "- `bg_age` -- age\n",
    "- `bg_rosca` -- dummy=1 if participates in at least one ROSCA (Rotating Saving and Credit Associations)\n",
    "- `bank_savings` -- LOGBOOK: average daily amount deposited into bank account \n",
    "- `exp_total` -- LOGBOOK: average daily total expenditure\n",
    "- `exp_tot_private` -- LOGBOOK: average daily total private expenditures \n",
    "\n",
    "250 participants in the experiment were asked to fill out regular logbooks to record information about their expenditures, investment and saving habits (LOGBOOK).  Start by subsetting the data to the set of units that filled out the logbooks (not missing `bank_savings`)\n",
    "\n",
    "### Question 1\n",
    "\n",
    "Estimate the average treatment effect of the bank account offer on mean daily bank deposits using the simple difference-in-means estimator. Construct a 95\\% confidence interval and interpret your results. What do you conclude about the ATE?"
   ]
  },
  {
   "cell_type": "code",
   "execution_count": 3,
   "metadata": {
    "ExecuteTime": {
     "end_time": "2022-10-01T07:48:34.430600Z",
     "start_time": "2022-10-01T07:48:34.420097Z"
    }
   },
   "outputs": [
    {
     "name": "stdout",
     "output_type": "stream",
     "text": [
      "our ATE estimate is  10.058885\n",
      "our ATE variance estimate is 11.975098776702144\n"
     ]
    }
   ],
   "source": [
    "ate_hat = savings[savings.treatment==1].bank_savings.mean() - \\\n",
    "    savings[savings.treatment==0].bank_savings.mean()\n",
    "print(\"our ATE estimate is \", ate_hat)\n",
    "\n",
    "var_ate_hat = savings[savings.treatment==1].bank_savings.var() / len(savings[savings.treatment==1].bank_savings) + \\\n",
    "    savings[savings.treatment==0].bank_savings.var() / len(savings[savings.treatment==0].bank_savings)\n",
    "print('our ATE variance estimate is', var_ate_hat)"
   ]
  },
  {
   "cell_type": "code",
   "execution_count": 4,
   "metadata": {
    "ExecuteTime": {
     "end_time": "2022-10-01T07:48:34.439327Z",
     "start_time": "2022-10-01T07:48:34.433834Z"
    }
   },
   "outputs": [
    {
     "data": {
      "text/plain": [
       "[3.2764183417642734, 16.841350899568734]"
      ]
     },
     "execution_count": 4,
     "metadata": {},
     "output_type": "execute_result"
    }
   ],
   "source": [
    "[ate_hat - sps.norm.ppf(0.975) * np.sqrt(var_ate_hat),\n",
    " ate_hat + sps.norm.ppf(0.975) * np.sqrt(var_ate_hat)]"
   ]
  },
  {
   "cell_type": "markdown",
   "metadata": {},
   "source": [
    "The confidence interval does not contain zero.\n",
    "We can also perform a statistical test, which exhibits a small p-value (think of the duality between hypothesis testing and confidence interval)"
   ]
  },
  {
   "cell_type": "code",
   "execution_count": 5,
   "metadata": {
    "ExecuteTime": {
     "end_time": "2022-10-01T07:48:34.451196Z",
     "start_time": "2022-10-01T07:48:34.442783Z"
    }
   },
   "outputs": [
    {
     "data": {
      "text/plain": [
       "Ttest_indResult(statistic=2.9067673477053932, pvalue=0.003983321880348759)"
      ]
     },
     "execution_count": 5,
     "metadata": {},
     "output_type": "execute_result"
    }
   ],
   "source": [
    "sps.ttest_ind(savings[savings.treatment==1].bank_savings.values,\n",
    "             savings[savings.treatment==0].bank_savings.values,\n",
    "              equal_var=False, nan_policy='omit')"
   ]
  },
  {
   "cell_type": "markdown",
   "metadata": {
    "ExecuteTime": {
     "end_time": "2022-09-25T20:31:26.143801Z",
     "start_time": "2022-09-25T20:31:26.131203Z"
    }
   },
   "source": [
    "### Question 2\n",
    "\n",
    "Estimate the conditional average treatment effect of the bank account offer for men and for women respectively. Construct 95\\% confidence intervals and interpret your results. Also test for the difference in treatment effects. Is the difference in treatment effects between men and women statistically significant at $\\alpha = .05$?\n"
   ]
  },
  {
   "cell_type": "code",
   "execution_count": 6,
   "metadata": {
    "ExecuteTime": {
     "end_time": "2022-10-01T07:48:34.465126Z",
     "start_time": "2022-10-01T07:48:34.452715Z"
    }
   },
   "outputs": [
    {
     "name": "stdout",
     "output_type": "stream",
     "text": [
      "our ATE estimate for men is  5.310898\n",
      "our ATE estimate for women is  12.553999\n"
     ]
    }
   ],
   "source": [
    "ate_hat_men = savings[(savings.treatment==1)&(savings.bg_gender==1)].bank_savings.mean() - \\\n",
    "    savings[(savings.treatment==0)&(savings.bg_gender==1)].bank_savings.mean()\n",
    "print(\"our ATE estimate for men is \", ate_hat_men)\n",
    "\n",
    "ate_hat_women = savings[(savings.treatment==1)&(savings.bg_gender==0)].bank_savings.mean() - \\\n",
    "    savings[(savings.treatment==0)&(savings.bg_gender==0)].bank_savings.mean()\n",
    "print(\"our ATE estimate for women is \", ate_hat_women)"
   ]
  },
  {
   "cell_type": "code",
   "execution_count": 7,
   "metadata": {
    "ExecuteTime": {
     "end_time": "2022-10-01T07:48:34.489162Z",
     "start_time": "2022-10-01T07:48:34.466968Z"
    }
   },
   "outputs": [
    {
     "name": "stdout",
     "output_type": "stream",
     "text": [
      "confidence interval for CATE in men [-1.4518835075204173, 12.073679161817292]\n",
      "confidence interval for CATE in women [3.0247230750061753, 22.083274819280934]\n"
     ]
    }
   ],
   "source": [
    "var_ate_men = savings[(savings.treatment==1)&(savings.bg_gender==1)].bank_savings.var() / len(savings[(savings.treatment==1)&(savings.bg_gender==1)].bank_savings) + \\\n",
    "    savings[(savings.treatment==0)&(savings.bg_gender==1)].bank_savings.var() / len(savings[(savings.treatment==0)&(savings.bg_gender==1)].bank_savings)\n",
    "\n",
    "ci_men = [ate_hat_men - sps.norm.ppf(0.975) * np.sqrt(var_ate_men),\n",
    " ate_hat_men + sps.norm.ppf(0.975) * np.sqrt(var_ate_men)]\n",
    "\n",
    "print(\"confidence interval for CATE in men\", ci_men)\n",
    "\n",
    "var_ate_women = savings[(savings.treatment==1)&(savings.bg_gender==0)].bank_savings.var() / len(savings[(savings.treatment==1)&(savings.bg_gender==0)].bank_savings) + \\\n",
    "    savings[(savings.treatment==0)&(savings.bg_gender==0)].bank_savings.var() / len(savings[(savings.treatment==0)&(savings.bg_gender==0)].bank_savings)\n",
    "\n",
    "ci_women = [ate_hat_women - sps.norm.ppf(0.975) * np.sqrt(var_ate_women),\n",
    " ate_hat_women + sps.norm.ppf(0.975) * np.sqrt(var_ate_women)]\n",
    "\n",
    "print(\"confidence interval for CATE in women\", ci_women)"
   ]
  },
  {
   "cell_type": "markdown",
   "metadata": {},
   "source": [
    "We can also perform a statistical test. Be aware that there are several implementations of statistical tests in Python (and in other languages). Those implementations can give slightly different results due to not having the same default parameters, but for the scope of this lecture, we will ignore those subtilities."
   ]
  },
  {
   "cell_type": "code",
   "execution_count": 8,
   "metadata": {
    "ExecuteTime": {
     "end_time": "2022-10-01T07:48:34.515664Z",
     "start_time": "2022-10-01T07:48:34.492749Z"
    }
   },
   "outputs": [
    {
     "name": "stdout",
     "output_type": "stream",
     "text": [
      "Ttest_indResult(statistic=1.5391844878008465, pvalue=0.1296281992607334)\n"
     ]
    },
    {
     "data": {
      "text/html": [
       "<table class=\"simpletable\">\n",
       "<caption>Test for equality of means</caption>\n",
       "<tr>\n",
       "      <td></td>         <th>coef</th>     <th>std err</th>      <th>t</th>      <th>P>|t|</th>  <th>[0.025</th>    <th>0.975]</th>  \n",
       "</tr>\n",
       "<tr>\n",
       "  <th>subset #1</th> <td>    5.3109</td> <td>    3.396</td> <td>    1.564</td> <td> 0.122</td> <td>   -1.449</td> <td>   12.071</td>\n",
       "</tr>\n",
       "</table>"
      ],
      "text/plain": [
       "<class 'statsmodels.iolib.table.SimpleTable'>"
      ]
     },
     "execution_count": 8,
     "metadata": {},
     "output_type": "execute_result"
    }
   ],
   "source": [
    "print(sps.ttest_ind(savings[(savings.treatment==1)&(savings.bg_gender==1)].bank_savings.values,\n",
    "             savings[(savings.treatment==0)&(savings.bg_gender==1)].bank_savings.values,\n",
    "              equal_var=False, nan_policy='omit'))\n",
    "CompareMeans.from_data(savings[(savings.treatment==1)&(savings.bg_gender==1)].bank_savings.values,\n",
    "             savings[(savings.treatment==0)&(savings.bg_gender==1)].bank_savings.values).summary()"
   ]
  },
  {
   "cell_type": "code",
   "execution_count": 9,
   "metadata": {
    "ExecuteTime": {
     "end_time": "2022-10-01T07:48:34.532174Z",
     "start_time": "2022-10-01T07:48:34.518107Z"
    }
   },
   "outputs": [
    {
     "name": "stdout",
     "output_type": "stream",
     "text": [
      "Ttest_indResult(statistic=2.58208336472362, pvalue=0.010687319044089033)\n"
     ]
    },
    {
     "data": {
      "text/html": [
       "<table class=\"simpletable\">\n",
       "<caption>Test for equality of means</caption>\n",
       "<tr>\n",
       "      <td></td>         <th>coef</th>     <th>std err</th>      <th>t</th>      <th>P>|t|</th>  <th>[0.025</th>    <th>0.975]</th>  \n",
       "</tr>\n",
       "<tr>\n",
       "  <th>subset #1</th> <td>   12.5540</td> <td>    4.948</td> <td>    2.537</td> <td> 0.012</td> <td>    2.786</td> <td>   22.322</td>\n",
       "</tr>\n",
       "</table>"
      ],
      "text/plain": [
       "<class 'statsmodels.iolib.table.SimpleTable'>"
      ]
     },
     "execution_count": 9,
     "metadata": {},
     "output_type": "execute_result"
    }
   ],
   "source": [
    "print(sps.ttest_ind(savings[(savings.treatment==1)&(savings.bg_gender==0)].bank_savings.values,\n",
    "             savings[(savings.treatment==0)&(savings.bg_gender==0)].bank_savings.values,\n",
    "              equal_var=False, nan_policy='omit'))\n",
    "CompareMeans.from_data(savings[(savings.treatment==1)&(savings.bg_gender==0)].bank_savings.values,\n",
    "             savings[(savings.treatment==0)&(savings.bg_gender==0)].bank_savings.values).summary()"
   ]
  },
  {
   "cell_type": "code",
   "execution_count": 10,
   "metadata": {
    "ExecuteTime": {
     "end_time": "2022-10-01T07:48:34.541302Z",
     "start_time": "2022-10-01T07:48:34.536403Z"
    }
   },
   "outputs": [
    {
     "name": "stdout",
     "output_type": "stream",
     "text": [
      "our difference between CATEs is  -7.243101\n"
     ]
    }
   ],
   "source": [
    "cate_diff = ate_hat_men - ate_hat_women\n",
    "print(\"our difference between CATEs is \", cate_diff)"
   ]
  },
  {
   "cell_type": "code",
   "execution_count": 11,
   "metadata": {
    "ExecuteTime": {
     "end_time": "2022-10-01T07:48:34.566451Z",
     "start_time": "2022-10-01T07:48:34.543870Z"
    }
   },
   "outputs": [
    {
     "name": "stdout",
     "output_type": "stream",
     "text": [
      "[-18.928233127287335, 4.442030887297101]\n"
     ]
    }
   ],
   "source": [
    "se_cate_men = np.sqrt(savings[(savings.treatment==1)&(savings.bg_gender==1)].bank_savings.var()/len(savings[(savings.treatment==1)&(savings.bg_gender==1)].bank_savings) + \\\n",
    "                    savings[(savings.treatment==0)&(savings.bg_gender==1)].bank_savings.var()/len(savings[(savings.treatment==0)&(savings.bg_gender==1)].bank_savings))\n",
    "se_cate_women = np.sqrt(savings[(savings.treatment==1)&(savings.bg_gender==0)].bank_savings.var()/len(savings[(savings.treatment==1)&(savings.bg_gender==0)].bank_savings) + \\\n",
    "                    savings[(savings.treatment==0)&(savings.bg_gender==0)].bank_savings.var()/len(savings[(savings.treatment==0)&(savings.bg_gender==0)].bank_savings))\n",
    "se_cate_diff = np.sqrt(se_cate_men**2 + se_cate_women**2)\n",
    "\n",
    "ci_ate_diff = [cate_diff - sps.norm.ppf(.975)*se_cate_diff, cate_diff + sps.norm.ppf(.975)*se_cate_diff]\n",
    "print(ci_ate_diff)"
   ]
  },
  {
   "cell_type": "markdown",
   "metadata": {},
   "source": [
    "### Question 3 \n",
    "\n",
    "Subjects who were participants in at least one Rotating Saving and Credit Association (a common saving/lending mechanism in many African countries) tended to save more on average. Let's post-stratify on this variable. Estimate the average treatment effect on average daily bank deposits using a stratified difference-in-means estimator, stratifying on ROSCA participation. Generate a 95\\% confidence interval. How does the standard error compare to your result in 1 -- were there large benefits to stratification on this particular variable?\n"
   ]
  },
  {
   "cell_type": "code",
   "execution_count": 12,
   "metadata": {
    "ExecuteTime": {
     "end_time": "2022-10-01T07:48:34.582592Z",
     "start_time": "2022-10-01T07:48:34.572051Z"
    }
   },
   "outputs": [
    {
     "data": {
      "text/plain": [
       "1.0    185\n",
       "0.0     65\n",
       "Name: bg_rosca, dtype: int64"
      ]
     },
     "execution_count": 12,
     "metadata": {},
     "output_type": "execute_result"
    }
   ],
   "source": [
    "# Drop if missing bg_rosca (this shouldn't matter since we've already dropped all \"missing\")\n",
    "savings = savings.dropna(subset=['bg_rosca'])\n",
    "\n",
    "savings.bg_rosca.value_counts()\n"
   ]
  },
  {
   "cell_type": "code",
   "execution_count": 13,
   "metadata": {
    "ExecuteTime": {
     "end_time": "2022-10-01T07:48:34.632531Z",
     "start_time": "2022-10-01T07:48:34.586801Z"
    }
   },
   "outputs": [
    {
     "name": "stdout",
     "output_type": "stream",
     "text": [
      "our ATE estimate for rosca 0 is  4.509239\n",
      "our ATE variance estimate for rosca 0 is 9.125600106375558\n",
      "our ATE estimate for rosca 1 is  12.01897\n",
      "our ATE variance estimate for rosca 1 is 20.61788200827206\n"
     ]
    }
   ],
   "source": [
    "ate_rosca_0 = savings[(savings.treatment==1)&(savings.bg_rosca==0)].bank_savings.mean() - \\\n",
    "    savings[(savings.treatment==0)&(savings.bg_rosca==0)].bank_savings.mean()\n",
    "print(\"our ATE estimate for rosca 0 is \", ate_rosca_0)\n",
    "\n",
    "var_rosca_0 = savings[(savings.treatment==1)&(savings.bg_rosca==0)].bank_savings.var() / len(savings[(savings.treatment==1)&(savings.bg_rosca==0)].bank_savings)+\\\n",
    "    savings[(savings.treatment==0)&(savings.bg_rosca==0)].bank_savings.var() / len(savings[(savings.treatment==0)&(savings.bg_rosca==0)].bank_savings)\n",
    "print('our ATE variance estimate for rosca 0 is', var_rosca_0)\n",
    "\n",
    "ate_rosca_1 = savings[(savings.treatment==1)&(savings.bg_rosca==1)].bank_savings.mean() - \\\n",
    "    savings[(savings.treatment==0)&(savings.bg_rosca==1)].bank_savings.mean()\n",
    "print(\"our ATE estimate for rosca 1 is \", ate_rosca_1)\n",
    "\n",
    "var_rosca_1 = savings[(savings.treatment==1)&(savings.bg_rosca==1)].bank_savings.var() / len(savings[(savings.treatment==1)&(savings.bg_rosca==1)].bank_savings)+\\\n",
    "    savings[(savings.treatment==0)&(savings.bg_rosca==1)].bank_savings.var() / len(savings[(savings.treatment==0)&(savings.bg_rosca==1)].bank_savings)\n",
    "print('our ATE variance estimate for rosca 1 is', var_rosca_1)"
   ]
  },
  {
   "cell_type": "code",
   "execution_count": 14,
   "metadata": {
    "ExecuteTime": {
     "end_time": "2022-10-01T07:48:34.642492Z",
     "start_time": "2022-10-01T07:48:34.636334Z"
    }
   },
   "outputs": [
    {
     "name": "stdout",
     "output_type": "stream",
     "text": [
      "10.066439647674562\n"
     ]
    }
   ],
   "source": [
    "tau_block = ate_rosca_0 * len(savings[savings.bg_rosca==0]) / len(savings) + ate_rosca_1 * len(savings[savings.bg_rosca==1]) / len(savings)\n",
    "print(tau_block)"
   ]
  },
  {
   "cell_type": "code",
   "execution_count": 15,
   "metadata": {
    "ExecuteTime": {
     "end_time": "2022-10-01T07:48:34.652108Z",
     "start_time": "2022-10-01T07:48:34.644558Z"
    }
   },
   "outputs": [
    {
     "name": "stdout",
     "output_type": "stream",
     "text": [
      "11.907242754920766\n"
     ]
    }
   ],
   "source": [
    "var_tau_block = var_rosca_0 * (len(savings[savings.bg_rosca==0]) / len(savings))**2 + var_rosca_1 * (len(savings[savings.bg_rosca==1]) / len(savings))**2\n",
    "print(var_tau_block)"
   ]
  },
  {
   "cell_type": "markdown",
   "metadata": {},
   "source": [
    "## Problem 2: Simpson's paradox\n",
    "Simpson's paradox is a phenomenon in probability and statistics in which a trend appears in several groups of data but disappears or reverses when the groups are combined. Simpson's paradox occurs when a third variable is associated with treatment assignement and potential outcomes, breaking the ignorability assumption. We are going to study medical data reporting the outcomes of two treatments for kidney stones, as well as the kidney stone size.\n",
    "\n",
    "### Question 1: compute the ATE of treatment A, compared to treatment B. \n",
    "You may need to convert variables to numerical values. You can use the `map` method in pandas, or the `loc` in indexes."
   ]
  },
  {
   "cell_type": "code",
   "execution_count": 16,
   "metadata": {
    "ExecuteTime": {
     "end_time": "2022-10-01T07:48:34.666412Z",
     "start_time": "2022-10-01T07:48:34.654961Z"
    }
   },
   "outputs": [
    {
     "data": {
      "text/html": [
       "<div>\n",
       "<style scoped>\n",
       "    .dataframe tbody tr th:only-of-type {\n",
       "        vertical-align: middle;\n",
       "    }\n",
       "\n",
       "    .dataframe tbody tr th {\n",
       "        vertical-align: top;\n",
       "    }\n",
       "\n",
       "    .dataframe thead th {\n",
       "        text-align: right;\n",
       "    }\n",
       "</style>\n",
       "<table border=\"1\" class=\"dataframe\">\n",
       "  <thead>\n",
       "    <tr style=\"text-align: right;\">\n",
       "      <th></th>\n",
       "      <th>treatment</th>\n",
       "      <th>stone_size</th>\n",
       "      <th>outcome</th>\n",
       "    </tr>\n",
       "  </thead>\n",
       "  <tbody>\n",
       "    <tr>\n",
       "      <th>0</th>\n",
       "      <td>B</td>\n",
       "      <td>large</td>\n",
       "      <td>success</td>\n",
       "    </tr>\n",
       "    <tr>\n",
       "      <th>1</th>\n",
       "      <td>B</td>\n",
       "      <td>small</td>\n",
       "      <td>success</td>\n",
       "    </tr>\n",
       "    <tr>\n",
       "      <th>2</th>\n",
       "      <td>B</td>\n",
       "      <td>small</td>\n",
       "      <td>success</td>\n",
       "    </tr>\n",
       "    <tr>\n",
       "      <th>3</th>\n",
       "      <td>A</td>\n",
       "      <td>small</td>\n",
       "      <td>success</td>\n",
       "    </tr>\n",
       "    <tr>\n",
       "      <th>4</th>\n",
       "      <td>B</td>\n",
       "      <td>small</td>\n",
       "      <td>success</td>\n",
       "    </tr>\n",
       "  </tbody>\n",
       "</table>\n",
       "</div>"
      ],
      "text/plain": [
       "  treatment stone_size  outcome\n",
       "0         B      large  success\n",
       "1         B      small  success\n",
       "2         B      small  success\n",
       "3         A      small  success\n",
       "4         B      small  success"
      ]
     },
     "execution_count": 16,
     "metadata": {},
     "output_type": "execute_result"
    }
   ],
   "source": [
    "kidney_data = pd.read_csv('kidney_stone.csv')\n",
    "kidney_data.head()"
   ]
  },
  {
   "cell_type": "code",
   "execution_count": 17,
   "metadata": {
    "ExecuteTime": {
     "end_time": "2022-10-01T07:48:34.686020Z",
     "start_time": "2022-10-01T07:48:34.667860Z"
    }
   },
   "outputs": [
    {
     "data": {
      "text/html": [
       "<div>\n",
       "<style scoped>\n",
       "    .dataframe tbody tr th:only-of-type {\n",
       "        vertical-align: middle;\n",
       "    }\n",
       "\n",
       "    .dataframe tbody tr th {\n",
       "        vertical-align: top;\n",
       "    }\n",
       "\n",
       "    .dataframe thead th {\n",
       "        text-align: right;\n",
       "    }\n",
       "</style>\n",
       "<table border=\"1\" class=\"dataframe\">\n",
       "  <thead>\n",
       "    <tr style=\"text-align: right;\">\n",
       "      <th></th>\n",
       "      <th>treatment</th>\n",
       "      <th>stone_size</th>\n",
       "      <th>outcome</th>\n",
       "      <th>outcome_bin</th>\n",
       "    </tr>\n",
       "  </thead>\n",
       "  <tbody>\n",
       "    <tr>\n",
       "      <th>413</th>\n",
       "      <td>A</td>\n",
       "      <td>small</td>\n",
       "      <td>success</td>\n",
       "      <td>1</td>\n",
       "    </tr>\n",
       "    <tr>\n",
       "      <th>29</th>\n",
       "      <td>A</td>\n",
       "      <td>large</td>\n",
       "      <td>success</td>\n",
       "      <td>1</td>\n",
       "    </tr>\n",
       "    <tr>\n",
       "      <th>672</th>\n",
       "      <td>A</td>\n",
       "      <td>large</td>\n",
       "      <td>success</td>\n",
       "      <td>1</td>\n",
       "    </tr>\n",
       "    <tr>\n",
       "      <th>376</th>\n",
       "      <td>A</td>\n",
       "      <td>large</td>\n",
       "      <td>success</td>\n",
       "      <td>1</td>\n",
       "    </tr>\n",
       "    <tr>\n",
       "      <th>225</th>\n",
       "      <td>B</td>\n",
       "      <td>small</td>\n",
       "      <td>success</td>\n",
       "      <td>1</td>\n",
       "    </tr>\n",
       "    <tr>\n",
       "      <th>573</th>\n",
       "      <td>B</td>\n",
       "      <td>small</td>\n",
       "      <td>success</td>\n",
       "      <td>1</td>\n",
       "    </tr>\n",
       "    <tr>\n",
       "      <th>288</th>\n",
       "      <td>B</td>\n",
       "      <td>small</td>\n",
       "      <td>success</td>\n",
       "      <td>1</td>\n",
       "    </tr>\n",
       "    <tr>\n",
       "      <th>208</th>\n",
       "      <td>A</td>\n",
       "      <td>large</td>\n",
       "      <td>failure</td>\n",
       "      <td>0</td>\n",
       "    </tr>\n",
       "    <tr>\n",
       "      <th>442</th>\n",
       "      <td>A</td>\n",
       "      <td>large</td>\n",
       "      <td>success</td>\n",
       "      <td>1</td>\n",
       "    </tr>\n",
       "    <tr>\n",
       "      <th>426</th>\n",
       "      <td>A</td>\n",
       "      <td>small</td>\n",
       "      <td>success</td>\n",
       "      <td>1</td>\n",
       "    </tr>\n",
       "  </tbody>\n",
       "</table>\n",
       "</div>"
      ],
      "text/plain": [
       "    treatment stone_size  outcome  outcome_bin\n",
       "413         A      small  success            1\n",
       "29          A      large  success            1\n",
       "672         A      large  success            1\n",
       "376         A      large  success            1\n",
       "225         B      small  success            1\n",
       "573         B      small  success            1\n",
       "288         B      small  success            1\n",
       "208         A      large  failure            0\n",
       "442         A      large  success            1\n",
       "426         A      small  success            1"
      ]
     },
     "execution_count": 17,
     "metadata": {},
     "output_type": "execute_result"
    }
   ],
   "source": [
    "kidney_data = kidney_data.assign(outcome_bin=kidney_data.outcome.map({'success': 1, 'failure': 0}))\n",
    "kidney_data.sample(10)"
   ]
  },
  {
   "cell_type": "code",
   "execution_count": 18,
   "metadata": {
    "ExecuteTime": {
     "end_time": "2022-10-01T07:48:34.694321Z",
     "start_time": "2022-10-01T07:48:34.687768Z"
    }
   },
   "outputs": [
    {
     "name": "stdout",
     "output_type": "stream",
     "text": [
      "ATE: -0.04571428571428571\n"
     ]
    }
   ],
   "source": [
    "ate = kidney_data[kidney_data.treatment=='A'].outcome_bin.mean() -\\\n",
    "    kidney_data[kidney_data.treatment=='B'].outcome_bin.mean()\n",
    "print('ATE:', ate)"
   ]
  },
  {
   "cell_type": "markdown",
   "metadata": {},
   "source": [
    "### Question 2: now compute the CATEs for each stone size category."
   ]
  },
  {
   "cell_type": "code",
   "execution_count": 19,
   "metadata": {
    "ExecuteTime": {
     "end_time": "2022-10-01T07:48:34.708210Z",
     "start_time": "2022-10-01T07:48:34.697765Z"
    }
   },
   "outputs": [
    {
     "name": "stdout",
     "output_type": "stream",
     "text": [
      "CATE large size: 0.04253802281368824\n"
     ]
    }
   ],
   "source": [
    "cate_big = kidney_data[(kidney_data.treatment=='A') & (kidney_data.stone_size=='large')].outcome_bin.mean() -\\\n",
    "    kidney_data[(kidney_data.treatment=='B') & (kidney_data.stone_size=='large')].outcome_bin.mean()\n",
    "print('CATE large size:', cate_big)"
   ]
  },
  {
   "cell_type": "code",
   "execution_count": 20,
   "metadata": {
    "ExecuteTime": {
     "end_time": "2022-10-01T07:48:34.719643Z",
     "start_time": "2022-10-01T07:48:34.710458Z"
    }
   },
   "outputs": [
    {
     "name": "stdout",
     "output_type": "stream",
     "text": [
      "CATE small size: 0.04253802281368824\n"
     ]
    }
   ],
   "source": [
    "cate_small = kidney_data[(kidney_data.treatment=='A') & (kidney_data.stone_size=='small')].outcome_bin.mean() -\\\n",
    "    kidney_data[(kidney_data.treatment=='B') & (kidney_data.stone_size=='small')].outcome_bin.mean()\n",
    "print('CATE small size:', cate_big)"
   ]
  },
  {
   "cell_type": "markdown",
   "metadata": {},
   "source": [
    "### Question 3: are you surprised by the results? what are the treated and controlled proportions for each stone size? what is the effect of stone size on success? Can you explain the paradox?"
   ]
  },
  {
   "cell_type": "markdown",
   "metadata": {},
   "source": [
    "The less effective treatment B appears to be more effective because it was applied more frequently to the small stones cases, which were easier to treat."
   ]
  },
  {
   "cell_type": "code",
   "execution_count": 21,
   "metadata": {
    "ExecuteTime": {
     "end_time": "2022-10-01T07:48:34.732139Z",
     "start_time": "2022-10-01T07:48:34.722624Z"
    }
   },
   "outputs": [
    {
     "data": {
      "text/plain": [
       "stone_size\n",
       "large    0.720117\n",
       "small    0.882353\n",
       "Name: outcome_bin, dtype: float64"
      ]
     },
     "execution_count": 21,
     "metadata": {},
     "output_type": "execute_result"
    }
   ],
   "source": [
    "kidney_data.groupby('stone_size').outcome_bin.mean()"
   ]
  },
  {
   "cell_type": "code",
   "execution_count": 22,
   "metadata": {
    "ExecuteTime": {
     "end_time": "2022-10-01T07:48:34.757764Z",
     "start_time": "2022-10-01T07:48:34.734473Z"
    }
   },
   "outputs": [
    {
     "data": {
      "text/html": [
       "<div>\n",
       "<style scoped>\n",
       "    .dataframe tbody tr th:only-of-type {\n",
       "        vertical-align: middle;\n",
       "    }\n",
       "\n",
       "    .dataframe tbody tr th {\n",
       "        vertical-align: top;\n",
       "    }\n",
       "\n",
       "    .dataframe thead th {\n",
       "        text-align: right;\n",
       "    }\n",
       "</style>\n",
       "<table border=\"1\" class=\"dataframe\">\n",
       "  <thead>\n",
       "    <tr style=\"text-align: right;\">\n",
       "      <th>stone_size</th>\n",
       "      <th>large</th>\n",
       "      <th>small</th>\n",
       "    </tr>\n",
       "    <tr>\n",
       "      <th>treatment</th>\n",
       "      <th></th>\n",
       "      <th></th>\n",
       "    </tr>\n",
       "  </thead>\n",
       "  <tbody>\n",
       "    <tr>\n",
       "      <th>A</th>\n",
       "      <td>263</td>\n",
       "      <td>87</td>\n",
       "    </tr>\n",
       "    <tr>\n",
       "      <th>B</th>\n",
       "      <td>80</td>\n",
       "      <td>270</td>\n",
       "    </tr>\n",
       "  </tbody>\n",
       "</table>\n",
       "</div>"
      ],
      "text/plain": [
       "stone_size  large  small\n",
       "treatment               \n",
       "A             263     87\n",
       "B              80    270"
      ]
     },
     "execution_count": 22,
     "metadata": {},
     "output_type": "execute_result"
    }
   ],
   "source": [
    "kidney_data.pivot_table(values='outcome', index='treatment', columns='stone_size',\n",
    "               aggfunc='count')"
   ]
  },
  {
   "cell_type": "markdown",
   "metadata": {},
   "source": [
    "## Problem 3: multiple hypothesis testing simulation\n",
    "\n",
    "We have discussed in class the issue of multiple hypothesis testing. Let's see it in practice. The objective is to simulate data where there is no treatment effect, and see what happens to our statistical tests.\n",
    "\n",
    "### Question 1: complete the following function that simulates data and performs tests to assess our type I error rate?\n",
    "We are exploring how likely it is to find a covariate the determines a subgroup where our treatment has a significant effect (different from zero)."
   ]
  },
  {
   "cell_type": "code",
   "execution_count": 23,
   "metadata": {
    "ExecuteTime": {
     "end_time": "2022-10-01T07:48:34.766253Z",
     "start_time": "2022-10-01T07:48:34.759652Z"
    }
   },
   "outputs": [],
   "source": [
    "\n",
    "def subgroup_sim(rng, n_iter, n_cov=20, N=2000, alpha=0.05):\n",
    "    \"\"\"\n",
    "    this is a docstring\n",
    "    n_iter : integer, nb of simulated datasets\n",
    "    n_cov : integer, nb of covariates in our dataset\n",
    "    N : integer, number of units in each simulated dataset\n",
    "    alpha : statistical risk to reject the null hypothesis of 0 causal effect\n",
    "    \"\"\"\n",
    "    reject = np.zeros(n_iter)\n",
    "    \n",
    "    for idx in range(n_iter):\n",
    "        # simulate potential outcomes (standard normal distribution)\n",
    "        Y_1 = Y_0 = rng.normal(0,1, N)\n",
    "        # treatment\n",
    "        T = rng.binomial(1, 0.5, N)\n",
    "        # outcome (binary)\n",
    "        Y = T * Y_1 + (1 - T) * Y_0\n",
    "        # covariates (binary)\n",
    "        X = rng.binomial(1, 0.3, [N, n_cov])\n",
    "        \n",
    "        \n",
    "        # subgroup analysis\n",
    "        for k in range(n_cov):\n",
    "            cov_k_mask = X[:, k] == 1\n",
    "            sub_T = T[cov_k_mask]\n",
    "            sub_Y = Y[cov_k_mask]\n",
    "            pv = ztest(sub_Y[sub_T==1], sub_Y[sub_T==0])[1]\n",
    "            if pv < alpha:\n",
    "                reject[idx] = 1\n",
    "                break\n",
    "    return np.mean(reject)\n",
    "     "
   ]
  },
  {
   "cell_type": "code",
   "execution_count": 24,
   "metadata": {
    "ExecuteTime": {
     "end_time": "2022-10-01T07:49:02.851250Z",
     "start_time": "2022-10-01T07:48:34.767723Z"
    }
   },
   "outputs": [
    {
     "name": "stdout",
     "output_type": "stream",
     "text": [
      "[0.104, 0.186, 0.361, 0.544, 0.74, 0.865, 0.908, 0.94]\n"
     ]
    }
   ],
   "source": [
    "rng = np.random.default_rng(seed=256)\n",
    "nb_covariates = [2, 5, 10, 20, 40, 60, 80, 100]\n",
    "res = list()\n",
    "for nc in nb_covariates:\n",
    "    res.append(subgroup_sim(rng, 1000, n_cov=nc, N=2000, alpha=0.05))\n",
    "print(res)"
   ]
  },
  {
   "cell_type": "markdown",
   "metadata": {
    "ExecuteTime": {
     "end_time": "2022-09-26T07:27:11.791961Z",
     "start_time": "2022-09-26T07:27:11.788260Z"
    }
   },
   "source": [
    "Let's review the code together.\n",
    "\n",
    "\n",
    "**why is $Y_1 = Y_0$?**\n",
    "*because it's the null hypothesis of no effect. It's actually stronger, but easier to generate.*\n",
    "\n",
    "**what is the command `break` doing?**\n",
    "*it is stopping the loop before looking at all the covariates, we just need one*\n",
    "\n",
    "Let's now plot the results!!"
   ]
  },
  {
   "cell_type": "code",
   "execution_count": 25,
   "metadata": {
    "ExecuteTime": {
     "end_time": "2022-10-01T07:49:02.993964Z",
     "start_time": "2022-10-01T07:49:02.853198Z"
    }
   },
   "outputs": [
    {
     "data": {
      "text/plain": [
       "Text(0, 0.5, 'type 1 error')"
      ]
     },
     "execution_count": 25,
     "metadata": {},
     "output_type": "execute_result"
    },
    {
     "data": {
      "image/png": "[encoded data removed]",
      "text/plain": [
       "<Figure size 432x288 with 1 Axes>"
      ]
     },
     "metadata": {
      "needs_background": "light"
     },
     "output_type": "display_data"
    }
   ],
   "source": [
    "plt.plot(nb_covariates, res, marker='X')\n",
    "plt.xlabel('nb of covariates')\n",
    "plt.ylabel('type 1 error')"
   ]
  },
  {
   "cell_type": "markdown",
   "metadata": {
    "ExecuteTime": {
     "end_time": "2022-09-26T07:44:58.405903Z",
     "start_time": "2022-09-26T07:44:58.401171Z"
    }
   },
   "source": [
    "Let's now consider what happens when we introduce a \"sample-splitting\" step -- We randomly split our sample in half, go through each covariate and test for a \"significant\" effect in that group. If we find a significant effect, we check to see if we also detect a \"significant\" effect for that group in the other half of the sample. What's our false positive rate then?"
   ]
  },
  {
   "cell_type": "code",
   "execution_count": 26,
   "metadata": {
    "ExecuteTime": {
     "end_time": "2022-10-01T07:49:03.003786Z",
     "start_time": "2022-10-01T07:49:02.995950Z"
    }
   },
   "outputs": [],
   "source": [
    "\n",
    "def subgroup_sim_split(rng, n_iter, n_cov=20, N=2000, alpha=0.05, split=0.5):\n",
    "    \"\"\"\n",
    "    this is a docstring\n",
    "    n_iter : integer, nb of simulated datasets\n",
    "    n_cov : integer, nb of covariates in our dataset\n",
    "    N : integer, number of units in each simulated dataset\n",
    "    alpha : statistical risk to reject the null hypothesis of 0 causal effect\n",
    "    \"\"\"\n",
    "    reject = np.zeros(n_iter)\n",
    "    \n",
    "    for idx in range(n_iter):\n",
    "        # simulate potential outcomes (standard normal distribution)\n",
    "        Y_1 = Y_0 = rng.normal(0,1, N)\n",
    "        # treatment\n",
    "        T = rng.binomial(1, 0.5, N)\n",
    "        # outcome (binary)\n",
    "        Y = T * Y_1 + (1 - T) * Y_0\n",
    "        # covariates (binary)\n",
    "        X = rng.binomial(1, 0.3, [N, n_cov])\n",
    "        \n",
    "        # Sample indices to put in the \"exploratory\" sample\n",
    "        exploratory_sample = rng.choice(N, int(N*split), replace=False)\n",
    "        # Exploratory and confirmatory samples\n",
    "        Y_explore = Y[exploratory_sample]\n",
    "        T_explore = T[exploratory_sample]\n",
    "        X_explore = X[exploratory_sample, :]\n",
    "\n",
    "        # \"tilde\" is the negation\n",
    "        Y_confirm = Y[~exploratory_sample] \n",
    "        T_confirm = T[~exploratory_sample]\n",
    "        X_confirm = X[~exploratory_sample, :]\n",
    "    \n",
    "        # subgroup analysis\n",
    "        to_evaluate = list()\n",
    "        for k in range(n_cov):\n",
    "            cov_k_mask = X_explore[:, k] == 1\n",
    "            sub_T = T_explore[cov_k_mask]\n",
    "            sub_Y = Y_explore[cov_k_mask]\n",
    "            pv = ztest(sub_Y[sub_T==1], sub_Y[sub_T==0])[1]\n",
    "            if pv < alpha:\n",
    "                to_evaluate.append(k)\n",
    "        \n",
    "        for k in to_evaluate:\n",
    "            cov_k_mask = X_confirm[:, k] == 1\n",
    "            sub_T = T_confirm[cov_k_mask]\n",
    "            sub_Y = Y_confirm[cov_k_mask]\n",
    "            pv = ztest(sub_Y[sub_T==1], sub_Y[sub_T==0])[1]\n",
    "            if pv < alpha:\n",
    "                reject[idx] = 1\n",
    "                break\n",
    "    return np.mean(reject)\n",
    "     "
   ]
  },
  {
   "cell_type": "code",
   "execution_count": 27,
   "metadata": {
    "ExecuteTime": {
     "end_time": "2022-10-01T07:49:59.987794Z",
     "start_time": "2022-10-01T07:49:03.005657Z"
    }
   },
   "outputs": [
    {
     "name": "stdout",
     "output_type": "stream",
     "text": [
      "[0.104, 0.186, 0.361, 0.544, 0.74, 0.865, 0.908, 0.94]\n"
     ]
    }
   ],
   "source": [
    "rng = np.random.default_rng(seed=256)\n",
    "nb_covariates = [2, 5, 10, 20, 40, 60, 80, 100]\n",
    "res_split = list()\n",
    "for nc in nb_covariates:\n",
    "    res_split.append(subgroup_sim_split(rng, 1000, n_cov=nc, N=2000, alpha=0.05))\n",
    "print(res)"
   ]
  },
  {
   "cell_type": "code",
   "execution_count": 28,
   "metadata": {
    "ExecuteTime": {
     "end_time": "2022-10-01T07:50:00.089597Z",
     "start_time": "2022-10-01T07:49:59.989431Z"
    }
   },
   "outputs": [
    {
     "data": {
      "text/plain": [
       "Text(0, 0.5, 'type 1 error')"
      ]
     },
     "execution_count": 28,
     "metadata": {},
     "output_type": "execute_result"
    },
    {
     "data": {
      "image/png": "[encoded data removed]",
      "text/plain": [
       "<Figure size 432x288 with 1 Axes>"
      ]
     },
     "metadata": {
      "needs_background": "light"
     },
     "output_type": "display_data"
    }
   ],
   "source": [
    "plt.plot(nb_covariates, res, nb_covariates, res_split, marker='X')\n",
    "plt.xlabel('nb of covariates')\n",
    "plt.ylabel('type 1 error')"
   ]
  },
  {
   "cell_type": "code",
   "execution_count": null,
   "metadata": {},
   "outputs": [],
   "source": []
  },
  {
   "cell_type": "code",
   "execution_count": null,
   "metadata": {},
   "outputs": [],
   "source": []
  },
  {
   "cell_type": "code",
   "execution_count": null,
   "metadata": {},
   "outputs": [],
   "source": []
  }
 ],
 "metadata": {
  "hide_input": false,
  "kernelspec": {
   "display_name": "Python 3",
   "language": "python",
   "name": "python3"
  },
  "language_info": {
   "codemirror_mode": {
    "name": "ipython",
    "version": 3
   },
   "file_extension": ".py",
   "mimetype": "text/x-python",
   "name": "python",
   "nbconvert_exporter": "python",
   "pygments_lexer": "ipython3",
   "version": "3.7.4"
  },
  "latex_envs": {
   "LaTeX_envs_menu_present": true,
   "autoclose": false,
   "autocomplete": true,
   "bibliofile": "biblio.bib",
   "cite_by": "apalike",
   "current_citInitial": 1,
   "eqLabelWithNumbers": true,
   "eqNumInitial": 1,
   "hotkeys": {
    "equation": "Ctrl-E",
    "itemize": "Ctrl-I"
   },
   "labels_anchors": false,
   "latex_user_defs": false,
   "report_style_numbering": false,
   "user_envs_cfg": false
  },
  "toc": {
   "base_numbering": 1,
   "nav_menu": {},
   "number_sections": true,
   "sideBar": true,
   "skip_h1_title": true,
   "title_cell": "Table of Contents",
   "title_sidebar": "Contents",
   "toc_cell": false,
   "toc_position": {},
   "toc_section_display": true,
   "toc_window_display": false
  },
  "varInspector": {
   "cols": {
    "lenName": 16,
    "lenType": 16,
    "lenVar": 40
   },
   "kernels_config": {
    "python": {
     "delete_cmd_postfix": "",
     "delete_cmd_prefix": "del ",
     "library": "var_list.py",
     "varRefreshCmd": "print(var_dic_list())"
    },
    "r": {
     "delete_cmd_postfix": ") ",
     "delete_cmd_prefix": "rm(",
     "library": "var_list.r",
     "varRefreshCmd": "cat(var_dic_list()) "
    }
   },
   "types_to_exclude": [
    "module",
    "function",
    "builtin_function_or_method",
    "instance",
    "_Feature"
   ],
   "window_display": false
  }
 },
 "nbformat": 4,
 "nbformat_minor": 4
}
