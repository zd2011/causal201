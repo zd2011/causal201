{
  "nbformat": 4,
  "nbformat_minor": 0,
  "metadata": {
    "colab": {
      "provenance": [],
      "include_colab_link": true
    },
    "kernelspec": {
      "name": "python3",
      "display_name": "Python 3"
    },
    "language_info": {
      "name": "python"
    }
  },
  "cells": [
    {
      "cell_type": "markdown",
      "metadata": {
        "id": "view-in-github",
        "colab_type": "text"
      },
      "source": [
        "<a href=\"https://colab.research.google.com/github/zd2011/causal201/blob/main/lab7.ipynb\" target=\"_parent\"><img src=\"https://colab.research.google.com/assets/colab-badge.svg\" alt=\"Open In Colab\"/></a>"
      ]
    },
    {
      "cell_type": "markdown",
      "source": [
        "# Week 7 - Using regression-based methods to assess treatment effect heterogeneity\n",
        "\n",
        "author: Judith Abécassis and Élise Dumas, with some inspiration from Imai Kosuke\n",
        "\n",
        "In this recitation, we will use a simplified version of the voter turnout experiment dataset. It is a randomized experience, so we don't need to adjust for any covariates for the identification of the treatment effect, only to study heterogeneity.\n",
        "\n",
        "## Exercise 1: using a single regression (S-learner, or interpretation of coefficient)"
      ],
      "metadata": {
        "id": "6HbeqkHkj4_f"
      }
    },
    {
      "cell_type": "code",
      "execution_count": null,
      "metadata": {
        "id": "3M6dW4Nujokm"
      },
      "outputs": [],
      "source": [
        "import pandas as pd\n",
        "import numpy as np\n",
        "import seaborn as sns\n",
        "import matplotlib.pyplot as plt\n",
        "from sklearn.preprocessing import StandardScaler\n",
        "from sklearn.linear_model import LogisticRegression, LinearRegression\n",
        "import scipy.stats as sps\n",
        "from sklearn.neighbors import KNeighborsRegressor\n",
        "from sklearn.pipeline import make_pipeline\n",
        "\n",
        "\n",
        "sns.set_context('poster')"
      ]
    },
    {
      "cell_type": "code",
      "source": [
        "# read the data\n",
        "social = pd.read_csv(\"https://raw.githubusercontent.com/kosukeimai/qss/master/CAUSALITY/social.csv\")"
      ],
      "metadata": {
        "id": "4CAwg_8vkFBK"
      },
      "execution_count": null,
      "outputs": []
    },
    {
      "cell_type": "code",
      "source": [
        "social.head()"
      ],
      "metadata": {
        "colab": {
          "base_uri": "https://localhost:8080/",
          "height": 206
        },
        "id": "qXhNzTUSkrUp",
        "outputId": "c2227409-be27-4d9a-95ea-42c03338a11d"
      },
      "execution_count": null,
      "outputs": [
        {
          "output_type": "execute_result",
          "data": {
            "text/plain": [
              "      sex  yearofbirth  primary2004    messages  primary2006  hhsize  \\\n",
              "0    male         1941            0  Civic Duty            0       2   \n",
              "1  female         1947            0  Civic Duty            0       2   \n",
              "2    male         1951            0   Hawthorne            1       3   \n",
              "3  female         1950            0   Hawthorne            1       3   \n",
              "4  female         1982            0   Hawthorne            1       3   \n",
              "\n",
              "   sex_binary  age  \n",
              "0           0   65  \n",
              "1           1   59  \n",
              "2           0   55  \n",
              "3           1   56  \n",
              "4           1   24  "
            ],
            "text/html": [
              "\n",
              "  <div id=\"df-3e839ba6-9571-4d04-a07d-ac8cc7ad9f96\">\n",
              "    <div class=\"colab-df-container\">\n",
              "      <div>\n",
              "<style scoped>\n",
              "    .dataframe tbody tr th:only-of-type {\n",
              "        vertical-align: middle;\n",
              "    }\n",
              "\n",
              "    .dataframe tbody tr th {\n",
              "        vertical-align: top;\n",
              "    }\n",
              "\n",
              "    .dataframe thead th {\n",
              "        text-align: right;\n",
              "    }\n",
              "</style>\n",
              "<table border=\"1\" class=\"dataframe\">\n",
              "  <thead>\n",
              "    <tr style=\"text-align: right;\">\n",
              "      <th></th>\n",
              "      <th>sex</th>\n",
              "      <th>yearofbirth</th>\n",
              "      <th>primary2004</th>\n",
              "      <th>messages</th>\n",
              "      <th>primary2006</th>\n",
              "      <th>hhsize</th>\n",
              "      <th>sex_binary</th>\n",
              "      <th>age</th>\n",
              "    </tr>\n",
              "  </thead>\n",
              "  <tbody>\n",
              "    <tr>\n",
              "      <th>0</th>\n",
              "      <td>male</td>\n",
              "      <td>1941</td>\n",
              "      <td>0</td>\n",
              "      <td>Civic Duty</td>\n",
              "      <td>0</td>\n",
              "      <td>2</td>\n",
              "      <td>0</td>\n",
              "      <td>65</td>\n",
              "    </tr>\n",
              "    <tr>\n",
              "      <th>1</th>\n",
              "      <td>female</td>\n",
              "      <td>1947</td>\n",
              "      <td>0</td>\n",
              "      <td>Civic Duty</td>\n",
              "      <td>0</td>\n",
              "      <td>2</td>\n",
              "      <td>1</td>\n",
              "      <td>59</td>\n",
              "    </tr>\n",
              "    <tr>\n",
              "      <th>2</th>\n",
              "      <td>male</td>\n",
              "      <td>1951</td>\n",
              "      <td>0</td>\n",
              "      <td>Hawthorne</td>\n",
              "      <td>1</td>\n",
              "      <td>3</td>\n",
              "      <td>0</td>\n",
              "      <td>55</td>\n",
              "    </tr>\n",
              "    <tr>\n",
              "      <th>3</th>\n",
              "      <td>female</td>\n",
              "      <td>1950</td>\n",
              "      <td>0</td>\n",
              "      <td>Hawthorne</td>\n",
              "      <td>1</td>\n",
              "      <td>3</td>\n",
              "      <td>1</td>\n",
              "      <td>56</td>\n",
              "    </tr>\n",
              "    <tr>\n",
              "      <th>4</th>\n",
              "      <td>female</td>\n",
              "      <td>1982</td>\n",
              "      <td>0</td>\n",
              "      <td>Hawthorne</td>\n",
              "      <td>1</td>\n",
              "      <td>3</td>\n",
              "      <td>1</td>\n",
              "      <td>24</td>\n",
              "    </tr>\n",
              "  </tbody>\n",
              "</table>\n",
              "</div>\n",
              "      <button class=\"colab-df-convert\" onclick=\"convertToInteractive('df-3e839ba6-9571-4d04-a07d-ac8cc7ad9f96')\"\n",
              "              title=\"Convert this dataframe to an interactive table.\"\n",
              "              style=\"display:none;\">\n",
              "        \n",
              "  <svg xmlns=\"http://www.w3.org/2000/svg\" height=\"24px\"viewBox=\"0 0 24 24\"\n",
              "       width=\"24px\">\n",
              "    <path d=\"M0 0h24v24H0V0z\" fill=\"none\"/>\n",
              "    <path d=\"M18.56 5.44l.94 2.06.94-2.06 2.06-.94-2.06-.94-.94-2.06-.94 2.06-2.06.94zm-11 1L8.5 8.5l.94-2.06 2.06-.94-2.06-.94L8.5 2.5l-.94 2.06-2.06.94zm10 10l.94 2.06.94-2.06 2.06-.94-2.06-.94-.94-2.06-.94 2.06-2.06.94z\"/><path d=\"M17.41 7.96l-1.37-1.37c-.4-.4-.92-.59-1.43-.59-.52 0-1.04.2-1.43.59L10.3 9.45l-7.72 7.72c-.78.78-.78 2.05 0 2.83L4 21.41c.39.39.9.59 1.41.59.51 0 1.02-.2 1.41-.59l7.78-7.78 2.81-2.81c.8-.78.8-2.07 0-2.86zM5.41 20L4 18.59l7.72-7.72 1.47 1.35L5.41 20z\"/>\n",
              "  </svg>\n",
              "      </button>\n",
              "      \n",
              "  <style>\n",
              "    .colab-df-container {\n",
              "      display:flex;\n",
              "      flex-wrap:wrap;\n",
              "      gap: 12px;\n",
              "    }\n",
              "\n",
              "    .colab-df-convert {\n",
              "      background-color: #E8F0FE;\n",
              "      border: none;\n",
              "      border-radius: 50%;\n",
              "      cursor: pointer;\n",
              "      display: none;\n",
              "      fill: #1967D2;\n",
              "      height: 32px;\n",
              "      padding: 0 0 0 0;\n",
              "      width: 32px;\n",
              "    }\n",
              "\n",
              "    .colab-df-convert:hover {\n",
              "      background-color: #E2EBFA;\n",
              "      box-shadow: 0px 1px 2px rgba(60, 64, 67, 0.3), 0px 1px 3px 1px rgba(60, 64, 67, 0.15);\n",
              "      fill: #174EA6;\n",
              "    }\n",
              "\n",
              "    [theme=dark] .colab-df-convert {\n",
              "      background-color: #3B4455;\n",
              "      fill: #D2E3FC;\n",
              "    }\n",
              "\n",
              "    [theme=dark] .colab-df-convert:hover {\n",
              "      background-color: #434B5C;\n",
              "      box-shadow: 0px 1px 3px 1px rgba(0, 0, 0, 0.15);\n",
              "      filter: drop-shadow(0px 1px 2px rgba(0, 0, 0, 0.3));\n",
              "      fill: #FFFFFF;\n",
              "    }\n",
              "  </style>\n",
              "\n",
              "      <script>\n",
              "        const buttonEl =\n",
              "          document.querySelector('#df-3e839ba6-9571-4d04-a07d-ac8cc7ad9f96 button.colab-df-convert');\n",
              "        buttonEl.style.display =\n",
              "          google.colab.kernel.accessAllowed ? 'block' : 'none';\n",
              "\n",
              "        async function convertToInteractive(key) {\n",
              "          const element = document.querySelector('#df-3e839ba6-9571-4d04-a07d-ac8cc7ad9f96');\n",
              "          const dataTable =\n",
              "            await google.colab.kernel.invokeFunction('convertToInteractive',\n",
              "                                                     [key], {});\n",
              "          if (!dataTable) return;\n",
              "\n",
              "          const docLinkHtml = 'Like what you see? Visit the ' +\n",
              "            '<a target=\"_blank\" href=https://colab.research.google.com/notebooks/data_table.ipynb>data table notebook</a>'\n",
              "            + ' to learn more about interactive tables.';\n",
              "          element.innerHTML = '';\n",
              "          dataTable['output_type'] = 'display_data';\n",
              "          await google.colab.output.renderOutput(dataTable, element);\n",
              "          const docLink = document.createElement('div');\n",
              "          docLink.innerHTML = docLinkHtml;\n",
              "          element.appendChild(docLink);\n",
              "        }\n",
              "      </script>\n",
              "    </div>\n",
              "  </div>\n",
              "  "
            ]
          },
          "metadata": {},
          "execution_count": 6
        }
      ]
    },
    {
      "cell_type": "markdown",
      "source": [
        "### Question 1: preprocess the data\n",
        "- recode the `sex` variable to a binary version (1 for \"female\", 0, for \"male\")\n",
        "- recode the variable `yearofbirth` into the age (the experiment took place in 2006)\n",
        "- restrict the dataset to the \"Control\" and the \"Neighbors\" treatment\n",
        "- binarize the treatment variable."
      ],
      "metadata": {
        "id": "sGNdaFwqwpX4"
      }
    },
    {
      "cell_type": "code",
      "source": [
        "social = social.assign(sex_binary=social.sex.map({'male': 0, 'female': 1}))\n",
        "social = social.assign(age=2006-social.yearofbirth)\n",
        "\n",
        "social_neighbor = social[social.messages.isin(['Control', 'Neighbors'])]\n",
        "social_neighbor = social_neighbor.assign(Neighbors=social_neighbor.messages.map({'Control': 0, 'Neighbors': 1}))"
      ],
      "metadata": {
        "id": "kbAABC7sksax"
      },
      "execution_count": null,
      "outputs": []
    },
    {
      "cell_type": "markdown",
      "source": [
        "### Question 2: compute the ATE"
      ],
      "metadata": {
        "id": "badHM2H_yhoz"
      }
    },
    {
      "cell_type": "code",
      "source": [
        "mean1 = social_neighbor[social_neighbor['Neighbors']==1]['primary2006'].mean()\n",
        "mean0 = social_neighbor[social_neighbor['Neighbors']==0]['primary2006'].mean()\n",
        "ate = mean1 - mean0\n",
        "print(\"The experimental ATE estimate is {:.2f}\".format(ate))"
      ],
      "metadata": {
        "colab": {
          "base_uri": "https://localhost:8080/"
        },
        "id": "l-GiOgLFl79t",
        "outputId": "8c7402f5-01d7-4c5c-8f66-004a82f73871"
      },
      "execution_count": null,
      "outputs": [
        {
          "output_type": "stream",
          "name": "stdout",
          "text": [
            "The experimental ATE estimate is 0.08\n"
          ]
        }
      ]
    },
    {
      "cell_type": "markdown",
      "source": [
        "Even if the ATE is positive, the treatment effect might be negative to some units, so it is crucial to know more about the direction and size of the treatment effect to decide who should get a treatment. How do you think social pressure could affect people who don't vote frequently? and those who vote frequently?\n",
        "\n",
        "We can do this analysis by subsetting the data and computing the ATE in each case (to obtain a CATE, and then study the different of effect. That is what you will do in Homework 2. Here we are going to do it through the use of linear regression with an *interaction* effect between the treatment variable `Neighbors` and the covariate of interest `primary2004`. In our application, the model is given by\n",
        "\n",
        "$Y = \\alpha + \\beta_1 \\mbox{primary2004} + \\beta_2 \\mbox{Neighbors} + \\beta_3 (\\mbox{primary2004} \\times \\mbox{Neighbors}) + \\epsilon$\n",
        "\n",
        "\n",
        "The final predictor is the product of two indicator variables, `primary2004 × Neighbors`, which is equal to 1 if and only if an individual voted in the 2004 primary election `(primary2004 = 1)` and received the `Neighbors` treatment `(Neighbors = 1)`.\n",
        "Thus, according to the model, among the voters who turned out in the 2004 primary election `(primary2004 = 1)`, the average effect of the Neighbors message equals $\\beta_2 + \\beta_3$, whereas the same effect for those who did not vote in the 2004 election `(primary2004 = 0)` equals $\\beta_2$. Thus, the coefficient for the interaction term $\\beta_3$ represents the additional average treatment effect the first group of voters receive relative to the second group.\n",
        "\n",
        "### Question 3: fit the model with interaction\n",
        "1. create the interaction variables\n",
        "2. fit the model"
      ],
      "metadata": {
        "id": "en7MHU2VymEi"
      }
    },
    {
      "cell_type": "code",
      "source": [
        "social_neighbor = social_neighbor.assign(neighbor_x_primary2004 = social_neighbor.Neighbors * social_neighbor.primary2004)\n",
        "features = ['primary2004', 'Neighbors', 'neighbor_x_primary2004']\n",
        "reg = LinearRegression().fit(social_neighbor[features], social_neighbor.primary2006)\n",
        "# pring coefficients\n",
        "pd.DataFrame([reg.coef_], columns=features)"
      ],
      "metadata": {
        "colab": {
          "base_uri": "https://localhost:8080/",
          "height": 81
        },
        "id": "GaBHO_XI2WKv",
        "outputId": "5205d14c-eac6-4f77-a321-585ff43c91f2"
      },
      "execution_count": null,
      "outputs": [
        {
          "output_type": "execute_result",
          "data": {
            "text/plain": [
              "   primary2004  Neighbors  neighbor_x_primary2004\n",
              "0     0.148695   0.069296                0.027229"
            ],
            "text/html": [
              "\n",
              "  <div id=\"df-c5a9af98-8304-4a4d-a670-f85f5e7de427\">\n",
              "    <div class=\"colab-df-container\">\n",
              "      <div>\n",
              "<style scoped>\n",
              "    .dataframe tbody tr th:only-of-type {\n",
              "        vertical-align: middle;\n",
              "    }\n",
              "\n",
              "    .dataframe tbody tr th {\n",
              "        vertical-align: top;\n",
              "    }\n",
              "\n",
              "    .dataframe thead th {\n",
              "        text-align: right;\n",
              "    }\n",
              "</style>\n",
              "<table border=\"1\" class=\"dataframe\">\n",
              "  <thead>\n",
              "    <tr style=\"text-align: right;\">\n",
              "      <th></th>\n",
              "      <th>primary2004</th>\n",
              "      <th>Neighbors</th>\n",
              "      <th>neighbor_x_primary2004</th>\n",
              "    </tr>\n",
              "  </thead>\n",
              "  <tbody>\n",
              "    <tr>\n",
              "      <th>0</th>\n",
              "      <td>0.148695</td>\n",
              "      <td>0.069296</td>\n",
              "      <td>0.027229</td>\n",
              "    </tr>\n",
              "  </tbody>\n",
              "</table>\n",
              "</div>\n",
              "      <button class=\"colab-df-convert\" onclick=\"convertToInteractive('df-c5a9af98-8304-4a4d-a670-f85f5e7de427')\"\n",
              "              title=\"Convert this dataframe to an interactive table.\"\n",
              "              style=\"display:none;\">\n",
              "        \n",
              "  <svg xmlns=\"http://www.w3.org/2000/svg\" height=\"24px\"viewBox=\"0 0 24 24\"\n",
              "       width=\"24px\">\n",
              "    <path d=\"M0 0h24v24H0V0z\" fill=\"none\"/>\n",
              "    <path d=\"M18.56 5.44l.94 2.06.94-2.06 2.06-.94-2.06-.94-.94-2.06-.94 2.06-2.06.94zm-11 1L8.5 8.5l.94-2.06 2.06-.94-2.06-.94L8.5 2.5l-.94 2.06-2.06.94zm10 10l.94 2.06.94-2.06 2.06-.94-2.06-.94-.94-2.06-.94 2.06-2.06.94z\"/><path d=\"M17.41 7.96l-1.37-1.37c-.4-.4-.92-.59-1.43-.59-.52 0-1.04.2-1.43.59L10.3 9.45l-7.72 7.72c-.78.78-.78 2.05 0 2.83L4 21.41c.39.39.9.59 1.41.59.51 0 1.02-.2 1.41-.59l7.78-7.78 2.81-2.81c.8-.78.8-2.07 0-2.86zM5.41 20L4 18.59l7.72-7.72 1.47 1.35L5.41 20z\"/>\n",
              "  </svg>\n",
              "      </button>\n",
              "      \n",
              "  <style>\n",
              "    .colab-df-container {\n",
              "      display:flex;\n",
              "      flex-wrap:wrap;\n",
              "      gap: 12px;\n",
              "    }\n",
              "\n",
              "    .colab-df-convert {\n",
              "      background-color: #E8F0FE;\n",
              "      border: none;\n",
              "      border-radius: 50%;\n",
              "      cursor: pointer;\n",
              "      display: none;\n",
              "      fill: #1967D2;\n",
              "      height: 32px;\n",
              "      padding: 0 0 0 0;\n",
              "      width: 32px;\n",
              "    }\n",
              "\n",
              "    .colab-df-convert:hover {\n",
              "      background-color: #E2EBFA;\n",
              "      box-shadow: 0px 1px 2px rgba(60, 64, 67, 0.3), 0px 1px 3px 1px rgba(60, 64, 67, 0.15);\n",
              "      fill: #174EA6;\n",
              "    }\n",
              "\n",
              "    [theme=dark] .colab-df-convert {\n",
              "      background-color: #3B4455;\n",
              "      fill: #D2E3FC;\n",
              "    }\n",
              "\n",
              "    [theme=dark] .colab-df-convert:hover {\n",
              "      background-color: #434B5C;\n",
              "      box-shadow: 0px 1px 3px 1px rgba(0, 0, 0, 0.15);\n",
              "      filter: drop-shadow(0px 1px 2px rgba(0, 0, 0, 0.3));\n",
              "      fill: #FFFFFF;\n",
              "    }\n",
              "  </style>\n",
              "\n",
              "      <script>\n",
              "        const buttonEl =\n",
              "          document.querySelector('#df-c5a9af98-8304-4a4d-a670-f85f5e7de427 button.colab-df-convert');\n",
              "        buttonEl.style.display =\n",
              "          google.colab.kernel.accessAllowed ? 'block' : 'none';\n",
              "\n",
              "        async function convertToInteractive(key) {\n",
              "          const element = document.querySelector('#df-c5a9af98-8304-4a4d-a670-f85f5e7de427');\n",
              "          const dataTable =\n",
              "            await google.colab.kernel.invokeFunction('convertToInteractive',\n",
              "                                                     [key], {});\n",
              "          if (!dataTable) return;\n",
              "\n",
              "          const docLinkHtml = 'Like what you see? Visit the ' +\n",
              "            '<a target=\"_blank\" href=https://colab.research.google.com/notebooks/data_table.ipynb>data table notebook</a>'\n",
              "            + ' to learn more about interactive tables.';\n",
              "          element.innerHTML = '';\n",
              "          dataTable['output_type'] = 'display_data';\n",
              "          await google.colab.output.renderOutput(dataTable, element);\n",
              "          const docLink = document.createElement('div');\n",
              "          docLink.innerHTML = docLinkHtml;\n",
              "          element.appendChild(docLink);\n",
              "        }\n",
              "      </script>\n",
              "    </div>\n",
              "  </div>\n",
              "  "
            ]
          },
          "metadata": {},
          "execution_count": 30
        }
      ]
    },
    {
      "cell_type": "markdown",
      "source": [
        "\n",
        "\n",
        "To interpret each estimated coefficient, it is again helpful to consider the predicted average outcome. Among those who voted in the 2004 primary election, the estimated average effect of the `Neighbors` treatment can be written as the difference in the estimated average outcome between the treatment and control groups. In terms of model parameters, this difference is equal to \n",
        "\n",
        "$\\hat{\\alpha} + \\hat{\\beta}_1 + \\hat{\\beta}_2 + \\hat{\\beta}_3 - (\\hat{\\alpha} + \\hat{\\beta}_1) = \\hat{\\beta}_2 + \\hat{\\beta}_3$. \n",
        "\n",
        "In contrast, the estimated average treatment effect among those who did not vote is given by $\\hat{\\alpha} + \\hat{\\beta}_2 - \\hat{\\alpha} = \\hat{\\beta}_2$. Thus, the difference in the estimated average treatment effect between those who voted in the 2004 primary election and those who did not equals the estimated coefficient for the interaction effect term, i.e., \n",
        "\n",
        "$\\hat{\\beta}_2 + \\hat{\\beta}_3 - \\hat{\\beta}_2 = \\hat{\\beta}_3$.\n",
        "\n",
        "This implies that the coefficient for the interaction effect term $\\hat{\\beta}_3$ characterizes how the average treatment effect varies as a function of the covariate.\n",
        "\n",
        "\n",
        "While we have so far focused on a factor or categorical variable, it is also possible to use a continuous variable as a predictor. The use of continuous variables requires a **stronger linearity assumption** that a one-unit increase in the predictor leads to an increase of the same size in the outcome, regardless of the baseline value. In the current application, we consider the age of the voter in 2006 as a predictor.\n",
        "\n",
        "### Question 4: interaction term with a continuous variable\n",
        "1. Write the CATE as a function of the estimated coefficient, and the age $x$ of a unit\n",
        "\n",
        "answer: $(\\hat{\\alpha} + \\hat{\\beta}_1x + \\hat{\\beta}_2 + \\hat{\\beta}_3x) - (\\hat{\\alpha} + \\hat{\\beta}_1x) = \\hat{\\beta}_2 + \\hat{\\beta}_3x$ \n",
        "\n",
        "The estimated coefficient for the interaction effect term $\\hat{\\beta}_3 = (\\hat{\\beta}_2 + \\hat{\\beta}_3(x+1)) - (\\hat{\\beta}_2 + \\hat{\\beta}_3x)$ represents the estimated difference in the average treatment effect between two groups of voters whose ages differ by one year.\n",
        "\n",
        "2. Fit a model with an interaction between age and treatment"
      ],
      "metadata": {
        "id": "hTv_2LXqyqlr"
      }
    },
    {
      "cell_type": "code",
      "source": [
        "social_neighbor = social_neighbor.assign(neighbor_x_age = social_neighbor.Neighbors * social_neighbor.age)\n",
        "features = ['age', 'Neighbors', 'neighbor_x_age']\n",
        "reg = LinearRegression().fit(social_neighbor[features], social_neighbor.primary2006)\n",
        "# pring coefficients\n",
        "pd.DataFrame([reg.coef_], columns=features)"
      ],
      "metadata": {
        "colab": {
          "base_uri": "https://localhost:8080/",
          "height": 81
        },
        "id": "HXFWUO6v9rT3",
        "outputId": "6185ee43-e108-44dc-af27-1db679a3c51b"
      },
      "execution_count": null,
      "outputs": [
        {
          "output_type": "execute_result",
          "data": {
            "text/plain": [
              "        age  Neighbors  neighbor_x_age\n",
              "0  0.003998   0.049829        0.000628"
            ],
            "text/html": [
              "\n",
              "  <div id=\"df-7014f658-033a-4440-a574-3da8f191a3ef\">\n",
              "    <div class=\"colab-df-container\">\n",
              "      <div>\n",
              "<style scoped>\n",
              "    .dataframe tbody tr th:only-of-type {\n",
              "        vertical-align: middle;\n",
              "    }\n",
              "\n",
              "    .dataframe tbody tr th {\n",
              "        vertical-align: top;\n",
              "    }\n",
              "\n",
              "    .dataframe thead th {\n",
              "        text-align: right;\n",
              "    }\n",
              "</style>\n",
              "<table border=\"1\" class=\"dataframe\">\n",
              "  <thead>\n",
              "    <tr style=\"text-align: right;\">\n",
              "      <th></th>\n",
              "      <th>age</th>\n",
              "      <th>Neighbors</th>\n",
              "      <th>neighbor_x_age</th>\n",
              "    </tr>\n",
              "  </thead>\n",
              "  <tbody>\n",
              "    <tr>\n",
              "      <th>0</th>\n",
              "      <td>0.003998</td>\n",
              "      <td>0.049829</td>\n",
              "      <td>0.000628</td>\n",
              "    </tr>\n",
              "  </tbody>\n",
              "</table>\n",
              "</div>\n",
              "      <button class=\"colab-df-convert\" onclick=\"convertToInteractive('df-7014f658-033a-4440-a574-3da8f191a3ef')\"\n",
              "              title=\"Convert this dataframe to an interactive table.\"\n",
              "              style=\"display:none;\">\n",
              "        \n",
              "  <svg xmlns=\"http://www.w3.org/2000/svg\" height=\"24px\"viewBox=\"0 0 24 24\"\n",
              "       width=\"24px\">\n",
              "    <path d=\"M0 0h24v24H0V0z\" fill=\"none\"/>\n",
              "    <path d=\"M18.56 5.44l.94 2.06.94-2.06 2.06-.94-2.06-.94-.94-2.06-.94 2.06-2.06.94zm-11 1L8.5 8.5l.94-2.06 2.06-.94-2.06-.94L8.5 2.5l-.94 2.06-2.06.94zm10 10l.94 2.06.94-2.06 2.06-.94-2.06-.94-.94-2.06-.94 2.06-2.06.94z\"/><path d=\"M17.41 7.96l-1.37-1.37c-.4-.4-.92-.59-1.43-.59-.52 0-1.04.2-1.43.59L10.3 9.45l-7.72 7.72c-.78.78-.78 2.05 0 2.83L4 21.41c.39.39.9.59 1.41.59.51 0 1.02-.2 1.41-.59l7.78-7.78 2.81-2.81c.8-.78.8-2.07 0-2.86zM5.41 20L4 18.59l7.72-7.72 1.47 1.35L5.41 20z\"/>\n",
              "  </svg>\n",
              "      </button>\n",
              "      \n",
              "  <style>\n",
              "    .colab-df-container {\n",
              "      display:flex;\n",
              "      flex-wrap:wrap;\n",
              "      gap: 12px;\n",
              "    }\n",
              "\n",
              "    .colab-df-convert {\n",
              "      background-color: #E8F0FE;\n",
              "      border: none;\n",
              "      border-radius: 50%;\n",
              "      cursor: pointer;\n",
              "      display: none;\n",
              "      fill: #1967D2;\n",
              "      height: 32px;\n",
              "      padding: 0 0 0 0;\n",
              "      width: 32px;\n",
              "    }\n",
              "\n",
              "    .colab-df-convert:hover {\n",
              "      background-color: #E2EBFA;\n",
              "      box-shadow: 0px 1px 2px rgba(60, 64, 67, 0.3), 0px 1px 3px 1px rgba(60, 64, 67, 0.15);\n",
              "      fill: #174EA6;\n",
              "    }\n",
              "\n",
              "    [theme=dark] .colab-df-convert {\n",
              "      background-color: #3B4455;\n",
              "      fill: #D2E3FC;\n",
              "    }\n",
              "\n",
              "    [theme=dark] .colab-df-convert:hover {\n",
              "      background-color: #434B5C;\n",
              "      box-shadow: 0px 1px 3px 1px rgba(0, 0, 0, 0.15);\n",
              "      filter: drop-shadow(0px 1px 2px rgba(0, 0, 0, 0.3));\n",
              "      fill: #FFFFFF;\n",
              "    }\n",
              "  </style>\n",
              "\n",
              "      <script>\n",
              "        const buttonEl =\n",
              "          document.querySelector('#df-7014f658-033a-4440-a574-3da8f191a3ef button.colab-df-convert');\n",
              "        buttonEl.style.display =\n",
              "          google.colab.kernel.accessAllowed ? 'block' : 'none';\n",
              "\n",
              "        async function convertToInteractive(key) {\n",
              "          const element = document.querySelector('#df-7014f658-033a-4440-a574-3da8f191a3ef');\n",
              "          const dataTable =\n",
              "            await google.colab.kernel.invokeFunction('convertToInteractive',\n",
              "                                                     [key], {});\n",
              "          if (!dataTable) return;\n",
              "\n",
              "          const docLinkHtml = 'Like what you see? Visit the ' +\n",
              "            '<a target=\"_blank\" href=https://colab.research.google.com/notebooks/data_table.ipynb>data table notebook</a>'\n",
              "            + ' to learn more about interactive tables.';\n",
              "          element.innerHTML = '';\n",
              "          dataTable['output_type'] = 'display_data';\n",
              "          await google.colab.output.renderOutput(dataTable, element);\n",
              "          const docLink = document.createElement('div');\n",
              "          docLink.innerHTML = docLinkHtml;\n",
              "          element.appendChild(docLink);\n",
              "        }\n",
              "      </script>\n",
              "    </div>\n",
              "  </div>\n",
              "  "
            ]
          },
          "metadata": {},
          "execution_count": 31
        }
      ]
    },
    {
      "cell_type": "markdown",
      "source": [
        "3. predict the CATE for `age = 25, 45, 65, 85` using this model"
      ],
      "metadata": {
        "id": "-i90wm0V9yB9"
      }
    },
    {
      "cell_type": "code",
      "source": [
        "ages = np.arange(25, 86, 20).reshape(-1, 1)\n",
        "neighbor_ages = pd.DataFrame(np.hstack([ages, np.ones((4, 1)), np.ones((4, 1))*ages]), columns=features)\n",
        "control_ages = pd.DataFrame(np.hstack([ages, np.zeros((4, 1)), np.zeros((4, 1))*ages]), columns=features)\n",
        "ate_age = reg.predict(neighbor_ages) - reg.predict(control_ages)\n",
        "pd.DataFrame(ate_age.reshape(1, -1), columns=ages.ravel())"
      ],
      "metadata": {
        "colab": {
          "base_uri": "https://localhost:8080/",
          "height": 81
        },
        "id": "aCgo0QvT-S1r",
        "outputId": "fae277de-66f2-461f-9b64-f8d6c11e2e10"
      },
      "execution_count": null,
      "outputs": [
        {
          "output_type": "execute_result",
          "data": {
            "text/plain": [
              "         25        45        65        85\n",
              "0  0.065537  0.078103  0.090669  0.103236"
            ],
            "text/html": [
              "\n",
              "  <div id=\"df-ad515539-976d-4d51-9e32-4cbdeea895b1\">\n",
              "    <div class=\"colab-df-container\">\n",
              "      <div>\n",
              "<style scoped>\n",
              "    .dataframe tbody tr th:only-of-type {\n",
              "        vertical-align: middle;\n",
              "    }\n",
              "\n",
              "    .dataframe tbody tr th {\n",
              "        vertical-align: top;\n",
              "    }\n",
              "\n",
              "    .dataframe thead th {\n",
              "        text-align: right;\n",
              "    }\n",
              "</style>\n",
              "<table border=\"1\" class=\"dataframe\">\n",
              "  <thead>\n",
              "    <tr style=\"text-align: right;\">\n",
              "      <th></th>\n",
              "      <th>25</th>\n",
              "      <th>45</th>\n",
              "      <th>65</th>\n",
              "      <th>85</th>\n",
              "    </tr>\n",
              "  </thead>\n",
              "  <tbody>\n",
              "    <tr>\n",
              "      <th>0</th>\n",
              "      <td>0.065537</td>\n",
              "      <td>0.078103</td>\n",
              "      <td>0.090669</td>\n",
              "      <td>0.103236</td>\n",
              "    </tr>\n",
              "  </tbody>\n",
              "</table>\n",
              "</div>\n",
              "      <button class=\"colab-df-convert\" onclick=\"convertToInteractive('df-ad515539-976d-4d51-9e32-4cbdeea895b1')\"\n",
              "              title=\"Convert this dataframe to an interactive table.\"\n",
              "              style=\"display:none;\">\n",
              "        \n",
              "  <svg xmlns=\"http://www.w3.org/2000/svg\" height=\"24px\"viewBox=\"0 0 24 24\"\n",
              "       width=\"24px\">\n",
              "    <path d=\"M0 0h24v24H0V0z\" fill=\"none\"/>\n",
              "    <path d=\"M18.56 5.44l.94 2.06.94-2.06 2.06-.94-2.06-.94-.94-2.06-.94 2.06-2.06.94zm-11 1L8.5 8.5l.94-2.06 2.06-.94-2.06-.94L8.5 2.5l-.94 2.06-2.06.94zm10 10l.94 2.06.94-2.06 2.06-.94-2.06-.94-.94-2.06-.94 2.06-2.06.94z\"/><path d=\"M17.41 7.96l-1.37-1.37c-.4-.4-.92-.59-1.43-.59-.52 0-1.04.2-1.43.59L10.3 9.45l-7.72 7.72c-.78.78-.78 2.05 0 2.83L4 21.41c.39.39.9.59 1.41.59.51 0 1.02-.2 1.41-.59l7.78-7.78 2.81-2.81c.8-.78.8-2.07 0-2.86zM5.41 20L4 18.59l7.72-7.72 1.47 1.35L5.41 20z\"/>\n",
              "  </svg>\n",
              "      </button>\n",
              "      \n",
              "  <style>\n",
              "    .colab-df-container {\n",
              "      display:flex;\n",
              "      flex-wrap:wrap;\n",
              "      gap: 12px;\n",
              "    }\n",
              "\n",
              "    .colab-df-convert {\n",
              "      background-color: #E8F0FE;\n",
              "      border: none;\n",
              "      border-radius: 50%;\n",
              "      cursor: pointer;\n",
              "      display: none;\n",
              "      fill: #1967D2;\n",
              "      height: 32px;\n",
              "      padding: 0 0 0 0;\n",
              "      width: 32px;\n",
              "    }\n",
              "\n",
              "    .colab-df-convert:hover {\n",
              "      background-color: #E2EBFA;\n",
              "      box-shadow: 0px 1px 2px rgba(60, 64, 67, 0.3), 0px 1px 3px 1px rgba(60, 64, 67, 0.15);\n",
              "      fill: #174EA6;\n",
              "    }\n",
              "\n",
              "    [theme=dark] .colab-df-convert {\n",
              "      background-color: #3B4455;\n",
              "      fill: #D2E3FC;\n",
              "    }\n",
              "\n",
              "    [theme=dark] .colab-df-convert:hover {\n",
              "      background-color: #434B5C;\n",
              "      box-shadow: 0px 1px 3px 1px rgba(0, 0, 0, 0.15);\n",
              "      filter: drop-shadow(0px 1px 2px rgba(0, 0, 0, 0.3));\n",
              "      fill: #FFFFFF;\n",
              "    }\n",
              "  </style>\n",
              "\n",
              "      <script>\n",
              "        const buttonEl =\n",
              "          document.querySelector('#df-ad515539-976d-4d51-9e32-4cbdeea895b1 button.colab-df-convert');\n",
              "        buttonEl.style.display =\n",
              "          google.colab.kernel.accessAllowed ? 'block' : 'none';\n",
              "\n",
              "        async function convertToInteractive(key) {\n",
              "          const element = document.querySelector('#df-ad515539-976d-4d51-9e32-4cbdeea895b1');\n",
              "          const dataTable =\n",
              "            await google.colab.kernel.invokeFunction('convertToInteractive',\n",
              "                                                     [key], {});\n",
              "          if (!dataTable) return;\n",
              "\n",
              "          const docLinkHtml = 'Like what you see? Visit the ' +\n",
              "            '<a target=\"_blank\" href=https://colab.research.google.com/notebooks/data_table.ipynb>data table notebook</a>'\n",
              "            + ' to learn more about interactive tables.';\n",
              "          element.innerHTML = '';\n",
              "          dataTable['output_type'] = 'display_data';\n",
              "          await google.colab.output.renderOutput(dataTable, element);\n",
              "          const docLink = document.createElement('div');\n",
              "          docLink.innerHTML = docLinkHtml;\n",
              "          element.appendChild(docLink);\n",
              "        }\n",
              "      </script>\n",
              "    </div>\n",
              "  </div>\n",
              "  "
            ]
          },
          "metadata": {},
          "execution_count": 48
        }
      ]
    },
    {
      "cell_type": "markdown",
      "source": [
        "Researchers have found that the linearity assumption is inappropriate when model- ing turnout. While people become more likely to vote as they get older, their likelihood of voting starts decreasing in their 60s or 70s. One common strategy to address this phenomenon is to model turnout as a quadratic function of age by including the square of age as an additional predictor. Consider the following model, which also includes interaction terms:\n",
        "\n",
        "$Y = \\alpha + \\beta_1 \\mbox{age} + \\beta_2 \\mbox{age}^2 + \\beta_3 \\mbox{Neighbors} + \\beta_4 (\\mbox{age x Neighbors}) + \\beta_5 (\\mbox{age}^2 \\mbox{ x Neighbors})$\n",
        "\n",
        "### Question 5: interaction model with quadratic terms\n",
        "apply this model to the dataset, and display the obtained coefficient estimates"
      ],
      "metadata": {
        "id": "0RfNV2Jx_ysm"
      }
    },
    {
      "cell_type": "code",
      "source": [
        "social_neighbor = social_neighbor.assign(age2 = social_neighbor.age**2)\n",
        "social_neighbor = social_neighbor.assign(neighbor_x_age = social_neighbor.Neighbors * social_neighbor.age)\n",
        "social_neighbor = social_neighbor.assign(neighbor_x_age2 = social_neighbor.Neighbors * social_neighbor.age2)\n",
        "features = ['age', 'age2', 'Neighbors', 'neighbor_x_age', 'neighbor_x_age2']\n",
        "reg = LinearRegression().fit(social_neighbor[features], social_neighbor.primary2006)\n",
        "# pring coefficients\n",
        "pd.DataFrame([reg.coef_], columns=features)"
      ],
      "metadata": {
        "colab": {
          "base_uri": "https://localhost:8080/",
          "height": 81
        },
        "id": "6EXGIiZg-oah",
        "outputId": "74bed39d-ab1d-4413-8238-4f91e38208cf"
      },
      "execution_count": null,
      "outputs": [
        {
          "output_type": "execute_result",
          "data": {
            "text/plain": [
              "        age      age2  Neighbors  neighbor_x_age  neighbor_x_age2\n",
              "0  0.011427 -0.000074  -0.043302        0.004646         -0.00004"
            ],
            "text/html": [
              "\n",
              "  <div id=\"df-94028cb6-7b72-4e04-aae6-26995f4f5bab\">\n",
              "    <div class=\"colab-df-container\">\n",
              "      <div>\n",
              "<style scoped>\n",
              "    .dataframe tbody tr th:only-of-type {\n",
              "        vertical-align: middle;\n",
              "    }\n",
              "\n",
              "    .dataframe tbody tr th {\n",
              "        vertical-align: top;\n",
              "    }\n",
              "\n",
              "    .dataframe thead th {\n",
              "        text-align: right;\n",
              "    }\n",
              "</style>\n",
              "<table border=\"1\" class=\"dataframe\">\n",
              "  <thead>\n",
              "    <tr style=\"text-align: right;\">\n",
              "      <th></th>\n",
              "      <th>age</th>\n",
              "      <th>age2</th>\n",
              "      <th>Neighbors</th>\n",
              "      <th>neighbor_x_age</th>\n",
              "      <th>neighbor_x_age2</th>\n",
              "    </tr>\n",
              "  </thead>\n",
              "  <tbody>\n",
              "    <tr>\n",
              "      <th>0</th>\n",
              "      <td>0.011427</td>\n",
              "      <td>-0.000074</td>\n",
              "      <td>-0.043302</td>\n",
              "      <td>0.004646</td>\n",
              "      <td>-0.00004</td>\n",
              "    </tr>\n",
              "  </tbody>\n",
              "</table>\n",
              "</div>\n",
              "      <button class=\"colab-df-convert\" onclick=\"convertToInteractive('df-94028cb6-7b72-4e04-aae6-26995f4f5bab')\"\n",
              "              title=\"Convert this dataframe to an interactive table.\"\n",
              "              style=\"display:none;\">\n",
              "        \n",
              "  <svg xmlns=\"http://www.w3.org/2000/svg\" height=\"24px\"viewBox=\"0 0 24 24\"\n",
              "       width=\"24px\">\n",
              "    <path d=\"M0 0h24v24H0V0z\" fill=\"none\"/>\n",
              "    <path d=\"M18.56 5.44l.94 2.06.94-2.06 2.06-.94-2.06-.94-.94-2.06-.94 2.06-2.06.94zm-11 1L8.5 8.5l.94-2.06 2.06-.94-2.06-.94L8.5 2.5l-.94 2.06-2.06.94zm10 10l.94 2.06.94-2.06 2.06-.94-2.06-.94-.94-2.06-.94 2.06-2.06.94z\"/><path d=\"M17.41 7.96l-1.37-1.37c-.4-.4-.92-.59-1.43-.59-.52 0-1.04.2-1.43.59L10.3 9.45l-7.72 7.72c-.78.78-.78 2.05 0 2.83L4 21.41c.39.39.9.59 1.41.59.51 0 1.02-.2 1.41-.59l7.78-7.78 2.81-2.81c.8-.78.8-2.07 0-2.86zM5.41 20L4 18.59l7.72-7.72 1.47 1.35L5.41 20z\"/>\n",
              "  </svg>\n",
              "      </button>\n",
              "      \n",
              "  <style>\n",
              "    .colab-df-container {\n",
              "      display:flex;\n",
              "      flex-wrap:wrap;\n",
              "      gap: 12px;\n",
              "    }\n",
              "\n",
              "    .colab-df-convert {\n",
              "      background-color: #E8F0FE;\n",
              "      border: none;\n",
              "      border-radius: 50%;\n",
              "      cursor: pointer;\n",
              "      display: none;\n",
              "      fill: #1967D2;\n",
              "      height: 32px;\n",
              "      padding: 0 0 0 0;\n",
              "      width: 32px;\n",
              "    }\n",
              "\n",
              "    .colab-df-convert:hover {\n",
              "      background-color: #E2EBFA;\n",
              "      box-shadow: 0px 1px 2px rgba(60, 64, 67, 0.3), 0px 1px 3px 1px rgba(60, 64, 67, 0.15);\n",
              "      fill: #174EA6;\n",
              "    }\n",
              "\n",
              "    [theme=dark] .colab-df-convert {\n",
              "      background-color: #3B4455;\n",
              "      fill: #D2E3FC;\n",
              "    }\n",
              "\n",
              "    [theme=dark] .colab-df-convert:hover {\n",
              "      background-color: #434B5C;\n",
              "      box-shadow: 0px 1px 3px 1px rgba(0, 0, 0, 0.15);\n",
              "      filter: drop-shadow(0px 1px 2px rgba(0, 0, 0, 0.3));\n",
              "      fill: #FFFFFF;\n",
              "    }\n",
              "  </style>\n",
              "\n",
              "      <script>\n",
              "        const buttonEl =\n",
              "          document.querySelector('#df-94028cb6-7b72-4e04-aae6-26995f4f5bab button.colab-df-convert');\n",
              "        buttonEl.style.display =\n",
              "          google.colab.kernel.accessAllowed ? 'block' : 'none';\n",
              "\n",
              "        async function convertToInteractive(key) {\n",
              "          const element = document.querySelector('#df-94028cb6-7b72-4e04-aae6-26995f4f5bab');\n",
              "          const dataTable =\n",
              "            await google.colab.kernel.invokeFunction('convertToInteractive',\n",
              "                                                     [key], {});\n",
              "          if (!dataTable) return;\n",
              "\n",
              "          const docLinkHtml = 'Like what you see? Visit the ' +\n",
              "            '<a target=\"_blank\" href=https://colab.research.google.com/notebooks/data_table.ipynb>data table notebook</a>'\n",
              "            + ' to learn more about interactive tables.';\n",
              "          element.innerHTML = '';\n",
              "          dataTable['output_type'] = 'display_data';\n",
              "          await google.colab.output.renderOutput(dataTable, element);\n",
              "          const docLink = document.createElement('div');\n",
              "          docLink.innerHTML = docLinkHtml;\n",
              "          element.appendChild(docLink);\n",
              "        }\n",
              "      </script>\n",
              "    </div>\n",
              "  </div>\n",
              "  "
            ]
          },
          "metadata": {},
          "execution_count": 49
        }
      ]
    },
    {
      "cell_type": "markdown",
      "source": [
        "In a complicated model like this one, the coefficients no longer have an easy interpretation.\n",
        "\n",
        "### Question 6: interpretation\n",
        "1. predict the voter turnout under control and treatment for this new model\n",
        "2. Plot the results for easier interpretation by completing the code"
      ],
      "metadata": {
        "id": "HA0H6-qmmWnM"
      }
    },
    {
      "cell_type": "code",
      "source": [
        "ages = np.arange(25, 86, 1).reshape(-1, 1)\n",
        "n_ages = len(ages)\n",
        "neighbor_ages = pd.DataFrame(np.hstack([ages, ages**2, np.ones((n_ages, 1)), np.ones((n_ages, 1))*ages, np.ones((n_ages, 1))*ages**2]), columns=features)\n",
        "control_ages = pd.DataFrame(np.hstack([ages, ages**2, np.zeros((n_ages, 1)), np.zeros((n_ages, 1))*ages, np.zeros((n_ages, 1))*ages**2]), columns=features)\n",
        "\n",
        "y_t_hat = reg.predict(neighbor_ages)\n",
        "y_c_hat = reg.predict(control_ages)\n"
      ],
      "metadata": {
        "id": "c__6h16WmBsU"
      },
      "execution_count": null,
      "outputs": []
    },
    {
      "cell_type": "code",
      "source": [
        "plt.plot(ages, y_t_hat, label='neighbors condition')\n",
        "plt.plot(ages, y_c_hat, label='control condition')\n",
        "plt.xlabel('age')\n",
        "plt.ylabel('predicted turnout rate')\n",
        "plt.legend(bbox_to_anchor=(1.02, 0.8))"
      ],
      "metadata": {
        "colab": {
          "base_uri": "https://localhost:8080/",
          "height": 354
        },
        "id": "bmLODOWsCKHF",
        "outputId": "0e311d43-8682-4d13-9867-6a4400228f67"
      },
      "execution_count": null,
      "outputs": [
        {
          "output_type": "execute_result",
          "data": {
            "text/plain": [
              "<matplotlib.legend.Legend at 0x7fe5308bf190>"
            ]
          },
          "metadata": {},
          "execution_count": 54
        },
        {
          "output_type": "display_data",
          "data": {
            "text/plain": [
              "<Figure size 432x288 with 1 Axes>"
            ],
            "image/png": "[encoded data removed]"
          },
          "metadata": {
            "needs_background": "light"
          }
        }
      ]
    },
    {
      "cell_type": "code",
      "source": [
        "plt.plot(ages, y_t_hat - y_c_hat)\n",
        "plt.xlabel('age')\n",
        "plt.ylabel('estimated CATE')"
      ],
      "metadata": {
        "colab": {
          "base_uri": "https://localhost:8080/",
          "height": 330
        },
        "id": "odmxtb6wCSK0",
        "outputId": "6d2e830c-6d83-4026-c7e8-87f968b20201"
      },
      "execution_count": null,
      "outputs": [
        {
          "output_type": "execute_result",
          "data": {
            "text/plain": [
              "Text(0, 0.5, 'estimated CATE')"
            ]
          },
          "metadata": {},
          "execution_count": 55
        },
        {
          "output_type": "display_data",
          "data": {
            "text/plain": [
              "<Figure size 432x288 with 1 Axes>"
            ],
            "image/png": "[encoded data removed]"
          },
          "metadata": {
            "needs_background": "light"
          }
        }
      ]
    },
    {
      "cell_type": "markdown",
      "source": [
        "We find that according to this model, the estimated average treatment effect peaks around 60 years old, and the effect size is much smaller among young and old voters.\n",
        "\n",
        "\n",
        "A note here: in all this analysis we have neglected the uncertainty estimation. It can be done relying on the uncertainty estimation of the regression coefficient, but would be much harder if we use other regression algorithms.\n",
        "\n",
        "A seconde note: we have relied on a single model here (like in the S-learner). As an extension you could to the same analysis with 2 models, as in the T-learner, with some slight changes in the theory and code. It can avoid the need to include interaction terms, but not the quadratic extension of the age variable."
      ],
      "metadata": {
        "id": "MKdw5oIYCu_h"
      }
    },
    {
      "cell_type": "code",
      "source": [],
      "metadata": {
        "id": "Uii6kuq0Cq3q"
      },
      "execution_count": null,
      "outputs": []
    }
  ]
}