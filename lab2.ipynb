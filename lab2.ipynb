{
  "nbformat": 4,
  "nbformat_minor": 0,
  "metadata": {
    "colab": {
      "provenance": [],
      "include_colab_link": true
    },
    "kernelspec": {
      "name": "python3",
      "display_name": "Python 3"
    },
    "language_info": {
      "name": "python"
    }
  },
  "cells": [
    {
      "cell_type": "markdown",
      "metadata": {
        "id": "view-in-github",
        "colab_type": "text"
      },
      "source": [
        "<a href=\"https://colab.research.google.com/github/zd2011/causal201/blob/main/lab2.ipynb\" target=\"_parent\"><img src=\"https://colab.research.google.com/assets/colab-badge.svg\" alt=\"Open In Colab\"/></a>"
      ]
    },
    {
      "cell_type": "markdown",
      "source": [
        "# DS UA 9201 - Recitation 2\n",
        "author: Judith Abécassis (judith.abecassis@nyu.edu) & Elise Dumas (elise.dumas@nyu.edu)\n",
        "With many thanks to [Arvind Singh](https://www.imo.universite-paris-saclay.fr/~singh/) and [Matheus Facure Alves](https://matheusfacure.github.io/python-causality-handbook/landing-page.html) for inspiration.\n"
      ],
      "metadata": {
        "id": "VNYFNfU6h3fv"
      }
    },
    {
      "cell_type": "code",
      "source": [
        "#Load useful libraries\n",
        "import pandas as pd\n",
        "import numpy as np\n",
        "import scipy.stats as sps\n",
        "import matplotlib.pyplot as plt\n",
        "from statsmodels.stats.weightstats import CompareMeans "
      ],
      "metadata": {
        "id": "g5BQCNMkRODF"
      },
      "execution_count": null,
      "outputs": []
    },
    {
      "cell_type": "markdown",
      "source": [
        "### Problem 1 : Statistical test on the Titanic dataset"
      ],
      "metadata": {
        "id": "fCRAqulQB21F"
      }
    },
    {
      "cell_type": "markdown",
      "source": [
        "In this section, we will try to decipher the relationship between the ticket fare of Titanic passengers and their vital status after the sinking. Is there a correlation between how much you paid your ticket and the fact that you died in the end? "
      ],
      "metadata": {
        "id": "I2C-H3bvUXo3"
      }
    },
    {
      "cell_type": "markdown",
      "source": [
        "1) Load the Titanic dataset. Are there missing values for the ticket fare (variable Fare)? For the vital status (variable Survived)?"
      ],
      "metadata": {
        "id": "agid-cdyyV2U"
      }
    },
    {
      "cell_type": "code",
      "source": [
        "titanic = pd.read_csv(\"https://raw.githubusercontent.com/pandas-dev/pandas/main/doc/data/titanic.csv\")\n",
        "print(titanic.Survived.isnull().sum())\n",
        "titanic.describe(include='all')"
      ],
      "metadata": {
        "colab": {
          "base_uri": "https://localhost:8080/",
          "height": 491
        },
        "id": "9qzVqzFIYB56",
        "outputId": "2b0f9711-af9a-40b8-9ad2-94e2507e52e1"
      },
      "execution_count": null,
      "outputs": [
        {
          "output_type": "stream",
          "name": "stdout",
          "text": [
            "0\n"
          ]
        },
        {
          "output_type": "execute_result",
          "data": {
            "text/plain": [
              "        PassengerId    Survived      Pclass                     Name   Sex  \\\n",
              "count    891.000000  891.000000  891.000000                      891   891   \n",
              "unique          NaN         NaN         NaN                      891     2   \n",
              "top             NaN         NaN         NaN  Braund, Mr. Owen Harris  male   \n",
              "freq            NaN         NaN         NaN                        1   577   \n",
              "mean     446.000000    0.383838    2.308642                      NaN   NaN   \n",
              "std      257.353842    0.486592    0.836071                      NaN   NaN   \n",
              "min        1.000000    0.000000    1.000000                      NaN   NaN   \n",
              "25%      223.500000    0.000000    2.000000                      NaN   NaN   \n",
              "50%      446.000000    0.000000    3.000000                      NaN   NaN   \n",
              "75%      668.500000    1.000000    3.000000                      NaN   NaN   \n",
              "max      891.000000    1.000000    3.000000                      NaN   NaN   \n",
              "\n",
              "               Age       SibSp       Parch  Ticket        Fare    Cabin  \\\n",
              "count   714.000000  891.000000  891.000000     891  891.000000      204   \n",
              "unique         NaN         NaN         NaN     681         NaN      147   \n",
              "top            NaN         NaN         NaN  347082         NaN  B96 B98   \n",
              "freq           NaN         NaN         NaN       7         NaN        4   \n",
              "mean     29.699118    0.523008    0.381594     NaN   32.204208      NaN   \n",
              "std      14.526497    1.102743    0.806057     NaN   49.693429      NaN   \n",
              "min       0.420000    0.000000    0.000000     NaN    0.000000      NaN   \n",
              "25%      20.125000    0.000000    0.000000     NaN    7.910400      NaN   \n",
              "50%      28.000000    0.000000    0.000000     NaN   14.454200      NaN   \n",
              "75%      38.000000    1.000000    0.000000     NaN   31.000000      NaN   \n",
              "max      80.000000    8.000000    6.000000     NaN  512.329200      NaN   \n",
              "\n",
              "       Embarked  \n",
              "count       889  \n",
              "unique        3  \n",
              "top           S  \n",
              "freq        644  \n",
              "mean        NaN  \n",
              "std         NaN  \n",
              "min         NaN  \n",
              "25%         NaN  \n",
              "50%         NaN  \n",
              "75%         NaN  \n",
              "max         NaN  "
            ],
            "text/html": [
              "\n",
              "  <div id=\"df-fcc0cfa5-284c-4a64-95d7-26d37ae4ceb9\">\n",
              "    <div class=\"colab-df-container\">\n",
              "      <div>\n",
              "<style scoped>\n",
              "    .dataframe tbody tr th:only-of-type {\n",
              "        vertical-align: middle;\n",
              "    }\n",
              "\n",
              "    .dataframe tbody tr th {\n",
              "        vertical-align: top;\n",
              "    }\n",
              "\n",
              "    .dataframe thead th {\n",
              "        text-align: right;\n",
              "    }\n",
              "</style>\n",
              "<table border=\"1\" class=\"dataframe\">\n",
              "  <thead>\n",
              "    <tr style=\"text-align: right;\">\n",
              "      <th></th>\n",
              "      <th>PassengerId</th>\n",
              "      <th>Survived</th>\n",
              "      <th>Pclass</th>\n",
              "      <th>Name</th>\n",
              "      <th>Sex</th>\n",
              "      <th>Age</th>\n",
              "      <th>SibSp</th>\n",
              "      <th>Parch</th>\n",
              "      <th>Ticket</th>\n",
              "      <th>Fare</th>\n",
              "      <th>Cabin</th>\n",
              "      <th>Embarked</th>\n",
              "    </tr>\n",
              "  </thead>\n",
              "  <tbody>\n",
              "    <tr>\n",
              "      <th>count</th>\n",
              "      <td>891.000000</td>\n",
              "      <td>891.000000</td>\n",
              "      <td>891.000000</td>\n",
              "      <td>891</td>\n",
              "      <td>891</td>\n",
              "      <td>714.000000</td>\n",
              "      <td>891.000000</td>\n",
              "      <td>891.000000</td>\n",
              "      <td>891</td>\n",
              "      <td>891.000000</td>\n",
              "      <td>204</td>\n",
              "      <td>889</td>\n",
              "    </tr>\n",
              "    <tr>\n",
              "      <th>unique</th>\n",
              "      <td>NaN</td>\n",
              "      <td>NaN</td>\n",
              "      <td>NaN</td>\n",
              "      <td>891</td>\n",
              "      <td>2</td>\n",
              "      <td>NaN</td>\n",
              "      <td>NaN</td>\n",
              "      <td>NaN</td>\n",
              "      <td>681</td>\n",
              "      <td>NaN</td>\n",
              "      <td>147</td>\n",
              "      <td>3</td>\n",
              "    </tr>\n",
              "    <tr>\n",
              "      <th>top</th>\n",
              "      <td>NaN</td>\n",
              "      <td>NaN</td>\n",
              "      <td>NaN</td>\n",
              "      <td>Braund, Mr. Owen Harris</td>\n",
              "      <td>male</td>\n",
              "      <td>NaN</td>\n",
              "      <td>NaN</td>\n",
              "      <td>NaN</td>\n",
              "      <td>347082</td>\n",
              "      <td>NaN</td>\n",
              "      <td>B96 B98</td>\n",
              "      <td>S</td>\n",
              "    </tr>\n",
              "    <tr>\n",
              "      <th>freq</th>\n",
              "      <td>NaN</td>\n",
              "      <td>NaN</td>\n",
              "      <td>NaN</td>\n",
              "      <td>1</td>\n",
              "      <td>577</td>\n",
              "      <td>NaN</td>\n",
              "      <td>NaN</td>\n",
              "      <td>NaN</td>\n",
              "      <td>7</td>\n",
              "      <td>NaN</td>\n",
              "      <td>4</td>\n",
              "      <td>644</td>\n",
              "    </tr>\n",
              "    <tr>\n",
              "      <th>mean</th>\n",
              "      <td>446.000000</td>\n",
              "      <td>0.383838</td>\n",
              "      <td>2.308642</td>\n",
              "      <td>NaN</td>\n",
              "      <td>NaN</td>\n",
              "      <td>29.699118</td>\n",
              "      <td>0.523008</td>\n",
              "      <td>0.381594</td>\n",
              "      <td>NaN</td>\n",
              "      <td>32.204208</td>\n",
              "      <td>NaN</td>\n",
              "      <td>NaN</td>\n",
              "    </tr>\n",
              "    <tr>\n",
              "      <th>std</th>\n",
              "      <td>257.353842</td>\n",
              "      <td>0.486592</td>\n",
              "      <td>0.836071</td>\n",
              "      <td>NaN</td>\n",
              "      <td>NaN</td>\n",
              "      <td>14.526497</td>\n",
              "      <td>1.102743</td>\n",
              "      <td>0.806057</td>\n",
              "      <td>NaN</td>\n",
              "      <td>49.693429</td>\n",
              "      <td>NaN</td>\n",
              "      <td>NaN</td>\n",
              "    </tr>\n",
              "    <tr>\n",
              "      <th>min</th>\n",
              "      <td>1.000000</td>\n",
              "      <td>0.000000</td>\n",
              "      <td>1.000000</td>\n",
              "      <td>NaN</td>\n",
              "      <td>NaN</td>\n",
              "      <td>0.420000</td>\n",
              "      <td>0.000000</td>\n",
              "      <td>0.000000</td>\n",
              "      <td>NaN</td>\n",
              "      <td>0.000000</td>\n",
              "      <td>NaN</td>\n",
              "      <td>NaN</td>\n",
              "    </tr>\n",
              "    <tr>\n",
              "      <th>25%</th>\n",
              "      <td>223.500000</td>\n",
              "      <td>0.000000</td>\n",
              "      <td>2.000000</td>\n",
              "      <td>NaN</td>\n",
              "      <td>NaN</td>\n",
              "      <td>20.125000</td>\n",
              "      <td>0.000000</td>\n",
              "      <td>0.000000</td>\n",
              "      <td>NaN</td>\n",
              "      <td>7.910400</td>\n",
              "      <td>NaN</td>\n",
              "      <td>NaN</td>\n",
              "    </tr>\n",
              "    <tr>\n",
              "      <th>50%</th>\n",
              "      <td>446.000000</td>\n",
              "      <td>0.000000</td>\n",
              "      <td>3.000000</td>\n",
              "      <td>NaN</td>\n",
              "      <td>NaN</td>\n",
              "      <td>28.000000</td>\n",
              "      <td>0.000000</td>\n",
              "      <td>0.000000</td>\n",
              "      <td>NaN</td>\n",
              "      <td>14.454200</td>\n",
              "      <td>NaN</td>\n",
              "      <td>NaN</td>\n",
              "    </tr>\n",
              "    <tr>\n",
              "      <th>75%</th>\n",
              "      <td>668.500000</td>\n",
              "      <td>1.000000</td>\n",
              "      <td>3.000000</td>\n",
              "      <td>NaN</td>\n",
              "      <td>NaN</td>\n",
              "      <td>38.000000</td>\n",
              "      <td>1.000000</td>\n",
              "      <td>0.000000</td>\n",
              "      <td>NaN</td>\n",
              "      <td>31.000000</td>\n",
              "      <td>NaN</td>\n",
              "      <td>NaN</td>\n",
              "    </tr>\n",
              "    <tr>\n",
              "      <th>max</th>\n",
              "      <td>891.000000</td>\n",
              "      <td>1.000000</td>\n",
              "      <td>3.000000</td>\n",
              "      <td>NaN</td>\n",
              "      <td>NaN</td>\n",
              "      <td>80.000000</td>\n",
              "      <td>8.000000</td>\n",
              "      <td>6.000000</td>\n",
              "      <td>NaN</td>\n",
              "      <td>512.329200</td>\n",
              "      <td>NaN</td>\n",
              "      <td>NaN</td>\n",
              "    </tr>\n",
              "  </tbody>\n",
              "</table>\n",
              "</div>\n",
              "      <button class=\"colab-df-convert\" onclick=\"convertToInteractive('df-fcc0cfa5-284c-4a64-95d7-26d37ae4ceb9')\"\n",
              "              title=\"Convert this dataframe to an interactive table.\"\n",
              "              style=\"display:none;\">\n",
              "        \n",
              "  <svg xmlns=\"http://www.w3.org/2000/svg\" height=\"24px\"viewBox=\"0 0 24 24\"\n",
              "       width=\"24px\">\n",
              "    <path d=\"M0 0h24v24H0V0z\" fill=\"none\"/>\n",
              "    <path d=\"M18.56 5.44l.94 2.06.94-2.06 2.06-.94-2.06-.94-.94-2.06-.94 2.06-2.06.94zm-11 1L8.5 8.5l.94-2.06 2.06-.94-2.06-.94L8.5 2.5l-.94 2.06-2.06.94zm10 10l.94 2.06.94-2.06 2.06-.94-2.06-.94-.94-2.06-.94 2.06-2.06.94z\"/><path d=\"M17.41 7.96l-1.37-1.37c-.4-.4-.92-.59-1.43-.59-.52 0-1.04.2-1.43.59L10.3 9.45l-7.72 7.72c-.78.78-.78 2.05 0 2.83L4 21.41c.39.39.9.59 1.41.59.51 0 1.02-.2 1.41-.59l7.78-7.78 2.81-2.81c.8-.78.8-2.07 0-2.86zM5.41 20L4 18.59l7.72-7.72 1.47 1.35L5.41 20z\"/>\n",
              "  </svg>\n",
              "      </button>\n",
              "      \n",
              "  <style>\n",
              "    .colab-df-container {\n",
              "      display:flex;\n",
              "      flex-wrap:wrap;\n",
              "      gap: 12px;\n",
              "    }\n",
              "\n",
              "    .colab-df-convert {\n",
              "      background-color: #E8F0FE;\n",
              "      border: none;\n",
              "      border-radius: 50%;\n",
              "      cursor: pointer;\n",
              "      display: none;\n",
              "      fill: #1967D2;\n",
              "      height: 32px;\n",
              "      padding: 0 0 0 0;\n",
              "      width: 32px;\n",
              "    }\n",
              "\n",
              "    .colab-df-convert:hover {\n",
              "      background-color: #E2EBFA;\n",
              "      box-shadow: 0px 1px 2px rgba(60, 64, 67, 0.3), 0px 1px 3px 1px rgba(60, 64, 67, 0.15);\n",
              "      fill: #174EA6;\n",
              "    }\n",
              "\n",
              "    [theme=dark] .colab-df-convert {\n",
              "      background-color: #3B4455;\n",
              "      fill: #D2E3FC;\n",
              "    }\n",
              "\n",
              "    [theme=dark] .colab-df-convert:hover {\n",
              "      background-color: #434B5C;\n",
              "      box-shadow: 0px 1px 3px 1px rgba(0, 0, 0, 0.15);\n",
              "      filter: drop-shadow(0px 1px 2px rgba(0, 0, 0, 0.3));\n",
              "      fill: #FFFFFF;\n",
              "    }\n",
              "  </style>\n",
              "\n",
              "      <script>\n",
              "        const buttonEl =\n",
              "          document.querySelector('#df-fcc0cfa5-284c-4a64-95d7-26d37ae4ceb9 button.colab-df-convert');\n",
              "        buttonEl.style.display =\n",
              "          google.colab.kernel.accessAllowed ? 'block' : 'none';\n",
              "\n",
              "        async function convertToInteractive(key) {\n",
              "          const element = document.querySelector('#df-fcc0cfa5-284c-4a64-95d7-26d37ae4ceb9');\n",
              "          const dataTable =\n",
              "            await google.colab.kernel.invokeFunction('convertToInteractive',\n",
              "                                                     [key], {});\n",
              "          if (!dataTable) return;\n",
              "\n",
              "          const docLinkHtml = 'Like what you see? Visit the ' +\n",
              "            '<a target=\"_blank\" href=https://colab.research.google.com/notebooks/data_table.ipynb>data table notebook</a>'\n",
              "            + ' to learn more about interactive tables.';\n",
              "          element.innerHTML = '';\n",
              "          dataTable['output_type'] = 'display_data';\n",
              "          await google.colab.output.renderOutput(dataTable, element);\n",
              "          const docLink = document.createElement('div');\n",
              "          docLink.innerHTML = docLinkHtml;\n",
              "          element.appendChild(docLink);\n",
              "        }\n",
              "      </script>\n",
              "    </div>\n",
              "  </div>\n",
              "  "
            ]
          },
          "metadata": {},
          "execution_count": 13
        }
      ]
    },
    {
      "cell_type": "markdown",
      "source": [
        "Correction : There is no missing value, neither for Survived, nor for Fare."
      ],
      "metadata": {
        "id": "5DjYJUdUy4C9"
      }
    },
    {
      "cell_type": "markdown",
      "source": [
        "2) Derive the fare mean among survivors and among deceased passengers ? What can you hypothetize?"
      ],
      "metadata": {
        "id": "8kDSH8Kjy0uS"
      }
    },
    {
      "cell_type": "code",
      "source": [
        "titanic.groupby('Survived').Fare.mean()\n",
        "\n",
        "titanic.groupby('Survived').agg(\"mean\").Fare"
      ],
      "metadata": {
        "colab": {
          "base_uri": "https://localhost:8080/"
        },
        "id": "o0jMcSJvzSGe",
        "outputId": "bcbde815-7879-4523-eaae-7afb547e2377"
      },
      "execution_count": null,
      "outputs": [
        {
          "output_type": "execute_result",
          "data": {
            "text/plain": [
              "Survived\n",
              "0    22.117887\n",
              "1    48.395408\n",
              "Name: Fare, dtype: float64"
            ]
          },
          "metadata": {},
          "execution_count": 15
        }
      ]
    },
    {
      "cell_type": "markdown",
      "source": [
        "Correction : On average, survivors tickets were more expensive than the ones of deceased passengers."
      ],
      "metadata": {
        "id": "6YUXFwWczcgv"
      }
    },
    {
      "cell_type": "markdown",
      "source": [
        "Let's denote by $F$ the ticket fare, $S$ the passenger survival status (1=survived,0= dead), $\\mu_d = \\mathbb{E}[F|S=0]$,  $\\mu_s = \\mathbb{E}[F|S=1]$, $\\sigma_d^2 = \\mathbb{V}ar[F|S=0]$, and $\\sigma_s^2 = \\mathbb{V}ar[F|S=1]$.\n",
        "\n",
        "3) Using the Titanic data, compute estimators of $\\mu_d$, $\\mu_s$, $\\sigma_d$ and $\\sigma_s$. These estimators are denoted, respectively, by $\\hat{\\mu_d}$, $\\hat{\\mu_s}$, $\\hat{\\sigma_d}$ and $\\hat{\\sigma_s}$."
      ],
      "metadata": {
        "id": "4WVJsn_Q0QX-"
      }
    },
    {
      "cell_type": "code",
      "source": [
        "means = titanic.groupby('Survived').Fare.mean()\n",
        "stds = titanic.groupby('Survived').Fare.std()\n",
        "\n",
        "mu_d = means[0]\n",
        "print(f\"An estimate of mu_d is {mu_d.round(2)}\")\n",
        "mu_s = means[1]\n",
        "print(f\"An estimate of mu_s is {mu_s.round(2)}\")\n",
        "sigma_d = stds[0]\n",
        "print(f\"An estimate of sigma_d is {sigma_d.round(2)}\")\n",
        "sigma_s = stds[1]\n",
        "print(f\"An estimate of sigma_s is {sigma_s.round(2)}\")"
      ],
      "metadata": {
        "colab": {
          "base_uri": "https://localhost:8080/"
        },
        "id": "9vOl7jIUcNMk",
        "outputId": "8069c7f3-cd8e-4a7f-8ea7-507029943a33"
      },
      "execution_count": null,
      "outputs": [
        {
          "output_type": "stream",
          "name": "stdout",
          "text": [
            "An estimate of mu_d is 22.12\n",
            "An estimate of mu_s is 48.4\n",
            "An estimate of sigma_d is 31.39\n",
            "An estimate of sigma_d is 66.6\n"
          ]
        }
      ]
    },
    {
      "cell_type": "markdown",
      "source": [
        "We denote $\\mu = \\mu_d - \\mu_s$ the average difference in fares among the two populations. Compute an estimate $\\hat{\\mu}$ of $\\mu$ using the Titanic data."
      ],
      "metadata": {
        "id": "E5TwMdXE7kOP"
      }
    },
    {
      "cell_type": "code",
      "source": [
        "mu = mu_d - mu_s\n",
        "print(f\"An estimate of mu is {mu.round(2)}\")"
      ],
      "metadata": {
        "colab": {
          "base_uri": "https://localhost:8080/"
        },
        "id": "SEYSobsFB4Uw",
        "outputId": "0a1088f9-7cf6-4b4e-c06d-8329cd657704"
      },
      "execution_count": null,
      "outputs": [
        {
          "output_type": "stream",
          "name": "stdout",
          "text": [
            "An estimate of mu is -26.28\n"
          ]
        }
      ]
    },
    {
      "cell_type": "markdown",
      "source": [
        "Right, we have an estimator of the fare difference in deceased and survived passengers. But can we say that this difference is significantly different than 0 with a certain level of risk?\n",
        "\n",
        "To answer this question, we proceed to a statistical test. We test the hypothesis $H_0: \"\\mu_d = \\mu_s\"$ against the hypothesis $H_1: \"\\mu_d \\neq \\mu_s\"$.\n",
        "\n",
        "We denote $n_d$ the number of deceased passengers and $n_s$ the number of survivors. We can show that, under $H_0$, (and under several other good asumptions that we won't develop here), \n",
        "$$\n",
        "Z = \\frac{\\mu_d-\\mu_s}{SE} ⟶ \\mathcal{t}(n_d+n_s-2)\n",
        "$$\n",
        "\n",
        "where $t(d)$ is a Student distribution with $d$ degrees of freedom and \n",
        "$$\n",
        "SE = \\sqrt{\\frac{(n_d-1)\\hat{\\sigma_d}^2 +(n_s-1)\\hat{\\sigma_s}^2}{n_s+ n_d -2}} \\times \\sqrt{\\frac{1}{n_s}+ \\frac{1}{n_d}}\n",
        "$$\n",
        "\n",
        "$Z$ is the test statistic.\n",
        "\n",
        "4) Compute the empirical test statistic $Z^{emp}$ for the titanic dataset."
      ],
      "metadata": {
        "id": "uF-uFx0r-FPv"
      }
    },
    {
      "cell_type": "code",
      "source": [
        "#Compute SE\n",
        "n = titanic.groupby('Survived').size()\n",
        "n_d = n[0]\n",
        "n_s = n[1]\n",
        "print(f\"There are {n_d} deceased passengers and {n_s} survivors.\")\n",
        "SE = np.sqrt(((n_d-1)*sigma_d**2 + (n_s-1)*sigma_s**2)/(n_d+n_s-2))\n",
        "SE = SE*np.sqrt(1/n_s+1/n_d)\n",
        "print(f\"SE:{SE.round(3)}\")\n",
        "Z = (mu_d - mu_s)/SE\n",
        "print(f\"The test statistic equals {Z.round(3)}\")"
      ],
      "metadata": {
        "colab": {
          "base_uri": "https://localhost:8080/"
        },
        "id": "CVsRZTc1fr4e",
        "outputId": "ed3b0395-d115-45ab-a2c1-7350654d9dff"
      },
      "execution_count": null,
      "outputs": [
        {
          "output_type": "stream",
          "name": "stdout",
          "text": [
            "There are 549 deceased passengers and 342 survivors.\n",
            "SE:3.31\n",
            "The test statistic equals -7.939\n"
          ]
        }
      ]
    },
    {
      "cell_type": "markdown",
      "source": [
        "5) We use a critical region of the form \n",
        "$K (Z) = \\big\\{|Z| \\geq t\\big\\}$. What value of $t$ shoud you set to have a asymptotical confidence of 95% for the statistical test $H_0$ against $H_1$? Compute this value of $t$."
      ],
      "metadata": {
        "id": "bcB9k5Fq3HyC"
      }
    },
    {
      "cell_type": "markdown",
      "source": [
        "Correction: Under $H_0$, the test statistic $Z$ follows a Student distribution. To have $\\mathbb{P}r(K(Z)) \\leq 0.05$, we set $t$ as the 0.975th quantile of the Student distribution."
      ],
      "metadata": {
        "id": "Vt2_MTfq3UxO"
      }
    },
    {
      "cell_type": "code",
      "source": [
        "df = n_s + n_d -2\n",
        "print(df)\n",
        "t = sps.t.ppf(0.975, df) #0.957th quantile of the normal distribution.\n",
        "print(f\"We use t: {t.round(2)}\")"
      ],
      "metadata": {
        "colab": {
          "base_uri": "https://localhost:8080/"
        },
        "id": "Y0ZIhId22284",
        "outputId": "e7a1a040-62e3-4cf7-d4b2-27668f71a194"
      },
      "execution_count": null,
      "outputs": [
        {
          "output_type": "stream",
          "name": "stdout",
          "text": [
            "889\n",
            "We use t: 1.96\n"
          ]
        }
      ]
    },
    {
      "cell_type": "markdown",
      "source": [
        "5) Does the empirical value of the test statistic $Z^{emp}$ belong to the critical region? What can you conclude?"
      ],
      "metadata": {
        "id": "9ExDJRrZe4vp"
      }
    },
    {
      "cell_type": "markdown",
      "source": [
        "Correction : $|Z^{emp}| ≃ 7.94 > t$, so that the empirical test statistic belongs to the critical region. We reject $H_0$ and accept $H_1$ with a level of risk of $5\\%$. This means that, we are pretty confident about the fact that there is a difference in the two means. In other words, the average fare paid by deceased passengers was significantly lower than the average fare paid by survivors."
      ],
      "metadata": {
        "id": "Lfdt97AVjaLC"
      }
    },
    {
      "cell_type": "markdown",
      "source": [
        "6) Compute the p-value of your statistical test."
      ],
      "metadata": {
        "id": "LB6ycrG34z1A"
      }
    },
    {
      "cell_type": "markdown",
      "source": [
        "Correction :The $p$-value $p$ is such that $p=\\mathbb{P}r \\big( |Z| \\geq Z^{emp}\\big) ≃ \\mathbb{P}r \\big( |Z| \\geq 7.94\\big)$. "
      ],
      "metadata": {
        "id": "K79L_l0W47hr"
      }
    },
    {
      "cell_type": "code",
      "source": [
        "#P-above\n",
        "P_above = 1- sps.t.cdf(abs(Z),df)\n",
        "\n",
        "p = 2*(1-sps.t.cdf(abs(Z),df))\n",
        "print(f'The p-value is : {p}')"
      ],
      "metadata": {
        "colab": {
          "base_uri": "https://localhost:8080/"
        },
        "id": "XMzAdIUQ5Ys7",
        "outputId": "80776aae-0ad1-4d10-a57a-e9262d00c650"
      },
      "execution_count": null,
      "outputs": [
        {
          "output_type": "stream",
          "name": "stdout",
          "text": [
            "The p-value is : 5.995204332975845e-15\n"
          ]
        }
      ]
    },
    {
      "cell_type": "markdown",
      "source": [
        "The statistical test you have implemented is a classical test for means comparison between independent samples, often denoted as t-test or Student test. Of course, you should not implement this test by scratch each time you want to use it. By running the following code, compare your results with the results obtained from the statsmodels library."
      ],
      "metadata": {
        "id": "LD_8K-2DITHP"
      }
    },
    {
      "cell_type": "code",
      "source": [
        "survived_fare = np.asarray(titanic[titanic.Survived == 1].Fare)\n",
        "deceased_fare = np.asarray(titanic[titanic.Survived == 0].Fare)\n",
        "print(CompareMeans.from_data(deceased_fare,survived_fare).summary())"
      ],
      "metadata": {
        "colab": {
          "base_uri": "https://localhost:8080/"
        },
        "id": "f78e0eYD6CtV",
        "outputId": "b2d140a4-cf98-467a-c200-930d30ef9da5"
      },
      "execution_count": null,
      "outputs": [
        {
          "output_type": "stream",
          "name": "stdout",
          "text": [
            "                          Test for equality of means                          \n",
            "==============================================================================\n",
            "                 coef    std err          t      P>|t|      [0.025      0.975]\n",
            "------------------------------------------------------------------------------\n",
            "subset #1    -26.2775      3.310     -7.939      0.000     -32.774     -19.781\n",
            "==============================================================================\n"
          ]
        }
      ]
    },
    {
      "cell_type": "markdown",
      "source": [
        "In this problem, we used some statistical tools to show that there is a correlation between fares and survival status. Yet, we are still not dealing with causality. The statistical correlation between fares and survivalship is not sufficient to show that there is a causal link between these two variables. Basically, we still cannot answer the question : what would have happened if we had altered the ticket fares and nothing else? Would a deceased passenger would have survived if nothing changed except that he/she paid twice the price he had paid first?\n",
        "\n",
        "Probably no. Indeed, there can be many other factors that may have influenced the survivorship status. Passengers with high fare may be better swimmers; passengers with high fare could have been rescued earlier; etc..."
      ],
      "metadata": {
        "id": "r_HpjWE6km_2"
      }
    },
    {
      "cell_type": "markdown",
      "source": [
        "### Problem 2 : Introduction to the counterfactual framework"
      ],
      "metadata": {
        "id": "aUD4rmvmCKcb"
      }
    },
    {
      "cell_type": "markdown",
      "source": [
        "For this section, we split the ticket fares in two : \"Low fare\" and \"High fare\". Formally, we state $F=1$ for high fare and $F=0$ for low fare passengers. We denote by $Y^{low}$ the survival status that would have been observed had the passenger paid a low fare and $Y^{high}$ the survival status that would have been observed had the passenger paid a high fare. **We also assume that we were rewarded with godlike powers so that we have access to the value of both counterfactual outcomes.**\n",
        "\n",
        "1) Load the new dataset (titanic_godlike.csv)."
      ],
      "metadata": {
        "id": "8tT3JlouNcx6"
      }
    },
    {
      "cell_type": "code",
      "source": [
        "titanic_godlike = pd.read_csv('titanic_godlike.csv')\n",
        "titanic_godlike.head(10)"
      ],
      "metadata": {
        "colab": {
          "base_uri": "https://localhost:8080/",
          "height": 982
        },
        "id": "aWPVU6tLCTXT",
        "outputId": "103cfa55-0fbe-4662-f124-ead1c9bca4a7"
      },
      "execution_count": null,
      "outputs": [
        {
          "output_type": "execute_result",
          "data": {
            "text/plain": [
              "   Unnamed: 0  PassengerId  Survived  Pclass  \\\n",
              "0           1            1         0       3   \n",
              "1           2            2         1       1   \n",
              "2           3            3         1       3   \n",
              "3           4            4         1       1   \n",
              "4           5            5         0       3   \n",
              "5           6            6         0       3   \n",
              "6           7            7         0       1   \n",
              "7           8            8         0       3   \n",
              "8           9            9         1       3   \n",
              "9          10           10         1       2   \n",
              "\n",
              "                                                Name     Sex   Age  SibSp  \\\n",
              "0                            Braund, Mr. Owen Harris    male  22.0      1   \n",
              "1  Cumings, Mrs. John Bradley (Florence Briggs Th...  female  38.0      1   \n",
              "2                             Heikkinen, Miss. Laina  female  26.0      0   \n",
              "3       Futrelle, Mrs. Jacques Heath (Lily May Peel)  female  35.0      1   \n",
              "4                           Allen, Mr. William Henry    male  35.0      0   \n",
              "5                                   Moran, Mr. James    male   NaN      0   \n",
              "6                            McCarthy, Mr. Timothy J    male  54.0      0   \n",
              "7                     Palsson, Master. Gosta Leonard    male   2.0      3   \n",
              "8  Johnson, Mrs. Oscar W (Elisabeth Vilhelmina Berg)  female  27.0      0   \n",
              "9                Nasser, Mrs. Nicholas (Adele Achem)  female  14.0      1   \n",
              "\n",
              "   Parch            Ticket     Fare Cabin Embarked  Fare_bin  Y_low  Y_high  \n",
              "0      0         A/5 21171   7.2500   NaN        S         0      0       0  \n",
              "1      0          PC 17599  71.2833   C85        C         1      1       1  \n",
              "2      0  STON/O2. 3101282   7.9250   NaN        S         0      1       0  \n",
              "3      0            113803  53.1000  C123        S         1      1       1  \n",
              "4      0            373450   8.0500   NaN        S         0      0       0  \n",
              "5      0            330877   8.4583   NaN        Q         0      0       0  \n",
              "6      0             17463  51.8625   E46        S         1      0       0  \n",
              "7      1            349909  21.0750   NaN        S         1      0       0  \n",
              "8      2            347742  11.1333   NaN        S         0      1       1  \n",
              "9      0            237736  30.0708   NaN        C         1      1       1  "
            ],
            "text/html": [
              "\n",
              "  <div id=\"df-cefd6798-867b-4758-aa2e-b66d38a56085\">\n",
              "    <div class=\"colab-df-container\">\n",
              "      <div>\n",
              "<style scoped>\n",
              "    .dataframe tbody tr th:only-of-type {\n",
              "        vertical-align: middle;\n",
              "    }\n",
              "\n",
              "    .dataframe tbody tr th {\n",
              "        vertical-align: top;\n",
              "    }\n",
              "\n",
              "    .dataframe thead th {\n",
              "        text-align: right;\n",
              "    }\n",
              "</style>\n",
              "<table border=\"1\" class=\"dataframe\">\n",
              "  <thead>\n",
              "    <tr style=\"text-align: right;\">\n",
              "      <th></th>\n",
              "      <th>Unnamed: 0</th>\n",
              "      <th>PassengerId</th>\n",
              "      <th>Survived</th>\n",
              "      <th>Pclass</th>\n",
              "      <th>Name</th>\n",
              "      <th>Sex</th>\n",
              "      <th>Age</th>\n",
              "      <th>SibSp</th>\n",
              "      <th>Parch</th>\n",
              "      <th>Ticket</th>\n",
              "      <th>Fare</th>\n",
              "      <th>Cabin</th>\n",
              "      <th>Embarked</th>\n",
              "      <th>Fare_bin</th>\n",
              "      <th>Y_low</th>\n",
              "      <th>Y_high</th>\n",
              "    </tr>\n",
              "  </thead>\n",
              "  <tbody>\n",
              "    <tr>\n",
              "      <th>0</th>\n",
              "      <td>1</td>\n",
              "      <td>1</td>\n",
              "      <td>0</td>\n",
              "      <td>3</td>\n",
              "      <td>Braund, Mr. Owen Harris</td>\n",
              "      <td>male</td>\n",
              "      <td>22.0</td>\n",
              "      <td>1</td>\n",
              "      <td>0</td>\n",
              "      <td>A/5 21171</td>\n",
              "      <td>7.2500</td>\n",
              "      <td>NaN</td>\n",
              "      <td>S</td>\n",
              "      <td>0</td>\n",
              "      <td>0</td>\n",
              "      <td>0</td>\n",
              "    </tr>\n",
              "    <tr>\n",
              "      <th>1</th>\n",
              "      <td>2</td>\n",
              "      <td>2</td>\n",
              "      <td>1</td>\n",
              "      <td>1</td>\n",
              "      <td>Cumings, Mrs. John Bradley (Florence Briggs Th...</td>\n",
              "      <td>female</td>\n",
              "      <td>38.0</td>\n",
              "      <td>1</td>\n",
              "      <td>0</td>\n",
              "      <td>PC 17599</td>\n",
              "      <td>71.2833</td>\n",
              "      <td>C85</td>\n",
              "      <td>C</td>\n",
              "      <td>1</td>\n",
              "      <td>1</td>\n",
              "      <td>1</td>\n",
              "    </tr>\n",
              "    <tr>\n",
              "      <th>2</th>\n",
              "      <td>3</td>\n",
              "      <td>3</td>\n",
              "      <td>1</td>\n",
              "      <td>3</td>\n",
              "      <td>Heikkinen, Miss. Laina</td>\n",
              "      <td>female</td>\n",
              "      <td>26.0</td>\n",
              "      <td>0</td>\n",
              "      <td>0</td>\n",
              "      <td>STON/O2. 3101282</td>\n",
              "      <td>7.9250</td>\n",
              "      <td>NaN</td>\n",
              "      <td>S</td>\n",
              "      <td>0</td>\n",
              "      <td>1</td>\n",
              "      <td>0</td>\n",
              "    </tr>\n",
              "    <tr>\n",
              "      <th>3</th>\n",
              "      <td>4</td>\n",
              "      <td>4</td>\n",
              "      <td>1</td>\n",
              "      <td>1</td>\n",
              "      <td>Futrelle, Mrs. Jacques Heath (Lily May Peel)</td>\n",
              "      <td>female</td>\n",
              "      <td>35.0</td>\n",
              "      <td>1</td>\n",
              "      <td>0</td>\n",
              "      <td>113803</td>\n",
              "      <td>53.1000</td>\n",
              "      <td>C123</td>\n",
              "      <td>S</td>\n",
              "      <td>1</td>\n",
              "      <td>1</td>\n",
              "      <td>1</td>\n",
              "    </tr>\n",
              "    <tr>\n",
              "      <th>4</th>\n",
              "      <td>5</td>\n",
              "      <td>5</td>\n",
              "      <td>0</td>\n",
              "      <td>3</td>\n",
              "      <td>Allen, Mr. William Henry</td>\n",
              "      <td>male</td>\n",
              "      <td>35.0</td>\n",
              "      <td>0</td>\n",
              "      <td>0</td>\n",
              "      <td>373450</td>\n",
              "      <td>8.0500</td>\n",
              "      <td>NaN</td>\n",
              "      <td>S</td>\n",
              "      <td>0</td>\n",
              "      <td>0</td>\n",
              "      <td>0</td>\n",
              "    </tr>\n",
              "    <tr>\n",
              "      <th>5</th>\n",
              "      <td>6</td>\n",
              "      <td>6</td>\n",
              "      <td>0</td>\n",
              "      <td>3</td>\n",
              "      <td>Moran, Mr. James</td>\n",
              "      <td>male</td>\n",
              "      <td>NaN</td>\n",
              "      <td>0</td>\n",
              "      <td>0</td>\n",
              "      <td>330877</td>\n",
              "      <td>8.4583</td>\n",
              "      <td>NaN</td>\n",
              "      <td>Q</td>\n",
              "      <td>0</td>\n",
              "      <td>0</td>\n",
              "      <td>0</td>\n",
              "    </tr>\n",
              "    <tr>\n",
              "      <th>6</th>\n",
              "      <td>7</td>\n",
              "      <td>7</td>\n",
              "      <td>0</td>\n",
              "      <td>1</td>\n",
              "      <td>McCarthy, Mr. Timothy J</td>\n",
              "      <td>male</td>\n",
              "      <td>54.0</td>\n",
              "      <td>0</td>\n",
              "      <td>0</td>\n",
              "      <td>17463</td>\n",
              "      <td>51.8625</td>\n",
              "      <td>E46</td>\n",
              "      <td>S</td>\n",
              "      <td>1</td>\n",
              "      <td>0</td>\n",
              "      <td>0</td>\n",
              "    </tr>\n",
              "    <tr>\n",
              "      <th>7</th>\n",
              "      <td>8</td>\n",
              "      <td>8</td>\n",
              "      <td>0</td>\n",
              "      <td>3</td>\n",
              "      <td>Palsson, Master. Gosta Leonard</td>\n",
              "      <td>male</td>\n",
              "      <td>2.0</td>\n",
              "      <td>3</td>\n",
              "      <td>1</td>\n",
              "      <td>349909</td>\n",
              "      <td>21.0750</td>\n",
              "      <td>NaN</td>\n",
              "      <td>S</td>\n",
              "      <td>1</td>\n",
              "      <td>0</td>\n",
              "      <td>0</td>\n",
              "    </tr>\n",
              "    <tr>\n",
              "      <th>8</th>\n",
              "      <td>9</td>\n",
              "      <td>9</td>\n",
              "      <td>1</td>\n",
              "      <td>3</td>\n",
              "      <td>Johnson, Mrs. Oscar W (Elisabeth Vilhelmina Berg)</td>\n",
              "      <td>female</td>\n",
              "      <td>27.0</td>\n",
              "      <td>0</td>\n",
              "      <td>2</td>\n",
              "      <td>347742</td>\n",
              "      <td>11.1333</td>\n",
              "      <td>NaN</td>\n",
              "      <td>S</td>\n",
              "      <td>0</td>\n",
              "      <td>1</td>\n",
              "      <td>1</td>\n",
              "    </tr>\n",
              "    <tr>\n",
              "      <th>9</th>\n",
              "      <td>10</td>\n",
              "      <td>10</td>\n",
              "      <td>1</td>\n",
              "      <td>2</td>\n",
              "      <td>Nasser, Mrs. Nicholas (Adele Achem)</td>\n",
              "      <td>female</td>\n",
              "      <td>14.0</td>\n",
              "      <td>1</td>\n",
              "      <td>0</td>\n",
              "      <td>237736</td>\n",
              "      <td>30.0708</td>\n",
              "      <td>NaN</td>\n",
              "      <td>C</td>\n",
              "      <td>1</td>\n",
              "      <td>1</td>\n",
              "      <td>1</td>\n",
              "    </tr>\n",
              "  </tbody>\n",
              "</table>\n",
              "</div>\n",
              "      <button class=\"colab-df-convert\" onclick=\"convertToInteractive('df-cefd6798-867b-4758-aa2e-b66d38a56085')\"\n",
              "              title=\"Convert this dataframe to an interactive table.\"\n",
              "              style=\"display:none;\">\n",
              "        \n",
              "  <svg xmlns=\"http://www.w3.org/2000/svg\" height=\"24px\"viewBox=\"0 0 24 24\"\n",
              "       width=\"24px\">\n",
              "    <path d=\"M0 0h24v24H0V0z\" fill=\"none\"/>\n",
              "    <path d=\"M18.56 5.44l.94 2.06.94-2.06 2.06-.94-2.06-.94-.94-2.06-.94 2.06-2.06.94zm-11 1L8.5 8.5l.94-2.06 2.06-.94-2.06-.94L8.5 2.5l-.94 2.06-2.06.94zm10 10l.94 2.06.94-2.06 2.06-.94-2.06-.94-.94-2.06-.94 2.06-2.06.94z\"/><path d=\"M17.41 7.96l-1.37-1.37c-.4-.4-.92-.59-1.43-.59-.52 0-1.04.2-1.43.59L10.3 9.45l-7.72 7.72c-.78.78-.78 2.05 0 2.83L4 21.41c.39.39.9.59 1.41.59.51 0 1.02-.2 1.41-.59l7.78-7.78 2.81-2.81c.8-.78.8-2.07 0-2.86zM5.41 20L4 18.59l7.72-7.72 1.47 1.35L5.41 20z\"/>\n",
              "  </svg>\n",
              "      </button>\n",
              "      \n",
              "  <style>\n",
              "    .colab-df-container {\n",
              "      display:flex;\n",
              "      flex-wrap:wrap;\n",
              "      gap: 12px;\n",
              "    }\n",
              "\n",
              "    .colab-df-convert {\n",
              "      background-color: #E8F0FE;\n",
              "      border: none;\n",
              "      border-radius: 50%;\n",
              "      cursor: pointer;\n",
              "      display: none;\n",
              "      fill: #1967D2;\n",
              "      height: 32px;\n",
              "      padding: 0 0 0 0;\n",
              "      width: 32px;\n",
              "    }\n",
              "\n",
              "    .colab-df-convert:hover {\n",
              "      background-color: #E2EBFA;\n",
              "      box-shadow: 0px 1px 2px rgba(60, 64, 67, 0.3), 0px 1px 3px 1px rgba(60, 64, 67, 0.15);\n",
              "      fill: #174EA6;\n",
              "    }\n",
              "\n",
              "    [theme=dark] .colab-df-convert {\n",
              "      background-color: #3B4455;\n",
              "      fill: #D2E3FC;\n",
              "    }\n",
              "\n",
              "    [theme=dark] .colab-df-convert:hover {\n",
              "      background-color: #434B5C;\n",
              "      box-shadow: 0px 1px 3px 1px rgba(0, 0, 0, 0.15);\n",
              "      filter: drop-shadow(0px 1px 2px rgba(0, 0, 0, 0.3));\n",
              "      fill: #FFFFFF;\n",
              "    }\n",
              "  </style>\n",
              "\n",
              "      <script>\n",
              "        const buttonEl =\n",
              "          document.querySelector('#df-cefd6798-867b-4758-aa2e-b66d38a56085 button.colab-df-convert');\n",
              "        buttonEl.style.display =\n",
              "          google.colab.kernel.accessAllowed ? 'block' : 'none';\n",
              "\n",
              "        async function convertToInteractive(key) {\n",
              "          const element = document.querySelector('#df-cefd6798-867b-4758-aa2e-b66d38a56085');\n",
              "          const dataTable =\n",
              "            await google.colab.kernel.invokeFunction('convertToInteractive',\n",
              "                                                     [key], {});\n",
              "          if (!dataTable) return;\n",
              "\n",
              "          const docLinkHtml = 'Like what you see? Visit the ' +\n",
              "            '<a target=\"_blank\" href=https://colab.research.google.com/notebooks/data_table.ipynb>data table notebook</a>'\n",
              "            + ' to learn more about interactive tables.';\n",
              "          element.innerHTML = '';\n",
              "          dataTable['output_type'] = 'display_data';\n",
              "          await google.colab.output.renderOutput(dataTable, element);\n",
              "          const docLink = document.createElement('div');\n",
              "          docLink.innerHTML = docLinkHtml;\n",
              "          element.appendChild(docLink);\n",
              "        }\n",
              "      </script>\n",
              "    </div>\n",
              "  </div>\n",
              "  "
            ]
          },
          "metadata": {},
          "execution_count": 33
        }
      ]
    },
    {
      "cell_type": "markdown",
      "source": [
        "2) Compute an estimate of the Average Treatment Effect (ATE). How can you interpret it? We recall that: \n",
        "\n",
        "$$\n",
        "ATE = \\mathbb{E}(Y^{high}-Y^{low})\n",
        "$$"
      ],
      "metadata": {
        "id": "mADfiSDvONCG"
      }
    },
    {
      "cell_type": "code",
      "source": [
        "ATE = np.mean(titanic_godlike.Y_high - titanic_godlike.Y_low)\n",
        "print(f\"ATE : {ATE.round(3)}\")"
      ],
      "metadata": {
        "colab": {
          "base_uri": "https://localhost:8080/"
        },
        "id": "WbrvqU7OOMQ5",
        "outputId": "5bcb8930-bcdf-4687-a670-baf5ce7bb7b2"
      },
      "execution_count": null,
      "outputs": [
        {
          "output_type": "stream",
          "name": "stdout",
          "text": [
            "ATE : -0.002\n"
          ]
        }
      ]
    },
    {
      "cell_type": "markdown",
      "source": [
        "Correction : The Average Treatment Effect is very low in absolute value. This suggests that there is no causal effect of the ticket fare on the passenger survival status. In other words, the ticket fare alone does not seem to impact the survival status of the passenger. The correlation we found in problem 1 was probably not causation!"
      ],
      "metadata": {
        "id": "JkwOkixWVF3S"
      }
    },
    {
      "cell_type": "markdown",
      "source": [
        "3) Compute an estimate of the Average Treatment Effect on the Treated (ATT). How can you interpret it? We recall that: \n",
        "\n",
        "$$\n",
        "ATT = \\mathbb{E}(Y^{high}-Y^{low}|F = 1)\n",
        "$$"
      ],
      "metadata": {
        "id": "UMqj32cMVwTo"
      }
    },
    {
      "cell_type": "code",
      "source": [
        "titanic_treated = titanic_godlike[titanic_godlike.Fare_bin == 1]\n",
        "ATT = np.mean(titanic_treated.Y_high - titanic_treated.Y_low)\n",
        "print(f\"ATT : {ATT.round(3)}\")"
      ],
      "metadata": {
        "colab": {
          "base_uri": "https://localhost:8080/"
        },
        "id": "LqxW-TGeVXWK",
        "outputId": "885a7c66-73a3-48ca-fd1d-f6a4c34549c2"
      },
      "execution_count": null,
      "outputs": [
        {
          "output_type": "stream",
          "name": "stdout",
          "text": [
            "ATT : -0.007\n"
          ]
        }
      ]
    },
    {
      "cell_type": "markdown",
      "source": [
        "Correction : The ATT is very low in absolute value. This suggests that there is no causal effect of the ticket fare on the passenger survival status among passengers who paid a high fare ticket. In other words, considering only the kind of passengers who may have paid a high fare ticket, their survival status would not have changed much if they had paid a low fare ticket instead. In this case, ATE and ATT were very close with each other. We will see in the rest of the class that this is not always the case in real-world observational studies. Indeed, the effect of treatment may be different among individuals who are prone to be treated.\n",
        "\n",
        "As an example, imagine we are interested in the effect of the intake of an anti-diabetic drug (for type II diabete) on breast tumor progression. To do so, we select a bunch of breast cancer patients in an anti-cancer center and collect the size of their tumor at diagnosis, the fact that they use (or not) the anti-diabetic drug during the 3 months following breast cancer diagnosis, and the size of their tumor 3 months after breast cancer diagnosis. We find that the given anti-diabetic drug does not have any causal effect on the breast tumor size on the whole population (ATE=0). Yet, the treated patients, *i.e.* the patients who took the anti-diabetic drug, most probably have different characteristics than the patients who did not use the drug in the months following diagnosis since, among others, most of them must be diabetic. In this case, it is possible that the effect the anti-diabetic drug have on breast cancer progression is influenced by diabete. Maybe, among patients who acutally took the drug, the anti-diabetic drug decreased significantly the breast tumor size (ATT < 0). This is an example where the ATE and the ATT differs due to treatment heterogeneity across populations. "
      ],
      "metadata": {
        "id": "6ll-OUKCXX_n"
      }
    },
    {
      "cell_type": "markdown",
      "source": [
        "Well, in this setting, estimating the causal effects among the whole population (ATE) and the treated population (ATT) was quite easy, right? The real issue of causal inference is that we can never have access to the two counterfactuals in real-life. For the sake of this exercice we simulated them and assume that we have godlike powers. In practice, only one counterfactual can be observed for each individual and ATE and ATT cannot be exactly computed staightaway. We will see in the rest of the course how we can still estimate them from real-world observational data."
      ],
      "metadata": {
        "id": "rEGANrpF7vyv"
      }
    },
    {
      "cell_type": "markdown",
      "source": [
        "### Problem 3 (bonus) : Illustration of the central limit theorem"
      ],
      "metadata": {
        "id": "49M9MlVlDGhN"
      }
    },
    {
      "cell_type": "markdown",
      "source": [
        "Let $(X_i)_{i\\in\\mathbb{N}}$ be a sequence of random samples independent and identically distributed (iid) from a distribution of finite mean $m$ and finite variance $\\sigma^2$. We denote\n",
        "\n",
        "$$\\bar X_k = \\frac 1 k (X_1 + \\cdots + X_k)$$\n",
        "\n",
        "Then: \n",
        "\n",
        "$$\\sqrt{k}(\\bar X_k - m) / \\sigma $$\n",
        "\n",
        "converges in distribution to $\\mathcal{N}(0,1)$ when $k → +∞$. This is the central limit theorem. It basically means that the \"normalized\" sum of independent random variables tends toward a normal distribution, no matter the distribution followed by these variables, as long it has a finite mean and a finite variance. It is a very powerful  theorem in statistics, that we will widely use to derive convergence properties of causal inference estimators.\n",
        "\n",
        "In this problem, we aim at illustrating the central limit theorem.\n",
        "Let's assume that $X_i ∼ \\mathcal{L}$ where $\\mathcal{L}$ is the lognormal distribution, whose density is  \n",
        "\n",
        "$$\n",
        "f(x) = \\frac{1}{x\\sqrt{2\\pi}}\\exp\\left(-\\frac{\\log^2(x)}{2}\\right) \\quad\\hbox{ for } x \\in ]0,+\\infty[\n",
        "$$\n",
        "\n",
        "We give: \n",
        "$$\n",
        "\\mathbb{E}(X_1) = e^{\\frac{1}{2}}\n",
        "$$\n",
        "and\n",
        "$$\n",
        "\\mathbb{V}\\text{ar}(X_1) = e(e-1)\n",
        "$$\n",
        "\n",
        "**Home exercice:** Derive the computation of the log-normal expectation and variance."
      ],
      "metadata": {
        "id": "SUrRtkciYjE8"
      }
    },
    {
      "cell_type": "markdown",
      "source": [
        "1) Using the library scipy.stats (loaded with the alias sps), simulate N independent samples of $\\bar{X_k}$.\n",
        "We *will* use $N = 10,000$ and $k = 1,000$."
      ],
      "metadata": {
        "id": "R-mNQe6RIH1l"
      }
    },
    {
      "cell_type": "code",
      "source": [
        "N = 10000 # Number of samples\n",
        "K = 1000  # Number of terms of the sum\n",
        "\n",
        "#lnl is the lognormal distribution\n",
        "lnl = sps.lognorm(1)\n",
        "\n",
        "sample = lnl.rvs(size=(N,K)) # We sample directly N*k values from the lognormal distribution\n",
        "print(sample.shape)\n",
        "XbarK = np.mean(sample, axis=1) # And we then compute the log-normal distribution."
      ],
      "metadata": {
        "id": "faVSxYhkCI8g",
        "colab": {
          "base_uri": "https://localhost:8080/",
          "height": 239
        },
        "outputId": "a06b0d88-8074-4012-af64-750286aec289"
      },
      "execution_count": null,
      "outputs": [
        {
          "output_type": "error",
          "ename": "NameError",
          "evalue": "ignored",
          "traceback": [
            "\u001b[0;31m---------------------------------------------------------------------------\u001b[0m",
            "\u001b[0;31mNameError\u001b[0m                                 Traceback (most recent call last)",
            "\u001b[0;32m<ipython-input-1-e4046d24fa17>\u001b[0m in \u001b[0;36m<module>\u001b[0;34m\u001b[0m\n\u001b[1;32m      3\u001b[0m \u001b[0;34m\u001b[0m\u001b[0m\n\u001b[1;32m      4\u001b[0m \u001b[0;31m#lnl is the lognormal distribution\u001b[0m\u001b[0;34m\u001b[0m\u001b[0;34m\u001b[0m\u001b[0;34m\u001b[0m\u001b[0m\n\u001b[0;32m----> 5\u001b[0;31m \u001b[0mlnl\u001b[0m \u001b[0;34m=\u001b[0m \u001b[0msps\u001b[0m\u001b[0;34m.\u001b[0m\u001b[0mlognorm\u001b[0m\u001b[0;34m(\u001b[0m\u001b[0;36m1\u001b[0m\u001b[0;34m)\u001b[0m\u001b[0;34m\u001b[0m\u001b[0;34m\u001b[0m\u001b[0m\n\u001b[0m\u001b[1;32m      6\u001b[0m \u001b[0;34m\u001b[0m\u001b[0m\n\u001b[1;32m      7\u001b[0m \u001b[0msample\u001b[0m \u001b[0;34m=\u001b[0m \u001b[0mlnl\u001b[0m\u001b[0;34m.\u001b[0m\u001b[0mrvs\u001b[0m\u001b[0;34m(\u001b[0m\u001b[0msize\u001b[0m\u001b[0;34m=\u001b[0m\u001b[0;34m(\u001b[0m\u001b[0mN\u001b[0m\u001b[0;34m,\u001b[0m\u001b[0mK\u001b[0m\u001b[0;34m)\u001b[0m\u001b[0;34m)\u001b[0m \u001b[0;31m# We sample directly N*k values from the lognormal distribution\u001b[0m\u001b[0;34m\u001b[0m\u001b[0;34m\u001b[0m\u001b[0m\n",
            "\u001b[0;31mNameError\u001b[0m: name 'sps' is not defined"
          ]
        }
      ]
    },
    {
      "cell_type": "markdown",
      "source": [
        "2) Compute m and $\\sigma$ (theoritical values)."
      ],
      "metadata": {
        "id": "-5GQhDxnQ6Je"
      }
    },
    {
      "cell_type": "code",
      "source": [
        "#We can compute directly the theoratical mean and standard deviation of the lognormal distribution from scipy.stats\n",
        "m = lnl.mean() # Expectation\n",
        "sigma = lnl.std()  # Standard deviation\n",
        "#Or, alternatively, use the formula derived above\n",
        "#m = np.exp(1/2)\n",
        "#sigma = np.sqrt(np.exp(1)*(np.exp(1)-1))\n",
        "print(f\"Mean of the lognormal distribution: {m.round(2)}; Standard deviation of the lognormal distribution: {sigma.round(2)}\")"
      ],
      "metadata": {
        "colab": {
          "base_uri": "https://localhost:8080/"
        },
        "id": "bj5Fga9LQ6Y1",
        "outputId": "d6b4430f-e0ed-4b98-f61b-5c1592454971"
      },
      "execution_count": null,
      "outputs": [
        {
          "output_type": "stream",
          "name": "stdout",
          "text": [
            "Mean of the lognormal distribution: 1.65; Standard deviation of the lognormal distribution: 2.16\n"
          ]
        }
      ]
    },
    {
      "cell_type": "markdown",
      "source": [
        "3) Using questions 1) and 2), compute N samples of\n",
        "$$\\sqrt{k}(\\bar X_k - m) / \\sigma $$"
      ],
      "metadata": {
        "id": "44iZPhKnTIUA"
      }
    },
    {
      "cell_type": "code",
      "source": [
        "G = np.sqrt(K)*(XbarK - m)/sigma "
      ],
      "metadata": {
        "id": "VqLc8e3xQYrZ"
      },
      "execution_count": null,
      "outputs": []
    },
    {
      "cell_type": "markdown",
      "source": [
        "4) Plot the empirical distribution $\\sqrt{k}(\\bar X_k - m) / \\sigma$ and compare it with the density of $\\mathcal{N}(0,1)$."
      ],
      "metadata": {
        "id": "13LXc42fTfBE"
      }
    },
    {
      "cell_type": "code",
      "source": [
        "plt.figure(figsize=(10,6))\n",
        "plt.hist(G, density=True, bins='auto',\n",
        "         label=r\"Empirical distribution of $\\sqrt{k}(\\bar{X_k} - m)/\\sigma$\") # exemple de LaTeX: attention à utiliser une raw string\n",
        "\n",
        "X = np.linspace(np.min(G), np.max(G), 500) # discrétise l'intervalle d'affichage\n",
        "plt.plot(X, sps.norm.pdf(X), \"r\", label=\"Density of $\\mathcal{N}(0,1)$\") # trace la densité gaussienne. \n",
        "plt.legend(loc='best')\n",
        "plt.show()"
      ],
      "metadata": {
        "colab": {
          "base_uri": "https://localhost:8080/",
          "height": 374
        },
        "id": "qe7CQ5-YTeBe",
        "outputId": "9343cf4e-d455-43e5-f506-9b01ab94efb0"
      },
      "execution_count": null,
      "outputs": [
        {
          "output_type": "display_data",
          "data": {
            "text/plain": [
              "<Figure size 720x432 with 1 Axes>"
            ],
            "image/png": "[encoded data removed]"
          },
          "metadata": {
            "needs_background": "light"
          }
        }
      ]
    }
  ]
}